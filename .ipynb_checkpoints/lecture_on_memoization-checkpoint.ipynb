{
 "cells": [
  {
   "cell_type": "code",
   "execution_count": 1,
   "metadata": {
    "collapsed": false,
    "nbpresent": {
     "id": "464bc831-7057-422f-a15e-1513c3db1eaa"
    },
    "slideshow": {
     "slide_type": "skip"
    }
   },
   "outputs": [
    {
     "name": "stdout",
     "output_type": "stream",
     "text": [
      "Using matplotlib backend: Qt4Agg\n",
      "Populating the interactive namespace from numpy and matplotlib\n"
     ]
    },
    {
     "name": "stderr",
     "output_type": "stream",
     "text": [
      "ERROR: File `u'savitzky_golay.ipynb.py'` not found.\n"
     ]
    }
   ],
   "source": [
    "%run  'boaz_utils.ipynb'"
   ]
  },
  {
   "cell_type": "markdown",
   "metadata": {
    "nbpresent": {
     "id": "66674200-d930-4dba-a2cc-9d3d588c5367"
    },
    "slideshow": {
     "slide_type": "slide"
    }
   },
   "source": [
    "We will show how we can use memoization to make significant savings in running time.\n",
    "\n",
    "# Example1: Fun at Parties\n",
    "\n",
    "You have a budget of $D$ dollars. You are given a list $L$ of parties $[ [c_0,f_0],\\ldots, [c_{n-1},f_{n-1}]]$ where the $i^{th}$ party costs $c_i$ to attend and will give you $f_i$ units of fun.\n",
    "What is the maximum amount of fun you can have with your budget?"
   ]
  },
  {
   "cell_type": "markdown",
   "metadata": {
    "nbpresent": {
     "id": "3361c08f-4a90-42f6-b49a-43a394796564"
    },
    "slideshow": {
     "slide_type": "slide"
    }
   },
   "source": [
    "We start by solving this with a simple recursive procedure. \n",
    "One way to think about this question is as follows:\n",
    "\n",
    "* If there was only one party that has cost $c$ and yields fun $f$, then our decision is simple: if $D \\geq c$ then we can attend the party and get $f$ units of fun, and otherwise we get zero units of fun.\n",
    "\n",
    "* If there are two parties with costs/fun $(c_0,f_0)$ and $(c_1,f_1)$ then we might have a choice to make. It's often good in such cases to split a complicated choice to a sequence of simple choices. So let's start with the choice of whether or not to attend the first party. If we do attend it, then we'll get $f_0$ units of fun, and be left with a budget of $D-c_0$. If we don't then we get zero units of fun, and are left with $D$ dollars.\n",
    "\n",
    "* Therefore if $\\mathtt{maximum\\_fun}(D,((c_0,f_0),\\ldots,(c_n,f_n)))$ is the maximum amount of fun that we can have given a budget of $D$ and a the cost/funs $((c_0,f_0),\\ldots, (c_n,f_n))$ then we have the following equation:\n",
    "\n",
    "$\\mathtt{maximum\\_fun}(D,((c_0,d_0),\\ldots,(c_n,f_n))) = \\max \\{ 0 + \\mathtt{maximum\\_fun}(D,((c_1,d_1),\\ldots,(c_n,f_n))) , f_0 + \\mathtt{maximum\\_fun}(D-c_0,((c_1,d_1),\\ldots,(c_n,f_n))) \\}$.\n",
    "\n",
    "Can you see why?\n",
    "\n",
    "This now suggests a simple recursive algorithm for the '''maximum_fun''' function:"
   ]
  },
  {
   "cell_type": "code",
   "execution_count": 2,
   "metadata": {
    "collapsed": false,
    "nbpresent": {
     "id": "089a2b1b-aaa6-4770-bc6c-ee2c7c082280"
    },
    "slideshow": {
     "slide_type": "slide"
    }
   },
   "outputs": [],
   "source": [
    "def maximum_fun(D,L):\n",
    "    \"\"\"returns the maximum amount of fun we can have with D dollars attending the parties listed in L, \n",
    "    where L is a tuple/list containing pairs (c,f) of cost/fun for every party.\"\"\"\n",
    "    \n",
    "    step_pc() # ignore for now\n",
    "    if not L:\n",
    "        # if L is empty then we can't have any fun\n",
    "        return 0\n",
    "    fun_if_skip_first_party = maximum_fun(D,L[1:]) # the amount of fun we can have if we skip first party \n",
    "    if D<L[0][0]: # if we can't afford to attend the first party then we have no choices to make\n",
    "        return fun_if_skip_first_party\n",
    "    # otherwise we will check both options and see what's the maximum fun we can have\n",
    "    return max(fun_if_skip_first_party, L[0][1]+maximum_fun(D-L[0][0],L[1:]))"
   ]
  },
  {
   "cell_type": "markdown",
   "metadata": {
    "collapsed": false,
    "nbpresent": {
     "id": "87fea3ee-50da-4c62-8a8d-d7a58592f43e"
    },
    "slideshow": {
     "slide_type": "slide"
    }
   },
   "source": [
    "Here are some examples:\n",
    "\n",
    "* $\\mathtt{maximum\\_fun}(1,((2,10),))=0$: We can't afford to go to the party so get no fun (:\n",
    "* $\\mathtt{maximum\\_fun}(2,((2,10),))=10$\n",
    "* $\\mathtt{maximum\\_fun}(2,((2,5),(2,10)))=10$: We can afford both parties but the second one gives us more fun\n",
    "* $\\mathtt{maximum\\_fun}(4,((1,6),(2,5),(3,6),(2,10)))=16$: The best combination is to go to the first  and fourth parties"
   ]
  },
  {
   "cell_type": "code",
   "execution_count": 3,
   "metadata": {
    "collapsed": false,
    "nbpresent": {
     "id": "8231b2b8-ca58-475b-84e7-6c3b18472c3d"
    },
    "slideshow": {
     "slide_type": "fragment"
    }
   },
   "outputs": [
    {
     "data": {
      "text/plain": [
       "0"
      ]
     },
     "execution_count": 3,
     "metadata": {},
     "output_type": "execute_result"
    }
   ],
   "source": [
    "maximum_fun(1,((2,10),))"
   ]
  },
  {
   "cell_type": "code",
   "execution_count": 4,
   "metadata": {
    "collapsed": false,
    "nbpresent": {
     "id": "b9df09ca-9d2b-4fde-8e32-4acdeefa0af1"
    },
    "slideshow": {
     "slide_type": "fragment"
    }
   },
   "outputs": [
    {
     "data": {
      "text/plain": [
       "10"
      ]
     },
     "execution_count": 4,
     "metadata": {},
     "output_type": "execute_result"
    }
   ],
   "source": [
    "maximum_fun(2,((2,10),))"
   ]
  },
  {
   "cell_type": "code",
   "execution_count": 5,
   "metadata": {
    "collapsed": false,
    "nbpresent": {
     "id": "ba817c18-f01f-4675-8408-7ccb42c426b8"
    },
    "slideshow": {
     "slide_type": "fragment"
    }
   },
   "outputs": [
    {
     "data": {
      "text/plain": [
       "10"
      ]
     },
     "execution_count": 5,
     "metadata": {},
     "output_type": "execute_result"
    }
   ],
   "source": [
    "maximum_fun(2,((2,5),(2,10)))"
   ]
  },
  {
   "cell_type": "code",
   "execution_count": 6,
   "metadata": {
    "collapsed": false,
    "nbpresent": {
     "id": "ca11c561-a234-4d3c-87af-33555363c919"
    },
    "slideshow": {
     "slide_type": "fragment"
    }
   },
   "outputs": [
    {
     "data": {
      "text/plain": [
       "16"
      ]
     },
     "execution_count": 6,
     "metadata": {},
     "output_type": "execute_result"
    }
   ],
   "source": [
    "maximum_fun(4,((1,6),(2,5),(3,6),(2,10)))"
   ]
  },
  {
   "cell_type": "markdown",
   "metadata": {
    "nbpresent": {
     "id": "ad1a56a4-3b7d-44ad-b871-87ede70d7367"
    },
    "slideshow": {
     "slide_type": "slide"
    }
   },
   "source": [
    "So far so good, but what happens if we try a larger example?"
   ]
  },
  {
   "cell_type": "code",
   "execution_count": 7,
   "metadata": {
    "collapsed": false,
    "nbpresent": {
     "id": "bc39c733-43d8-438d-a8ce-6c9c61e29b81"
    },
    "slideshow": {
     "slide_type": "fragment"
    }
   },
   "outputs": [
    {
     "name": "stdout",
     "output_type": "stream",
     "text": [
      "maximum_fun is .. 253\n",
      "1 loop, best of 1: 22.7 s per loop\n"
     ]
    }
   ],
   "source": [
    "n = 23\n",
    "%timeit -n1 -r1 print \"maximum_fun is ..\",maximum_fun(n*n,[(i,i) for i in range(n)])"
   ]
  },
  {
   "cell_type": "markdown",
   "metadata": {
    "nbpresent": {
     "id": "008ed176-69c2-48d6-8711-32a329c14c61"
    },
    "slideshow": {
     "slide_type": "slide"
    }
   },
   "source": [
    "This starts to be a little slow. More generally, lets see how the time grows as a function of n"
   ]
  },
  {
   "cell_type": "code",
   "execution_count": 8,
   "metadata": {
    "collapsed": false,
    "nbpresent": {
     "id": "e73a139e-b748-4d79-a38b-0ddaf733a319"
    },
    "slideshow": {
     "slide_type": "fragment"
    }
   },
   "outputs": [],
   "source": [
    "inputs = [((n*n),[(i,i) for i in range(n)]) for n in range(1,24)];"
   ]
  },
  {
   "cell_type": "code",
   "execution_count": 9,
   "metadata": {
    "collapsed": false,
    "nbpresent": {
     "id": "50bf15af-1386-4862-a11c-183bbbd1bcc5"
    },
    "slideshow": {
     "slide_type": "fragment"
    }
   },
   "outputs": [
    {
     "name": "stdout",
     "output_type": "stream",
     "text": [
      ".......................plot_steps: True\n",
      "1.420 micro-seconds per step\n",
      "Curve (steps): $2\\exp(1.01n)$\n"
     ]
    },
    {
     "data": {
      "image/png": "[encoded data removed]",
      "text/plain": [
       "<matplotlib.figure.Figure at 0x7fdcd7d2efd0>"
      ]
     },
     "metadata": {},
     "output_type": "display_data"
    }
   ],
   "source": [
    "(outputs,curve,lengths,times,steps) = timer(maximum_fun,inputs,inlen = lambda i: len(i[1]) , doplot_logscale=False);"
   ]
  },
  {
   "cell_type": "markdown",
   "metadata": {
    "nbpresent": {
     "id": "d59e82e1-8de2-47a2-89af-57af6b6175df"
    },
    "slideshow": {
     "slide_type": "slide"
    }
   },
   "source": [
    "We can see that when we increase the input length by one we take about twice as much time. \n",
    "If we extrapolate from these data, we get that if we tried this for 40 parties (which might not be too much for some people), then the total amount of time it would take us to compute the sum would be about"
   ]
  },
  {
   "cell_type": "code",
   "execution_count": 12,
   "metadata": {
    "collapsed": false,
    "nbpresent": {
     "id": "ae689ff2-cfe8-472b-ac2f-73ef6046f8b1"
    },
    "slideshow": {
     "slide_type": "fragment"
    }
   },
   "outputs": [
    {
     "data": {
      "text/plain": [
       "'7.20396e+11 seconds'"
      ]
     },
     "execution_count": 12,
     "metadata": {},
     "output_type": "execute_result"
    }
   ],
   "source": [
    "t = curve(40)/curve(1)\n",
    "\"{0:,g} seconds\".format(t)"
   ]
  },
  {
   "cell_type": "markdown",
   "metadata": {
    "nbpresent": {
     "id": "9ba7115a-0853-48ed-98f6-535b431d20d6"
    },
    "slideshow": {
     "slide_type": "fragment"
    }
   },
   "source": [
    "Which equals "
   ]
  },
  {
   "cell_type": "code",
   "execution_count": 13,
   "metadata": {
    "collapsed": false,
    "nbpresent": {
     "id": "d372a558-f578-4a60-bcc5-1d9a42025c00"
    },
    "slideshow": {
     "slide_type": "fragment"
    }
   },
   "outputs": [
    {
     "data": {
      "text/plain": [
       "'22,843 years'"
      ]
     },
     "execution_count": 13,
     "metadata": {},
     "output_type": "execute_result"
    }
   ],
   "source": [
    "\"{:,} years\".format(int(t/(365*24*60*60)))"
   ]
  },
  {
   "cell_type": "markdown",
   "metadata": {
    "nbpresent": {
     "id": "0afdaa24-7eb6-4eff-87d1-6ebd1efc5550"
    },
    "slideshow": {
     "slide_type": "slide"
    }
   },
   "source": [
    "_ouch!_"
   ]
  },
  {
   "cell_type": "markdown",
   "metadata": {
    "nbpresent": {
     "id": "2acc46db-e146-4456-85fa-c84aea64156b"
    },
    "slideshow": {
     "slide_type": "slide"
    }
   },
   "source": [
    "But do we really need to spend so much time? For example, when the input length was "
   ]
  },
  {
   "cell_type": "code",
   "execution_count": 14,
   "metadata": {
    "collapsed": false,
    "nbpresent": {
     "id": "d55487fa-0458-4981-bf79-d0b871d2d34e"
    },
    "slideshow": {
     "slide_type": "fragment"
    }
   },
   "outputs": [
    {
     "data": {
      "text/plain": [
       "23"
      ]
     },
     "execution_count": 14,
     "metadata": {},
     "output_type": "execute_result"
    }
   ],
   "source": [
    "lengths[-1]"
   ]
  },
  {
   "cell_type": "markdown",
   "metadata": {
    "nbpresent": {
     "id": "9f83df62-53df-4d8a-8425-e836aeddad0b"
    },
    "slideshow": {
     "slide_type": "fragment"
    }
   },
   "source": [
    "we made "
   ]
  },
  {
   "cell_type": "code",
   "execution_count": 15,
   "metadata": {
    "collapsed": false,
    "nbpresent": {
     "id": "bdb650e2-2d12-4440-befc-ad2e81c30900"
    },
    "slideshow": {
     "slide_type": "fragment"
    }
   },
   "outputs": [
    {
     "name": "stdout",
     "output_type": "stream",
     "text": [
      "16,777,215 calls to the function\n"
     ]
    }
   ],
   "source": [
    "print \"{:,} calls to the function\".format(steps[-1])"
   ]
  },
  {
   "cell_type": "markdown",
   "metadata": {
    "nbpresent": {
     "id": "55199097-4468-4392-b887-06233bb6be48"
    },
    "slideshow": {
     "slide_type": "slide"
    }
   },
   "source": [
    "But if we think about it, if our original input was a list $L$ of $n$ parties, and a budget $D$, every recursive call to the function '''maximize_fun''' was made with a pair $(D',L')$ such that $0 \\leq D' \\leq D$ and $L'$ is a postfix of $L$ (i.e., the last $i$ elements of $L$ for some $i\\leq n$).\n",
    "\n",
    "Since there are $D+1$ numbers between $0$ to $D$ and there are at most $n+1$ postfixes for an $n$ length list, we see that the total number of possible inputs we could have used is $(D+1)\\times (n+1)$. \n",
    "But note that in our case this was"
   ]
  },
  {
   "cell_type": "code",
   "execution_count": 16,
   "metadata": {
    "collapsed": false,
    "nbpresent": {
     "id": "e8cd0ea1-9954-4d17-b1a8-286e849507d4"
    },
    "slideshow": {
     "slide_type": "fragment"
    }
   },
   "outputs": [
    {
     "data": {
      "text/plain": [
       "'12,720 possible inputs'"
      ]
     },
     "execution_count": 16,
     "metadata": {},
     "output_type": "execute_result"
    }
   ],
   "source": [
    "\"{:,} possible inputs\".format((inputs[-1][0]+1)*(len(inputs[-1][1])+1))"
   ]
  },
  {
   "cell_type": "markdown",
   "metadata": {
    "nbpresent": {
     "id": "2ef077ba-55ae-4eda-b11d-6416fc3ec81a"
    },
    "slideshow": {
     "slide_type": "slide"
    }
   },
   "source": [
    "So we made a huge number of _unnecessary_ calls to the function. \n",
    "If we could simply remember the result of these calls, rather than executing them again, then we could potentially save a lot of time. \n",
    "This is what we do next. \n",
    "For starters, we use a global array '''Mem''' that will record for every $D'$ and $i$, the result of the function on the input which is $D'$ and the last $i$ elements of $L$. \n",
    "Later, we will have a solution which does not involve global variables. \n"
   ]
  },
  {
   "cell_type": "code",
   "execution_count": 17,
   "metadata": {
    "collapsed": true,
    "nbpresent": {
     "id": "0265a4a6-8730-423d-a291-3ce3fbd21c99"
    },
    "slideshow": {
     "slide_type": "slide"
    }
   },
   "outputs": [],
   "source": [
    "mem = []\n",
    "\n",
    "def init_mem(D,L):\n",
    "    global mem\n",
    "    mem = [[-1]*(len(L)+1) for i in range(D+1)]\n"
   ]
  },
  {
   "cell_type": "code",
   "execution_count": 18,
   "metadata": {
    "collapsed": true,
    "nbpresent": {
     "id": "abbee9ac-d1ea-494b-af03-68ecbea52ca4"
    },
    "slideshow": {
     "slide_type": "fragment"
    }
   },
   "outputs": [],
   "source": [
    "def maximum_fun_recur(D,L):\n",
    "    \"\"\"returns the maximum amount of fun we can have with D dollars attending the parties listed in L, \n",
    "    where L is a tuple/list containing pairs (c,f) of cost/fun for every party.\"\"\"\n",
    "    global mem\n",
    "    step_pc() \n",
    "    if not mem[D][len(L)]==-1:\n",
    "        return mem[D][len(L)]\n",
    "    if not L:\n",
    "        # if L is empty then we can't have any fun\n",
    "        mem[D][0]=0\n",
    "        return 0\n",
    "    fun_if_skip_first_party = maximum_fun_recur(D,L[1:]) # the amount of fun we can have if we skip first party \n",
    "    if D<L[0][0]: # if we can't afford to attend the first party then we have no choices to make\n",
    "        mem[D][len(L)] = fun_if_skip_first_party\n",
    "        return fun_if_skip_first_party\n",
    "    # otherwise we will check both options and see what's the maximum fun we can have\n",
    "    mem[D][len(L)] =  max(fun_if_skip_first_party, L[0][1]+maximum_fun_recur(D-L[0][0],L[1:]))\n",
    "    return mem[D][len(L)]\n",
    "\n",
    "def memoized_maximum_fun(D,L):\n",
    "    init_mem(D,L)\n",
    "    return maximum_fun_recur(D,L)"
   ]
  },
  {
   "cell_type": "markdown",
   "metadata": {
    "nbpresent": {
     "id": "17c9facc-c1d0-4c8c-9029-8aed98633ec8"
    },
    "slideshow": {
     "slide_type": "slide"
    }
   },
   "source": [
    "Lets see that we get the same answers:"
   ]
  },
  {
   "cell_type": "code",
   "execution_count": 19,
   "metadata": {
    "collapsed": false,
    "nbpresent": {
     "id": "93ae7e9e-1332-4787-a08f-0f789e8ccf6c"
    },
    "slideshow": {
     "slide_type": "fragment"
    }
   },
   "outputs": [
    {
     "data": {
      "text/plain": [
       "0"
      ]
     },
     "execution_count": 19,
     "metadata": {},
     "output_type": "execute_result"
    }
   ],
   "source": [
    "memoized_maximum_fun(1,((2,10),))"
   ]
  },
  {
   "cell_type": "code",
   "execution_count": 20,
   "metadata": {
    "collapsed": false,
    "nbpresent": {
     "id": "4242a465-85a0-4ca2-a91b-3f73bf8574c3"
    },
    "slideshow": {
     "slide_type": "fragment"
    }
   },
   "outputs": [
    {
     "data": {
      "text/plain": [
       "10"
      ]
     },
     "execution_count": 20,
     "metadata": {},
     "output_type": "execute_result"
    }
   ],
   "source": [
    "memoized_maximum_fun(2,((2,10),))"
   ]
  },
  {
   "cell_type": "code",
   "execution_count": 21,
   "metadata": {
    "collapsed": false,
    "nbpresent": {
     "id": "32055854-6509-4959-b256-8603c570a024"
    },
    "slideshow": {
     "slide_type": "fragment"
    }
   },
   "outputs": [
    {
     "data": {
      "text/plain": [
       "10"
      ]
     },
     "execution_count": 21,
     "metadata": {},
     "output_type": "execute_result"
    }
   ],
   "source": [
    "memoized_maximum_fun(2,((2,5),(2,10)))"
   ]
  },
  {
   "cell_type": "code",
   "execution_count": 22,
   "metadata": {
    "collapsed": false,
    "nbpresent": {
     "id": "243606f7-d286-4491-b4a7-d7d9ee7f6cf3"
    },
    "slideshow": {
     "slide_type": "fragment"
    }
   },
   "outputs": [
    {
     "data": {
      "text/plain": [
       "16"
      ]
     },
     "execution_count": 22,
     "metadata": {},
     "output_type": "execute_result"
    }
   ],
   "source": [
    "memoized_maximum_fun(4,((1,6),(2,5),(3,6),(2,10)))"
   ]
  },
  {
   "cell_type": "markdown",
   "metadata": {
    "collapsed": true,
    "nbpresent": {
     "id": "7bfd5f39-f6a4-4c21-90cd-e8effd964650"
    },
    "slideshow": {
     "slide_type": "slide"
    }
   },
   "source": [
    "Now let's see if we indeed get a speed saving:"
   ]
  },
  {
   "cell_type": "code",
   "execution_count": 23,
   "metadata": {
    "collapsed": true,
    "nbpresent": {
     "id": "45b8be81-7a1c-4213-b7d7-0faf9f0aa243"
    },
    "slideshow": {
     "slide_type": "fragment"
    }
   },
   "outputs": [],
   "source": [
    "inputs = [((n*n),[(i,i) for i in range(n)]) for n in range(1,100)];"
   ]
  },
  {
   "cell_type": "code",
   "execution_count": 24,
   "metadata": {
    "collapsed": false,
    "nbpresent": {
     "id": "9ba16cca-a137-415b-b775-ffab0ec54275"
    },
    "slideshow": {
     "slide_type": "fragment"
    }
   },
   "outputs": [
    {
     "name": "stdout",
     "output_type": "stream",
     "text": [
      "...................................................................................................plot_steps: True\n",
      "2.698 micro-seconds per step\n",
      "(array([0]),)\n",
      "Curve (steps): $0.4n^3$\n"
     ]
    },
    {
     "data": {
      "image/png": "[encoded data removed]",
      "text/plain": [
       "<matplotlib.figure.Figure at 0x7fdcbd08d1d0>"
      ]
     },
     "metadata": {},
     "output_type": "display_data"
    }
   ],
   "source": [
    "(outputs_mem,_1,_2,_3,_4) = timer(memoized_maximum_fun,inputs,inlen = lambda i: len(i[1]) ,doplot_logscale = False);"
   ]
  },
  {
   "cell_type": "code",
   "execution_count": 25,
   "metadata": {
    "collapsed": false,
    "nbpresent": {
     "id": "ac97676f-c418-41e8-bf4f-9627d4ee7e5d"
    },
    "slideshow": {
     "slide_type": "fragment"
    }
   },
   "outputs": [
    {
     "data": {
      "text/plain": [
       "True"
      ]
     },
     "execution_count": 25,
     "metadata": {},
     "output_type": "execute_result"
    }
   ],
   "source": [
    "outputs == outputs_mem[:len(outputs)] # sanity check"
   ]
  },
  {
   "cell_type": "markdown",
   "metadata": {
    "nbpresent": {
     "id": "d2ae8fd8-8ddb-4216-8977-71eb81b6507f"
    },
    "slideshow": {
     "slide_type": "slide"
    }
   },
   "source": [
    "In particular for $n=40$ this took us about $35$ milliseconds instead of $40,000$ years, not bad..."
   ]
  },
  {
   "cell_type": "markdown",
   "metadata": {
    "nbpresent": {
     "id": "04813f2b-0937-402a-a614-bf4d28f13c5e"
    },
    "slideshow": {
     "slide_type": "slide"
    }
   },
   "source": [
    "We typically try to avoid global variables, and so let's rewrite the program without them by adding an extra parameter to the recursion:"
   ]
  },
  {
   "cell_type": "code",
   "execution_count": 26,
   "metadata": {
    "collapsed": true,
    "nbpresent": {
     "id": "01533542-9bef-4de8-95a3-65c79f278503"
    },
    "slideshow": {
     "slide_type": "fragment"
    }
   },
   "outputs": [],
   "source": [
    "def maximum_fun_recur2(D,L,mem):\n",
    "    \"\"\"returns the maximum amount of fun we can have with D dollars attending the parties listed in L, \n",
    "    where L is a tuple/list containing pairs (c,f) of cost/fun for every party.\"\"\"\n",
    "    step_pc() \n",
    "    if not mem[D][len(L)]==-1:\n",
    "        return mem[D][len(L)]\n",
    "    if not L:\n",
    "        # if L is empty then we can't have any fun\n",
    "        mem[D][0]=0\n",
    "        return 0\n",
    "    fun_if_skip_first_party = maximum_fun_recur2(D,L[1:],mem) # the amount of fun we can have if we skip first party \n",
    "    if D<L[0][0]: # if we can't afford to attend the first party then we have no choices to make\n",
    "        mem[D][len(L)] = fun_if_skip_first_party\n",
    "        return fun_if_skip_first_party\n",
    "    # otherwise we will check both options and see what's the maximum fun we can have\n",
    "    mem[D][len(L)] =  max(fun_if_skip_first_party, L[0][1]+maximum_fun_recur2(D-L[0][0],L[1:],mem))\n",
    "    return mem[D][len(L)]\n",
    "\n",
    "def memoized_maximum_fun2(D,L):\n",
    "    mem = [[-1]*(len(L)+1) for i in range(D+1)]\n",
    "    return maximum_fun_recur2(D,L,mem)"
   ]
  },
  {
   "cell_type": "markdown",
   "metadata": {
    "nbpresent": {
     "id": "a9c3c95b-c60f-44c6-bc6a-07274ef6656e"
    },
    "slideshow": {
     "slide_type": "slide"
    }
   },
   "source": [
    "Let's do some sanity check, and then see if it makes a performance difference"
   ]
  },
  {
   "cell_type": "code",
   "execution_count": 27,
   "metadata": {
    "collapsed": false,
    "nbpresent": {
     "id": "f50c9314-9ab5-49d9-b5f5-deadafef829d"
    },
    "slideshow": {
     "slide_type": "fragment"
    }
   },
   "outputs": [
    {
     "data": {
      "text/plain": [
       "16"
      ]
     },
     "execution_count": 27,
     "metadata": {},
     "output_type": "execute_result"
    }
   ],
   "source": [
    "memoized_maximum_fun2(4,((1,6),(2,5),(3,6),(2,10)))"
   ]
  },
  {
   "cell_type": "code",
   "execution_count": 28,
   "metadata": {
    "collapsed": false,
    "nbpresent": {
     "id": "3de8c830-38c6-4604-8624-f05572a82f0b"
    },
    "slideshow": {
     "slide_type": "fragment"
    }
   },
   "outputs": [
    {
     "name": "stdout",
     "output_type": "stream",
     "text": [
      "...................................................................................................plot_steps: True\n",
      "2.757 micro-seconds per step\n",
      "(array([0]),)\n",
      "Curve (steps): $0.4n^3$\n"
     ]
    },
    {
     "data": {
      "image/png": "[encoded data removed]",
      "text/plain": [
       "<matplotlib.figure.Figure at 0x7fdcb9d50410>"
      ]
     },
     "metadata": {},
     "output_type": "display_data"
    }
   ],
   "source": [
    "timer(memoized_maximum_fun2,inputs,inlen = lambda i: len(i[1]) , doplot_logscale= False);"
   ]
  },
  {
   "cell_type": "markdown",
   "metadata": {
    "nbpresent": {
     "id": "61c03327-403f-4755-9a2c-ba7fcdf3605b"
    },
    "slideshow": {
     "slide_type": "slide"
    }
   },
   "source": [
    "# Example 2: Best parenthesis placement.\n",
    "\n",
    " (Problem source: Ulm Algorithm Course SoSe 2005, see\n",
    "[here](http://www.spoj.pl/problems/LISA/)). You are given an\n",
    "arithmetic expression with digits separated by `*' and `+'.  How can\n",
    "you parenthesize the expression so as to maximize its value?  For\n",
    "example, with the expression\n",
    "$1+2*3+4*5$\n",
    "the best way of parenthesizing it is $(1+2)*((3+4)*5)$, giving $105$.\n",
    "For example, parenthesizing it as $1+((2*3)+(4*5))$ would only give\n",
    "$27$.\n",
    "\n",
    "Suppose the length of the expression is $n$.  We will show how to\n",
    "solve the task in time $\\Theta(n^3)$ using recursion and memoization.\n",
    "\n",
    "First, a recursive solution:\n",
    "\n",
    "If the expression is $s$ of length $n$, then we can split it in $(n-1)/2$ different ways to the form  $s_1 op s_2$. If $\\mathtt{max\\_paren}(s_i)$ is the maximum value that we can obtain from parenthesizing the expression $s_i$, then $\\mathtt{max\\_paren}(s)$ would equal the maximum of $\\mathtt{max\\_paren}(s_1) op \\mathtt{max\\_paren}(s_2)$ over all this splits. This suggests the following code: \n"
   ]
  },
  {
   "cell_type": "code",
   "execution_count": 29,
   "metadata": {
    "collapsed": false,
    "nbpresent": {
     "id": "d38199e4-2c1a-42e9-8f34-7ee1179b213b"
    },
    "slideshow": {
     "slide_type": "slide"
    }
   },
   "outputs": [],
   "source": [
    "def apply(op,x,y):\n",
    "    if op=='+':\n",
    "        return x+y\n",
    "    if op=='*':\n",
    "        return x*y\n",
    "    raise BaseException(\"Operators can be either * or +: you used \"+str(op))\n",
    "\n",
    "def max_paren(s):\n",
    "    step_pc()\n",
    "    vals = []\n",
    "    if len(s)==1:\n",
    "        return int(s)\n",
    "    for i in range(1,len(s),2): # go over positions 1,3,..,len(s)-1 which should be the operators:\n",
    "        vals.append(apply(s[i],max_paren(s[:i]),max_paren(s[i+1:])))\n",
    "    return max(vals)"
   ]
  },
  {
   "cell_type": "code",
   "execution_count": 30,
   "metadata": {
    "collapsed": false,
    "nbpresent": {
     "id": "9b168686-7f7e-473d-b51d-e4f9a7ddd005"
    },
    "slideshow": {
     "slide_type": "slide"
    }
   },
   "outputs": [
    {
     "data": {
      "text/plain": [
       "105"
      ]
     },
     "execution_count": 30,
     "metadata": {},
     "output_type": "execute_result"
    }
   ],
   "source": [
    "max_paren(\"1+2*3+4*5\")"
   ]
  },
  {
   "cell_type": "markdown",
   "metadata": {
    "nbpresent": {
     "id": "7b8e3463-52b4-4590-8ae5-d11ff1406b35"
    },
    "slideshow": {
     "slide_type": "slide"
    }
   },
   "source": [
    "Let's see how bad can the recursion be:"
   ]
  },
  {
   "cell_type": "code",
   "execution_count": 62,
   "metadata": {
    "collapsed": false,
    "nbpresent": {
     "id": "3e6fd4f4-85ab-4a9f-be75-041d6e531b4d"
    },
    "slideshow": {
     "slide_type": "fragment"
    }
   },
   "outputs": [
    {
     "data": {
      "text/plain": [
       "'0*3+7+8+8+1*5+6+6*9+3*4+4+7*1*2*2+5*9+0+0'"
      ]
     },
     "execution_count": 62,
     "metadata": {},
     "output_type": "execute_result"
    }
   ],
   "source": [
    "def geninput(n):\n",
    "    out = ''\n",
    "    t = 0\n",
    "    for i in range(n):\n",
    "        t = t*7+3*i % 127\n",
    "        out += str(t % 10)\n",
    "        out += '+' if (t % 13) % 2 else '*'\n",
    "    out += str(n % 10)\n",
    "    return out\n",
    "\n",
    "geninput(20)"
   ]
  },
  {
   "cell_type": "code",
   "execution_count": 63,
   "metadata": {
    "collapsed": false,
    "nbpresent": {
     "id": "b419a1cc-f778-43ca-862a-282518f5cf03"
    },
    "slideshow": {
     "slide_type": "slide"
    }
   },
   "outputs": [
    {
     "name": "stdout",
     "output_type": "stream",
     "text": [
      ".............plot_steps: True\n",
      "1.298 micro-seconds per step\n",
      "Curve (steps): $\\exp(1.58n)$\n"
     ]
    },
    {
     "data": {
      "image/png": "[encoded data removed]",
      "text/plain": [
       "<matplotlib.figure.Figure at 0x7f7466c13810>"
      ]
     },
     "metadata": {},
     "output_type": "display_data"
    }
   ],
   "source": [
    "(outputs,curve,lengths,times,steps) = timer(max_paren,\n",
    "                                            [geninput(n) for n in range(1,14)],\n",
    "                                            lambda s: (len(s)-1)/2 , doplot_logscale=False);"
   ]
  },
  {
   "cell_type": "markdown",
   "metadata": {
    "nbpresent": {
     "id": "1dbdd223-1d3b-4a49-82f2-f67bb8ae073c"
    },
    "slideshow": {
     "slide_type": "slide"
    }
   },
   "source": [
    "This time the growth is even more radical, it is easiest to draw this on a log curve:"
   ]
  },
  {
   "cell_type": "code",
   "execution_count": 64,
   "metadata": {
    "collapsed": false,
    "nbpresent": {
     "id": "90ae2d30-b38f-471f-9afa-1aa415764010"
    },
    "slideshow": {
     "slide_type": "fragment"
    }
   },
   "outputs": [
    {
     "data": {
      "image/png": "[encoded data removed]",
      "text/plain": [
       "<matplotlib.figure.Figure at 0x7f742cd7d890>"
      ]
     },
     "metadata": {},
     "output_type": "display_data"
    }
   ],
   "source": [
    "logtimes = map(math.log,times)\n",
    "fig, ax1 = plt.subplots()\n",
    "ax2 = ax1.twinx()\n",
    "ax1.plot(lengths,times, 'g-')\n",
    "ax2.plot(lengths, logtimes, 'r-')\n",
    "ax1.set_xlabel('Input length')\n",
    "ax1.set_ylabel('Time (secs)', color='g')\n",
    "ax2.set_ylabel('Time (log scale)', color='r')\n",
    "plt.show()"
   ]
  },
  {
   "cell_type": "code",
   "execution_count": 125,
   "metadata": {
    "collapsed": false,
    "nbpresent": {
     "id": "3a9e0949-a401-4ee8-bb11-379f0348bb74"
    },
    "slideshow": {
     "slide_type": "slide"
    }
   },
   "outputs": [],
   "source": [
    "slope, intercept, _1, _2, _3 = stats.linregress(lengths,logtimes)"
   ]
  },
  {
   "cell_type": "code",
   "execution_count": 111,
   "metadata": {
    "collapsed": false,
    "nbpresent": {
     "id": "a198bced-05d1-4327-91e0-c95dd348a0a0"
    },
    "slideshow": {
     "slide_type": "fragment"
    }
   },
   "outputs": [
    {
     "data": {
      "image/png": "[encoded data removed]",
      "text/plain": [
       "<matplotlib.figure.Figure at 0xb00c080>"
      ]
     },
     "metadata": {},
     "output_type": "display_data"
    }
   ],
   "source": [
    "fig, ax1 = plt.subplots()\n",
    "ax2 = ax1.twinx()\n",
    "ax2.plot(lengths, logtimes, 'r-')\n",
    "ax1.set_xlabel('Input length')\n",
    "ax2.set_ylabel('Time (log sale)', color='r')\n",
    "ax1.plot(lengths,[slope*x+intercept for x in lengths], 'b--')\n",
    "ax1.set_ylabel('Linear regression', color='b')\n",
    "plt.show()"
   ]
  },
  {
   "cell_type": "markdown",
   "metadata": {
    "nbpresent": {
     "id": "c9c342db-8307-4eab-b09c-683d4f2fead1"
    },
    "slideshow": {
     "slide_type": "slide"
    }
   },
   "source": [
    "Based on this regression we can predict that for a string of length 40, the time it would take would be "
   ]
  },
  {
   "cell_type": "code",
   "execution_count": 112,
   "metadata": {
    "collapsed": false,
    "nbpresent": {
     "id": "c03103c1-ec00-4bee-8762-376549ca06b7"
    },
    "slideshow": {
     "slide_type": "fragment"
    }
   },
   "outputs": [
    {
     "name": "stdout",
     "output_type": "stream",
     "text": [
      "1.24124e+12 seconds or 39,359 years\n"
     ]
    }
   ],
   "source": [
    " t = math.exp(slope*40+intercept)\n",
    "y = int(t/(24*60*60*365))\n",
    "print \"{0:n} seconds or {1:,} years\".format(t,y)"
   ]
  },
  {
   "cell_type": "code",
   "execution_count": 113,
   "metadata": {
    "collapsed": false,
    "nbpresent": {
     "id": "967457ff-5caa-496f-ad94-09233fc8c21b"
    }
   },
   "outputs": [
    {
     "name": "stdout",
     "output_type": "stream",
     "text": [
      "Another approximation: 1.24124e+12 seconds or 39,359 years\n"
     ]
    }
   ],
   "source": [
    "t1 = curve(40)\n",
    "print \"Another approximation: {0:n} seconds or {1:,} years\".format(t,y)"
   ]
  },
  {
   "cell_type": "markdown",
   "metadata": {
    "nbpresent": {
     "id": "2fcd36c3-dea2-4806-a599-4306c78392bd"
    },
    "slideshow": {
     "slide_type": "slide"
    }
   },
   "source": [
    "But once again, the number of steps we take is much larger than the number of possible calls since we always make calls to a consecutive substring of our input.\n",
    "\n",
    "If we have $n$ operators then the number of possible substrings we call on is less than $n^2$, but compare  "
   ]
  },
  {
   "cell_type": "code",
   "execution_count": 114,
   "metadata": {
    "collapsed": false,
    "nbpresent": {
     "id": "46d89103-a44a-449c-b7a2-4a42553c12fb"
    },
    "slideshow": {
     "slide_type": "fragment"
    }
   },
   "outputs": [
    {
     "name": "stdout",
     "output_type": "stream",
     "text": [
      "169 possible inputs vs 1,594,323 steps for input length 13\n"
     ]
    }
   ],
   "source": [
    "print \"{0:,} possible inputs vs {1:,} steps for input length {2:,}\".format(lengths[-1]**2,steps[-1],lengths[-1])"
   ]
  },
  {
   "cell_type": "markdown",
   "metadata": {
    "nbpresent": {
     "id": "96de4e69-f72c-4a61-9d07-e85c5fb6a836"
    },
    "slideshow": {
     "slide_type": "slide"
    }
   },
   "source": [
    "This is a prime example where memoization can help - let's see by how much:"
   ]
  },
  {
   "cell_type": "code",
   "execution_count": 115,
   "metadata": {
    "collapsed": true,
    "nbpresent": {
     "id": "74824223-3153-4bc7-990b-4b81589daad2"
    },
    "slideshow": {
     "slide_type": "fragment"
    }
   },
   "outputs": [],
   "source": [
    "def max_paren_recur(s,start,end,mem):\n",
    "    step_pc()\n",
    "    if mem[start][end] != -1:\n",
    "        return mem[start][end]\n",
    "    vals = []\n",
    "    if end == start+1:\n",
    "        mem[start][end] = int(s[start])\n",
    "        return mem[start][end]\n",
    "    for i in range(start+1,end,2): # go over positions start+1,3,..,end-1 which should be the operators:\n",
    "        vals.append(apply(s[i],max_paren_recur(s,start,i,mem),max_paren_recur(s,i+1,end,mem)))\n",
    "    mem[start][end] = max(vals)\n",
    "    return mem[start][end]\n",
    "     \n",
    "def max_paren_memoized(s):\n",
    "    mem = [[-1]*(len(s)+1) for i in range(len(s)+1)]\n",
    "    return max_paren_recur(s,0,len(s),mem)"
   ]
  },
  {
   "cell_type": "code",
   "execution_count": 116,
   "metadata": {
    "collapsed": false,
    "nbpresent": {
     "id": "b95b0d81-699b-4763-87cd-b633510cce36"
    },
    "slideshow": {
     "slide_type": "slide"
    }
   },
   "outputs": [
    {
     "data": {
      "text/plain": [
       "105"
      ]
     },
     "execution_count": 116,
     "metadata": {},
     "output_type": "execute_result"
    }
   ],
   "source": [
    "max_paren_memoized(\"1+2*3+4*5\") "
   ]
  },
  {
   "cell_type": "code",
   "execution_count": 117,
   "metadata": {
    "collapsed": false,
    "nbpresent": {
     "id": "0b1564d5-30a0-44c2-8964-eb9cc55175dc"
    },
    "scrolled": true,
    "slideshow": {
     "slide_type": "fragment"
    }
   },
   "outputs": [
    {
     "name": "stdout",
     "output_type": "stream",
     "text": [
      "----------------------------------------\n",
      "........................................0.635 micro-seconds per step\n",
      "lengths, observations: 40 40 [[1]\n",
      " [2]\n",
      " [3]\n",
      " [4]\n",
      " [5]] [[ 1.5849625 ]\n",
      " [ 3.169925  ]\n",
      " [ 4.39231742]\n",
      " [ 5.357552  ]\n",
      " [ 6.14974712]]\n",
      "fitting lengths, steps: 40 40 [1, 2, 3, 4, 5] [3, 9, 21, 41, 71]\n",
      "Found coefficients: [ 0.33386291  0.          0.94878501  0.35745491  0.          0.        ]\n",
      "Rounded coefs: [0.4, 0.0, 1.0, 0.4, 0.0, 0.0]\n",
      "(array([0, 2, 3], dtype=int64),)\n",
      "Curve: $0.4n^3$\n"
     ]
    },
    {
     "data": {
      "image/png": "[encoded data removed]",
      "text/plain": [
       "<matplotlib.figure.Figure at 0xb14aa58>"
      ]
     },
     "metadata": {},
     "output_type": "display_data"
    },
    {
     "data": {
      "image/png": "[encoded data removed]",
      "text/plain": [
       "<matplotlib.figure.Figure at 0xa6e8b00>"
      ]
     },
     "metadata": {},
     "output_type": "display_data"
    }
   ],
   "source": [
    "(outputs_mem,_1,_2,_3,_4) = timer(max_paren_memoized,[geninput(n) for n in range(1,41)],lambda s: (len(s)-1)/2)"
   ]
  },
  {
   "cell_type": "code",
   "execution_count": 118,
   "metadata": {
    "collapsed": false,
    "nbpresent": {
     "id": "429f2ae9-ce6b-496b-84de-4c71c3ccf8ab"
    },
    "slideshow": {
     "slide_type": "fragment"
    }
   },
   "outputs": [
    {
     "data": {
      "text/plain": [
       "True"
      ]
     },
     "execution_count": 118,
     "metadata": {},
     "output_type": "execute_result"
    }
   ],
   "source": [
    "outputs == outputs_mem[:len(outputs)] # sanity check"
   ]
  },
  {
   "cell_type": "code",
   "execution_count": 119,
   "metadata": {
    "collapsed": false,
    "nbpresent": {
     "id": "6d54c002-33dd-4e41-8736-6c0814ecbac6"
    },
    "slideshow": {
     "slide_type": "fragment"
    }
   },
   "outputs": [
    {
     "name": "stdout",
     "output_type": "stream",
     "text": [
      "For n=40 this is  99,624,778,029,038 times faster which is more than 13 orders of magnitude.\n"
     ]
    }
   ],
   "source": [
    "print \"For n=40 this is  {1:,d} times faster which is more than {0:0.0f} orders of magnitude.\".format(math.floor(math.log(t/times[-1],10)),int(t/times[-1]))"
   ]
  },
  {
   "cell_type": "code",
   "execution_count": null,
   "metadata": {
    "collapsed": true,
    "nbpresent": {
     "id": "c1aa3c34-b38d-4a16-92c2-9747f765a3f3"
    }
   },
   "outputs": [],
   "source": []
  }
 ],
 "metadata": {
  "anaconda-cloud": {},
  "celltoolbar": "Slideshow",
  "kernelspec": {
   "display_name": "Python [Root]",
   "language": "python",
   "name": "Python [Root]"
  },
  "language_info": {
   "codemirror_mode": {
    "name": "ipython",
    "version": 2
   },
   "file_extension": ".py",
   "mimetype": "text/x-python",
   "name": "python",
   "nbconvert_exporter": "python",
   "pygments_lexer": "ipython2",
   "version": "2.7.12"
  },
  "nbpresent": {
   "slides": {
    "075e4fd8-188f-4b16-930f-ef2dc7a3cf75": {
     "id": "075e4fd8-188f-4b16-930f-ef2dc7a3cf75",
     "prev": "e4aea40b-1ec0-4a00-8304-cad2fe166c97",
     "regions": {
      "7e4c1f5e-5870-420d-be93-878e388531dc": {
       "attrs": {
        "height": 0.8,
        "width": 0.8,
        "x": 0.1,
        "y": 0.1
       },
       "content": {
        "cell": "2fcd36c3-dea2-4806-a599-4306c78392bd",
        "part": "whole"
       },
       "id": "7e4c1f5e-5870-420d-be93-878e388531dc"
      },
      "bc022655-8364-4029-b299-46dfa4884e7a": {
       "attrs": {
        "height": 0.4,
        "width": 0.8,
        "x": 0.1,
        "y": 0.5
       },
       "content": {
        "cell": "46d89103-a44a-449c-b7a2-4a42553c12fb",
        "part": "whole"
       },
       "id": "bc022655-8364-4029-b299-46dfa4884e7a"
      }
     }
    },
    "0d6fa8ea-2a19-4421-876e-ddc1feabd13d": {
     "id": "0d6fa8ea-2a19-4421-876e-ddc1feabd13d",
     "prev": "84cb04d4-25a7-461a-b2f3-7971abe65566",
     "regions": {
      "e1cdaad3-40cd-467b-a681-d2a19466c5f4": {
       "attrs": {
        "height": 0.8,
        "width": 0.8,
        "x": 0.1,
        "y": 0.1
       },
       "content": {
        "cell": "3361c08f-4a90-42f6-b49a-43a394796564",
        "part": "whole"
       },
       "id": "e1cdaad3-40cd-467b-a681-d2a19466c5f4"
      }
     }
    },
    "105db097-6734-463f-981f-4d9ac28a4fd1": {
     "id": "105db097-6734-463f-981f-4d9ac28a4fd1",
     "prev": "ac3e62de-6b6f-417e-affd-278701f3d793",
     "regions": {
      "775747b3-f1d0-4d09-9f78-7e839fb4f9cb": {
       "attrs": {
        "height": 0.8,
        "width": 0.8,
        "x": 0.1,
        "y": 0.1
       },
       "content": {
        "cell": "0afdaa24-7eb6-4eff-87d1-6ebd1efc5550",
        "part": "whole"
       },
       "id": "775747b3-f1d0-4d09-9f78-7e839fb4f9cb"
      }
     }
    },
    "1aa4ba3e-dea9-4230-b00a-a63563c462e2": {
     "id": "1aa4ba3e-dea9-4230-b00a-a63563c462e2",
     "prev": "58c5214c-ce6c-4cab-8224-ae3bf28d3d55",
     "regions": {
      "0dbaaaec-28af-4385-a399-413d4592c64f": {
       "attrs": {
        "height": 0.8,
        "width": 0.8,
        "x": 0.1,
        "y": 0.1
       },
       "content": {
        "cell": "87fea3ee-50da-4c62-8a8d-d7a58592f43e",
        "part": "whole"
       },
       "id": "0dbaaaec-28af-4385-a399-413d4592c64f"
      },
      "1ad12653-5fbc-41d4-a84e-17aa2b575d47": {
       "attrs": {
        "height": 0.4,
        "width": 0.8,
        "x": 0.1,
        "y": 0.5
       },
       "content": {
        "cell": "ba817c18-f01f-4675-8408-7ccb42c426b8",
        "part": "whole"
       },
       "id": "1ad12653-5fbc-41d4-a84e-17aa2b575d47"
      },
      "7f54a052-f469-4ee8-a613-dc93b796425a": {
       "attrs": {
        "height": 0.4,
        "width": 0.8,
        "x": 0.1,
        "y": 0.5
       },
       "content": {
        "cell": "8231b2b8-ca58-475b-84e7-6c3b18472c3d",
        "part": "whole"
       },
       "id": "7f54a052-f469-4ee8-a613-dc93b796425a"
      },
      "911fed2a-f0b8-4850-a2e4-e1c20982e6b4": {
       "attrs": {
        "height": 0.4,
        "width": 0.8,
        "x": 0.1,
        "y": 0.5
       },
       "content": {
        "cell": "ca11c561-a234-4d3c-87af-33555363c919",
        "part": "whole"
       },
       "id": "911fed2a-f0b8-4850-a2e4-e1c20982e6b4"
      },
      "afcba2d2-6a07-45db-b580-82a9fc4e7905": {
       "attrs": {
        "height": 0.4,
        "width": 0.8,
        "x": 0.1,
        "y": 0.5
       },
       "content": {
        "cell": "b9df09ca-9d2b-4fde-8e32-4acdeefa0af1",
        "part": "whole"
       },
       "id": "afcba2d2-6a07-45db-b580-82a9fc4e7905"
      }
     }
    },
    "22fbbc93-e0aa-4e26-b08a-a03763f84f1a": {
     "id": "22fbbc93-e0aa-4e26-b08a-a03763f84f1a",
     "prev": "1aa4ba3e-dea9-4230-b00a-a63563c462e2",
     "regions": {
      "25836bfa-6757-4f78-8647-268882394221": {
       "attrs": {
        "height": 0.8,
        "width": 0.8,
        "x": 0.1,
        "y": 0.1
       },
       "content": {
        "cell": "ad1a56a4-3b7d-44ad-b871-87ede70d7367",
        "part": "whole"
       },
       "id": "25836bfa-6757-4f78-8647-268882394221"
      },
      "8f122761-f452-43d5-860b-00a54e40e84b": {
       "attrs": {
        "height": 0.4,
        "width": 0.8,
        "x": 0.1,
        "y": 0.5
       },
       "content": {
        "cell": "bc39c733-43d8-438d-a8ce-6c9c61e29b81",
        "part": "whole"
       },
       "id": "8f122761-f452-43d5-860b-00a54e40e84b"
      }
     }
    },
    "236a67fc-24c2-4c8a-bfaa-078e303ab279": {
     "id": "236a67fc-24c2-4c8a-bfaa-078e303ab279",
     "prev": "22fbbc93-e0aa-4e26-b08a-a03763f84f1a",
     "regions": {
      "0b36ca83-6c2c-455d-b4f8-707ad8c57a5c": {
       "attrs": {
        "height": 0.4,
        "width": 0.8,
        "x": 0.1,
        "y": 0.5
       },
       "content": {
        "cell": "e73a139e-b748-4d79-a38b-0ddaf733a319",
        "part": "whole"
       },
       "id": "0b36ca83-6c2c-455d-b4f8-707ad8c57a5c"
      },
      "75cd0972-84b9-46f3-85a2-e1eed5e4b4e8": {
       "attrs": {
        "height": 0.4,
        "width": 0.8,
        "x": 0.1,
        "y": 0.5
       },
       "content": {
        "cell": "50bf15af-1386-4862-a11c-183bbbd1bcc5",
        "part": "whole"
       },
       "id": "75cd0972-84b9-46f3-85a2-e1eed5e4b4e8"
      },
      "d19ccf5d-6a0f-4732-95f4-745dbf3a7a03": {
       "attrs": {
        "height": 0.8,
        "width": 0.8,
        "x": 0.1,
        "y": 0.1
       },
       "content": {
        "cell": "008ed176-69c2-48d6-8711-32a329c14c61",
        "part": "whole"
       },
       "id": "d19ccf5d-6a0f-4732-95f4-745dbf3a7a03"
      }
     }
    },
    "2dd9c0e9-8751-4148-8e80-bafda790f284": {
     "id": "2dd9c0e9-8751-4148-8e80-bafda790f284",
     "prev": "d8390490-4b1b-4628-adbd-7044abe079a5",
     "regions": {
      "357cedc2-cbfb-4a26-8316-fbc63d4bc104": {
       "attrs": {
        "height": 0.8,
        "width": 0.8,
        "x": 0.1,
        "y": 0.1
       },
       "content": {
        "cell": "9b168686-7f7e-473d-b51d-e4f9a7ddd005",
        "part": "whole"
       },
       "id": "357cedc2-cbfb-4a26-8316-fbc63d4bc104"
      }
     }
    },
    "48559b72-1612-4055-9df0-dfd7071a2e5f": {
     "id": "48559b72-1612-4055-9df0-dfd7071a2e5f",
     "prev": "105db097-6734-463f-981f-4d9ac28a4fd1",
     "regions": {
      "2674b6af-5d11-4b6f-9f9c-617208d61490": {
       "attrs": {
        "height": 0.4,
        "width": 0.8,
        "x": 0.1,
        "y": 0.5
       },
       "content": {
        "cell": "d55487fa-0458-4981-bf79-d0b871d2d34e",
        "part": "whole"
       },
       "id": "2674b6af-5d11-4b6f-9f9c-617208d61490"
      },
      "4b6f937a-9520-4aab-ba3b-05ac2aae458d": {
       "attrs": {
        "height": 0.4,
        "width": 0.8,
        "x": 0.1,
        "y": 0.5
       },
       "content": {
        "cell": "9f83df62-53df-4d8a-8425-e836aeddad0b",
        "part": "whole"
       },
       "id": "4b6f937a-9520-4aab-ba3b-05ac2aae458d"
      },
      "5272833d-93c2-4cdc-9199-d25f68b9c1aa": {
       "attrs": {
        "height": 0.4,
        "width": 0.8,
        "x": 0.1,
        "y": 0.5
       },
       "content": {
        "cell": "bdb650e2-2d12-4440-befc-ad2e81c30900",
        "part": "whole"
       },
       "id": "5272833d-93c2-4cdc-9199-d25f68b9c1aa"
      },
      "82ec0644-0a0a-4e64-b83c-ebfbb9dd8737": {
       "attrs": {
        "height": 0.8,
        "width": 0.8,
        "x": 0.1,
        "y": 0.1
       },
       "content": {
        "cell": "2acc46db-e146-4456-85fa-c84aea64156b",
        "part": "whole"
       },
       "id": "82ec0644-0a0a-4e64-b83c-ebfbb9dd8737"
      }
     }
    },
    "4e431bac-83a8-45ab-83db-10a84c783726": {
     "id": "4e431bac-83a8-45ab-83db-10a84c783726",
     "prev": "48559b72-1612-4055-9df0-dfd7071a2e5f",
     "regions": {
      "020c3770-7c1c-4b60-9089-927d2bd46526": {
       "attrs": {
        "height": 0.8,
        "width": 0.8,
        "x": 0.1,
        "y": 0.1
       },
       "content": {
        "cell": "55199097-4468-4392-b887-06233bb6be48",
        "part": "whole"
       },
       "id": "020c3770-7c1c-4b60-9089-927d2bd46526"
      },
      "d4d87c7a-d1e7-4229-a367-3e7ef8725735": {
       "attrs": {
        "height": 0.4,
        "width": 0.8,
        "x": 0.1,
        "y": 0.5
       },
       "content": {
        "cell": "e8cd0ea1-9954-4d17-b1a8-286e849507d4",
        "part": "whole"
       },
       "id": "d4d87c7a-d1e7-4229-a367-3e7ef8725735"
      }
     }
    },
    "4fa7a99c-d411-468d-9d18-c02695acf029": {
     "id": "4fa7a99c-d411-468d-9d18-c02695acf029",
     "prev": "6f5d0729-433d-4fb9-97e6-93c4e122a0ed",
     "regions": {
      "6a67ff2c-c9c8-4915-b1c3-d1354ee9cce2": {
       "attrs": {
        "height": 0.8,
        "width": 0.8,
        "x": 0.1,
        "y": 0.1
       },
       "content": {
        "cell": "61c03327-403f-4755-9a2c-ba7fcdf3605b",
        "part": "whole"
       },
       "id": "6a67ff2c-c9c8-4915-b1c3-d1354ee9cce2"
      }
     }
    },
    "58c5214c-ce6c-4cab-8224-ae3bf28d3d55": {
     "id": "58c5214c-ce6c-4cab-8224-ae3bf28d3d55",
     "prev": "0d6fa8ea-2a19-4421-876e-ddc1feabd13d",
     "regions": {
      "fa6c13cb-842b-431f-8684-9f37c46e093e": {
       "attrs": {
        "height": 0.8,
        "width": 0.8,
        "x": 0.1,
        "y": 0.1
       },
       "content": {
        "cell": "089a2b1b-aaa6-4770-bc6c-ee2c7c082280",
        "part": "whole"
       },
       "id": "fa6c13cb-842b-431f-8684-9f37c46e093e"
      }
     }
    },
    "65b7443e-0760-46cd-8837-efc5173a22f9": {
     "id": "65b7443e-0760-46cd-8837-efc5173a22f9",
     "prev": "2dd9c0e9-8751-4148-8e80-bafda790f284",
     "regions": {
      "5b9973d1-6e9b-4978-bf84-8f91a4cc4ee9": {
       "attrs": {
        "height": 0.8,
        "width": 0.8,
        "x": 0.1,
        "y": 0.1
       },
       "content": {
        "cell": "7b8e3463-52b4-4590-8ae5-d11ff1406b35",
        "part": "whole"
       },
       "id": "5b9973d1-6e9b-4978-bf84-8f91a4cc4ee9"
      },
      "5c0c77a3-34ce-4880-bdd7-0f1b8f7bbd5d": {
       "attrs": {
        "height": 0.4,
        "width": 0.8,
        "x": 0.1,
        "y": 0.5
       },
       "content": {
        "cell": "3e6fd4f4-85ab-4a9f-be75-041d6e531b4d",
        "part": "whole"
       },
       "id": "5c0c77a3-34ce-4880-bdd7-0f1b8f7bbd5d"
      }
     }
    },
    "6d6dffa3-a858-4264-86d3-77ac7bc20bd8": {
     "id": "6d6dffa3-a858-4264-86d3-77ac7bc20bd8",
     "prev": "b4c7c9e4-da57-44ee-8f13-f5bb10713a14",
     "regions": {
      "023ae1a6-7ecc-4bd1-8c43-0c077a0e2f6d": {
       "attrs": {
        "height": 0.4,
        "width": 0.8,
        "x": 0.1,
        "y": 0.5
       },
       "content": {
        "cell": "243606f7-d286-4491-b4a7-d7d9ee7f6cf3",
        "part": "whole"
       },
       "id": "023ae1a6-7ecc-4bd1-8c43-0c077a0e2f6d"
      },
      "1872a7eb-2919-4d42-bc7e-ebd2f245e3a0": {
       "attrs": {
        "height": 0.4,
        "width": 0.8,
        "x": 0.1,
        "y": 0.5
       },
       "content": {
        "cell": "93ae7e9e-1332-4787-a08f-0f789e8ccf6c",
        "part": "whole"
       },
       "id": "1872a7eb-2919-4d42-bc7e-ebd2f245e3a0"
      },
      "1f04fff1-4fd2-417c-a742-47a8685853a0": {
       "attrs": {
        "height": 0.8,
        "width": 0.8,
        "x": 0.1,
        "y": 0.1
       },
       "content": {
        "cell": "17c9facc-c1d0-4c8c-9029-8aed98633ec8",
        "part": "whole"
       },
       "id": "1f04fff1-4fd2-417c-a742-47a8685853a0"
      },
      "80d5b04a-c4d5-45d7-b108-e75d1c5faff7": {
       "attrs": {
        "height": 0.4,
        "width": 0.8,
        "x": 0.1,
        "y": 0.5
       },
       "content": {
        "cell": "4242a465-85a0-4ca2-a91b-3f73bf8574c3",
        "part": "whole"
       },
       "id": "80d5b04a-c4d5-45d7-b108-e75d1c5faff7"
      },
      "b7db8929-becb-45c4-ade5-3dc2786c7583": {
       "attrs": {
        "height": 0.4,
        "width": 0.8,
        "x": 0.1,
        "y": 0.5
       },
       "content": {
        "cell": "32055854-6509-4959-b256-8603c570a024",
        "part": "whole"
       },
       "id": "b7db8929-becb-45c4-ade5-3dc2786c7583"
      }
     }
    },
    "6f5d0729-433d-4fb9-97e6-93c4e122a0ed": {
     "id": "6f5d0729-433d-4fb9-97e6-93c4e122a0ed",
     "prev": "e4da3920-d859-42ae-a29c-fb37edfa2b8f",
     "regions": {
      "5be53946-d70d-4672-898d-d2433a21089b": {
       "attrs": {
        "height": 0.4,
        "width": 0.8,
        "x": 0.1,
        "y": 0.5
       },
       "content": {
        "cell": "f50c9314-9ab5-49d9-b5f5-deadafef829d",
        "part": "whole"
       },
       "id": "5be53946-d70d-4672-898d-d2433a21089b"
      },
      "6ee54bf5-2c60-4056-9101-dd0919e24480": {
       "attrs": {
        "height": 0.8,
        "width": 0.8,
        "x": 0.1,
        "y": 0.1
       },
       "content": {
        "cell": "a9c3c95b-c60f-44c6-bc6a-07274ef6656e",
        "part": "whole"
       },
       "id": "6ee54bf5-2c60-4056-9101-dd0919e24480"
      },
      "c45e7b28-50e0-4fe1-a012-a34f73181728": {
       "attrs": {
        "height": 0.4,
        "width": 0.8,
        "x": 0.1,
        "y": 0.5
       },
       "content": {
        "cell": "3de8c830-38c6-4604-8624-f05572a82f0b",
        "part": "whole"
       },
       "id": "c45e7b28-50e0-4fe1-a012-a34f73181728"
      }
     }
    },
    "84cb04d4-25a7-461a-b2f3-7971abe65566": {
     "id": "84cb04d4-25a7-461a-b2f3-7971abe65566",
     "prev": null,
     "regions": {
      "c0e0dc31-2a0b-4d9d-b676-a8fc494cc521": {
       "attrs": {
        "height": 0.8,
        "width": 0.8,
        "x": 0.1,
        "y": 0.1
       },
       "content": {
        "cell": "66674200-d930-4dba-a2cc-9d3d588c5367",
        "part": "whole"
       },
       "id": "c0e0dc31-2a0b-4d9d-b676-a8fc494cc521"
      }
     }
    },
    "ab5a3569-5c38-44cb-ab18-1dfe45597f7d": {
     "id": "ab5a3569-5c38-44cb-ab18-1dfe45597f7d",
     "prev": "075e4fd8-188f-4b16-930f-ef2dc7a3cf75",
     "regions": {
      "4833fef4-abe2-4d26-ad66-70003410adcc": {
       "attrs": {
        "height": 0.4,
        "width": 0.8,
        "x": 0.1,
        "y": 0.5
       },
       "content": {
        "cell": "74824223-3153-4bc7-990b-4b81589daad2",
        "part": "whole"
       },
       "id": "4833fef4-abe2-4d26-ad66-70003410adcc"
      },
      "9b972726-bf36-4687-b92c-5710766d4726": {
       "attrs": {
        "height": 0.8,
        "width": 0.8,
        "x": 0.1,
        "y": 0.1
       },
       "content": {
        "cell": "96de4e69-f72c-4a61-9d07-e85c5fb6a836",
        "part": "whole"
       },
       "id": "9b972726-bf36-4687-b92c-5710766d4726"
      }
     }
    },
    "ac3e62de-6b6f-417e-affd-278701f3d793": {
     "id": "ac3e62de-6b6f-417e-affd-278701f3d793",
     "prev": "236a67fc-24c2-4c8a-bfaa-078e303ab279",
     "regions": {
      "41f605f2-2ac3-41dd-ba13-de5ee7c3b931": {
       "attrs": {
        "height": 0.4,
        "width": 0.8,
        "x": 0.1,
        "y": 0.5
       },
       "content": {
        "cell": "d372a558-f578-4a60-bcc5-1d9a42025c00",
        "part": "whole"
       },
       "id": "41f605f2-2ac3-41dd-ba13-de5ee7c3b931"
      },
      "4dcf2f27-22ed-400f-be81-6cab366af1a9": {
       "attrs": {
        "height": 0.4,
        "width": 0.8,
        "x": 0.1,
        "y": 0.5
       },
       "content": {
        "cell": "9ba7115a-0853-48ed-98f6-535b431d20d6",
        "part": "whole"
       },
       "id": "4dcf2f27-22ed-400f-be81-6cab366af1a9"
      },
      "54a0aaa4-767a-45a2-82e1-6363e6a4d12b": {
       "attrs": {
        "height": 0.8,
        "width": 0.8,
        "x": 0.1,
        "y": 0.1
       },
       "content": {
        "cell": "d59e82e1-8de2-47a2-89af-57af6b6175df",
        "part": "whole"
       },
       "id": "54a0aaa4-767a-45a2-82e1-6363e6a4d12b"
      },
      "e89333b5-78c0-445b-b1f0-2597ab11b734": {
       "attrs": {
        "height": 0.4,
        "width": 0.8,
        "x": 0.1,
        "y": 0.5
       },
       "content": {
        "cell": "ae689ff2-cfe8-472b-ac2f-73ef6046f8b1",
        "part": "whole"
       },
       "id": "e89333b5-78c0-445b-b1f0-2597ab11b734"
      }
     }
    },
    "b4c7c9e4-da57-44ee-8f13-f5bb10713a14": {
     "id": "b4c7c9e4-da57-44ee-8f13-f5bb10713a14",
     "prev": "c85b150e-4388-4499-be55-a364e8679256",
     "regions": {
      "69391b56-640d-4eda-a32c-c4dbb9fd4d99": {
       "attrs": {
        "height": 0.4,
        "width": 0.8,
        "x": 0.1,
        "y": 0.5
       },
       "content": {
        "cell": "abbee9ac-d1ea-494b-af03-68ecbea52ca4",
        "part": "whole"
       },
       "id": "69391b56-640d-4eda-a32c-c4dbb9fd4d99"
      },
      "fc615146-11b0-4a01-90f4-e4f81d3e6643": {
       "attrs": {
        "height": 0.8,
        "width": 0.8,
        "x": 0.1,
        "y": 0.1
       },
       "content": {
        "cell": "0265a4a6-8730-423d-a291-3ce3fbd21c99",
        "part": "whole"
       },
       "id": "fc615146-11b0-4a01-90f4-e4f81d3e6643"
      }
     }
    },
    "b54c74fa-ff72-4fd0-850c-0eb99ae95add": {
     "id": "b54c74fa-ff72-4fd0-850c-0eb99ae95add",
     "prev": "65b7443e-0760-46cd-8837-efc5173a22f9",
     "regions": {
      "91686ddc-84e0-4434-920a-981a715a6276": {
       "attrs": {
        "height": 0.8,
        "width": 0.8,
        "x": 0.1,
        "y": 0.1
       },
       "content": {
        "cell": "b419a1cc-f778-43ca-862a-282518f5cf03",
        "part": "whole"
       },
       "id": "91686ddc-84e0-4434-920a-981a715a6276"
      }
     }
    },
    "c85b150e-4388-4499-be55-a364e8679256": {
     "id": "c85b150e-4388-4499-be55-a364e8679256",
     "prev": "4e431bac-83a8-45ab-83db-10a84c783726",
     "regions": {
      "1f2d5de9-369e-43f1-9467-16b51007daed": {
       "attrs": {
        "height": 0.8,
        "width": 0.8,
        "x": 0.1,
        "y": 0.1
       },
       "content": {
        "cell": "2ef077ba-55ae-4eda-b11d-6416fc3ec81a",
        "part": "whole"
       },
       "id": "1f2d5de9-369e-43f1-9467-16b51007daed"
      }
     }
    },
    "ce4398c0-b527-4ace-ba03-adceeda17af5": {
     "id": "ce4398c0-b527-4ace-ba03-adceeda17af5",
     "prev": "6d6dffa3-a858-4264-86d3-77ac7bc20bd8",
     "regions": {
      "45898483-e9de-4dc3-8457-46119411aea3": {
       "attrs": {
        "height": 0.8,
        "width": 0.8,
        "x": 0.1,
        "y": 0.1
       },
       "content": {
        "cell": "7bfd5f39-f6a4-4c21-90cd-e8effd964650",
        "part": "whole"
       },
       "id": "45898483-e9de-4dc3-8457-46119411aea3"
      },
      "9ec596f6-0c61-4c6d-b020-a1f3e472068f": {
       "attrs": {
        "height": 0.4,
        "width": 0.8,
        "x": 0.1,
        "y": 0.5
       },
       "content": {
        "cell": "9ba16cca-a137-415b-b775-ffab0ec54275",
        "part": "whole"
       },
       "id": "9ec596f6-0c61-4c6d-b020-a1f3e472068f"
      },
      "ca713815-4d4f-42be-bb43-99fb5340ff1f": {
       "attrs": {
        "height": 0.4,
        "width": 0.8,
        "x": 0.1,
        "y": 0.5
       },
       "content": {
        "cell": "45b8be81-7a1c-4213-b7d7-0faf9f0aa243",
        "part": "whole"
       },
       "id": "ca713815-4d4f-42be-bb43-99fb5340ff1f"
      },
      "f00ceeff-b9fb-43b0-8ce9-a9e2ce54045c": {
       "attrs": {
        "height": 0.4,
        "width": 0.8,
        "x": 0.1,
        "y": 0.5
       },
       "content": {
        "cell": "ac97676f-c418-41e8-bf4f-9627d4ee7e5d",
        "part": "whole"
       },
       "id": "f00ceeff-b9fb-43b0-8ce9-a9e2ce54045c"
      }
     }
    },
    "d8390490-4b1b-4628-adbd-7044abe079a5": {
     "id": "d8390490-4b1b-4628-adbd-7044abe079a5",
     "prev": "4fa7a99c-d411-468d-9d18-c02695acf029",
     "regions": {
      "9e48063f-d49a-4bb5-a1a0-7513c1e1584d": {
       "attrs": {
        "height": 0.8,
        "width": 0.8,
        "x": 0.1,
        "y": 0.1
       },
       "content": {
        "cell": "d38199e4-2c1a-42e9-8f34-7ee1179b213b",
        "part": "whole"
       },
       "id": "9e48063f-d49a-4bb5-a1a0-7513c1e1584d"
      }
     }
    },
    "e4aea40b-1ec0-4a00-8304-cad2fe166c97": {
     "id": "e4aea40b-1ec0-4a00-8304-cad2fe166c97",
     "prev": "f24c02e8-e50f-4e73-a8ac-61a4860c59a3",
     "regions": {
      "25933720-235b-4b25-abbe-4e22bd21e22f": {
       "attrs": {
        "height": 0.4,
        "width": 0.8,
        "x": 0.1,
        "y": 0.5
       },
       "content": {
        "cell": "967457ff-5caa-496f-ad94-09233fc8c21b",
        "part": "whole"
       },
       "id": "25933720-235b-4b25-abbe-4e22bd21e22f"
      },
      "ca598374-7f6e-4c89-a72a-052d80522570": {
       "attrs": {
        "height": 0.8,
        "width": 0.8,
        "x": 0.1,
        "y": 0.1
       },
       "content": {
        "cell": "c9c342db-8307-4eab-b09c-683d4f2fead1",
        "part": "whole"
       },
       "id": "ca598374-7f6e-4c89-a72a-052d80522570"
      },
      "cf087984-d0cd-4fa4-8d1d-1cb4703c84d9": {
       "attrs": {
        "height": 0.4,
        "width": 0.8,
        "x": 0.1,
        "y": 0.5
       },
       "content": {
        "cell": "c03103c1-ec00-4bee-8762-376549ca06b7",
        "part": "whole"
       },
       "id": "cf087984-d0cd-4fa4-8d1d-1cb4703c84d9"
      }
     }
    },
    "e4da3920-d859-42ae-a29c-fb37edfa2b8f": {
     "id": "e4da3920-d859-42ae-a29c-fb37edfa2b8f",
     "prev": "ce4398c0-b527-4ace-ba03-adceeda17af5",
     "regions": {
      "6f000d7e-cf38-4763-bf7b-26caabc8b156": {
       "attrs": {
        "height": 0.4,
        "width": 0.8,
        "x": 0.1,
        "y": 0.5
       },
       "content": {
        "cell": "01533542-9bef-4de8-95a3-65c79f278503",
        "part": "whole"
       },
       "id": "6f000d7e-cf38-4763-bf7b-26caabc8b156"
      },
      "9a6d30b4-ceb4-43df-a8ec-edb77b4bb265": {
       "attrs": {
        "height": 0.8,
        "width": 0.8,
        "x": 0.1,
        "y": 0.1
       },
       "content": {
        "cell": "04813f2b-0937-402a-a614-bf4d28f13c5e",
        "part": "whole"
       },
       "id": "9a6d30b4-ceb4-43df-a8ec-edb77b4bb265"
      }
     }
    },
    "ebc9c170-276f-4e0b-97d6-9343f3bc4663": {
     "id": "ebc9c170-276f-4e0b-97d6-9343f3bc4663",
     "prev": "b54c74fa-ff72-4fd0-850c-0eb99ae95add",
     "regions": {
      "356599de-77da-47ec-8964-5c092c26d395": {
       "attrs": {
        "height": 0.4,
        "width": 0.8,
        "x": 0.1,
        "y": 0.5
       },
       "content": {
        "cell": "90ae2d30-b38f-471f-9afa-1aa415764010",
        "part": "whole"
       },
       "id": "356599de-77da-47ec-8964-5c092c26d395"
      },
      "da4678e8-b739-4d50-aeab-4296aba981ff": {
       "attrs": {
        "height": 0.8,
        "width": 0.8,
        "x": 0.1,
        "y": 0.1
       },
       "content": {
        "cell": "1dbdd223-1d3b-4a49-82f2-f67bb8ae073c",
        "part": "whole"
       },
       "id": "da4678e8-b739-4d50-aeab-4296aba981ff"
      }
     }
    },
    "f0aac7de-07c7-4873-ae48-562245767932": {
     "id": "f0aac7de-07c7-4873-ae48-562245767932",
     "prev": "ab5a3569-5c38-44cb-ab18-1dfe45597f7d",
     "regions": {
      "1ec4fd1e-c6b2-48e8-aec8-c2c7fccbbd40": {
       "attrs": {
        "height": 0.4,
        "width": 0.8,
        "x": 0.1,
        "y": 0.5
       },
       "content": {
        "cell": "6d54c002-33dd-4e41-8736-6c0814ecbac6",
        "part": "whole"
       },
       "id": "1ec4fd1e-c6b2-48e8-aec8-c2c7fccbbd40"
      },
      "5ec1a3a0-5f05-4093-b153-56350bffa8d5": {
       "attrs": {
        "height": 0.4,
        "width": 0.8,
        "x": 0.1,
        "y": 0.5
       },
       "content": {
        "cell": "0b1564d5-30a0-44c2-8964-eb9cc55175dc",
        "part": "whole"
       },
       "id": "5ec1a3a0-5f05-4093-b153-56350bffa8d5"
      },
      "7df6268c-109f-4639-8ff5-5b625559fbe2": {
       "attrs": {
        "height": 0.4,
        "width": 0.8,
        "x": 0.1,
        "y": 0.5
       },
       "content": {
        "cell": "429f2ae9-ce6b-496b-84de-4c71c3ccf8ab",
        "part": "whole"
       },
       "id": "7df6268c-109f-4639-8ff5-5b625559fbe2"
      },
      "cae8500e-2865-4fa9-a4ce-f73284973e28": {
       "attrs": {
        "height": 0.8,
        "width": 0.8,
        "x": 0.1,
        "y": 0.1
       },
       "content": {
        "cell": "b95b0d81-699b-4763-87cd-b633510cce36",
        "part": "whole"
       },
       "id": "cae8500e-2865-4fa9-a4ce-f73284973e28"
      },
      "f52e4370-2655-450d-8ac6-9e4b1ec18400": {
       "attrs": {
        "height": 0.4,
        "width": 0.8,
        "x": 0.1,
        "y": 0.5
       },
       "content": {
        "cell": "c1aa3c34-b38d-4a16-92c2-9747f765a3f3",
        "part": "whole"
       },
       "id": "f52e4370-2655-450d-8ac6-9e4b1ec18400"
      }
     }
    },
    "f24c02e8-e50f-4e73-a8ac-61a4860c59a3": {
     "id": "f24c02e8-e50f-4e73-a8ac-61a4860c59a3",
     "prev": "ebc9c170-276f-4e0b-97d6-9343f3bc4663",
     "regions": {
      "75c2fce2-b41b-4457-93fc-fe14e2768f70": {
       "attrs": {
        "height": 0.4,
        "width": 0.8,
        "x": 0.1,
        "y": 0.5
       },
       "content": {
        "cell": "a198bced-05d1-4327-91e0-c95dd348a0a0",
        "part": "whole"
       },
       "id": "75c2fce2-b41b-4457-93fc-fe14e2768f70"
      },
      "ab8c7cab-1e2e-4cbc-9e03-bd1ae27c62cf": {
       "attrs": {
        "height": 0.8,
        "width": 0.8,
        "x": 0.1,
        "y": 0.1
       },
       "content": {
        "cell": "3a9e0949-a401-4ee8-bb11-379f0348bb74",
        "part": "whole"
       },
       "id": "ab8c7cab-1e2e-4cbc-9e03-bd1ae27c62cf"
      }
     }
    }
   },
   "themes": {}
  }
 },
 "nbformat": 4,
 "nbformat_minor": 0
}
