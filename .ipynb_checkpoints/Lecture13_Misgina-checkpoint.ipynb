{
 "cells": [
  {
   "cell_type": "markdown",
   "metadata": {},
   "source": [
    "# De-recursion"
   ]
  },
  {
   "cell_type": "markdown",
   "metadata": {},
   "source": [
    "Many times, recursion gives us a clean way to __think__ about problems and __solve__ them."
   ]
  },
  {
   "cell_type": "markdown",
   "metadata": {},
   "source": [
    "But a recursive program is often __slower__ than non recursive version."
   ]
  },
  {
   "cell_type": "markdown",
   "metadata": {},
   "source": [
    "So sometimes, after finding a recursive solution, we want to transform it to a non recursive solution."
   ]
  },
  {
   "cell_type": "markdown",
   "metadata": {},
   "source": [
    "Understanding how the non recursive function also helps us understand the recursive version better."
   ]
  },
  {
   "cell_type": "markdown",
   "metadata": {},
   "source": [
    "## Example: Binary Search "
   ]
  },
  {
   "cell_type": "markdown",
   "metadata": {},
   "source": [
    "Recall the recursive code for binary search:"
   ]
  },
  {
   "cell_type": "code",
   "execution_count": 21,
   "metadata": {
    "collapsed": false
   },
   "outputs": [
    {
     "data": {
      "text/plain": [
       "'\\nThis is a version of binary search using recursion.\\n'"
      ]
     },
     "execution_count": 21,
     "metadata": {},
     "output_type": "execute_result"
    }
   ],
   "source": [
    "def bin_search(L,item):\n",
    "    n = len(L)\n",
    "    if n==0:\n",
    "        return -1\n",
    "    m = int(n/2)\n",
    "    if L[m]==item:\n",
    "        return m\n",
    "    if L[m]>item:\n",
    "        return bin_search(L[:m],item)\n",
    "    res = bin_search(L[m+1:n],item)\n",
    "    return -1 if res==-1 else m+1+res\n",
    "\n",
    "\"\"\"\n",
    "This is a version of binary search using recursion.\n",
    "\"\"\""
   ]
  },
  {
   "cell_type": "markdown",
   "metadata": {},
   "source": [
    "To make it non recursive we will do the following:"
   ]
  },
  {
   "cell_type": "code",
   "execution_count": 22,
   "metadata": {
    "collapsed": false
   },
   "outputs": [
    {
     "data": {
      "text/plain": [
       "'\\nThis is the same binary search idea, but using a while loop instead of recursion.\\nSometimes just changing recursion to a loop makes the code run a bit faster.\\n'"
      ]
     },
     "execution_count": 22,
     "metadata": {},
     "output_type": "execute_result"
    }
   ],
   "source": [
    "def bin_search_nr(L,item):\n",
    "    left = 0\n",
    "    right= len(L)\n",
    "    while right-left >0:\n",
    "        m = int((left+right)/2)\n",
    "        if L[m]==item:\n",
    "            return m\n",
    "        if L[m]>item:\n",
    "            right = m\n",
    "        else:\n",
    "            left  = m+1\n",
    "    return -1\n",
    "\n",
    "\"\"\"\n",
    "This is the same binary search idea, but using a while loop instead of recursion.\n",
    "Sometimes just changing recursion to a loop makes the code run a bit faster.\n",
    "\"\"\""
   ]
  },
  {
   "cell_type": "code",
   "execution_count": 23,
   "metadata": {
    "collapsed": true
   },
   "outputs": [],
   "source": [
    "L = range(0,200,2)"
   ]
  },
  {
   "cell_type": "code",
   "execution_count": 24,
   "metadata": {
    "collapsed": false
   },
   "outputs": [
    {
     "data": {
      "text/plain": [
       "50"
      ]
     },
     "execution_count": 24,
     "metadata": {},
     "output_type": "execute_result"
    }
   ],
   "source": [
    "bin_search_nr(L,100)"
   ]
  },
  {
   "cell_type": "code",
   "execution_count": 25,
   "metadata": {
    "collapsed": false
   },
   "outputs": [
    {
     "data": {
      "text/plain": [
       "-1"
      ]
     },
     "execution_count": 25,
     "metadata": {},
     "output_type": "execute_result"
    }
   ],
   "source": [
    "bin_search_nr(L,101)"
   ]
  },
  {
   "cell_type": "markdown",
   "metadata": {},
   "source": [
    "## Example 2: Selection sort"
   ]
  },
  {
   "cell_type": "code",
   "execution_count": 26,
   "metadata": {
    "collapsed": false
   },
   "outputs": [
    {
     "data": {
      "text/plain": [
       "'\\nLet me give you another example: selection sort.\\n'"
      ]
     },
     "execution_count": 26,
     "metadata": {},
     "output_type": "execute_result"
    }
   ],
   "source": [
    "def find_min_index(L):\n",
    "    current_index = 0\n",
    "    current_min = L[0]\n",
    "    for j in range(1,len(L)):\n",
    "        if current_min > L[j]:\n",
    "            current_min = L[j]\n",
    "            current_index = j\n",
    "    return current_index\n",
    "\n",
    "\"\"\"\n",
    "Let me give you another example: selection sort.\n",
    "\"\"\""
   ]
  },
  {
   "cell_type": "code",
   "execution_count": 27,
   "metadata": {
    "collapsed": true
   },
   "outputs": [],
   "source": [
    "def selection_sort(L):\n",
    "    if len(L)<=1:   \n",
    "        return L # a one-element list is always sorted\n",
    "    min_idx = find_min_index(L) #non-recursive helper function\n",
    "    L[0], L[min_idx] = L[min_idx], L[0] \n",
    "    return [L[0]] + selection_sort(L[1:len(L)])"
   ]
  },
  {
   "cell_type": "code",
   "execution_count": 28,
   "metadata": {
    "collapsed": false
   },
   "outputs": [
    {
     "data": {
      "text/plain": [
       "'\\nThis is the non recursive version of selection sort. In the ith iteration of the for loop, it finds the\\nminimum value from L[i:] and swaps it to the front, then continues on the rest. Just like the recursive version.\\n'"
      ]
     },
     "execution_count": 28,
     "metadata": {},
     "output_type": "execute_result"
    }
   ],
   "source": [
    "def selection_sort_nr(L):\n",
    "    for i in range(len(L)):\n",
    "        min_idx = i+find_min_index(L[i:])\n",
    "        L[i], L[min_idx] = L[min_idx], L[i]\n",
    "    return L\n",
    "\n",
    "\"\"\"\n",
    "This is the non recursive version of selection sort. In the ith iteration of the for loop, it finds the\n",
    "minimum value from L[i:] and swaps it to the front, then continues on the rest. Just like the recursive version.\n",
    "\"\"\""
   ]
  },
  {
   "cell_type": "code",
   "execution_count": 29,
   "metadata": {
    "collapsed": false
   },
   "outputs": [
    {
     "data": {
      "text/plain": [
       "[1, 1, 2, 3, 4, 5, 9]"
      ]
     },
     "execution_count": 29,
     "metadata": {},
     "output_type": "execute_result"
    }
   ],
   "source": [
    "selection_sort_nr([3,1,4,1,5,9,2])"
   ]
  },
  {
   "cell_type": "markdown",
   "metadata": {},
   "source": [
    "## Example 3: Merge sort"
   ]
  },
  {
   "cell_type": "code",
   "execution_count": 30,
   "metadata": {
    "collapsed": true
   },
   "outputs": [],
   "source": [
    "def merge_lists(L1,L2):\n",
    "    i=0\n",
    "    j=0\n",
    "    res = []\n",
    "    while i<len(L1) and j<len(L2):\n",
    "        if L1[i] < L2[j]:\n",
    "            res.append(L1[i])\n",
    "            i += 1\n",
    "        else:\n",
    "            res.append(L2[j])\n",
    "            j += 1\n",
    "    res += L1[i:]+L2[j:]\n",
    "    return res"
   ]
  },
  {
   "cell_type": "code",
   "execution_count": 31,
   "metadata": {
    "collapsed": false
   },
   "outputs": [
    {
     "data": {
      "text/plain": [
       "'\\nThis is the recursive version. It breaks the lists into two halves L1 and L2. Then it recursively sorts L1 and L2,\\nthen merges them together.\\n'"
      ]
     },
     "execution_count": 31,
     "metadata": {},
     "output_type": "execute_result"
    }
   ],
   "source": [
    "def merge_sort(L):\n",
    "    if len(L) <= 1:\n",
    "        return L\n",
    "    m = int(len(L)/2)\n",
    "    L1 = merge_sort(L[0:m])\n",
    "    L2 = merge_sort(L[m:])\n",
    "    return merge_lists(L1,L2)\n",
    "\n",
    "\"\"\"\n",
    "This is the recursive version. It breaks the lists into two halves L1 and L2. Then it recursively sorts L1 and L2,\n",
    "then merges them together.\n",
    "\"\"\""
   ]
  },
  {
   "cell_type": "code",
   "execution_count": 32,
   "metadata": {
    "collapsed": false
   },
   "outputs": [
    {
     "data": {
      "text/plain": [
       "[1, 1, 2, 3, 4, 5, 9]"
      ]
     },
     "execution_count": 32,
     "metadata": {},
     "output_type": "execute_result"
    }
   ],
   "source": [
    "merge_sort([3,1,4,1,5,9,2])"
   ]
  },
  {
   "cell_type": "code",
   "execution_count": 33,
   "metadata": {
    "collapsed": false
   },
   "outputs": [
    {
     "data": {
      "text/plain": [
       "'\\nThis is the non recursive version of merge_sort. It first chops L into n lists, each of size 1. Then, it goes\\nover each pair in the list L, then merges them.\\n\\nSo for example, first maybe you have L = [8, 7, 6, 5, 4, 3, 2, 1]\\nThen lists becomes [[8], [7], [6], [5], [4], [3], [2], [1]]\\n\\nThen you merge pairs\\n\\n[[7,8], [5,6], [3,4], [1,2]]\\n\\nthen you do it again\\n\\n[[5,6,7,8], [1,2,3,4]]\\n\\nthen one last time\\n\\n[[1,2,3,4,5,6,7,8]]\\n\\nThen you return lists[0], which is [1,2,3,4,5,6,7,8]\\n'"
      ]
     },
     "execution_count": 33,
     "metadata": {},
     "output_type": "execute_result"
    }
   ],
   "source": [
    "def merge_sort_nr(L):\n",
    "    lists = [ [x] for x in L]\n",
    "    while len(lists)>1:\n",
    "        new_lists = []\n",
    "        if len(lists) % 2:\n",
    "            lists.append([])\n",
    "        for i in range(0,len(lists)-1,2):\n",
    "            new_lists.append(merge_lists(lists[i],lists[i+1]))\n",
    "        lists = new_lists\n",
    "    return lists[0]\n",
    "\n",
    "\"\"\"\n",
    "This is the non recursive version of merge_sort. It first chops L into n lists, each of size 1. Then, it goes\n",
    "over each pair in the list L, then merges them.\n",
    "\n",
    "So for example, first maybe you have L = [8, 7, 6, 5, 4, 3, 2, 1]\n",
    "Then lists becomes [[8], [7], [6], [5], [4], [3], [2], [1]]\n",
    "\n",
    "Then you merge pairs\n",
    "\n",
    "[[7,8], [5,6], [3,4], [1,2]]\n",
    "\n",
    "then you do it again\n",
    "\n",
    "[[5,6,7,8], [1,2,3,4]]\n",
    "\n",
    "then one last time\n",
    "\n",
    "[[1,2,3,4,5,6,7,8]]\n",
    "\n",
    "Then you return lists[0], which is [1,2,3,4,5,6,7,8]\n",
    "\"\"\""
   ]
  },
  {
   "cell_type": "code",
   "execution_count": 34,
   "metadata": {
    "collapsed": false
   },
   "outputs": [
    {
     "data": {
      "text/plain": [
       "[1, 1, 2, 3, 4, 5, 9]"
      ]
     },
     "execution_count": 34,
     "metadata": {},
     "output_type": "execute_result"
    }
   ],
   "source": [
    "merge_sort_nr([3,1,4,1,5,9,2])"
   ]
  },
  {
   "cell_type": "markdown",
   "metadata": {},
   "source": [
    "# Graphs"
   ]
  },
  {
   "cell_type": "markdown",
   "metadata": {},
   "source": [
    "Often in computation we have __data__ from the world, and a __question__ we want to answer about these data."
   ]
  },
  {
   "cell_type": "markdown",
   "metadata": {},
   "source": [
    "To do so, we need to find a __model__ for the data, and a way to translate our question into a __mathemtical question about the model__"
   ]
  },
  {
   "cell_type": "markdown",
   "metadata": {},
   "source": [
    "Here are some examples:\n",
    "\n",
    "* Suppose you have a map of Addis Ababa and want to find out what's the fastest way to get from the national museum to the market.\n",
    "\n",
    "* Suppose you are Facebook and you are trying to figure out how many friends of friends does the average Ethiopean has.\n",
    "\n",
    "* Suppose you are a geneticist, and are trying to figure out which genes are related to a particular type of colon cancer.\n",
    "\n"
   ]
  },
  {
   "cell_type": "markdown",
   "metadata": {},
   "source": [
    "![title](addis_map.jpg)"
   ]
  },
  {
   "cell_type": "markdown",
   "metadata": {},
   "source": [
    "What is perhaps most surprising is that these and any many other questions, all use the same mathematical model of a __graph__ "
   ]
  },
  {
   "cell_type": "markdown",
   "metadata": {},
   "source": [
    "A __graph__ is just a way to store __connections__ between pairs of entities:\n",
    "\n",
    "* The graph of Addis's roads could be composed of all street intersections, with a connection between intersection $u$ and intersection $v$ if they are directly connected by a road.\n",
    "\n",
    "* The Facebook graphs is composed of all Facebook users, with a connection between user $u$ and user $v$ if they are friends.\n",
    "\n",
    "* The gene-symptom interaction graph is composed of all genes and all \"symptoms\" (also known as phenotypes: some observable differences in people), where gene $u$ is connected to symptom $v$ if there is a correlation between people having the gene $u$ and symptom $v$. "
   ]
  },
  {
   "cell_type": "markdown",
   "metadata": {},
   "source": [
    "Mathematically, a graph is a set $V$ of __vertices__ and a set $E$ of pairs of these vertices which is known as the set of __edges__. We say that a vertex $u\\in V$ is connected to $v\\in V$ if the pair $(u,v)$ is in $E$."
   ]
  },
  {
   "cell_type": "markdown",
   "metadata": {},
   "source": [
    "A graph where $(u,v)\\in E$ if and only if $(v,u)\\in E$ is known as an __undirected__ graphs. Undirected graphs form an important special case, and we will mostly be interested in those graphs. "
   ]
  },
  {
   "cell_type": "markdown",
   "metadata": {},
   "source": [
    "Sometimes the edges (or vertices) of the graph are __labeled__ (often by a number), for example in the case of the road network, we might label every road segment with the average time it takes to travel from one end to the other."
   ]
  },
  {
   "cell_type": "markdown",
   "metadata": {},
   "source": [
    "There are two main representations for graphs. We can always assume the vertices are simply identified by the numbers $1$ to $n$ for some $n$. \n",
    "\n",
    "The __adjacency list representation__ is an array $L$ where $L[i]$ is the list of all neighbors of the vertex $i$ (i.e., all $j$ such that $(i,j)\\in E$)\n",
    "\n",
    "The __adjacency matrix representation__ is an $n\\times n$ two-dimensional array $M$ (i.e., matrix) such that $M[i][j]$ equals $1$ if $j$ is a neighbor of $i$ and equals $0$ otherwise."
   ]
  },
  {
   "cell_type": "code",
   "execution_count": 35,
   "metadata": {
    "collapsed": false
   },
   "outputs": [
    {
     "data": {
      "text/plain": [
       "\"\\nFor example, if the graph is users on Facebook, then n is the number of people who use Facebook in the world.\\n\\nIn adjacency list representation, L is a list of length n. For a user i, L[i] is a list of all the friends of user\\nnumber i.\\n\\nIn adjacency matrix representation, L is a list of length n. Also L[i] for each is again a list of length n.\\nL[i][j] will be True if i and j have an edge between them, otherwise L[i][j] is False.\\n\\nHow big is the adjacency list representation? If there are n vertices and m edges, the total size is about 2m.\\nThat's because there are n lists, one for each vertex, and each edge (i,j) appears only twice: once in L[i], and\\nonce more in L[j].\\n\\nThe adjacency matrix representation has size n^2, because it's a list of n lists, and each list has size n.\\n\""
      ]
     },
     "execution_count": 35,
     "metadata": {},
     "output_type": "execute_result"
    }
   ],
   "source": [
    "\"\"\"\n",
    "For example, if the graph is users on Facebook, then n is the number of people who use Facebook in the world.\n",
    "\n",
    "In adjacency list representation, L is a list of length n. For a user i, L[i] is a list of all the friends of user\n",
    "number i.\n",
    "\n",
    "In adjacency matrix representation, L is a list of length n. Also L[i] for each is again a list of length n.\n",
    "L[i][j] will be True if i and j have an edge between them, otherwise L[i][j] is False.\n",
    "\n",
    "How big is the adjacency list representation? If there are n vertices and m edges, the total size is about 2m.\n",
    "That's because there are n lists, one for each vertex, and each edge (i,j) appears only twice: once in L[i], and\n",
    "once more in L[j].\n",
    "\n",
    "The adjacency matrix representation has size n^2, because it's a list of n lists, and each list has size n.\n",
    "\"\"\""
   ]
  },
  {
   "cell_type": "markdown",
   "metadata": {},
   "source": [
    "### Questions"
   ]
  },
  {
   "cell_type": "markdown",
   "metadata": {},
   "source": [
    "* If a graph has $n$ vertices and $m$ edges - how big is its adjacency list representation? how big  is its adjacency matrix representation?"
   ]
  },
  {
   "cell_type": "markdown",
   "metadata": {},
   "source": [
    "* Given a graph $G$ on $n$ vertices and two vertices $i,j$, how long can it take us (in the worst case) to find out if $j$ is a neighbor of $i$ when $G$ is represented in the adjacenecy list form? How long will it take in the adjacenecy matrix form?"
   ]
  },
  {
   "cell_type": "markdown",
   "metadata": {},
   "source": [
    "### Examples:"
   ]
  },
  {
   "cell_type": "code",
   "execution_count": 36,
   "metadata": {
    "collapsed": false
   },
   "outputs": [],
   "source": [
    "G = [[1],[2],[3],[0]]"
   ]
  },
  {
   "cell_type": "code",
   "execution_count": 49,
   "metadata": {
    "collapsed": true
   },
   "outputs": [],
   "source": [
    "import networkx as nx\n",
    "import random\n",
    "import sys\n",
    "import matplotlib\n",
    "import numpy as np\n",
    "import matplotlib.pyplot as plt\n",
    "def list_to_graph(L):\n",
    "    # print \"L=\",L\n",
    "    G=nx.Graph()\n",
    "    for i in range(len(L)):\n",
    "        G.add_node(i)\n",
    "        # print \"i,L[i]\",i,L[i]\n",
    "        for j in L[i]:\n",
    "            G.add_edge(i,j)\n",
    "    return G\n",
    "def grid_layout(G):\n",
    "    \"\"\"Takes nx.Graph object which we assume is a two dimensional grid and\n",
    "       returns a layout for it.\n",
    "    \"\"\"\n",
    "    n = nx.number_of_nodes(G)\n",
    "    k = int(math.floor(math.sqrt(n)))\n",
    "    _dict = {}\n",
    "    for i in range(k):\n",
    "        for j in range(k):\n",
    "            _dict[k*i+j] = nxpos(float(i)/float(k),float(j)/float(k))\n",
    "    t = n-k*k\n",
    "    for u in range(t):\n",
    "        _dict[k*k+u]=nxpos(1,float(u)/float(t))\n",
    "    return _dict\n",
    "def spring100_layout(G):\n",
    "        return nx.spring_layout(G,iterations=100)   \n",
    "def choose_layout_method(my_layout_method):\n",
    "    L = [nx.shell_layout\n",
    "         , spring100_layout, nx.spectral_layout]\n",
    "    S = [grid_layout] # special methods - only chosen if selected by name\n",
    "    M = [f for f in L+S if f.__name__ == my_layout_method]\n",
    "    return (M[0] if M else random.choice(L))\n",
    "def draw_graph(G, my_layout_method=None):\n",
    "    if not isinstance(G,nx.Graph):\n",
    "        G = list_to_graph(G)\n",
    "    f = choose_layout_method(my_layout_method)    \n",
    "    print f.__name__\n",
    "    nx.draw(G,pos=f(G))\n",
    "    # plt.savefig(\"simple_path.png\") # save as png\n",
    "    plt.show() "
   ]
  },
  {
   "cell_type": "code",
   "execution_count": 50,
   "metadata": {
    "collapsed": false,
    "scrolled": true
   },
   "outputs": [
    {
     "name": "stdout",
     "output_type": "stream",
     "text": [
      "spring100_layout\n"
     ]
    },
    {
     "data": {
      "text/plain": [
       "'\\nA graph is just a set of \"vertices\" and a set of \"edges\". The vertices are the red circles. The edges are the lines\\nthat connect them.\\n\\nFor example, maybe in Facebook, each person is a vertex. An edge means that the two people are friends on Facebook.\\n\\nOr, there can be a map. Each vertex is an intersection. Two intersections are connected if there is a road that goes\\nbetween them.\\n'"
      ]
     },
     "execution_count": 50,
     "metadata": {},
     "output_type": "execute_result"
    }
   ],
   "source": [
    "draw_graph(G)\n",
    "\n",
    "\"\"\"\n",
    "A graph is just a set of \"vertices\" and a set of \"edges\". The vertices are the red circles. The edges are the lines\n",
    "that connect them.\n",
    "\n",
    "For example, maybe in Facebook, each person is a vertex. An edge means that the two people are friends on Facebook.\n",
    "\n",
    "Or, there can be a map. Each vertex is an intersection. Two intersections are connected if there is a road that goes\n",
    "between them.\n",
    "\"\"\""
   ]
  },
  {
   "cell_type": "code",
   "execution_count": 39,
   "metadata": {
    "collapsed": false
   },
   "outputs": [
    {
     "ename": "NameError",
     "evalue": "name 'draw_graph' is not defined",
     "output_type": "error",
     "traceback": [
      "\u001b[1;31m---------------------------------------------------------------------------\u001b[0m",
      "\u001b[1;31mNameError\u001b[0m                                 Traceback (most recent call last)",
      "\u001b[1;32m<ipython-input-39-64c0289eddfc>\u001b[0m in \u001b[0;36m<module>\u001b[1;34m()\u001b[0m\n\u001b[0;32m      1\u001b[0m \u001b[0mG\u001b[0m \u001b[1;33m=\u001b[0m \u001b[1;33m[\u001b[0m\u001b[1;33m[\u001b[0m\u001b[1;36m1\u001b[0m\u001b[1;33m,\u001b[0m\u001b[1;36m2\u001b[0m\u001b[1;33m,\u001b[0m\u001b[1;36m3\u001b[0m\u001b[1;33m,\u001b[0m\u001b[1;36m4\u001b[0m\u001b[1;33m,\u001b[0m\u001b[1;36m5\u001b[0m\u001b[1;33m,\u001b[0m\u001b[1;36m6\u001b[0m\u001b[1;33m]\u001b[0m\u001b[1;33m]\u001b[0m\u001b[1;33m\u001b[0m\u001b[0m\n\u001b[1;32m----> 2\u001b[1;33m \u001b[0mdraw_graph\u001b[0m\u001b[1;33m(\u001b[0m\u001b[0mG\u001b[0m\u001b[1;33m)\u001b[0m\u001b[1;33m\u001b[0m\u001b[0m\n\u001b[0m\u001b[0;32m      3\u001b[0m \"\"\"\n\u001b[0;32m      4\u001b[0m \u001b[0mHe\u001b[0m \u001b[1;32mis\u001b[0m \u001b[0musing\u001b[0m \u001b[0msome\u001b[0m \u001b[0mfunction\u001b[0m \u001b[0mdraw_graph\u001b[0m\u001b[1;33m,\u001b[0m \u001b[0mI\u001b[0m\u001b[0;31m'\u001b[0m\u001b[0mm\u001b[0m \u001b[1;32mnot\u001b[0m \u001b[0mexactly\u001b[0m \u001b[0msure\u001b[0m \u001b[0mhow\u001b[0m \u001b[0mit\u001b[0m \u001b[1;32mis\u001b[0m \u001b[0mimplemented\u001b[0m\u001b[1;33m.\u001b[0m \u001b[0mBut\u001b[0m \u001b[0mthere\u001b[0m \u001b[0mare\u001b[0m \u001b[0mmany\u001b[0m \u001b[0mways\u001b[0m \u001b[0mto\u001b[0m\u001b[1;33m\u001b[0m\u001b[0m\n\u001b[0;32m      5\u001b[0m \u001b[0mdraw\u001b[0m \u001b[0mthe\u001b[0m \u001b[0msame\u001b[0m \u001b[0mgraph\u001b[0m\u001b[1;33m.\u001b[0m \u001b[0mThe\u001b[0m \u001b[0monly\u001b[0m \u001b[0mthing\u001b[0m \u001b[0mthat\u001b[0m \u001b[0mmatters\u001b[0m \u001b[1;32mis\u001b[0m \u001b[0mwhat\u001b[0m \u001b[1;32mis\u001b[0m \u001b[0mconnected\u001b[0m \u001b[0mto\u001b[0m \u001b[0mwhat\u001b[0m\u001b[1;33m.\u001b[0m \u001b[0mThe\u001b[0m \u001b[0mlengths\u001b[0m \u001b[0mof\u001b[0m \u001b[0mthe\u001b[0m \u001b[0mlines\u001b[0m\u001b[1;33m,\u001b[0m \u001b[1;32mor\u001b[0m \u001b[0mhow\u001b[0m\u001b[1;33m\u001b[0m\u001b[0m\n",
      "\u001b[1;31mNameError\u001b[0m: name 'draw_graph' is not defined"
     ]
    }
   ],
   "source": [
    "G = [[1,2,3,4,5,6]]\n",
    "draw_graph(G)\n",
    "\"\"\"\n",
    "He is using some function draw_graph, I'm not exactly sure how it is implemented. But there are many ways to\n",
    "draw the same graph. The only thing that matters is what is connected to what. The lengths of the lines, or how\n",
    "they are rotated, doesn't matter.\n",
    "\"\"\""
   ]
  },
  {
   "cell_type": "code",
   "execution_count": 40,
   "metadata": {
    "collapsed": false,
    "scrolled": true
   },
   "outputs": [
    {
     "ename": "NameError",
     "evalue": "name 'draw_graph' is not defined",
     "output_type": "error",
     "traceback": [
      "\u001b[1;31m---------------------------------------------------------------------------\u001b[0m",
      "\u001b[1;31mNameError\u001b[0m                                 Traceback (most recent call last)",
      "\u001b[1;32m<ipython-input-40-a3f0252e8f8b>\u001b[0m in \u001b[0;36m<module>\u001b[1;34m()\u001b[0m\n\u001b[0;32m      1\u001b[0m \u001b[0mn\u001b[0m \u001b[1;33m=\u001b[0m \u001b[1;36m20\u001b[0m\u001b[1;33m\u001b[0m\u001b[0m\n\u001b[0;32m      2\u001b[0m \u001b[0mG\u001b[0m \u001b[1;33m=\u001b[0m \u001b[1;33m[\u001b[0m \u001b[1;33m[\u001b[0m\u001b[1;33m(\u001b[0m\u001b[0mi\u001b[0m\u001b[1;33m+\u001b[0m\u001b[1;36m1\u001b[0m\u001b[1;33m)\u001b[0m \u001b[1;33m%\u001b[0m \u001b[0mn\u001b[0m\u001b[1;33m]\u001b[0m \u001b[1;32mfor\u001b[0m \u001b[0mi\u001b[0m \u001b[1;32min\u001b[0m \u001b[0mrange\u001b[0m\u001b[1;33m(\u001b[0m\u001b[0mn\u001b[0m\u001b[1;33m)\u001b[0m \u001b[1;33m]\u001b[0m\u001b[1;33m\u001b[0m\u001b[0m\n\u001b[1;32m----> 3\u001b[1;33m \u001b[0mdraw_graph\u001b[0m\u001b[1;33m(\u001b[0m\u001b[0mG\u001b[0m\u001b[1;33m)\u001b[0m\u001b[1;33m\u001b[0m\u001b[0m\n\u001b[0m",
      "\u001b[1;31mNameError\u001b[0m: name 'draw_graph' is not defined"
     ]
    }
   ],
   "source": [
    "n = 20\n",
    "G = [ [(i+1) % n] for i in range(n) ]\n",
    "draw_graph(G)"
   ]
  },
  {
   "cell_type": "code",
   "execution_count": null,
   "metadata": {
    "collapsed": true
   },
   "outputs": [],
   "source": [
    "def grid_neighbors(i,j,n):\n",
    "    if i==n-1 and j== n-1: return []\n",
    "    if i==n-1:\n",
    "        return [i*n+j+1]\n",
    "    if j==n-1:\n",
    "        return [(i+1)*n+j]\n",
    "    return [n*i+((j+1) % n), n*((i+1) % n)+j] "
   ]
  },
  {
   "cell_type": "code",
   "execution_count": null,
   "metadata": {
    "collapsed": true
   },
   "outputs": [],
   "source": [
    "n = 5\n",
    "G = [ grid_neighbors(i,j,n) for i in range(n) for j in range(n)  ]"
   ]
  },
  {
   "cell_type": "code",
   "execution_count": null,
   "metadata": {
    "collapsed": false
   },
   "outputs": [],
   "source": [
    "draw_graph(G,'grid_layout')"
   ]
  },
  {
   "cell_type": "markdown",
   "metadata": {},
   "source": [
    "### Graph connectivity\n",
    "\n",
    "Given $i,j$ and a graph $G$: find out if $j$ is connected to $i$ (perhaps indirectly) in the graph"
   ]
  },
  {
   "cell_type": "markdown",
   "metadata": {},
   "source": [
    "Here is a natural suggestion for a recursive algorithm:\n",
    "\n",
    "$connected(i,j,G)$ is True if $i$ is a neighbor of $j$, and otherwise it is True if there is some neighbor $k$ of $i$ such that $k$ is connected to $j$. \n",
    "\n",
    "Let's code it up try to see what happens:"
   ]
  },
  {
   "cell_type": "code",
   "execution_count": null,
   "metadata": {
    "collapsed": false
   },
   "outputs": [],
   "source": [
    "def connected(i,j,G):\n",
    "    sys.stdout.write('.')\n",
    "    if j in G[i]: \n",
    "        return True\n",
    "    return any([connected(k,j,G) for k in G[i]])\n",
    "\n",
    "\"\"\"\n",
    "Now he is describing an algorithm that takes as input vertex i, vertex j, and graph G. Then the question is:\n",
    "is it possible to get from i to j in the graph G?\n",
    "\n",
    "So it should return True or False, depending on whether it is possible.\n",
    "\n",
    "Now he is trying to do this using recursion. If j is in L[i], then the answer is True. If not, then we can\n",
    "recursively check whether connected(L[i][k], j, G) is True for any k. The problem is, there's no base case here.\n",
    "So it's an infinite loop.\n",
    "\"\"\""
   ]
  },
  {
   "cell_type": "code",
   "execution_count": null,
   "metadata": {
    "collapsed": false
   },
   "outputs": [],
   "source": [
    "def undir(G):\n",
    "    n = max(max(G[i]) if G[i] else 0 for i in range(len(G)))\n",
    "    n = max(n+1,len(G))\n",
    "    _G = [[] for i in range(n)]\n",
    "    for i in range(len(G)): \n",
    "        for j in G[i]:\n",
    "            if not j in _G[i]:\n",
    "                _G[i].append(j)\n",
    "            if not i in _G[j]:\n",
    "                _G[j].append(i)\n",
    "    return _G"
   ]
  },
  {
   "cell_type": "code",
   "execution_count": null,
   "metadata": {
    "collapsed": false
   },
   "outputs": [],
   "source": [
    "G = [[1],[2],[3],[4],[]]\n",
    "draw_graph(G)"
   ]
  },
  {
   "cell_type": "code",
   "execution_count": null,
   "metadata": {
    "collapsed": false
   },
   "outputs": [],
   "source": [
    "G = undir(G)\n",
    "G"
   ]
  },
  {
   "cell_type": "code",
   "execution_count": null,
   "metadata": {
    "collapsed": false
   },
   "outputs": [],
   "source": [
    "connected(0,1,G)"
   ]
  },
  {
   "cell_type": "code",
   "execution_count": null,
   "metadata": {
    "collapsed": false
   },
   "outputs": [],
   "source": [
    "connected(0,2,G)"
   ]
  },
  {
   "cell_type": "code",
   "execution_count": null,
   "metadata": {
    "collapsed": false
   },
   "outputs": [],
   "source": [
    "connected(0,3,G)"
   ]
  },
  {
   "cell_type": "markdown",
   "metadata": {},
   "source": [
    "The problem is that we are getting into an infinite loop! \n",
    "We can fix this by remembering which vertices we visited."
   ]
  },
  {
   "cell_type": "code",
   "execution_count": null,
   "metadata": {
    "collapsed": true
   },
   "outputs": [],
   "source": [
    "def grid_input(n): # return a n by n grid with an isolated vertex\n",
    "    G = [ grid_neighbors(i,j,n) for i in range(n) for j in range(n)  ]\n",
    "    G.append([])\n",
    "    G = undir(G)\n",
    "    return (0,len(G)-1,G)"
   ]
  },
  {
   "cell_type": "code",
   "execution_count": null,
   "metadata": {
    "collapsed": true
   },
   "outputs": [],
   "source": [
    "def connected(source,target,G):\n",
    "    added = [False for i in range(len(G))]\n",
    "    added[source] = True\n",
    "    to_visit = [source] # to visit: list of vertices that are definitely connected to the source\n",
    "    while to_visit:\n",
    "        step_pc() # count how many times the while loop is executed\n",
    "        i = to_visit.pop()\n",
    "        if i==target:\n",
    "            return True\n",
    "        for j in G[i]:\n",
    "            if not added[j]:\n",
    "                added[j] = True\n",
    "                to_visit.append(j)\n",
    "    return False\n",
    "\n",
    "\"\"\"\n",
    "He is using an algorithm here called Breadth First Search. It doesn't use recursion, and it doesn't get into\n",
    "any infinite loops.\n",
    "\n",
    "It keeps track of a list of vertices that we should keep exploring. Here we are trying to figure out whether it\n",
    "is possible to get from vertex 'source' to vertex 'target' in the graph G. In that animation, we are showing how\n",
    "the graph is explored, starting from 'source'. Red vertex means we have already visited it. Green means we put it\n",
    "in line to be visited in the future. So, initially only the source is green. Then we visit it, so it becomes red.\n",
    "Then when we visit it, for each of its neighbors that we didn't see yet, we make it green so that we plan to visit\n",
    "it in the future.\n",
    "\"\"\"\n",
    "    "
   ]
  },
  {
   "cell_type": "code",
   "execution_count": null,
   "metadata": {
    "collapsed": false
   },
   "outputs": [],
   "source": [
    "G = undir([[1],[2],[0],[]])\n",
    "draw_graph(G)"
   ]
  },
  {
   "cell_type": "code",
   "execution_count": null,
   "metadata": {
    "collapsed": false
   },
   "outputs": [],
   "source": [
    "print connected(0,1,G) , connected(0,3,G)"
   ]
  },
  {
   "cell_type": "code",
   "execution_count": null,
   "metadata": {
    "collapsed": false
   },
   "outputs": [],
   "source": [
    "# running time of connectivity algorithm"
   ]
  },
  {
   "cell_type": "markdown",
   "metadata": {},
   "source": [
    "Let's see how the evolution of the algorithm looks on a typical graph:\n",
    "\n"
   ]
  },
  {
   "cell_type": "code",
   "execution_count": null,
   "metadata": {
    "collapsed": true
   },
   "outputs": [],
   "source": [
    "def connected_viz(source,target,G,layout_method=None):\n",
    "    initialize_animation(G,my_layout_method=layout_method)\n",
    "    visited = [False for i in range(len(G))]\n",
    "    to_visit = [source] # to visit: list of vertices that are definitely connected to the source\n",
    "    while to_visit:\n",
    "        step_pc() # count how many times the while loop is executed\n",
    "        i = to_visit.pop()\n",
    "        color(i,'r') # red: observed\n",
    "        if i==target:\n",
    "            return True\n",
    "        visited[i] = True\n",
    "        for j in G[i]:\n",
    "            if not visited[j]:\n",
    "                to_visit.append(j)\n",
    "                color(j,'g') # green: waiting to be visited\n",
    "    return False\n",
    "    "
   ]
  },
  {
   "cell_type": "code",
   "execution_count": null,
   "metadata": {
    "collapsed": false
   },
   "outputs": [],
   "source": [
    "(s,t,G) = grid_input(5)"
   ]
  },
  {
   "cell_type": "code",
   "execution_count": null,
   "metadata": {
    "collapsed": false
   },
   "outputs": [],
   "source": [
    "draw_graph(G,'grid_layout')"
   ]
  },
  {
   "cell_type": "code",
   "execution_count": null,
   "metadata": {
    "collapsed": false
   },
   "outputs": [],
   "source": [
    "connected_viz(s,t,G,'grid_layout')"
   ]
  },
  {
   "cell_type": "code",
   "execution_count": null,
   "metadata": {
    "collapsed": false,
    "scrolled": true
   },
   "outputs": [],
   "source": [
    "show_animation()"
   ]
  },
  {
   "cell_type": "markdown",
   "metadata": {
    "collapsed": true
   },
   "source": [
    "## LIFO vs FIFO\n"
   ]
  },
  {
   "cell_type": "code",
   "execution_count": null,
   "metadata": {
    "collapsed": false
   },
   "outputs": [],
   "source": [
    "def connected_FIFO(source,target,G):\n",
    "    added = [False for i in range(len(G))]\n",
    "    added[source] = True\n",
    "    to_visit = [source] # to visit: list of vertices that are definitely connected to the source\n",
    "    while to_visit:\n",
    "        i = to_visit.pop(0) # remove first element\n",
    "        if i==target:\n",
    "            return True\n",
    "        for j in G[i]:\n",
    "            if not added[j]:\n",
    "                added[j] = True\n",
    "                to_visit.append(j)\n",
    "    return False\n",
    "    "
   ]
  },
  {
   "cell_type": "code",
   "execution_count": null,
   "metadata": {
    "collapsed": true
   },
   "outputs": [],
   "source": [
    "def connected_FIFO_viz(source,target,G, layout_method = None):\n",
    "    initialize_animation(G,my_layout_method=layout_method)\n",
    "    added = [False for i in range(len(G))]\n",
    "    added[source] = True\n",
    "    to_visit = [source] # to visit: list of vertices that are definitely connected to the source\n",
    "    while to_visit:\n",
    "        step_pc() # count how many times the while loop is executed\n",
    "        i = to_visit.pop(0) # remove first element\n",
    "        color(i,'r') # red: observed\n",
    "        if i==target:\n",
    "            return True\n",
    "        for j in G[i]:\n",
    "            if not added[j]:\n",
    "                added[j] = True\n",
    "                to_visit.append(j)\n",
    "                color(j,'g') # green: added to queue\n",
    "    return False"
   ]
  },
  {
   "cell_type": "code",
   "execution_count": null,
   "metadata": {
    "collapsed": false
   },
   "outputs": [],
   "source": [
    "(s,t,G) = grid_input(5)\n",
    "connected_FIFO_viz(s,t,G,'grid_layout')\n",
    "show_animation()"
   ]
  },
  {
   "cell_type": "markdown",
   "metadata": {},
   "source": [
    "The function ```connected``` is known as __depth first search__ and ```connected_FIFO``` is known as __breadth first search__"
   ]
  },
  {
   "cell_type": "markdown",
   "metadata": {},
   "source": [
    "# Wrapping up"
   ]
  },
  {
   "cell_type": "markdown",
   "metadata": {},
   "source": [
    "This week you actually managed to do some pretty impressive work - __congratulations__ "
   ]
  },
  {
   "cell_type": "markdown",
   "metadata": {},
   "source": [
    "What I hope you learned:\n",
    "\n",
    "* Coding is about __understanding what problem you need to solve__ then  __breaking it into smaller problems__\n",
    "\n",
    "* This is not about typing or computers but about __thinking__, just like math.\n",
    "\n",
    "My main hope:\n",
    "\n",
    "* This got you excited about learning more about computer science."
   ]
  },
  {
   "cell_type": "markdown",
   "metadata": {},
   "source": [
    "## Ask me anything.\n",
    "\n",
    "* About computer science\n",
    "* About Harvard\n",
    "* About studying in the u.s.\n",
    "* Anything else"
   ]
  },
  {
   "cell_type": "markdown",
   "metadata": {},
   "source": [
    "# Thank you for a great week!!\n",
    "\n",
    "You are always welcome to contact me:\n",
    "\n",
    "Email: ```b@boazbarak.org```\n",
    "\n",
    "Web page: ```http://www.boazbarak.org```"
   ]
  },
  {
   "cell_type": "code",
   "execution_count": null,
   "metadata": {
    "collapsed": true
   },
   "outputs": [],
   "source": []
  },
  {
   "cell_type": "code",
   "execution_count": null,
   "metadata": {
    "collapsed": true
   },
   "outputs": [],
   "source": []
  }
 ],
 "metadata": {
  "anaconda-cloud": {},
  "kernelspec": {
   "display_name": "Python [Root]",
   "language": "python",
   "name": "Python [Root]"
  },
  "language_info": {
   "codemirror_mode": {
    "name": "ipython",
    "version": 2
   },
   "file_extension": ".py",
   "mimetype": "text/x-python",
   "name": "python",
   "nbconvert_exporter": "python",
   "pygments_lexer": "ipython2",
   "version": "2.7.12"
  }
 },
 "nbformat": 4,
 "nbformat_minor": 0
}
