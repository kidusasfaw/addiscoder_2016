{
 "cells": [
  {
   "cell_type": "markdown",
   "metadata": {},
   "source": [
    "# Sorting\n",
    "In the lab works you've seen how to sort any list. \n",
    "One way to write this sorting function is as follows:"
   ]
  },
  {
   "cell_type": "code",
   "execution_count": 2,
   "metadata": {
    "collapsed": false
   },
   "outputs": [],
   "source": [
    "def find_min_index(L):\n",
    "    current_index = 0\n",
    "    current_min = L[0]\n",
    "    for j in range(1,len(L)):\n",
    "        if current_min > L[j]:\n",
    "            current_min = L[j]\n",
    "            current_index = j\n",
    "    return current_index"
   ]
  },
  {
   "cell_type": "code",
   "execution_count": 3,
   "metadata": {
    "collapsed": true
   },
   "outputs": [],
   "source": [
    "def sort(L):\n",
    "    if len(L)<=1:\n",
    "        return L # a one-element list is always sorted\n",
    "    min_idx = find_min_index(L)\n",
    "    \n",
    "    L[0], L[min_idx] = L[min_idx], L[0] \n",
    "    # switch minimum element to first location\n",
    "    \n",
    "    return [L[0]] + sort(L[1:len(L)])"
   ]
  },
  {
   "cell_type": "code",
   "execution_count": 4,
   "metadata": {
    "collapsed": false
   },
   "outputs": [
    {
     "data": {
      "text/plain": [
       "[1, 1, 2, 3, 4, 5, 9]"
      ]
     },
     "execution_count": 4,
     "metadata": {},
     "output_type": "execute_result"
    }
   ],
   "source": [
    "sort([3,1,4,1,5,9,2])"
   ]
  },
  {
   "cell_type": "code",
   "execution_count": 24,
   "metadata": {
    "collapsed": false
   },
   "outputs": [
    {
     "name": "stdout",
     "output_type": "stream",
     "text": [
      "............................................................plot_steps: True\n",
      "0.161 micro-seconds per step\n",
      "(array([2], dtype=int64),)\n",
      "Curve (steps): $0.4n^2$\n"
     ]
    },
    {
     "data": {
      "image/png": "[encoded data removed]",
      "text/plain": [
       "<matplotlib.figure.Figure at 0x7fdbdd8>"
      ]
     },
     "metadata": {},
     "output_type": "display_data"
    }
   ],
   "source": [
    "# running time of our sort() function on inputs from size 0 to 3000"
   ]
  },
  {
   "cell_type": "markdown",
   "metadata": {},
   "source": [
    "What is the shape of this curve? Have you seen it before?"
   ]
  },
  {
   "cell_type": "markdown",
   "metadata": {},
   "source": [
    "It turns out that for sorting a list of $n$ elements, our algorithm will take about $10^{-7}n^2$ seconds."
   ]
  },
  {
   "cell_type": "markdown",
   "metadata": {},
   "source": [
    "Facebook has $1,000,000,000 = 10^9$ users.\n",
    "If they wanted to sort the list of their users using this algorithm it will take them  about \n",
    "$10^{-7}(10^9)^2 = 10^{-7}10^{18}= 10^{11}$ seconds."
   ]
  },
  {
   "cell_type": "code",
   "execution_count": 7,
   "metadata": {
    "collapsed": false
   },
   "outputs": [
    {
     "name": "stdout",
     "output_type": "stream",
     "text": [
      "3170  years!\n"
     ]
    }
   ],
   "source": [
    "print (10**11 / (60*60*24*365)), \" years!\""
   ]
  },
  {
   "cell_type": "markdown",
   "metadata": {},
   "source": [
    "The problem is that when $n$ becomes big, $n^2$ becomes much bigger."
   ]
  },
  {
   "cell_type": "markdown",
   "metadata": {},
   "source": [
    "If we had an algorithm that runs in $10^{-7}n$ seconds, then we could sort Facebook's users in $0.01$ seconds.\n",
    "Even an algorithm that runs in time $10^{-2}n$ would take less than twenty minutes to do it. "
   ]
  },
  {
   "cell_type": "markdown",
   "metadata": {},
   "source": [
    "We see that the effect of $n$ vs. $n^2$ is much more important than the effect of the constant."
   ]
  },
  {
   "cell_type": "markdown",
   "metadata": {
    "collapsed": true
   },
   "source": [
    "Where does the $n^2$ come from?"
   ]
  },
  {
   "cell_type": "code",
   "execution_count": 9,
   "metadata": {
    "collapsed": false
   },
   "outputs": [],
   "source": [
    "def find_min_index(L):\n",
    "    current_index = 0\n",
    "    current_min = L[0]\n",
    "    for j in range(1,len(L)):\n",
    "        sys.stdout.write('*')\n",
    "        if current_min > L[j]:\n",
    "            current_min = L[j]\n",
    "            current_index = j\n",
    "    return current_index"
   ]
  },
  {
   "cell_type": "code",
   "execution_count": 10,
   "metadata": {
    "collapsed": true
   },
   "outputs": [],
   "source": [
    "def sort(L):\n",
    "    if len(L)<=1:\n",
    "        return L # a one-element list is always sorted\n",
    "    min_idx = find_min_index(L)\n",
    "    print \"\"\n",
    "    L[0], L[min_idx] = L[min_idx], L[0] \n",
    "    # switch minimum element to first location\n",
    "    \n",
    "    return [L[0]] + sort(L[1:len(L)])"
   ]
  },
  {
   "cell_type": "code",
   "execution_count": 11,
   "metadata": {
    "collapsed": false
   },
   "outputs": [
    {
     "name": "stdout",
     "output_type": "stream",
     "text": [
      "*********\n",
      "********\n",
      "*******\n",
      "******\n",
      "*****\n",
      "****\n",
      "***\n",
      "**\n",
      "*\n"
     ]
    },
    {
     "data": {
      "text/plain": [
       "[1, 2, 3, 4, 5, 6, 7, 8, 9, 10]"
      ]
     },
     "execution_count": 11,
     "metadata": {},
     "output_type": "execute_result"
    }
   ],
   "source": [
    "sort([10,9,8,7,6,5,4,3,2,1])"
   ]
  },
  {
   "cell_type": "markdown",
   "metadata": {},
   "source": [
    "The number of steps we take to sort a list of length $n$ is about $n+(n-1)+(n-2)+\\cdots+2+1 = \\tfrac{n(n+1)}{2}=0.5n^2+0.5n$"
   ]
  },
  {
   "cell_type": "markdown",
   "metadata": {},
   "source": [
    "__Can we do better?__"
   ]
  },
  {
   "cell_type": "markdown",
   "metadata": {},
   "source": [
    "Turns out that the answer is __yes__ "
   ]
  },
  {
   "cell_type": "markdown",
   "metadata": {},
   "source": [
    "There is a different sorting algorithm for which the running time looks like:"
   ]
  },
  {
   "cell_type": "code",
   "execution_count": 21,
   "metadata": {
    "collapsed": false
   },
   "outputs": [
    {
     "name": "stdout",
     "output_type": "stream",
     "text": [
      "....................................................................................................plot_steps: False\n",
      "1.000 micro-seconds per step\n",
      "(array([3, 4], dtype=int64),)\n",
      "Curve (steps): $0.2n\\log n$\n"
     ]
    },
    {
     "data": {
      "image/png": "[encoded data removed]",
      "text/plain": [
       "<matplotlib.figure.Figure at 0xcce92e8>"
      ]
     },
     "metadata": {},
     "output_type": "display_data"
    }
   ],
   "source": [
    "# running time of alternative sorting algorithm for inputs from size 0 to 200,000"
   ]
  },
  {
   "cell_type": "markdown",
   "metadata": {},
   "source": [
    "That is, sorting $n$ elements takes about $5\\cdot 10^{-7}n\\log_2 n$ seconds. \n",
    "$\\log_2 n$ is much smaller than $n$ ($\\log_2 (10,000,000) < 30$) and so this is much better."
   ]
  },
  {
   "cell_type": "code",
   "execution_count": 30,
   "metadata": {
    "collapsed": false
   },
   "outputs": [
    {
     "data": {
      "image/png": "[encoded data removed]",
      "text/plain": [
       "<matplotlib.figure.Figure at 0xaebaba8>"
      ]
     },
     "metadata": {},
     "output_type": "display_data"
    }
   ],
   "source": [
    "# compare n*log(n) vs n^2"
   ]
  },
  {
   "cell_type": "markdown",
   "metadata": {},
   "source": [
    "In particular this algorithm will take about $5\\cdot 10^{-7}\\cdot 10^9 \\cdot 30 = 150\\cdot 10^2 = 1500$ seconds or 25 minutes to sort the Facebook user list"
   ]
  },
  {
   "cell_type": "markdown",
   "metadata": {},
   "source": [
    "This is $10^9$ times faster than what it would take in the slower sorting algorithm!!"
   ]
  },
  {
   "cell_type": "markdown",
   "metadata": {},
   "source": [
    "Even if Facebook has a computer that is a million times faster than my laptop, it would still take them more time than for me to sort this list. "
   ]
  },
  {
   "cell_type": "markdown",
   "metadata": {},
   "source": [
    "__The cleverness of the algorithm is more important than the speed of the machine!__"
   ]
  },
  {
   "cell_type": "markdown",
   "metadata": {},
   "source": [
    "# A smarter sorting algorithm"
   ]
  },
  {
   "cell_type": "markdown",
   "metadata": {},
   "source": [
    "Our sorting algorithm had the following general operation on a list of size $n$:\n",
    "\n",
    "1. Find the minimum element and put it at the beginning.\n",
    "2. Sort the last  $n-1$ elements.\n",
    "\n",
    "As we saw the number of steps looked something like this:"
   ]
  },
  {
   "cell_type": "markdown",
   "metadata": {},
   "source": [
    "We will show the __merge sort__ algorithm that does the following on a list of size $n$:\n",
    "\n",
    "1. Sort the first $n/2$ elements to get a list $L1$ and the last $n/2$ elements to get a list $L2$.\n",
    "2. Merge the two lists together to one sorted list.\n",
    "\n",
    "It turns out that the number of steps it takes looks like the following:"
   ]
  },
  {
   "cell_type": "code",
   "execution_count": 31,
   "metadata": {
    "collapsed": false
   },
   "outputs": [
    {
     "name": "stdout",
     "output_type": "stream",
     "text": [
      "******************************          ******************************\n",
      "*****************************           ***************\n",
      "****************************            *******\n",
      "***************************             ***\n",
      "**************************              *\n",
      "*************************               *\n",
      "************************                ***\n",
      "***********************                 *\n",
      "**********************                  *\n",
      "*********************                   *******\n",
      "********************                    ***\n",
      "*******************                     *\n",
      "******************                      *\n",
      "*****************                       ***\n",
      "****************                        *\n",
      "***************                         *\n",
      "**************                          ***************\n",
      "*************                           *******\n",
      "************                            ***\n",
      "***********                             *\n",
      "**********                              *\n",
      "*********                               ***\n",
      "********                                *\n",
      "*******                                 *\n",
      "******                                  *******\n",
      "*****                                   ***\n",
      "****                                    *\n",
      "***                                     *\n",
      "**                                      ***\n",
      "*                                       *\n",
      "                                        *\n"
     ]
    }
   ],
   "source": [
    "# illustration of number of steps sorting 20 numbers in selection sort vs merge sort"
   ]
  },
  {
   "cell_type": "code",
   "execution_count": 16,
   "metadata": {
    "collapsed": false
   },
   "outputs": [
    {
     "name": "stdout",
     "output_type": "stream",
     "text": [
      "..............................plot_steps: False\n",
      "1.000 micro-seconds per step\n",
      "..............................plot_steps: True\n",
      "0.611 micro-seconds per step\n"
     ]
    },
    {
     "data": {
      "image/png": "[encoded data removed]",
      "text/plain": [
       "<matplotlib.figure.Figure at 0xb5acf60>"
      ]
     },
     "metadata": {},
     "output_type": "display_data"
    }
   ],
   "source": [
    "# comparison of running time of selection sort and merge sort"
   ]
  },
  {
   "cell_type": "markdown",
   "metadata": {},
   "source": [
    "[Sorting demo by Justin Johnson](http://cs.stanford.edu/people/jcjohns/sorting.js/)"
   ]
  },
  {
   "cell_type": "markdown",
   "metadata": {},
   "source": [
    "### Sorting with different keys"
   ]
  },
  {
   "cell_type": "markdown",
   "metadata": {},
   "source": [
    "Recall the bonus homework exercise of sorting an array by __last name__:"
   ]
  },
  {
   "cell_type": "code",
   "execution_count": 12,
   "metadata": {
    "collapsed": true
   },
   "outputs": [],
   "source": [
    "names = ['abinet mulugeta', 'urgie  huseien', 'yonatan wosenyeleh', 'amanuel asfaw', 'tibebu solomon', 'hailegbrel wudneh', 'gatluk chuol', 'elsabet buzuneh', 'eden ketema', 'maeden seid', 'mikyas legese', 'meskerem birhanu demeke', 'kumneger worku', 'shambel abate', 'hailmeskel shimeles', 'tsega hailu', 'dawit fikeru', 'asmare habitamo', 'zelalem ades', 'betelehem eshetu', 'yosef tadiwos', 'haymanot gidena', 'henock mersha', 'binyam kidane', 'mohammed nur', 'bethelehem walelegn', 'lewi mekonnen', 'wondimu yohanes', 'hodo mukitar', 'yonas adugna', 'tigabu gebrecherkos', 'nardos gesese', 'mohammed nur', 'abdurezak temam', 'shambel elena', 'adem mohamed', 'zakira tebarek', 'lidya gegnaw', 'knesa desta', 'ibrahim ahmed', 'betlehem desalegn', 'adonay geremew', 'kalkidan muluneh', 'haile gebreselasie', 'eden tekilu tilahun', 'ayantu aleneh', 'yosef nosha', 'mebrihity girmay', 'finet hailu', 'elisa feloh', 'bezawit gebremariam', 'nigusu terefe', 'amina bedrie', 'kiflom leuel', 'hana tariku', 'nejat beshir', 'mesfen tamiru', 'shafi abdi', 'kelbesa ambesa', 'abrham tuna', 'daniel hagos', 'yordanos jemberu', 'aman musa', 'habene abdi', 'kawuser jemal', 'tariku erina', 'mesigina gebretsadik', 'yetnayet birhanu', 'semer abrar', 'nur ahmed', 'eman hasen', 'natol gizaw', 'banchayehu asrat', 'hilina thewodros', 'hasen ali', 'mebrihatu lebelo', 'yosef enawgaw', 'nesera teyib', 'mekdes muluneh', 'surafel sewutu', 'mentesenot tefera']"
   ]
  },
  {
   "cell_type": "code",
   "execution_count": 13,
   "metadata": {
    "collapsed": false
   },
   "outputs": [
    {
     "data": {
      "text/plain": [
       "False"
      ]
     },
     "execution_count": 13,
     "metadata": {},
     "output_type": "execute_result"
    }
   ],
   "source": [
    "'zelalem ades' < 'betelehem eshetu'"
   ]
  },
  {
   "cell_type": "markdown",
   "metadata": {},
   "source": [
    "### Our approach:\n",
    "\n",
    "We define a function ```last_name``` such that: "
   ]
  },
  {
   "cell_type": "code",
   "execution_count": 15,
   "metadata": {
    "collapsed": false
   },
   "outputs": [
    {
     "data": {
      "text/plain": [
       "'ades'"
      ]
     },
     "execution_count": 15,
     "metadata": {},
     "output_type": "execute_result"
    }
   ],
   "source": [
    "last_name('zelalem ades')"
   ]
  },
  {
   "cell_type": "code",
   "execution_count": 16,
   "metadata": {
    "collapsed": false
   },
   "outputs": [
    {
     "data": {
      "text/plain": [
       "'eshetu'"
      ]
     },
     "execution_count": 16,
     "metadata": {},
     "output_type": "execute_result"
    }
   ],
   "source": [
    "last_name('betelehem eshetu')"
   ]
  },
  {
   "cell_type": "code",
   "execution_count": 17,
   "metadata": {
    "collapsed": false
   },
   "outputs": [
    {
     "data": {
      "text/plain": [
       "True"
      ]
     },
     "execution_count": 17,
     "metadata": {},
     "output_type": "execute_result"
    }
   ],
   "source": [
    "last_name('zelalem ades') < last_name('betelehem eshetu')"
   ]
  },
  {
   "cell_type": "markdown",
   "metadata": {},
   "source": [
    "So we only have to change our comparisons from using ```s > t``` to using ```last_name(s) > last_name(t)```"
   ]
  },
  {
   "cell_type": "markdown",
   "metadata": {},
   "source": [
    "In particular it is enough to modify ```find_min_index``` as follows.\n",
    "\n",
    "From:"
   ]
  },
  {
   "cell_type": "code",
   "execution_count": 18,
   "metadata": {
    "collapsed": false
   },
   "outputs": [],
   "source": [
    "def find_min_index(L):\n",
    "    current_index = 0\n",
    "    current_min = L[0]\n",
    "    for j in range(1,len(L)):\n",
    "        if current_min > L[j]:\n",
    "            current_min = L[j]\n",
    "            current_index = j\n",
    "    return current_index"
   ]
  },
  {
   "cell_type": "markdown",
   "metadata": {},
   "source": [
    "To:"
   ]
  },
  {
   "cell_type": "code",
   "execution_count": 19,
   "metadata": {
    "collapsed": false
   },
   "outputs": [],
   "source": [
    "def find_min_index(L):\n",
    "    current_index = 0\n",
    "    current_min = L[0]\n",
    "    for j in range(1,len(L)):\n",
    "        if last_name(current_min) > last_name(L[j]):\n",
    "            current_min = L[j]\n",
    "            current_index = j\n",
    "    return current_index"
   ]
  },
  {
   "cell_type": "markdown",
   "metadata": {},
   "source": [
    "Recall that the code of sort was the following:"
   ]
  },
  {
   "cell_type": "code",
   "execution_count": 20,
   "metadata": {
    "collapsed": true
   },
   "outputs": [],
   "source": [
    "def sort(L):\n",
    "    if len(L)<=1:\n",
    "        return L # a one-element list is always sorted\n",
    "    min_idx = find_min_index(L)\n",
    "    print \"\"\n",
    "    L[0], L[min_idx] = L[min_idx], L[0] \n",
    "    # switch minimum element to first location\n",
    "    \n",
    "    return [L[0]] + sort(L[1:len(L)])"
   ]
  },
  {
   "cell_type": "markdown",
   "metadata": {},
   "source": [
    "_There is no need to change it!_"
   ]
  },
  {
   "cell_type": "code",
   "execution_count": 21,
   "metadata": {
    "collapsed": false
   },
   "outputs": [
    {
     "name": "stdout",
     "output_type": "stream",
     "text": [
      "\n",
      "\n",
      "\n",
      "\n",
      "\n",
      "\n",
      "\n",
      "\n",
      "\n",
      "\n",
      "\n",
      "\n",
      "\n",
      "\n",
      "\n",
      "\n",
      "\n",
      "\n",
      "\n",
      "\n",
      "\n",
      "\n",
      "\n",
      "\n",
      "\n",
      "\n",
      "\n",
      "\n",
      "\n",
      "\n",
      "\n",
      "\n",
      "\n",
      "\n",
      "\n",
      "\n",
      "\n",
      "\n",
      "\n",
      "\n",
      "\n",
      "\n",
      "\n",
      "\n",
      "\n",
      "\n",
      "\n",
      "\n",
      "\n",
      "\n",
      "\n",
      "\n",
      "\n",
      "\n",
      "\n",
      "\n",
      "\n",
      "\n",
      "\n",
      "\n",
      "\n",
      "\n",
      "\n",
      "\n",
      "\n",
      "\n",
      "\n",
      "\n",
      "\n",
      "\n",
      "\n",
      "\n",
      "\n",
      "\n",
      "\n",
      "\n",
      "\n",
      "\n",
      "\n",
      "\n"
     ]
    },
    {
     "data": {
      "text/plain": [
       "['shambel abate',\n",
       " 'shafi abdi',\n",
       " 'habene abdi',\n",
       " 'semer abrar',\n",
       " 'zelalem ades',\n",
       " 'yonas adugna',\n",
       " 'ibrahim ahmed',\n",
       " 'nur ahmed',\n",
       " 'ayantu aleneh',\n",
       " 'hasen ali',\n",
       " 'kelbesa ambesa',\n",
       " 'amanuel asfaw',\n",
       " 'banchayehu asrat',\n",
       " 'amina bedrie',\n",
       " 'nejat beshir',\n",
       " 'yetnayet birhanu',\n",
       " 'meskerem birhanu demeke',\n",
       " 'elsabet buzuneh',\n",
       " 'gatluk chuol',\n",
       " 'betlehem desalegn',\n",
       " 'knesa desta',\n",
       " 'shambel elena',\n",
       " 'yosef enawgaw',\n",
       " 'tariku erina',\n",
       " 'betelehem eshetu',\n",
       " 'elisa feloh',\n",
       " 'dawit fikeru',\n",
       " 'tigabu gebrecherkos',\n",
       " 'bezawit gebremariam',\n",
       " 'haile gebreselasie',\n",
       " 'mesigina gebretsadik',\n",
       " 'lidya gegnaw',\n",
       " 'adonay geremew',\n",
       " 'nardos gesese',\n",
       " 'haymanot gidena',\n",
       " 'mebrihity girmay',\n",
       " 'natol gizaw',\n",
       " 'asmare habitamo',\n",
       " 'daniel hagos',\n",
       " 'finet hailu',\n",
       " 'tsega hailu',\n",
       " 'eman hasen',\n",
       " 'urgie  huseien',\n",
       " 'kawuser jemal',\n",
       " 'yordanos jemberu',\n",
       " 'eden ketema',\n",
       " 'binyam kidane',\n",
       " 'mebrihatu lebelo',\n",
       " 'mikyas legese',\n",
       " 'kiflom leuel',\n",
       " 'lewi mekonnen',\n",
       " 'henock mersha',\n",
       " 'adem mohamed',\n",
       " 'hodo mukitar',\n",
       " 'abinet mulugeta',\n",
       " 'kalkidan muluneh',\n",
       " 'mekdes muluneh',\n",
       " 'aman musa',\n",
       " 'yosef nosha',\n",
       " 'mohammed nur',\n",
       " 'mohammed nur',\n",
       " 'maeden seid',\n",
       " 'surafel sewutu',\n",
       " 'hailmeskel shimeles',\n",
       " 'tibebu solomon',\n",
       " 'yosef tadiwos',\n",
       " 'mesfen tamiru',\n",
       " 'hana tariku',\n",
       " 'zakira tebarek',\n",
       " 'mentesenot tefera',\n",
       " 'eden tekilu tilahun',\n",
       " 'abdurezak temam',\n",
       " 'nigusu terefe',\n",
       " 'nesera teyib',\n",
       " 'hilina thewodros',\n",
       " 'abrham tuna',\n",
       " 'bethelehem walelegn',\n",
       " 'kumneger worku',\n",
       " 'yonatan wosenyeleh',\n",
       " 'hailegbrel wudneh',\n",
       " 'wondimu yohanes']"
      ]
     },
     "execution_count": 21,
     "metadata": {},
     "output_type": "execute_result"
    }
   ],
   "source": [
    "sort(names)"
   ]
  },
  {
   "cell_type": "markdown",
   "metadata": {},
   "source": [
    "Now all that is left is to write the function ```last_name```, which will be an exercise for you."
   ]
  },
  {
   "cell_type": "markdown",
   "metadata": {},
   "source": [
    "# Sorting in python"
   ]
  },
  {
   "cell_type": "markdown",
   "metadata": {},
   "source": [
    "Python provides a built-in function ```sorted''"
   ]
  },
  {
   "cell_type": "code",
   "execution_count": 22,
   "metadata": {
    "collapsed": false
   },
   "outputs": [
    {
     "data": {
      "text/plain": [
       "['abdurezak temam',\n",
       " 'abinet mulugeta',\n",
       " 'abrham tuna',\n",
       " 'adem mohamed',\n",
       " 'adonay geremew',\n",
       " 'aman musa',\n",
       " 'amanuel asfaw',\n",
       " 'amina bedrie',\n",
       " 'asmare habitamo',\n",
       " 'ayantu aleneh',\n",
       " 'banchayehu asrat',\n",
       " 'betelehem eshetu',\n",
       " 'bethelehem walelegn',\n",
       " 'betlehem desalegn',\n",
       " 'bezawit gebremariam',\n",
       " 'binyam kidane',\n",
       " 'daniel hagos',\n",
       " 'dawit fikeru',\n",
       " 'eden ketema',\n",
       " 'eden tekilu tilahun',\n",
       " 'elisa feloh',\n",
       " 'elsabet buzuneh',\n",
       " 'eman hasen',\n",
       " 'finet hailu',\n",
       " 'gatluk chuol',\n",
       " 'habene abdi',\n",
       " 'haile gebreselasie',\n",
       " 'hailegbrel wudneh',\n",
       " 'hailmeskel shimeles',\n",
       " 'hana tariku',\n",
       " 'hasen ali',\n",
       " 'haymanot gidena',\n",
       " 'henock mersha',\n",
       " 'hilina thewodros',\n",
       " 'hodo mukitar',\n",
       " 'ibrahim ahmed',\n",
       " 'kalkidan muluneh',\n",
       " 'kawuser jemal',\n",
       " 'kelbesa ambesa',\n",
       " 'kiflom leuel',\n",
       " 'knesa desta',\n",
       " 'kumneger worku',\n",
       " 'lewi mekonnen',\n",
       " 'lidya gegnaw',\n",
       " 'maeden seid',\n",
       " 'mebrihatu lebelo',\n",
       " 'mebrihity girmay',\n",
       " 'mekdes muluneh',\n",
       " 'mentesenot tefera',\n",
       " 'mesfen tamiru',\n",
       " 'mesigina gebretsadik',\n",
       " 'meskerem birhanu demeke',\n",
       " 'mikyas legese',\n",
       " 'mohammed nur',\n",
       " 'mohammed nur',\n",
       " 'nardos gesese',\n",
       " 'natol gizaw',\n",
       " 'nejat beshir',\n",
       " 'nesera teyib',\n",
       " 'nigusu terefe',\n",
       " 'nur ahmed',\n",
       " 'semer abrar',\n",
       " 'shafi abdi',\n",
       " 'shambel abate',\n",
       " 'shambel elena',\n",
       " 'surafel sewutu',\n",
       " 'tariku erina',\n",
       " 'tibebu solomon',\n",
       " 'tigabu gebrecherkos',\n",
       " 'tsega hailu',\n",
       " 'urgie  huseien',\n",
       " 'wondimu yohanes',\n",
       " 'yetnayet birhanu',\n",
       " 'yonas adugna',\n",
       " 'yonatan wosenyeleh',\n",
       " 'yordanos jemberu',\n",
       " 'yosef enawgaw',\n",
       " 'yosef nosha',\n",
       " 'yosef tadiwos',\n",
       " 'zakira tebarek',\n",
       " 'zelalem ades']"
      ]
     },
     "execution_count": 22,
     "metadata": {},
     "output_type": "execute_result"
    }
   ],
   "source": [
    "sorted(names)"
   ]
  },
  {
   "cell_type": "markdown",
   "metadata": {},
   "source": [
    "The function can even sort in reverse:"
   ]
  },
  {
   "cell_type": "code",
   "execution_count": 23,
   "metadata": {
    "collapsed": false
   },
   "outputs": [
    {
     "data": {
      "text/plain": [
       "['zelalem ades',\n",
       " 'zakira tebarek',\n",
       " 'yosef tadiwos',\n",
       " 'yosef nosha',\n",
       " 'yosef enawgaw',\n",
       " 'yordanos jemberu',\n",
       " 'yonatan wosenyeleh',\n",
       " 'yonas adugna',\n",
       " 'yetnayet birhanu',\n",
       " 'wondimu yohanes',\n",
       " 'urgie  huseien',\n",
       " 'tsega hailu',\n",
       " 'tigabu gebrecherkos',\n",
       " 'tibebu solomon',\n",
       " 'tariku erina',\n",
       " 'surafel sewutu',\n",
       " 'shambel elena',\n",
       " 'shambel abate',\n",
       " 'shafi abdi',\n",
       " 'semer abrar',\n",
       " 'nur ahmed',\n",
       " 'nigusu terefe',\n",
       " 'nesera teyib',\n",
       " 'nejat beshir',\n",
       " 'natol gizaw',\n",
       " 'nardos gesese',\n",
       " 'mohammed nur',\n",
       " 'mohammed nur',\n",
       " 'mikyas legese',\n",
       " 'meskerem birhanu demeke',\n",
       " 'mesigina gebretsadik',\n",
       " 'mesfen tamiru',\n",
       " 'mentesenot tefera',\n",
       " 'mekdes muluneh',\n",
       " 'mebrihity girmay',\n",
       " 'mebrihatu lebelo',\n",
       " 'maeden seid',\n",
       " 'lidya gegnaw',\n",
       " 'lewi mekonnen',\n",
       " 'kumneger worku',\n",
       " 'knesa desta',\n",
       " 'kiflom leuel',\n",
       " 'kelbesa ambesa',\n",
       " 'kawuser jemal',\n",
       " 'kalkidan muluneh',\n",
       " 'ibrahim ahmed',\n",
       " 'hodo mukitar',\n",
       " 'hilina thewodros',\n",
       " 'henock mersha',\n",
       " 'haymanot gidena',\n",
       " 'hasen ali',\n",
       " 'hana tariku',\n",
       " 'hailmeskel shimeles',\n",
       " 'hailegbrel wudneh',\n",
       " 'haile gebreselasie',\n",
       " 'habene abdi',\n",
       " 'gatluk chuol',\n",
       " 'finet hailu',\n",
       " 'eman hasen',\n",
       " 'elsabet buzuneh',\n",
       " 'elisa feloh',\n",
       " 'eden tekilu tilahun',\n",
       " 'eden ketema',\n",
       " 'dawit fikeru',\n",
       " 'daniel hagos',\n",
       " 'binyam kidane',\n",
       " 'bezawit gebremariam',\n",
       " 'betlehem desalegn',\n",
       " 'bethelehem walelegn',\n",
       " 'betelehem eshetu',\n",
       " 'banchayehu asrat',\n",
       " 'ayantu aleneh',\n",
       " 'asmare habitamo',\n",
       " 'amina bedrie',\n",
       " 'amanuel asfaw',\n",
       " 'aman musa',\n",
       " 'adonay geremew',\n",
       " 'adem mohamed',\n",
       " 'abrham tuna',\n",
       " 'abinet mulugeta',\n",
       " 'abdurezak temam']"
      ]
     },
     "execution_count": 23,
     "metadata": {},
     "output_type": "execute_result"
    }
   ],
   "source": [
    "sorted(names, reverse=True)"
   ]
  },
  {
   "cell_type": "markdown",
   "metadata": {},
   "source": [
    "and take a key:"
   ]
  },
  {
   "cell_type": "code",
   "execution_count": 24,
   "metadata": {
    "collapsed": false
   },
   "outputs": [
    {
     "data": {
      "text/plain": [
       "['shambel abate',\n",
       " 'shafi abdi',\n",
       " 'habene abdi',\n",
       " 'semer abrar',\n",
       " 'zelalem ades',\n",
       " 'yonas adugna',\n",
       " 'ibrahim ahmed',\n",
       " 'nur ahmed',\n",
       " 'ayantu aleneh',\n",
       " 'hasen ali',\n",
       " 'kelbesa ambesa',\n",
       " 'amanuel asfaw',\n",
       " 'banchayehu asrat',\n",
       " 'amina bedrie',\n",
       " 'nejat beshir',\n",
       " 'meskerem birhanu demeke',\n",
       " 'yetnayet birhanu',\n",
       " 'elsabet buzuneh',\n",
       " 'gatluk chuol',\n",
       " 'betlehem desalegn',\n",
       " 'knesa desta',\n",
       " 'shambel elena',\n",
       " 'yosef enawgaw',\n",
       " 'tariku erina',\n",
       " 'betelehem eshetu',\n",
       " 'elisa feloh',\n",
       " 'dawit fikeru',\n",
       " 'tigabu gebrecherkos',\n",
       " 'bezawit gebremariam',\n",
       " 'haile gebreselasie',\n",
       " 'mesigina gebretsadik',\n",
       " 'lidya gegnaw',\n",
       " 'adonay geremew',\n",
       " 'nardos gesese',\n",
       " 'haymanot gidena',\n",
       " 'mebrihity girmay',\n",
       " 'natol gizaw',\n",
       " 'asmare habitamo',\n",
       " 'daniel hagos',\n",
       " 'tsega hailu',\n",
       " 'finet hailu',\n",
       " 'eman hasen',\n",
       " 'urgie  huseien',\n",
       " 'kawuser jemal',\n",
       " 'yordanos jemberu',\n",
       " 'eden ketema',\n",
       " 'binyam kidane',\n",
       " 'mebrihatu lebelo',\n",
       " 'mikyas legese',\n",
       " 'kiflom leuel',\n",
       " 'lewi mekonnen',\n",
       " 'henock mersha',\n",
       " 'adem mohamed',\n",
       " 'hodo mukitar',\n",
       " 'abinet mulugeta',\n",
       " 'kalkidan muluneh',\n",
       " 'mekdes muluneh',\n",
       " 'aman musa',\n",
       " 'yosef nosha',\n",
       " 'mohammed nur',\n",
       " 'mohammed nur',\n",
       " 'maeden seid',\n",
       " 'surafel sewutu',\n",
       " 'hailmeskel shimeles',\n",
       " 'tibebu solomon',\n",
       " 'yosef tadiwos',\n",
       " 'mesfen tamiru',\n",
       " 'hana tariku',\n",
       " 'zakira tebarek',\n",
       " 'mentesenot tefera',\n",
       " 'eden tekilu tilahun',\n",
       " 'abdurezak temam',\n",
       " 'nigusu terefe',\n",
       " 'nesera teyib',\n",
       " 'hilina thewodros',\n",
       " 'abrham tuna',\n",
       " 'bethelehem walelegn',\n",
       " 'kumneger worku',\n",
       " 'yonatan wosenyeleh',\n",
       " 'hailegbrel wudneh',\n",
       " 'wondimu yohanes']"
      ]
     },
     "execution_count": 24,
     "metadata": {},
     "output_type": "execute_result"
    }
   ],
   "source": [
    "sorted(names,key=last_name)"
   ]
  },
  {
   "cell_type": "markdown",
   "metadata": {},
   "source": [
    "It is also quite fast:"
   ]
  },
  {
   "cell_type": "code",
   "execution_count": 47,
   "metadata": {
    "collapsed": false,
    "scrolled": true
   },
   "outputs": [
    {
     "name": "stdout",
     "output_type": "stream",
     "text": [
      "..........plot_steps: False\n",
      "1.000 micro-seconds per step\n",
      "..........plot_steps: True\n",
      "0.506 micro-seconds per step\n"
     ]
    },
    {
     "data": {
      "image/png": "[encoded data removed]",
      "text/plain": [
       "<matplotlib.figure.Figure at 0xa16cb70>"
      ]
     },
     "metadata": {},
     "output_type": "display_data"
    }
   ],
   "source": [
    "# merge sort vs Python built-in sorted algorithm"
   ]
  },
  {
   "cell_type": "markdown",
   "metadata": {},
   "source": [
    "# Why teach sorting?"
   ]
  },
  {
   "cell_type": "markdown",
   "metadata": {},
   "source": [
    "We saw that Python gives you sorting \"for free\""
   ]
  },
  {
   "cell_type": "markdown",
   "metadata": {},
   "source": [
    "and it's even faster than the best algorithm we could write."
   ]
  },
  {
   "cell_type": "markdown",
   "metadata": {},
   "source": [
    "So why force you to learn and code sorting algorithms?"
   ]
  },
  {
   "cell_type": "markdown",
   "metadata": {},
   "source": [
    "__Answer 1:__ Computer Science and programming is more than just Python. "
   ]
  },
  {
   "cell_type": "markdown",
   "metadata": {},
   "source": [
    "__Answer 2:__ I am not trying to teach you to sort numbers. I am trying to teach you how to think."
   ]
  },
  {
   "cell_type": "markdown",
   "metadata": {},
   "source": [
    "# Lab work"
   ]
  },
  {
   "cell_type": "markdown",
   "metadata": {},
   "source": [
    "### Exercise 1\n",
    "\n",
    "Write a function ```sort4``` that sorts a list of 4 elements. The function should make two calls to ```sort2```"
   ]
  },
  {
   "cell_type": "code",
   "execution_count": 25,
   "metadata": {
    "collapsed": true
   },
   "outputs": [],
   "source": [
    "def sort4(L):\n",
    "    L_first_sorted = sort2(L[0:2])\n",
    "    L_last_sorted = sort2(L[2:4])\n",
    "    #\n",
    "    # do something to return a sorted list\n",
    "    #    "
   ]
  },
  {
   "cell_type": "code",
   "execution_count": 27,
   "metadata": {
    "collapsed": false
   },
   "outputs": [
    {
     "data": {
      "text/plain": [
       "[2, 5, 7, 10]"
      ]
     },
     "execution_count": 27,
     "metadata": {},
     "output_type": "execute_result"
    }
   ],
   "source": [
    "sort4([10,2,5,7])"
   ]
  },
  {
   "cell_type": "markdown",
   "metadata": {},
   "source": [
    "### Exercise 2\n",
    "\n",
    "Write a function ```merge_lists``` that takes two sorted lists L1 and L2 and returns a sorted list that of length ```len(L1)+len(L2)``` that   contains all their elements."
   ]
  },
  {
   "cell_type": "markdown",
   "metadata": {},
   "source": [
    "### Exercise 3\n",
    "\n",
    "Write a function ```sort32``` that sorts a list of 32 elements. The function should make two recursive calls to a provided function ```sort16```"
   ]
  },
  {
   "cell_type": "code",
   "execution_count": 51,
   "metadata": {
    "collapsed": true
   },
   "outputs": [],
   "source": [
    "def sort32(L):\n",
    "    L_first_sorted = sort16(L[0:4])\n",
    "    L_last_sorted = sort16(L[4:8])\n",
    "    #\n",
    "    # do something to return a sorted list\n",
    "    #    "
   ]
  },
  {
   "cell_type": "code",
   "execution_count": 29,
   "metadata": {
    "collapsed": true
   },
   "outputs": [],
   "source": [
    "sort16 = sorted"
   ]
  },
  {
   "cell_type": "code",
   "execution_count": 31,
   "metadata": {
    "collapsed": false
   },
   "outputs": [
    {
     "data": {
      "text/plain": [
       "[1,\n",
       " 2,\n",
       " 3,\n",
       " 4,\n",
       " 5,\n",
       " 6,\n",
       " 7,\n",
       " 8,\n",
       " 9,\n",
       " 10,\n",
       " 11,\n",
       " 12,\n",
       " 13,\n",
       " 14,\n",
       " 15,\n",
       " 16,\n",
       " 17,\n",
       " 18,\n",
       " 19,\n",
       " 20,\n",
       " 21,\n",
       " 22,\n",
       " 23,\n",
       " 24,\n",
       " 25,\n",
       " 26,\n",
       " 27,\n",
       " 28,\n",
       " 29,\n",
       " 30,\n",
       " 31,\n",
       " 32]"
      ]
     },
     "execution_count": 31,
     "metadata": {},
     "output_type": "execute_result"
    }
   ],
   "source": [
    "sort32([32,31,30,29,28,27,26,25,24,23,22,21,20,19,18,17,16,15,14,13,12,11,10,9,8,7,6,5,4,3,2,1])"
   ]
  },
  {
   "cell_type": "markdown",
   "metadata": {},
   "source": [
    "### Exercise 4\n",
    "\n",
    "Write a function ```merge_sort``` that will sort a list of _any_ size. The function should make two recursive calls to itself "
   ]
  },
  {
   "cell_type": "code",
   "execution_count": 5,
   "metadata": {
    "collapsed": true
   },
   "outputs": [],
   "source": [
    "def merge_sort(L):\n",
    "    #\n",
    "    # do something here\n",
    "    #\n",
    "    L_first_sorted = merge_sort(L[0:int(len(L)/2)])\n",
    "    L_last_sorted = merge_sort(L[int(len(L)/2):len(L)])\n",
    "    #\n",
    "    # do something to return a sorted list"
   ]
  },
  {
   "cell_type": "code",
   "execution_count": 33,
   "metadata": {
    "collapsed": false
   },
   "outputs": [
    {
     "data": {
      "text/plain": [
       "[3,\n",
       " 4,\n",
       " 4,\n",
       " 7,\n",
       " 9,\n",
       " 11,\n",
       " 17,\n",
       " 21,\n",
       " 27,\n",
       " 28,\n",
       " 28,\n",
       " 30,\n",
       " 30,\n",
       " 33,\n",
       " 34,\n",
       " 34,\n",
       " 39,\n",
       " 40,\n",
       " 41,\n",
       " 43,\n",
       " 43,\n",
       " 44,\n",
       " 44,\n",
       " 44,\n",
       " 50,\n",
       " 51,\n",
       " 52,\n",
       " 52,\n",
       " 53,\n",
       " 55,\n",
       " 60,\n",
       " 63,\n",
       " 64,\n",
       " 68,\n",
       " 71,\n",
       " 71,\n",
       " 75,\n",
       " 76,\n",
       " 78,\n",
       " 78]"
      ]
     },
     "execution_count": 33,
     "metadata": {},
     "output_type": "execute_result"
    }
   ],
   "source": [
    "merge_sort([78, 39, 50, 43, 3, 30, 34, 75, 33, 7, 30, 71, 76, 44, 27, 4, 68, 21, 51, 78, 11, 53, 71, 60, 64, 9, 28, 63, 55, 34, 44, 52, 28, 52, 43, 44, 4, 41, 40, 17])"
   ]
  },
  {
   "cell_type": "markdown",
   "metadata": {},
   "source": [
    "### Exercise 5\n",
    "Use a stopwatch to compare selection sort and merge sort on random lists of 4000 numbers.\n",
    "Run each one of them 10 times and record the average time. \n",
    "\n",
    "_(if your computer crashes then you can use smaller lists, you can also use the %timeit option as below)_"
   ]
  },
  {
   "cell_type": "code",
   "execution_count": 12,
   "metadata": {
    "collapsed": true
   },
   "outputs": [],
   "source": [
    "def gen_random_list(n):\n",
    "    return [random.randint(0,2*n) for i in range(n)]"
   ]
  },
  {
   "cell_type": "code",
   "execution_count": 36,
   "metadata": {
    "collapsed": true
   },
   "outputs": [],
   "source": [
    "# run this code so that Python allows you to run the sorts on inputs larger than 100\n",
    "import sys\n",
    "sys.setrecursionlimit(10**6)"
   ]
  },
  {
   "cell_type": "code",
   "execution_count": null,
   "metadata": {
    "collapsed": true
   },
   "outputs": [],
   "source": [
    "% timeit merge_sort(gen_random_list(4000));"
   ]
  },
  {
   "cell_type": "code",
   "execution_count": null,
   "metadata": {
    "collapsed": true
   },
   "outputs": [],
   "source": [
    "% timeit sort(gen_random_list(4000)); \n",
    "# your selection sort function from the previous labwork or from the lecture"
   ]
  },
  {
   "cell_type": "markdown",
   "metadata": {},
   "source": [
    "### Exercise 6\n",
    "\n",
    "Write a function ```last_name``` that on input a string $s$, will find the first space character ' ' in $s$, and will return the rest of $s$. You don't have to worry about strings that don't contain spaces or contain more than one space."
   ]
  },
  {
   "cell_type": "code",
   "execution_count": 34,
   "metadata": {
    "collapsed": false
   },
   "outputs": [
    {
     "data": {
      "text/plain": [
       "'barak'"
      ]
     },
     "execution_count": 34,
     "metadata": {},
     "output_type": "execute_result"
    }
   ],
   "source": [
    "last_name('boaz barak')"
   ]
  },
  {
   "cell_type": "markdown",
   "metadata": {},
   "source": [
    "### Exercise 7 (bonus)\n",
    "\n",
    "Write a function ```cannon_ball_no_gravity(angle,speed,t)``` that on input an angle ```angle``` between $0$ and $90$ and a speed ```speed``` in meters per second, and time $t$ in seconds, returns two values ```height,distance``` .\n",
    "\n",
    "The value ```height```  will be which are the height in meters that a cannon ball shot at angle $angle$ from the ground and speed $speed$ would be at after $t$ seconds if there is no gravity. \n",
    "\n",
    "The value ```distance``` will be the distance in meters that the projection of this ball on the ground would be from the initial point after $t$ seconds. \n",
    "\n",
    "Write a function ```cannon_ball_earth(angle,speed,t)``` that does the same thing if the ball is shot on earth and takes gravity into account.\n",
    "\n",
    "(You don't need to worry about air resistance nor about whether height becomes negative).\n",
    "\n",
    "You can use the following helper functions:"
   ]
  },
  {
   "cell_type": "code",
   "execution_count": 35,
   "metadata": {
    "collapsed": true
   },
   "outputs": [],
   "source": [
    "import math\n",
    "def sine(angle):\n",
    "    return math.sin((angle/360.0)*2*math.pi)\n",
    "def cosie(angle):\n",
    "    return math.cos((angle/360.0)*2*math.pi)"
   ]
  },
  {
   "cell_type": "code",
   "execution_count": null,
   "metadata": {
    "collapsed": true
   },
   "outputs": [],
   "source": []
  }
 ],
 "metadata": {
  "anaconda-cloud": {},
  "kernelspec": {
   "display_name": "Python [Root]",
   "language": "python",
   "name": "Python [Root]"
  },
  "language_info": {
   "codemirror_mode": {
    "name": "ipython",
    "version": 2
   },
   "file_extension": ".py",
   "mimetype": "text/x-python",
   "name": "python",
   "nbconvert_exporter": "python",
   "pygments_lexer": "ipython2",
   "version": "2.7.12"
  }
 },
 "nbformat": 4,
 "nbformat_minor": 0
}
