{
 "cells": [
  {
   "cell_type": "markdown",
   "metadata": {},
   "source": [
    "# Memoization applied to graphs: shortest paths"
   ]
  },
  {
   "cell_type": "markdown",
   "metadata": {
    "slideshow": {
     "slide_type": "slide"
    }
   },
   "source": [
    "Suppose we have a graph representing an airport network, a road network, etc. For example consider an airport network: vertices are airports, and edges represent direct flights from one airport to the next. Each edge now has an associated length corresponding to the length of the flight. Now how can we find the shortest path from one vertex to the others in such a graph? This can be done using recursion and memoization. The non-recursive, iterative implementation of this approach (that is, loops instead of recursion) is called the <i>Bellman-Ford</i> algorithm."
   ]
  },
  {
   "cell_type": "markdown",
   "metadata": {},
   "source": [
    "The basic idea is to create a recursive function ```shortestPathHelper```($x$, $y$, $t$) which finds the shortest path from $x$ to $y$ which takes at most $t$ steps. One option is that it is the same as the shortest path taking at most $t − 1$ steps, and the other is that we should travel to some vertex $z$ first in $t − 1$ steps then take the edge $(z, y)$ in the $t^{th}$ step. We recurse on both options and take the better of the two, and we use memoization to make the function faster. Note that if it’s possible to get from $x$ to $y$ at all, then it is possible to do so in $n − 1$ steps, where the graph has $n$ vertices, so the length of the shortest path from $x$ to $y$ is ```shortestPathHelper```($x, y, n-1$)."
   ]
  },
  {
   "cell_type": "code",
   "execution_count": 3,
   "metadata": {
    "collapsed": false
   },
   "outputs": [],
   "source": [
    "# returns length of shortest path from x to y using at most t steps\n",
    "# B is an inverse adjacency list. That is, B[y] is a list [ [x0,w0], ..., [x1, w1] ]\n",
    "# such that for each i there is an edge (xi, y) with weight wi\n",
    "def shortestPathHelper(B, x, y, t, mem, seen):\n",
    "    if t == 0:\n",
    "        if x == y:\n",
    "            return 0\n",
    "        else:\n",
    "            return float('infinity')\n",
    "    elif seen[y][t]:\n",
    "        return mem[y][t]\n",
    "    \n",
    "    seen[y][t] = True\n",
    "        \n",
    "    # first option: do it in t-1 steps\n",
    "    ans = shortestPathHelper(B, x, y, t-1, mem, seen)\n",
    "\n",
    "    # second option: go to a vertex z that has an edge to y first, in\n",
    "    # at most t-1 steps, then take the edge (z, y)\n",
    "    for p in B[y]:\n",
    "        z = p[0]\n",
    "        weight = p[1]\n",
    "        val = shortestPathHelper(B, x, z, t-1, mem, seen)\n",
    "        ans = min(ans, weight + val)\n",
    "\n",
    "    mem[y][t] = ans\n",
    "    return ans\n",
    "\n",
    "# A is the adjacency list of the graph\n",
    "# A[u][i][0] is the ith neighbor of vertex u, and A[u][i][1] is the\n",
    "# weight of the edge (u, A[u][i][0])\n",
    "#\n",
    "# returns the length of the shortest path from x to y\n",
    "def shortestPath(A, x, y):\n",
    "    # mem[i][j] should be float(‘infinity’) if we can’t get from x to i in at\n",
    "    # most j steps. Otherwise, it’s the length of the shortest path from x to\n",
    "    # i taking at most j steps.\n",
    "    mem = [ [0]*(len(A)+1) for i in range(len(A)) ]\n",
    "    seen = [ [False]*(len(A)+1) for i in range(len(A)) ]\n",
    "    \n",
    "    # B is an inverse adjacency list. B[i] is a list of lists.\n",
    "    # Each element of B[i] is a list [x, w] representing that (x,i)\n",
    "    # is an edge in the graph, and w is its length\n",
    "    B = [ [] for i in range(len(A)) ]\n",
    "    for i in range(len(A)):\n",
    "        for p in A[i]:\n",
    "            # p is the pair [j, length(i,j)]\n",
    "            B[p[0]] += [[i, p[1]]]\n",
    "    \n",
    "    return shortestPathHelper(B, x, y, len(A) - 1, mem, seen)"
   ]
  },
  {
   "cell_type": "markdown",
   "metadata": {},
   "source": [
    "# Example\n",
    "\n",
    "![title](bellmanford.jpg)"
   ]
  },
  {
   "cell_type": "code",
   "execution_count": 6,
   "metadata": {
    "collapsed": false
   },
   "outputs": [],
   "source": [
    "# as an adjacency list with weights\n",
    "A = [ \n",
    "        [[2, 4]], # (0,2) with weight 4\n",
    "        [[3, 2]], # (1,3) with weight 2\n",
    "        [[1, 1], [3, 4]], # (2,1) with weight 1, (2,3) with weight 4\n",
    "        [[4, 7]], # (3,4) with weight 7\n",
    "        [] # vertex 4 has no outgoing edges\n",
    "    ]"
   ]
  },
  {
   "cell_type": "code",
   "execution_count": 7,
   "metadata": {
    "collapsed": false
   },
   "outputs": [
    {
     "data": {
      "text/plain": [
       "4"
      ]
     },
     "execution_count": 7,
     "metadata": {},
     "output_type": "execute_result"
    }
   ],
   "source": [
    "shortestPath(A, 0, 2)"
   ]
  },
  {
   "cell_type": "code",
   "execution_count": 9,
   "metadata": {
    "collapsed": false
   },
   "outputs": [
    {
     "data": {
      "text/plain": [
       "7"
      ]
     },
     "execution_count": 9,
     "metadata": {},
     "output_type": "execute_result"
    }
   ],
   "source": [
    "# there are two routes\n",
    "# 0->2->3 and 0->2->1->3\n",
    "# 0->2->3 has total length 4+4 = 8\n",
    "# 0->2->1->3 has total length 4+1+2 = 7\n",
    "shortestPath(A, 0, 3)"
   ]
  },
  {
   "cell_type": "code",
   "execution_count": 10,
   "metadata": {
    "collapsed": false
   },
   "outputs": [
    {
     "data": {
      "text/plain": [
       "inf"
      ]
     },
     "execution_count": 10,
     "metadata": {},
     "output_type": "execute_result"
    }
   ],
   "source": [
    "shortestPath(A, 3, 0)"
   ]
  },
  {
   "cell_type": "markdown",
   "metadata": {
    "slideshow": {
     "slide_type": "slide"
    }
   },
   "source": [
    "# Finding the actual path\n",
    "\n",
    "Typically we don't just want to know the length of the shortest path. We want to know what the shortest path is itself! What route should we take? Just as we remembered the choices we made for going to parties yesterday, we can similarly here also remember the choices we made. Below is a modified version of the above code which remembers our choices."
   ]
  },
  {
   "cell_type": "code",
   "execution_count": 21,
   "metadata": {
    "collapsed": false,
    "slideshow": {
     "slide_type": "slide"
    }
   },
   "outputs": [],
   "source": [
    "# returns length of shortest path from x to y using at most t steps\n",
    "# B is an inverse adjacency list. That is, B[y] is a list [ [x0,w0], ..., [x1, w1] ]\n",
    "# such that for each i there is an edge (xi, y) with weight wi\n",
    "def shortestPathHelper(B, x, y, t, mem, seen, choices):\n",
    "    if t == 0:\n",
    "        if x == y:\n",
    "            return 0,choices\n",
    "        else:\n",
    "            return float('infinity'),choices\n",
    "    elif seen[y][t]:\n",
    "        return mem[y][t],choices\n",
    "    \n",
    "    seen[y][t] = True\n",
    "        \n",
    "    # first option: do it in t-1 steps\n",
    "    choices[y][t] = -1 # we use -1 to mean we actually just used t-1 steps\n",
    "    ans,choices = shortestPathHelper(B, x, y, t-1, mem, seen, choices)\n",
    "\n",
    "    # second option: go to a vertex z that has an edge to y first, in\n",
    "    # at most t-1 steps, then take the edge (z, y)\n",
    "    for p in B[y]:\n",
    "        z = p[0]\n",
    "        weight = p[1]\n",
    "        val,choices = shortestPathHelper(B, x, z, t-1, mem, seen, choices)\n",
    "        if weight + val < ans:\n",
    "            # it is cheaper to go through z\n",
    "            choices[y][t] = z\n",
    "            ans = weight + val\n",
    "\n",
    "    mem[y][t] = ans\n",
    "    return ans,choices\n",
    "\n",
    "# A is the adjacency list of the graph\n",
    "# A[u][i][0] is the ith neighbor of vertex u, and A[u][i][1] is the\n",
    "# weight of the edge (u, A[u][i][0])\n",
    "#\n",
    "# returns the length of the shortest path from x to y\n",
    "def shortestPath(A, x, y):\n",
    "    # mem[i][j] should be float(‘infinity’) if we can’t get from x to i in at\n",
    "    # most j steps. Otherwise, it’s the length of the shortest path from x to\n",
    "    # i taking at most j steps.\n",
    "    mem = [ [0]*(len(A)+1) for i in range(len(A)) ]\n",
    "    seen = [ [False]*(len(A)+1) for i in range(len(A)) ]\n",
    "    choices = [ [0]*(len(A)+1) for i in range(len(A)) ]\n",
    "    \n",
    "    # B is an inverse adjacency list. B[i] is a list of lists.\n",
    "    # Each element of B[i] is a list [x, w] representing that (x,i)\n",
    "    # is an edge in the graph, and w is its length\n",
    "    B = [ [] for i in range(len(A)) ]\n",
    "    for i in range(len(A)):\n",
    "        for p in A[i]:\n",
    "            # p is the pair [j, length(i,j)]\n",
    "            B[p[0]] += [[i, p[1]]]\n",
    "    \n",
    "    return shortestPathHelper(B, x, y, len(A) - 1, mem, seen, choices)\n",
    "\n",
    "# if no path, return [[], float('infinity')]\n",
    "# else return a list of size 2: first element is an optimal path, starting at x and ending at y\n",
    "# and the second element is the weight of the path\n",
    "def findPath(A, x, y):\n",
    "    length,choices = shortestPath(A, x, y)\n",
    "    if length == float('infinity'):\n",
    "        return [[], length]\n",
    "    path = [y]\n",
    "    t = len(A) - 1\n",
    "    while t > 0:\n",
    "        if choices[y][t] != -1:\n",
    "            path = [choices[y][t]] + path\n",
    "            y = choices[y][t]\n",
    "        t -= 1\n",
    "    return [path, length]"
   ]
  },
  {
   "cell_type": "markdown",
   "metadata": {},
   "source": [
    "![title](bellmanford.jpg)"
   ]
  },
  {
   "cell_type": "code",
   "execution_count": 25,
   "metadata": {
    "collapsed": false
   },
   "outputs": [
    {
     "data": {
      "text/plain": [
       "[[0, 2, 1, 3], 7]"
      ]
     },
     "execution_count": 25,
     "metadata": {},
     "output_type": "execute_result"
    }
   ],
   "source": [
    "findPath(A, 0, 3)"
   ]
  }
 ],
 "metadata": {
  "anaconda-cloud": {},
  "celltoolbar": "Slideshow",
  "kernelspec": {
   "display_name": "Python [Root]",
   "language": "python",
   "name": "Python [Root]"
  },
  "language_info": {
   "codemirror_mode": {
    "name": "ipython",
    "version": 2
   },
   "file_extension": ".py",
   "mimetype": "text/x-python",
   "name": "python",
   "nbconvert_exporter": "python",
   "pygments_lexer": "ipython2",
   "version": "2.7.12"
  }
 },
 "nbformat": 4,
 "nbformat_minor": 0
}
