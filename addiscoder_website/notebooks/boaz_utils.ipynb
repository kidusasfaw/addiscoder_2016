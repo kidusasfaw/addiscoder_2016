{
 "cells": [
  {
   "cell_type": "markdown",
   "metadata": {},
   "source": [
    "Some general purpose scripts.\n",
    "The code here is very ugly with extensive use of global variables. Do __not__ learn from it :)"
   ]
  },
  {
   "cell_type": "markdown",
   "metadata": {},
   "source": [
    "# Imports and general routines"
   ]
  },
  {
   "cell_type": "code",
   "execution_count": 1,
   "metadata": {
    "collapsed": false
   },
   "outputs": [
    {
     "name": "stdout",
     "output_type": "stream",
     "text": [
      "Using matplotlib backend: Qt4Agg\n",
      "Populating the interactive namespace from numpy and matplotlib\n"
     ]
    }
   ],
   "source": [
    "%pylab"
   ]
  },
  {
   "cell_type": "code",
   "execution_count": null,
   "metadata": {
    "collapsed": true
   },
   "outputs": [],
   "source": [
    "%matplotlib inline"
   ]
  },
  {
   "cell_type": "code",
   "execution_count": null,
   "metadata": {
    "collapsed": true
   },
   "outputs": [],
   "source": [
    "import sys\n",
    "import matplotlib\n",
    "import numpy as np\n",
    "import matplotlib.pyplot as plt"
   ]
  },
  {
   "cell_type": "code",
   "execution_count": null,
   "metadata": {
    "collapsed": true
   },
   "outputs": [],
   "source": [
    "from scipy import stats\n",
    "from scipy.optimize import curve_fit\n",
    "from numpy.polynomial import polynomial "
   ]
  },
  {
   "cell_type": "code",
   "execution_count": null,
   "metadata": {
    "collapsed": true
   },
   "outputs": [],
   "source": [
    "from sklearn import linear_model\n",
    "from sklearn.preprocessing import PolynomialFeatures\n",
    "from sklearn.linear_model import LinearRegression\n",
    "from sklearn.pipeline import Pipeline"
   ]
  },
  {
   "cell_type": "code",
   "execution_count": null,
   "metadata": {
    "collapsed": true
   },
   "outputs": [],
   "source": [
    "import itertools"
   ]
  },
  {
   "cell_type": "code",
   "execution_count": null,
   "metadata": {
    "collapsed": true
   },
   "outputs": [],
   "source": [
    "import matplotlib.animation as animation\n",
    "from IPython.display import HTML"
   ]
  },
  {
   "cell_type": "code",
   "execution_count": null,
   "metadata": {
    "collapsed": true
   },
   "outputs": [],
   "source": [
    "from __future__ import division"
   ]
  },
  {
   "cell_type": "code",
   "execution_count": null,
   "metadata": {
    "collapsed": true
   },
   "outputs": [],
   "source": [
    "%run  'savitzky_golay.ipynb'"
   ]
  },
  {
   "cell_type": "code",
   "execution_count": null,
   "metadata": {
    "collapsed": true
   },
   "outputs": [],
   "source": [
    "_my = sys.modules[__name__]"
   ]
  },
  {
   "cell_type": "markdown",
   "metadata": {},
   "source": [
    "# Timing and plotting time of functions"
   ]
  },
  {
   "cell_type": "code",
   "execution_count": null,
   "metadata": {
    "collapsed": true
   },
   "outputs": [],
   "source": [
    "def is_iterable(obj):\n",
    "    '''check if obj is iterable'''\n",
    "    try:\n",
    "        _ = iter(obj)\n",
    "        return 1\n",
    "    except TypeError:\n",
    "        return 0 "
   ]
  },
  {
   "cell_type": "code",
   "execution_count": null,
   "metadata": {
    "collapsed": true
   },
   "outputs": [],
   "source": [
    "def inputlen(input):\n",
    "    '''return some number that can be considered as the length of the input'''\n",
    "    if not input:\n",
    "        return 0\n",
    "    if isinstance(input, basestring):\n",
    "        return len(input)\n",
    "    if isinstance( input, ( int, long ) ):\n",
    "        return input\n",
    "    if is_iterable(input):\n",
    "        return sum([inputlen(i) for i in input])\n",
    "    return len(repr(input))"
   ]
  },
  {
   "cell_type": "code",
   "execution_count": null,
   "metadata": {
    "collapsed": true
   },
   "outputs": [],
   "source": [
    "# some global variables\n",
    "program_step_counter = 0\n",
    "\n",
    "# these are temporary global variables needed due to quirks of %timeit magic\n",
    "temp_func = None\n",
    "temp_inputs = None\n",
    "temp_output = None"
   ]
  },
  {
   "cell_type": "code",
   "execution_count": null,
   "metadata": {
    "collapsed": true
   },
   "outputs": [],
   "source": [
    "       \n",
    "       \n"
   ]
  },
  {
   "cell_type": "code",
   "execution_count": null,
   "metadata": {
    "collapsed": false
   },
   "outputs": [],
   "source": [
    "import itertools\n",
    "def compare_times(func1,func2,gen,inlen=inputlen):\n",
    "    gen1, gen2 = walk, walk2 = itertools.tee(gen)\n",
    "    (_,_,lengths,times1,_) = timer(func1,gen1,doplot=False,doplot_logscale=False,interpolate=False)\n",
    "    (_,_,lengths,times2,_) = timer(func2,gen2,doplot=False,doplot_logscale=False,interpolate=False)\n",
    "    \n",
    "    fig, ax1 = plt.subplots()\n",
    "    lns1 = ax1.plot(lengths, times1, 'g-',label=func1.__name__)\n",
    "    lns2 = ax1.plot(lengths, times2, 'b-',label=func2.__name__)\n",
    "    lns = lns1+lns2\n",
    "    labs = [l.get_label() for l in lns]\n",
    "    ax1.legend(lns, labs, loc=0)\n",
    "\n",
    "    ax1.set_xlabel('Input length')\n",
    "    ax1.set_ylabel(r'Time ($\\mu$s)', color='g')\n",
    "    plt.show()"
   ]
  },
  {
   "cell_type": "code",
   "execution_count": null,
   "metadata": {
    "collapsed": false
   },
   "outputs": [],
   "source": [
    "def timer(func,gen,inlen=inputlen,doplot=True,doplot_logscale=True, smoothing_filter=False,interpolate=True):\n",
    "    '''time a function on different inputs and plot it\n",
    "       func: function to run\n",
    "       gen:  list/tuple/iterable of inputs\n",
    "       inlen: function to compute the input length (default: inlen)\n",
    "       doplot: print a plot or not (default: True)\n",
    "       \n",
    "       returns a tuple of equal lengthed lists as follows:\n",
    "       outputs: a list of the outputs\n",
    "       curve: a function f(n) that estimates the number of steps for input length n\n",
    "       lengths: a list of the input lengths\n",
    "       times: a list of the times (in seconds)\n",
    "       steps: a list of the number of steps (calls to stepit() ) that it took\n",
    "    \n",
    "    '''\n",
    "    \n",
    "    global program_step_counter\n",
    "    global temp_func\n",
    "    global temp_output\n",
    "    \n",
    "    lengths = []\n",
    "    times = []\n",
    "    steps = []\n",
    "    outputs = []\n",
    "    step_no = 0\n",
    "    for inputs in gen:\n",
    "        # sys.stdout.write(\"Running for input length \"+ str(inlen(inputs))+\"..\")\n",
    "        sys.stdout.write('.')\n",
    "        sys.stdout.flush()\n",
    "        step_no += 1\n",
    "        program_step_counter = 0\n",
    "        \n",
    "        def testf():\n",
    "            ans = None\n",
    "            global temp_output\n",
    "            if is_iterable(inputs) and not isinstance(inputs, basestring):\n",
    "                ans = func(*inputs)\n",
    "            else:\n",
    "                ans = func(inputs)\n",
    "            temp_output = ans\n",
    "    \n",
    "        temp_func = testf\n",
    "        temp_output = None\n",
    "        res = %timeit -n3 -r1 -o -q temp_func()\n",
    "        if res.best < 10**(-3):\n",
    "            time = \"{0:0.0f}\".format(res.best*(10**9))+ \" nanoseconds\"\n",
    "        elif res.best < 1: \n",
    "            time = \"{0:0.1f}\".format(res.best*(10**3))+ \" milliseconds\"\n",
    "        else: \n",
    "            time = \"{0:0.2f}\".format(res.best*(10**3))+ \" seconds\"\n",
    "        if program_step_counter:\n",
    "            time += \"({0:g} steps)\".format(program_step_counter)\n",
    "        # print time\n",
    "        outputs.append(temp_output)\n",
    "        lengths.append(inlen(inputs))\n",
    "        times.append(res.best)\n",
    "        steps.append(int(program_step_counter/3))\n",
    "    \n",
    "    curve = plot_curve(lengths,times,steps,doplot,doplot_logscale,smoothing_filter,interpolate)\n",
    "        \n",
    "    return (outputs,curve,lengths,times,steps)\n",
    "    \n",
    "    "
   ]
  },
  {
   "cell_type": "code",
   "execution_count": null,
   "metadata": {
    "collapsed": true
   },
   "outputs": [],
   "source": [
    "def step_pc(inc_step=1):\n",
    "    '''Increment the global counter of number of steps'''\n",
    "    global program_step_counter\n",
    "    # sys.stdout.write('*')\n",
    "    program_step_counter += inc_step"
   ]
  },
  {
   "cell_type": "code",
   "execution_count": null,
   "metadata": {
    "collapsed": false
   },
   "outputs": [],
   "source": [
    "def integer_hist(map, n = None):\n",
    "    '''histogram of an array/list of integers'''\n",
    "    if not n:\n",
    "        n = max(map)\n",
    "    plt.hist(map,bins=np.linspace(0,n,n+1))\n",
    "    plt.xlabel('Value')\n",
    "    plt.ylabel('Frequency')\n",
    "    plt.show()"
   ]
  },
  {
   "cell_type": "code",
   "execution_count": null,
   "metadata": {
    "collapsed": true
   },
   "outputs": [],
   "source": [
    "def poly_and_log(lengths,a,b,c):\n",
    "    '''compute a function of the form f(n)=a*n^b*(log n)^c where c is effectively in {0,1}'''\n",
    "    # print 'n,a,b,c:',n,a,b,c\n",
    "    c = max(0,1-(c-1)*(c-1))\n",
    "    print \"n=\",n\n",
    "    ans = np.multiply(a*np.power(n,b),np.power(np.log2(n),c))\n",
    "    print \"ans=\",ans\n",
    "    return ans"
   ]
  },
  {
   "cell_type": "code",
   "execution_count": null,
   "metadata": {
    "collapsed": true
   },
   "outputs": [],
   "source": [
    "def mylog2(n):\n",
    "    return math.log(max(n,2),2)"
   ]
  },
  {
   "cell_type": "code",
   "execution_count": null,
   "metadata": {
    "collapsed": false
   },
   "outputs": [],
   "source": [
    "def myround(x):\n",
    "    return round(5*x)/5\n",
    "\n",
    "def fit_poly_log(lengths,steps,smoothing_filter=False, allow_logs = True):\n",
    "    \"\"\"Fit to the steps vs lengths curve a function that has the form a*n^b(log n)^c \n",
    "       for some very specific choices of a,b,c\n",
    "    \"\"\"\n",
    "    # print \"fitting lengths, steps:\", len(lengths),len(steps),lengths[:5],steps[:5]\n",
    "    if allow_logs:\n",
    "        funcs = [(lambda n:n**3),(lambda n: (n**2)*mylog2(n)),(lambda n: n**2),(lambda n: n*mylog2(n)),\n",
    "                     (lambda n: n),(lambda n: mylog2(n))]\n",
    "        descs = [r\"n^3\",r\"n^2\\log n\",r\"n^2\",r\"n\\log n\",r\"n\",r\"\\log n\"]\n",
    "    else:\n",
    "        funcs = [(lambda n:n**3),(lambda n: n**2), (lambda n: n)]\n",
    "        descs = [r\"n^3\",r\"n^2\",r\"n\"]\n",
    "        \n",
    "    \n",
    "    features = [[funcs[i](n) for i in range(len(funcs))] for n in lengths]\n",
    "    # print \"Features:\", features\n",
    "    features = np.reshape(features,(-1,len(funcs)))\n",
    "    if smoothing_filter:\n",
    "        window_size = int(len(steps)/10)\n",
    "        window_size = window_size + (window_size % 2) - 1\n",
    "        if window_size >= 5:\n",
    "            steps = savitzky_golay(steps, window_size, 3)\n",
    "    \n",
    "    steps = np.reshape(steps,(-1,1))\n",
    "    \n",
    "    # print \"Features, steps\", features[:5],steps[:5]\n",
    "    #clf = linear_model.LinearRegression()\n",
    "    clf = linear_model.LassoLars(max_iter=10000,alpha = 1.0, fit_intercept=False, positive=True)\n",
    "    #clf = linear_model.RANSACRegressor(clf,residual_threshold=np.max(steps))\n",
    "    clf.fit (features,steps)\n",
    "    # return map(lambda c: round(c) if abs(c-round(c))<0.2  c,cls.coefs_)\n",
    "    # print \"Found coefficients:\", clf.coef_\n",
    "    coefs = [myround(i) for i in clf.coef_]\n",
    "    # print \"Rounded coefs:\", coefs\n",
    "    nonzero = np.nonzero(coefs)\n",
    "    print nonzero\n",
    "    if not len(nonzero[0]):\n",
    "        return (lambda(n): 0 , \"the zero function\")\n",
    "    idx = nonzero[0][0]\n",
    "    coef = coefs[idx]\n",
    "    curve_text = \"$\" + (\"\" if coef==1 else \"{:}\".format(coef))+descs[idx]+\"$\"\n",
    "    \n",
    "    return (lambda(n): coef*funcs[idx](n) , curve_text)"
   ]
  },
  {
   "cell_type": "code",
   "execution_count": null,
   "metadata": {
    "collapsed": true
   },
   "outputs": [],
   "source": [
    "\n",
    "    "
   ]
  },
  {
   "cell_type": "code",
   "execution_count": null,
   "metadata": {
    "collapsed": false
   },
   "outputs": [],
   "source": [
    "def fit_exp(lengths,steps):\n",
    "    EXP_MIN = 0.4\n",
    "    observations = np.reshape([mylog2(n) for n in steps],(-1,1))\n",
    "    lengths = np.reshape(lengths,(-1,1))\n",
    "    # print \"lengths, observations:\", len(lengths),len(observations), lengths[:5], observations[:5]\n",
    "    \n",
    "    clf = linear_model.LinearRegression()\n",
    "    clf.fit (lengths,observations)\n",
    "    # return map(lambda c: round(c) if abs(c-round(c))<0.2 else c,cls.coefs_)\n",
    "    slope = round(clf.coef_[0][0],2)    \n",
    "    if slope < EXP_MIN:\n",
    "        return (None,None) # this is not an exponential function\n",
    "    \n",
    "    scale = int(round(2**clf.intercept_))\n",
    "    curve_text = \"$\"+ (\"\" if scale==1 else \"{:d}\".format(scale)) + r\"\\exp({0:g}n)\".format(slope)+\"$\"\n",
    "    return (lambda n: scale*(2**(slope*n)) , curve_text)"
   ]
  },
  {
   "cell_type": "code",
   "execution_count": null,
   "metadata": {
    "collapsed": false
   },
   "outputs": [],
   "source": [
    "def plot_curve(lengths,times,steps,doplot=True, doplot_logscale=True, smoothing_filter = False,interpolate=True):\n",
    "    '''fit best curve to time vs input length curve'''\n",
    "    plot_steps = any(steps)\n",
    "    orig_steps = steps\n",
    "    steps = map(lambda s: max(2,s),steps) if plot_steps else map(lambda s: int(s*(10**6)), times)\n",
    "    curve_scale = sum(times)/sum(steps) if plot_steps else 10**(-6)\n",
    "    times = map(lambda n: (10**6)*n, times)\n",
    "    print 'plot_steps:', plot_steps\n",
    "    print '{0:0.3f} micro-seconds per step'.format(curve_scale*(10**6))\n",
    "    curve_text = '(none)'\n",
    "    exponential = False\n",
    "    EXP_SLOPE  = 0.4\n",
    "    MIN_FRACTION = 0.01\n",
    "    \n",
    "    \n",
    "    if interpolate:\n",
    "        (step_curve, curve_text)= (fit_exp(lengths,steps) if plot_steps else fit_exp(lengths,times))\n",
    "        if step_curve:\n",
    "            exponential = True\n",
    "        else:\n",
    "            (step_curve,curve_text) = fit_poly_log(lengths,steps, smoothing_filter)\n",
    "\n",
    "        print \"Curve (steps):\", curve_text \n",
    "\n",
    "        def curve(n):\n",
    "            return curve_scale * step_curve(n)\n",
    "\n",
    "        approx = [max(step_curve(n),2) for n in lengths]\n",
    "    else:\n",
    "        def curve(n): \n",
    "            return 1\n",
    "    \n",
    "    if doplot:\n",
    "        fig, ax1 = plt.subplots()\n",
    "        ax2 = ax1.twinx()\n",
    "        ax3 = ax1.twinx()\n",
    "        lns1 = ax1.plot(lengths, times, 'g-',label='time')\n",
    "        if plot_steps:\n",
    "            lns2 = ax2.plot(lengths, orig_steps, 'b-',label='steps')\n",
    "        if interpolate:\n",
    "            lns3 = ax3.plot(lengths,approx,'r--',label='curve')\n",
    "        ax3.get_yaxis().set_visible(False)\n",
    "        \n",
    "        # added these three lines\n",
    "        lns = lns1\n",
    "        if plot_steps:\n",
    "            lns += lns2\n",
    "        if interpolate:\n",
    "            lns += lns3\n",
    "        labs = [l.get_label() for l in lns]\n",
    "        ax1.legend(lns, labs, loc=0)\n",
    "\n",
    "        #plt.legend()\n",
    "        ax3.plot(lengths,approx,'r--')\n",
    "        ax1.set_xlabel('Input length')\n",
    "        ax1.set_ylabel(r'Time ($\\mu$s)', color='g')\n",
    "        if plot_steps:\n",
    "            ax2.set_ylabel('Steps', color='b')\n",
    "        \n",
    "        if interpolate:\n",
    "            fig.suptitle(r'Best fit: ${:0.3g} \\times$'.format(curve_scale*(10**6))+curve_text) \n",
    "        plt.show()\n",
    "        \n",
    "        if doplot_logscale:\n",
    "            fig, bx1 = plt.subplots()\n",
    "            bx2 = bx1.twinx()\n",
    "            bx3 = bx1.twinx()\n",
    "            lns1= bx1.plot(lengths, [mylog2(n) for n in times], 'g-',label='log time')\n",
    "            if plot_steps:\n",
    "                lns2= bx2.plot(lengths, [mylog2(n) for n in steps], 'b-',label='log steps')\n",
    "            if interpolate:\n",
    "                lns3 = bx3.plot(lengths,np.log2(approx),'r--',label='log curve')\n",
    "            \n",
    "            lns = lns1\n",
    "            if plot_steps:\n",
    "                lns += lns2\n",
    "            if interpolate:\n",
    "                lns += lns3\n",
    "\n",
    "            labs = [l.get_label() for l in lns]\n",
    "            bx1.legend(lns, labs, loc=0)\n",
    "            \n",
    "            bx3.get_yaxis().set_visible(False)        \n",
    "            bx1.set_xlabel('Input length')\n",
    "            bx1.set_ylabel('log time', color='g')\n",
    "            if plot_steps:\n",
    "                bx2.set_ylabel('log steps', color='b')\n",
    "            #plt.legend()\n",
    "            fig.suptitle('Log scale') \n",
    "            plt.show()\n",
    "        \n",
    "    return curve\n",
    "        \n",
    "    \n",
    "    "
   ]
  },
  {
   "cell_type": "code",
   "execution_count": null,
   "metadata": {
    "collapsed": false
   },
   "outputs": [],
   "source": [
    "def mytest(n):\n",
    "    for i in range(int(n*math.log10(n))):\n",
    "        step_pc()\n",
    "\n",
    "# (o,c,_1,_2,_3) = timer(mytest,[n+1 for n in range(100)]);"
   ]
  },
  {
   "cell_type": "markdown",
   "metadata": {},
   "source": [
    "# Meoization"
   ]
  },
  {
   "cell_type": "code",
   "execution_count": null,
   "metadata": {
    "collapsed": true
   },
   "outputs": [],
   "source": [
    "def memoized(f, return_table = False):\n",
    "    '''Return a \"memoized\" version of the function f using internal mem_table.'''\n",
    "    mem_table = dict()\n",
    "    def g(*input):\n",
    "        # step_pc()\n",
    "        key = repr(input)\n",
    "        print \"Key:\",key\n",
    "        if key not in mem_table:\n",
    "            print \"not found - now value is\", mem_table[key]\n",
    "            mem_table[key] = f(*input)\n",
    "            return mem_table[key]\n",
    "        else:\n",
    "            return mem_table[key]\n",
    "    g.non_memoized = f\n",
    "    return (g,mem_table) if return_table else g"
   ]
  },
  {
   "cell_type": "markdown",
   "metadata": {},
   "source": [
    "# Graph utilities"
   ]
  },
  {
   "cell_type": "code",
   "execution_count": null,
   "metadata": {
    "collapsed": true
   },
   "outputs": [],
   "source": [
    "import networkx as nx"
   ]
  },
  {
   "cell_type": "code",
   "execution_count": null,
   "metadata": {
    "collapsed": true
   },
   "outputs": [],
   "source": [
    "def list_to_graph(L):\n",
    "    # print \"L=\",L\n",
    "    G=nx.Graph()\n",
    "    for i in range(len(L)):\n",
    "        G.add_node(i)\n",
    "        # print \"i,L[i]\",i,L[i]\n",
    "        for j in L[i]:\n",
    "            G.add_edge(i,j)\n",
    "    return G"
   ]
  },
  {
   "cell_type": "code",
   "execution_count": null,
   "metadata": {
    "collapsed": false
   },
   "outputs": [],
   "source": [
    "def nxpos(x,y):\n",
    "    return np.transpose(np.asarray([x,y],dtype=np.float32))"
   ]
  },
  {
   "cell_type": "code",
   "execution_count": null,
   "metadata": {
    "collapsed": false
   },
   "outputs": [],
   "source": [
    "def grid_layout(G):\n",
    "    \"\"\"Takes nx.Graph object which we assume is a two dimensional grid and\n",
    "       returns a layout for it.\n",
    "    \"\"\"\n",
    "    n = nx.number_of_nodes(G)\n",
    "    k = int(math.floor(math.sqrt(n)))\n",
    "    _dict = {}\n",
    "    for i in range(k):\n",
    "        for j in range(k):\n",
    "            _dict[k*i+j] = nxpos(float(i)/float(k),float(j)/float(k))\n",
    "    t = n-k*k\n",
    "    for u in range(t):\n",
    "        _dict[k*k+u]=nxpos(1,float(u)/float(t))\n",
    "    return _dict"
   ]
  },
  {
   "cell_type": "code",
   "execution_count": null,
   "metadata": {
    "collapsed": true
   },
   "outputs": [],
   "source": [
    "def spring100_layout(G):\n",
    "        return nx.spring_layout(G,iterations=100)   "
   ]
  },
  {
   "cell_type": "code",
   "execution_count": null,
   "metadata": {
    "collapsed": true
   },
   "outputs": [],
   "source": [
    "def choose_layout_method(my_layout_method):\n",
    "    L = [nx.shell_layout\n",
    "         , spring100_layout, nx.spectral_layout]\n",
    "    S = [grid_layout] # special methods - only chosen if selected by name\n",
    "    M = [f for f in L+S if f.__name__ == my_layout_method]\n",
    "    return (M[0] if M else random.choice(L))\n"
   ]
  },
  {
   "cell_type": "code",
   "execution_count": null,
   "metadata": {
    "collapsed": false
   },
   "outputs": [],
   "source": [
    "def draw_graph(G, my_layout_method=None):\n",
    "    if not isinstance(G,nx.Graph):\n",
    "        G = list_to_graph(G)\n",
    "    f = choose_layout_method(my_layout_method)    \n",
    "    print f.__name__\n",
    "    nx.draw(G,pos=f(G))\n",
    "    # plt.savefig(\"simple_path.png\") # save as png\n",
    "    plt.show() "
   ]
  },
  {
   "cell_type": "code",
   "execution_count": null,
   "metadata": {
    "collapsed": true
   },
   "outputs": [],
   "source": [
    "_my.anim_graph = None \n",
    "_my.anim_layout = None\n",
    "_my.anim_colors = None\n",
    "_my.anim_ax = None\n",
    "_my.anim_fig = None\n",
    "_my.anim_layout = None\n",
    "_my.anim = None"
   ]
  },
  {
   "cell_type": "code",
   "execution_count": null,
   "metadata": {
    "collapsed": true
   },
   "outputs": [],
   "source": [
    "def initialize_animation(G,default_color = 'w', my_layout_method = None):\n",
    "    # print \"Graph:\", G\n",
    "    _my.anim_graph = list_to_graph(G)\n",
    "    # print \"Graph (nx):\",_my.anim_graph\n",
    "    _my.anim_fig, _my.anim_ax = plt.subplots()\n",
    "    f = choose_layout_method(my_layout_method)\n",
    "    # print \"Method =\", f\n",
    "    _my.anim_layout = f(_my.anim_graph)\n",
    "    # print \"Layout=\", _my.anim_layout\n",
    "    _my.anim_colors = [ [default_color for i in range(len(G))]]\n",
    "\n",
    "def color(i,new_color):\n",
    "    last_list = _my.anim_colors[-1]\n",
    "    new_list = [c for c in last_list]\n",
    "    new_list[i] = new_color\n",
    "    _my.anim_colors.append(new_list)\n",
    "\n",
    "def animate(i):\n",
    "    nx.draw(_my.anim_graph, pos=_my.anim_layout, node_color = _my.anim_colors[i], ax = _my.anim_ax)\n",
    "\n",
    "def show_animation(total_time = 30):\n",
    "    anim = animation.FuncAnimation(_my.anim_fig, animate, \n",
    "                                   frames=len(_my.anim_colors), \n",
    "                                   interval=(total_time*1000)/len(_my.anim_colors), \n",
    "                                   blit=False, repeat=False)\n",
    "    _my.anim = anim\n",
    "    print 'saving..'\n",
    "    anim.save('alg_viz.mp4')\n",
    "    print 'rendering..'\n",
    "    return HTML(anim.to_html5_video())"
   ]
  },
  {
   "cell_type": "code",
   "execution_count": null,
   "metadata": {
    "collapsed": false
   },
   "outputs": [],
   "source": [
    "# G = [[1],[2],[0]]\n",
    "# initialize_animation(G)\n",
    "# color(0,'r')\n",
    "# color(1,'r')\n",
    "# color(2,'r')\n",
    "# show_animation()"
   ]
  },
  {
   "cell_type": "code",
   "execution_count": null,
   "metadata": {
    "collapsed": true
   },
   "outputs": [],
   "source": []
  }
 ],
 "metadata": {
  "anaconda-cloud": {},
  "kernelspec": {
   "display_name": "Python [Root]",
   "language": "python",
   "name": "Python [Root]"
  },
  "language_info": {
   "codemirror_mode": {
    "name": "ipython",
    "version": 2
   },
   "file_extension": ".py",
   "mimetype": "text/x-python",
   "name": "python",
   "nbconvert_exporter": "python",
   "pygments_lexer": "ipython2",
   "version": "2.7.12"
  }
 },
 "nbformat": 4,
 "nbformat_minor": 0
}
