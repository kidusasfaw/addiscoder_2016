{
 "cells": [
  {
   "cell_type": "code",
   "execution_count": 77,
   "metadata": {
    "collapsed": false
   },
   "outputs": [
    {
     "name": "stdout",
     "output_type": "stream",
     "text": [
      "0\n",
      "1\n",
      "2\n",
      "3\n",
      "4\n"
     ]
    }
   ],
   "source": [
    "#today we are going to cover while loops.\n",
    "#While loops are very similar to for loops. \n",
    "#To review, what does this print?\n",
    "for x in range(5):\n",
    "    print x"
   ]
  },
  {
   "cell_type": "code",
   "execution_count": 86,
   "metadata": {
    "collapsed": false
   },
   "outputs": [
    {
     "name": "stdout",
     "output_type": "stream",
     "text": [
      "1\n",
      "2\n",
      "4\n",
      "5\n"
     ]
    }
   ],
   "source": [
    "#How do I do the same thing in while loops\n",
    "#while ....:\n",
    "    #do something\n",
    "#the code indented in the next line after the while loop is only \n",
    "#executed if the thing next to the while statement evaluates to True.\n",
    "\n",
    "#Example\n",
    "x=0\n",
    "while True:\n",
    "    x += 1 #x=3\n",
    "    if x==3:\n",
    "        continue\n",
    "    print x\n",
    "    if x==5:\n",
    "        break\n",
    "#what does this print?\n",
    "#In this case, True is always True, \n",
    "#so the while loop executes until we break. "
   ]
  },
  {
   "cell_type": "code",
   "execution_count": 88,
   "metadata": {
    "collapsed": false
   },
   "outputs": [
    {
     "name": "stdout",
     "output_type": "stream",
     "text": [
      "1\n",
      "2\n",
      "4\n",
      "5\n",
      "6\n"
     ]
    }
   ],
   "source": [
    "#Example\n",
    "x=0\n",
    "while x<=5:\n",
    "    x += 1 \n",
    "    if x==3:\n",
    "        continue\n",
    "    print x\n",
    "    #if x==5:\n",
    "    #    break"
   ]
  },
  {
   "cell_type": "code",
   "execution_count": 91,
   "metadata": {
    "collapsed": false
   },
   "outputs": [
    {
     "name": "stdout",
     "output_type": "stream",
     "text": [
      "0\n",
      "[1]\n",
      "1\n",
      "[1, 2]\n",
      "2\n",
      "[1, 2, 3]\n",
      "3\n",
      "[1, 2, 3, 4]\n",
      "4\n",
      "[1, 2, 3, 4, 5]\n",
      "5\n",
      "[1, 2, 3, 4, 5, 6]\n",
      "[1, 2, 3, 4, 5, 6]\n"
     ]
    }
   ],
   "source": [
    "#what does this print?\n",
    "y=0\n",
    "x = []\n",
    "while y <=5:\n",
    "    print y      #y=4\n",
    "    y += 1       #y=5\n",
    "    x += [y]     #x=[1,2,3,4,5]\n",
    "    print x      \n",
    " \n",
    "#x += [y] \n",
    "print x "
   ]
  },
  {
   "cell_type": "code",
   "execution_count": 92,
   "metadata": {
    "collapsed": false
   },
   "outputs": [
    {
     "name": "stdout",
     "output_type": "stream",
     "text": [
      "1\n",
      "3\n",
      "5\n"
     ]
    }
   ],
   "source": [
    "#Example: Both of these code examples print \n",
    "#only the odd numbers between 0 and 5.\n",
    "myList = [0, 1, 2, 3, 4, 5, 6, 7, 8, 9, 10]\n",
    "for x in myList:\n",
    "    if x > 5: \n",
    "        break\n",
    "    elif x%2 == 0:\n",
    "        continue\n",
    "    else:\n",
    "        print x"
   ]
  },
  {
   "cell_type": "code",
   "execution_count": 93,
   "metadata": {
    "collapsed": false
   },
   "outputs": [
    {
     "name": "stdout",
     "output_type": "stream",
     "text": [
      "1\n",
      "3\n",
      "5\n"
     ]
    }
   ],
   "source": [
    "# Example with while loop. What does this do?\n",
    "x=0\n",
    "while True:\n",
    "    if x > 5: \n",
    "        break\n",
    "    elif x%2 == 0:\n",
    "        x += 1\n",
    "        continue\n",
    "    else:\n",
    "        print x\n",
    "    x += 1"
   ]
  },
  {
   "cell_type": "code",
   "execution_count": null,
   "metadata": {
    "collapsed": true
   },
   "outputs": [],
   "source": [
    "# Example with while loop. What does this do?\n",
    "x=0\n",
    "while True:\n",
    "    if x > 5: \n",
    "        break\n",
    "    elif x%2 == 0:\n",
    "        #x += 1 <---now what happens if I don't have this line?\n",
    "        continue\n",
    "    else:\n",
    "        print x\n",
    "    x += 1\n",
    "    \n",
    "#You should always be careful when you use while loops.\n",
    "#Because if you don't tell it when to stop, a while loop\n",
    "#can go on forever. "
   ]
  },
  {
   "cell_type": "code",
   "execution_count": null,
   "metadata": {
    "collapsed": true
   },
   "outputs": [],
   "source": [
    "# Example with while loop. What does this do?\n",
    "x=0\n",
    "while True:\n",
    "    if x > 5: \n",
    "        break\n",
    "    elif x%2 == 0:\n",
    "        x += 1 \n",
    "        continue\n",
    "    else:\n",
    "        print x\n",
    "    x += 1 #<---now what happens if I don't have this line?"
   ]
  }
 ],
 "metadata": {
  "anaconda-cloud": {},
  "kernelspec": {
   "display_name": "Python [Root]",
   "language": "python",
   "name": "Python [Root]"
  },
  "language_info": {
   "codemirror_mode": {
    "name": "ipython",
    "version": 2
   },
   "file_extension": ".py",
   "mimetype": "text/x-python",
   "name": "python",
   "nbconvert_exporter": "python",
   "pygments_lexer": "ipython2",
   "version": "2.7.12"
  }
 },
 "nbformat": 4,
 "nbformat_minor": 0
}
