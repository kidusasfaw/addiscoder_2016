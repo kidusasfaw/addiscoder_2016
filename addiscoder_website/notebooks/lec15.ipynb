{
 "cells": [
  {
   "cell_type": "markdown",
   "metadata": {},
   "source": [
    "# More memoization"
   ]
  },
  {
   "cell_type": "markdown",
   "metadata": {
    "slideshow": {
     "slide_type": "slide"
    }
   },
   "source": [
    "# Example: number of ways to sum up to an integer\n",
    "\n",
    "Let ```numWays(n)``` be the number of ways to write a nonnegative integer ```n``` as the sum\n",
    "of positive integers. For example, there are ```8``` ways of writing ```4```: ```1 + 1 + 1 + 1, 2 + 1 + 1, 1 + 2 + 1, 1 + 1 + 2, 2 + 2, 1 + 3, 3 + 1```, and ```4```. One can show by induction that ```numWays(n)``` = $2^{n−1}$ , but let’s see how to calculate it using recursion and memoization."
   ]
  },
  {
   "cell_type": "markdown",
   "metadata": {
    "slideshow": {
     "slide_type": "slide"
    }
   },
   "source": [
    "### Recursive implementation without memoization"
   ]
  },
  {
   "cell_type": "code",
   "execution_count": 8,
   "metadata": {
    "collapsed": false,
    "slideshow": {
     "slide_type": "slide"
    }
   },
   "outputs": [],
   "source": [
    "def numWays(n):\n",
    "    if n==0:\n",
    "        return 1\n",
    "    ans = 0\n",
    "    for i in range(1, n+1):\n",
    "        # try the first number in sum being i, then the remaining part must sum to n-i\n",
    "        ans += numWays(n-i)\n",
    "    return ans"
   ]
  },
  {
   "cell_type": "markdown",
   "metadata": {
    "collapsed": false,
    "slideshow": {
     "slide_type": "slide"
    }
   },
   "source": [
    "### With memoization"
   ]
  },
  {
   "cell_type": "code",
   "execution_count": 9,
   "metadata": {
    "collapsed": false,
    "slideshow": {
     "slide_type": "fragment"
    }
   },
   "outputs": [],
   "source": [
    "def memNumWays(n, seen, mem):\n",
    "    if n==0:\n",
    "        return 1\n",
    "    elif seen[n]:\n",
    "        return mem[n]\n",
    "    seen[n] = True\n",
    "    mem[n] = 0\n",
    "    for i in range(1, n+1):\n",
    "        mem[n] += memNumWays(n-i, seen, mem)\n",
    "    return mem[n]\n",
    "\n",
    "def numWaysFast(n):\n",
    "    seen = [False]*(n+1)\n",
    "    mem = [0]*(n+1)\n",
    "    return memNumWays(n, seen, mem)"
   ]
  },
  {
   "cell_type": "code",
   "execution_count": 10,
   "metadata": {
    "collapsed": false,
    "slideshow": {
     "slide_type": "fragment"
    }
   },
   "outputs": [
    {
     "data": {
      "text/plain": [
       "8"
      ]
     },
     "execution_count": 10,
     "metadata": {},
     "output_type": "execute_result"
    }
   ],
   "source": [
    "numWays(4)"
   ]
  },
  {
   "cell_type": "code",
   "execution_count": 11,
   "metadata": {
    "collapsed": false,
    "slideshow": {
     "slide_type": "fragment"
    }
   },
   "outputs": [
    {
     "data": {
      "text/plain": [
       "8192"
      ]
     },
     "execution_count": 11,
     "metadata": {},
     "output_type": "execute_result"
    }
   ],
   "source": [
    "numWays(14)"
   ]
  },
  {
   "cell_type": "code",
   "execution_count": 15,
   "metadata": {
    "collapsed": false,
    "slideshow": {
     "slide_type": "fragment"
    }
   },
   "outputs": [
    {
     "data": {
      "text/plain": [
       "8388608"
      ]
     },
     "execution_count": 15,
     "metadata": {},
     "output_type": "execute_result"
    }
   ],
   "source": [
    "numWays(24)"
   ]
  },
  {
   "cell_type": "code",
   "execution_count": 16,
   "metadata": {
    "collapsed": false,
    "slideshow": {
     "slide_type": "fragment"
    }
   },
   "outputs": [
    {
     "data": {
      "text/plain": [
       "8388608"
      ]
     },
     "execution_count": 16,
     "metadata": {},
     "output_type": "execute_result"
    }
   ],
   "source": [
    "# now using the memoized version\n",
    "numWaysFast(24)"
   ]
  },
  {
   "cell_type": "markdown",
   "metadata": {
    "slideshow": {
     "slide_type": "slide"
    }
   },
   "source": [
    "### Another example\n",
    "\n",
    "What if we want to compute a function distinctNumWays(n) which doesn’t differentiate between different orderings of the same sum? For example, it treats ```1 + 1 + 2``` and ```2 + 1 + 1``` as the same sum. So, there would only be ```5``` ways to sum up to the number ```4```: ```1 + 1 + 1 + 1, 1 + 2 + 2, 2 + 2, 1 + 3, 4```.\n",
    "\n",
    "We can calculate ```distinctNumWays(n)``` recursively as well, by generating all ways of forming ```n``` where the integers in the sum are generating in nondecreasing order. That is, we would not generate ```2 + 1 + 1``` or ```1 + 2 + 1``` since the integers do not appear in nondecreasing order; we would only generate ```1 + 1 + 2```. That way, we never count each sum exactly once."
   ]
  },
  {
   "cell_type": "code",
   "execution_count": 19,
   "metadata": {
    "collapsed": true,
    "slideshow": {
     "slide_type": "fragment"
    }
   },
   "outputs": [],
   "source": [
    "# how many ways are there to sum up to n, not counting different\n",
    "# orderings of the sum, when the smallest number must be at least\n",
    "# atLeast\n",
    "def recurse(n, atLeast):\n",
    "    if n==0:\n",
    "        return 1\n",
    "    ans = 0\n",
    "    for i in range(atLeast, n+1):\n",
    "        ans += recurse(n-i, i)\n",
    "    return ans\n",
    "\n",
    "def distinctNumWays(n):\n",
    "    return recurse(n, 1)"
   ]
  },
  {
   "cell_type": "markdown",
   "metadata": {
    "slideshow": {
     "slide_type": "slide"
    }
   },
   "source": [
    "### Now with memoization"
   ]
  },
  {
   "cell_type": "code",
   "execution_count": 35,
   "metadata": {
    "collapsed": false,
    "slideshow": {
     "slide_type": "fragment"
    }
   },
   "outputs": [],
   "source": [
    "def recurseMem(n, atLeast, seen, mem):\n",
    "    if n==0:\n",
    "        return 1\n",
    "    elif seen[n][atLeast]:\n",
    "        return mem[n][atLeast]\n",
    "    seen[n][atLeast] = True\n",
    "    mem[n][atLeast] = 0\n",
    "    for i in range(atLeast, n+1):\n",
    "        mem[n][atLeast] += recurseMem(n-i, i, seen, mem)\n",
    "    return mem[n][atLeast]\n",
    "\n",
    "def distinctNumWaysFast(n):\n",
    "    mem = [[-1 for x in range(n+1)] for y in range(n+1)]\n",
    "    seen = [[False for x in range(n+1)] for y in range(n+1)]\n",
    "    return recurseMem(n, 1, seen, mem)"
   ]
  },
  {
   "cell_type": "code",
   "execution_count": 21,
   "metadata": {
    "collapsed": false,
    "slideshow": {
     "slide_type": "fragment"
    }
   },
   "outputs": [
    {
     "data": {
      "text/plain": [
       "5"
      ]
     },
     "execution_count": 21,
     "metadata": {},
     "output_type": "execute_result"
    }
   ],
   "source": [
    "distinctNumWays(4)"
   ]
  },
  {
   "cell_type": "code",
   "execution_count": 31,
   "metadata": {
    "collapsed": false,
    "slideshow": {
     "slide_type": "fragment"
    }
   },
   "outputs": [
    {
     "data": {
      "text/plain": [
       "966467"
      ]
     },
     "execution_count": 31,
     "metadata": {},
     "output_type": "execute_result"
    }
   ],
   "source": [
    "distinctNumWays(60)"
   ]
  },
  {
   "cell_type": "code",
   "execution_count": 36,
   "metadata": {
    "collapsed": false,
    "slideshow": {
     "slide_type": "fragment"
    }
   },
   "outputs": [
    {
     "data": {
      "text/plain": [
       "966467"
      ]
     },
     "execution_count": 36,
     "metadata": {},
     "output_type": "execute_result"
    }
   ],
   "source": [
    "distinctNumWaysFast(60)"
   ]
  },
  {
   "cell_type": "markdown",
   "metadata": {
    "slideshow": {
     "slide_type": "slide"
    }
   },
   "source": [
    "### Last example: figuring out how to have the most fun at parties\n",
    "\n",
    "As asked yesterday: we saw how to figure out how to optimize a function using recursion/memoization, but what if we want to remember the decisions we made to obtain the optimal value?\n",
    "\n",
    "As discussed yesterday, suppose you have a budget of $D$ dollars. You are given a list $L$ of parties $[[c_0,f_0],\\ldots, [c_{n-1},f_{n-1}]]$ where the $i^{th}$ party costs $c_i$ to attend and will give you $f_i$ units of fun. Yesterday we asked: is the maximum amount of fun you can have with your budget?\n",
    "\n",
    "Today we will ask the question: what if you want to know specifically <b>which</b> parties to attend to have the most fun while respecting the budget constraint?"
   ]
  },
  {
   "cell_type": "code",
   "execution_count": 48,
   "metadata": {
    "collapsed": false,
    "slideshow": {
     "slide_type": "slide"
    }
   },
   "outputs": [],
   "source": [
    "def maximum_fun_recur2(D,L,seen,mem,choices):\n",
    "    \"\"\"returns the maximum amount of fun we can have with D dollars attending the parties listed in L, \n",
    "    where L is a tuple/list containing pairs (c,f) of cost/fun for every party.\"\"\"\n",
    "    if seen[D][len(L)]:\n",
    "        return (mem[D][len(L)],choices)\n",
    "    if len(L)==0:\n",
    "        # if L is empty then we can't have any fun\n",
    "        seen[D][0] = True\n",
    "        mem[D][0]=0\n",
    "        return (0,choices)\n",
    "    seen[D][len(L)] = True\n",
    "    fun_if_skip_first_party,c = maximum_fun_recur2(D,L[1:],seen,mem,choices) # the amount of fun we can have if we skip first party \n",
    "    if D<L[0][0]: # if we can't afford to attend the first party then we have no choices to make\n",
    "        mem[D][len(L)] = fun_if_skip_first_party\n",
    "        choices[D][len(L)] = 'D' # 'D' means \"don't go\" to first party\n",
    "        return (fun_if_skip_first_party,choices)\n",
    "    # otherwise we will check both options and see what's the maximum fun we can have\n",
    "    fun_if_attend_first_party,c = maximum_fun_recur2(D-L[0][0], L[1:],seen,mem,choices)\n",
    "    if fun_if_skip_first_party > L[0][1]+fun_if_attend_first_party:\n",
    "        mem[D][len(L)] = fun_if_skip_first_party\n",
    "        choices[D][len(L)] = 'D'\n",
    "    else:\n",
    "        mem[D][len(L)] = L[0][1]+fun_if_attend_first_party\n",
    "        choices[D][len(L)] = 'G' # 'G' means \"go\" to first party\n",
    "    return (mem[D][len(L)], choices)\n",
    "\n",
    "def memoized_maximum_fun2(D,L):\n",
    "    seen = [[False]*(len(L)+1) for i in range(D+1)]\n",
    "    mem = [[-1]*(len(L)+1) for i in range(D+1)]\n",
    "    choices = [[-1]*(len(L)+1) for i in range(D+1)]\n",
    "    return maximum_fun_recur2(D,L,seen,mem,choices)\n",
    "\n",
    "def whichParties(D, L):\n",
    "    best,choices = memoized_maximum_fun2(D, L)\n",
    "    parties = []\n",
    "    while len(L) > 0:\n",
    "        c = choices[D][len(L)]\n",
    "        if c == 'G':\n",
    "            parties += [L[0]]\n",
    "            D -= L[0][0]\n",
    "        L = L[1:]\n",
    "    return parties\n",
    "    "
   ]
  },
  {
   "cell_type": "code",
   "execution_count": 49,
   "metadata": {
    "collapsed": false,
    "slideshow": {
     "slide_type": "slide"
    }
   },
   "outputs": [
    {
     "data": {
      "text/plain": [
       "[(1, 6), (2, 10)]"
      ]
     },
     "execution_count": 49,
     "metadata": {},
     "output_type": "execute_result"
    }
   ],
   "source": [
    "whichParties(4,((1,6),(2,5),(3,6),(2,10)))"
   ]
  },
  {
   "cell_type": "markdown",
   "metadata": {
    "slideshow": {
     "slide_type": "slide"
    }
   },
   "source": [
    "### Exercise 1\n",
    "\n",
    "Remember in yesterday's exercises, you were given an arithmetic expression with digits separated by `*` and `+` and were asked: how can you parenthesize the expression so as to maximize its value?  For example, with the expression $1+2*3+4*5$ the best way of parenthesizing it is $(1+2)*((3+4)*5)$, giving $105$. For example, parenthesizing it as $1+((2*3)+(4*5))$ would only give $27$.\n",
    "\n",
    "In today's lab, implement a function ```withParens(s)``` which outputs the string ```s``` parenthesized in a way that achieves the maximum value. For example, ```withParens```(`'1+2*3+4*5'`) should return `'(1+2)*((3+4)*5)'`"
   ]
  },
  {
   "cell_type": "code",
   "execution_count": 15,
   "metadata": {
    "collapsed": false,
    "slideshow": {
     "slide_type": "fragment"
    }
   },
   "outputs": [],
   "source": [
    "def withParens(s):\n",
    "    # write your code here\n",
    "    pass"
   ]
  },
  {
   "cell_type": "markdown",
   "metadata": {},
   "source": [
    "### Exercise 2\n",
    "\n",
    "Consider the function ```makeChange(n,L)``` from yesterday's lab, which returned the minimum number of coins needed from the list of denominations ```L``` to make change for ```n``` cents. Write a function ```whichCoins(n, L)``` which actually returns a list of coins used to make change in this optimal way."
   ]
  },
  {
   "cell_type": "code",
   "execution_count": null,
   "metadata": {
    "collapsed": true
   },
   "outputs": [],
   "source": [
    "def whichCoins(n,L):\n",
    "    # write your code here\n",
    "    pass"
   ]
  }
 ],
 "metadata": {
  "anaconda-cloud": {},
  "celltoolbar": "Slideshow",
  "kernelspec": {
   "display_name": "Python [Root]",
   "language": "python",
   "name": "Python [Root]"
  },
  "language_info": {
   "codemirror_mode": {
    "name": "ipython",
    "version": 2
   },
   "file_extension": ".py",
   "mimetype": "text/x-python",
   "name": "python",
   "nbconvert_exporter": "python",
   "pygments_lexer": "ipython2",
   "version": "2.7.12"
  }
 },
 "nbformat": 4,
 "nbformat_minor": 0
}
