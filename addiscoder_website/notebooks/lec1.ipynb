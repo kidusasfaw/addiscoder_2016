{
 "cells": [
  {
   "cell_type": "code",
   "execution_count": null,
   "metadata": {
    "collapsed": true
   },
   "outputs": [],
   "source": [
    "#You need a language to communicate with a computer just like we have diferent\n",
    "#languages to communicate with each other\n",
    "#Different languages have different rules: grammar rules in English are different from rules in Amharic\n",
    "#Can you give me an example of rules that are different in english and Amharic?\n",
    "#The same way there are different langauges to communicate with computers\n",
    "#Each language has their own rules\n",
    "#But there are some things common to every language. For example, both English & Amharic have words.\n",
    "#Words are something common to all languages. \n",
    "#In this class we will learn about "
   ]
  },
  {
   "cell_type": "code",
   "execution_count": 298,
   "metadata": {
    "collapsed": false,
    "scrolled": true
   },
   "outputs": [
    {
     "data": {
      "text/plain": [
       "list"
      ]
     },
     "execution_count": 298,
     "metadata": {},
     "output_type": "execute_result"
    }
   ],
   "source": [
    "#Basic data types: int, long, float, bool, str, list.\n",
    "#Uncomment these one at a time to see what data type they are\n",
    "#Uncomment means remove # from the line\n",
    "#type(5) \n",
    "#type(5.0)\n",
    "#type('5')\n",
    "#type(True)\n",
    "#type(False)\n",
    "#type('My name is Timnit')\n",
    "#type([1,2,3,4])\n",
    "type(['timnit','5',6,True])"
   ]
  },
  {
   "cell_type": "code",
   "execution_count": 305,
   "metadata": {
    "collapsed": false
   },
   "outputs": [
    {
     "data": {
      "text/plain": [
       "2.0"
      ]
     },
     "execution_count": 305,
     "metadata": {},
     "output_type": "execute_result"
    }
   ],
   "source": [
    "#Operators for numerical data types (int,long,float)\n",
    "#+ adds 2 values just like math\n",
    "#What are other mathematical operators you know? (I just gave you a hint +)\n",
    "5+2 \n",
    "\n",
    "#- subtract 2 values\n",
    "5-2\n",
    "\n",
    "#* Multiply 2 values\n",
    "#5∗2\n",
    "\n",
    "#/ divide two values, rounds down for ints\n",
    "#5.0/2.0\n",
    "#5.0/2\n",
    "\n",
    "#%“mod”, remainder after division\n",
    "#5%2\n",
    "\n",
    "#∗∗exponentiation\n",
    "#5**2\n",
    "\n",
    "#division with floor (rounds down to integer value)\n",
    "5.0//2.0\n",
    "#5//2"
   ]
  },
  {
   "cell_type": "code",
   "execution_count": 311,
   "metadata": {
    "collapsed": false
   },
   "outputs": [
    {
     "data": {
      "text/plain": [
       "'def'"
      ]
     },
     "execution_count": 311,
     "metadata": {},
     "output_type": "execute_result"
    }
   ],
   "source": [
    "#Operators and indexing for strings\n",
    "#'hi' + ' there'\n",
    "#'hi'*3 \n",
    "#'abcdefg'[3] \n",
    "#'abcdefg'[3:5]"
   ]
  },
  {
   "cell_type": "code",
   "execution_count": 317,
   "metadata": {
    "collapsed": false
   },
   "outputs": [
    {
     "data": {
      "text/plain": [
       "True"
      ]
     },
     "execution_count": 317,
     "metadata": {},
     "output_type": "execute_result"
    }
   ],
   "source": [
    "#Operators for bools (True,False)\n",
    "#and, or, not\n",
    "#True and True\n",
    "#True and False\n",
    "#False and True\n",
    "#False and False\n",
    "#----------------\n",
    "#True or True\n",
    "#True or False\n",
    "#False or True\n",
    "#False or False\n",
    "#-----------------\n",
    "#not True\n",
    "#not False"
   ]
  },
  {
   "cell_type": "code",
   "execution_count": 323,
   "metadata": {
    "collapsed": false
   },
   "outputs": [
    {
     "data": {
      "text/plain": [
       "['b', 'c']"
      ]
     },
     "execution_count": 323,
     "metadata": {},
     "output_type": "execute_result"
    }
   ],
   "source": [
    "#Operators for lists\n",
    "#+ concatenates two lists\n",
    "#'5' #What type is this str,bool,int \n",
    "#[5] + [2]\n",
    "#* repeat a list several times (list*int or int*list)\n",
    "#[1,2]*3 \n",
    "#[i] gives ith element in the list\n",
    "#['a','b','c']\n",
    "#What about ['a','b','c'][1]\n",
    "#[i : j] means take sublist from element i to j − 1\n",
    "#['a','b','c','d','e'][1:3] #Can you guess what this will be?"
   ]
  },
  {
   "cell_type": "code",
   "execution_count": 326,
   "metadata": {
    "collapsed": false
   },
   "outputs": [
    {
     "ename": "SyntaxError",
     "evalue": "invalid syntax (<ipython-input-326-42c420479d35>, line 3)",
     "output_type": "error",
     "traceback": [
      "\u001b[0;36m  File \u001b[0;32m\"<ipython-input-326-42c420479d35>\"\u001b[0;36m, line \u001b[0;32m3\u001b[0m\n\u001b[0;31m    5 ! = 2 #!= True if a doesn’t equal b asnwer? #space between equal and ! gives error\u001b[0m\n\u001b[0m      ^\u001b[0m\n\u001b[0;31mSyntaxError\u001b[0m\u001b[0;31m:\u001b[0m invalid syntax\n"
     ]
    }
   ],
   "source": [
    "#Comparison operators\n",
    "#5 == 2 #==True if a equals b. What is the answer?\n",
    "#5 != 2 #!= True if a doesn’t equal b asnwer? #space between equal and ! gives error\n",
    "#5 <> 2 #<> Same as ! =\n",
    "#5 > 2  #> True if a is greater than b\n",
    "#5 < 2  #< True if a is less than b\n",
    "#5 >= 2 #>= True if a is greater than or equal to b. Answer?\n",
    "#5 <= 2 #True if a is less than or equal to b"
   ]
  },
  {
   "cell_type": "code",
   "execution_count": 332,
   "metadata": {
    "collapsed": false
   },
   "outputs": [
    {
     "data": {
      "text/plain": [
       "7"
      ]
     },
     "execution_count": 332,
     "metadata": {},
     "output_type": "execute_result"
    }
   ],
   "source": [
    "#Assignment Operators\n",
    "#Left hand side is a variable, call it “x”, and right hand side is an expression, call it “b”\n",
    "\n",
    "#=Sets x to the result of b\n",
    "x = 5 + 2\n",
    "#x #or print x\n",
    "\n",
    "#+= Sets x to x+b\n",
    "#x= x+5+2\n",
    "x += 5 + 2 #a space between + and = gives error\n",
    "x\n",
    "\n",
    "#−=Sets x to x−b\n",
    "x=x-(5+2)\n",
    "x -= 5 + 2 #a space between - and = gives error\n",
    "x\n",
    "\n",
    "#∗=Sets x to x∗b\n",
    "x=x*(5+2)\n",
    "x *= 5 + 2 #Guess what this does\n",
    "#x\n",
    "\n",
    "#/=Sets x to x/b\n",
    "x=x/(5+3)\n",
    "#x /= 5 + 3 #Same as x=x/(5+3)\n",
    "#x\n",
    "\n",
    "#%=Sets x to x%b\n",
    "x=x%(5+2)\n",
    "#x %= 5 + 2 #x=x% (5+2) #x%5+2 gives something different what?\n",
    "#x\n",
    "\n",
    "#∗∗ =Sets x to x∗∗b\n",
    "#x **= 2 #x=x**2\n",
    "#x\n",
    "\n",
    "#//= Sets x to x//b\n",
    "#x//= 5 + 2\n",
    "#x\n"
   ]
  },
  {
   "cell_type": "code",
   "execution_count": 334,
   "metadata": {
    "collapsed": false
   },
   "outputs": [
    {
     "data": {
      "text/plain": [
       "True"
      ]
     },
     "execution_count": 334,
     "metadata": {},
     "output_type": "execute_result"
    }
   ],
   "source": [
    "#Operator Precedence, from highest precedence to lowest \n",
    "#(remember you can override operator precedence using parentheses)\n",
    "#Operation\n",
    "#∗∗\n",
    "#∗ / % //\n",
    "#+−\n",
    "#<= < > >=\n",
    "#<>== !=\n",
    "#= %= /= //= −= += ∗= ∗∗=\n",
    "#not or and\n",
    "\n",
    "#not 0 and 0  #Vs. not (0 and 0)\n",
    "#2**5+2 #vs 2**(5+2) vs (2**5)+2\n",
    "\n",
    "not True and False"
   ]
  },
  {
   "cell_type": "code",
   "execution_count": 359,
   "metadata": {
    "collapsed": false
   },
   "outputs": [
    {
     "name": "stdout",
     "output_type": "stream",
     "text": [
      "True\n",
      "False\n"
     ]
    }
   ],
   "source": [
    "#We define functions to do different things for us. \n",
    "#For example the following function adds 2 to any number\n",
    "\n",
    "def addTwo(n):  \n",
    "    n = n+n\n",
    "    return n\n",
    "#return n+2 \n",
    "#addTwo(3)\n",
    "#addTwo('abc')\n",
    "#addTwo([1,2,3])\n",
    "X=True\n",
    "x=False\n",
    "print X\n",
    "print x"
   ]
  },
  {
   "cell_type": "code",
   "execution_count": 236,
   "metadata": {
    "collapsed": false
   },
   "outputs": [],
   "source": [
    "#We define functions to do different things for us. \n",
    "#For example the following function adds 2 to any number\n",
    "def addTwo(n):  #<----syntax, need colon. What happens if we don't have that?  \n",
    "    #return n+2 #<----what happens if we don't return n+2? Just have n += 2 or n=n+2\n",
    "    #n +=2     same as return n+2\n",
    "    #return n  "
   ]
  },
  {
   "cell_type": "code",
   "execution_count": 237,
   "metadata": {
    "collapsed": false
   },
   "outputs": [
    {
     "data": {
      "text/plain": [
       "7"
      ]
     },
     "execution_count": 237,
     "metadata": {},
     "output_type": "execute_result"
    }
   ],
   "source": [
    "addTwo(5) #What do you think this would give us?"
   ]
  },
  {
   "cell_type": "code",
   "execution_count": 362,
   "metadata": {
    "collapsed": false
   },
   "outputs": [
    {
     "name": "stdout",
     "output_type": "stream",
     "text": [
      "4\n"
     ]
    },
    {
     "ename": "TypeError",
     "evalue": "addTwo() takes exactly 1 argument (0 given)",
     "output_type": "error",
     "traceback": [
      "\u001b[0;31m---------------------------------------------------------------------------\u001b[0m",
      "\u001b[0;31mTypeError\u001b[0m                                 Traceback (most recent call last)",
      "\u001b[0;32m<ipython-input-362-9348d1d03f79>\u001b[0m in \u001b[0;36m<module>\u001b[0;34m()\u001b[0m\n\u001b[1;32m      3\u001b[0m \u001b[0mx\u001b[0m\u001b[0;34m\u001b[0m\u001b[0m\n\u001b[1;32m      4\u001b[0m \u001b[0;32mprint\u001b[0m \u001b[0mx\u001b[0m\u001b[0;34m(\u001b[0m\u001b[0;36m2\u001b[0m\u001b[0;34m)\u001b[0m \u001b[0;31m#What is the output here?\u001b[0m\u001b[0;34m\u001b[0m\u001b[0m\n\u001b[0;32m----> 5\u001b[0;31m \u001b[0;32mprint\u001b[0m \u001b[0mx\u001b[0m\u001b[0;34m(\u001b[0m\u001b[0;34m)\u001b[0m  \u001b[0;31m#What happens here.\u001b[0m\u001b[0;34m\u001b[0m\u001b[0m\n\u001b[0m\u001b[1;32m      6\u001b[0m \u001b[0;32mprint\u001b[0m \u001b[0mx\u001b[0m\u001b[0;34m(\u001b[0m\u001b[0;36m2\u001b[0m\u001b[0;34m,\u001b[0m\u001b[0;36m3\u001b[0m\u001b[0;34m)\u001b[0m\u001b[0;34m\u001b[0m\u001b[0m\n",
      "\u001b[0;31mTypeError\u001b[0m: addTwo() takes exactly 1 argument (0 given)"
     ]
    }
   ],
   "source": [
    "#Note: variables can point to functions\n",
    "x=addTwo\n",
    "x\n",
    "print x(2) #What is the output here?\n",
    "print x()  #What happens here. \n",
    "print x(2,3)"
   ]
  }
 ],
 "metadata": {
  "anaconda-cloud": {},
  "kernelspec": {
   "display_name": "Python [Root]",
   "language": "python",
   "name": "Python [Root]"
  },
  "language_info": {
   "codemirror_mode": {
    "name": "ipython",
    "version": 2
   },
   "file_extension": ".py",
   "mimetype": "text/x-python",
   "name": "python",
   "nbconvert_exporter": "python",
   "pygments_lexer": "ipython2",
   "version": "2.7.12"
  }
 },
 "nbformat": 4,
 "nbformat_minor": 0
}
