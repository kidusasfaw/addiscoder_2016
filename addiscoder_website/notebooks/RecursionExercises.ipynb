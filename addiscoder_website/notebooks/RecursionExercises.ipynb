{
 "cells": [
  {
   "cell_type": "markdown",
   "metadata": {},
   "source": [
    "## Recursion Exercises\n",
    "\n",
    "# The answer to every question should use recursion!"
   ]
  },
  {
   "cell_type": "markdown",
   "metadata": {},
   "source": [
    "# Level 1!"
   ]
  },
  {
   "cell_type": "code",
   "execution_count": 4,
   "metadata": {
    "collapsed": true
   },
   "outputs": [],
   "source": [
    "# Define a recursive function called numTimes which takes in a string and a letter and returns the number of times\n",
    "# the given letter appears in the string\n",
    "def numTimes(s, letter):\n",
    "    pass\n",
    "\n",
    "print numTimes('abc', 'a')\n",
    "# answer: 1\n",
    "\n",
    "print numTimes('abcabc', 'b')\n",
    "# answer: 2\n",
    "\n",
    "print numTimes('ABCabc', 'C')\n",
    "# answer: 1"
   ]
  },
  {
   "cell_type": "code",
   "execution_count": 5,
   "metadata": {
    "collapsed": true
   },
   "outputs": [],
   "source": [
    "# Define a recursive function called sum_all which takes in a list and returns the sum of all the integers in the list\n",
    "def sumAll(l):\n",
    "    pass\n",
    "\n",
    "print sumAll([1, 2, 3])\n",
    "# answer: 6\n",
    "\n",
    "print sumAll([1, 2, 3, 1, 2, 3])\n",
    "# answer: 12\n",
    "\n",
    "print sumAll([5, 4, 1, 7, 1, 4, 7])\n",
    "# answer 29"
   ]
  },
  {
   "cell_type": "code",
   "execution_count": 6,
   "metadata": {
    "collapsed": false
   },
   "outputs": [],
   "source": [
    "# Define a recursive function called exp which takes in two ints a and b, and returns a to the power of b.\n",
    "# Your function hsould not use **\n",
    "def exp(a, b):\n",
    "    pass\n",
    "\n",
    "print exp(2, 0)\n",
    "# answer: 1\n",
    "\n",
    "print exp(2, 5)\n",
    "# answer: 32\n",
    "\n",
    "print exp(3, 6)\n",
    "# answer: 729"
   ]
  },
  {
   "cell_type": "markdown",
   "metadata": {},
   "source": [
    "# Level 2!"
   ]
  },
  {
   "cell_type": "code",
   "execution_count": null,
   "metadata": {
    "collapsed": true
   },
   "outputs": [],
   "source": [
    "# Define a recursive function called reverse which takes in a string and returns the reversed version of the string.\n",
    "def reverse(s):\n",
    "    pass\n",
    "\n",
    "print reverse('abc')\n",
    "# answer: cba\n",
    "\n",
    "print reverse('ccc')\n",
    "# answer: 'ccc'\n",
    "\n",
    "print reverse('this is a long string')\n",
    "# answer: gnirts gnol a si siht"
   ]
  },
  {
   "cell_type": "code",
   "execution_count": 7,
   "metadata": {
    "collapsed": true
   },
   "outputs": [],
   "source": [
    "# Define a recursive function called removeLetter which takes in a string and a letter \n",
    "# and returns the string back without the given letter.\n",
    "def removeLetter(s, letter):\n",
    "    pass\n",
    "\n",
    "print removeLetter('abc', 'a')\n",
    "# answer: bc\n",
    "\n",
    "print removeLetter('abcabcabc', 'b')\n",
    "# answer: acacac\n",
    "\n",
    "print removeLetter('no instances of this letter', 'z')\n",
    "# answer: no instances of this letter"
   ]
  },
  {
   "cell_type": "code",
   "execution_count": 8,
   "metadata": {
    "collapsed": true
   },
   "outputs": [],
   "source": [
    "# Define a recursive function called replaceLetter which takes in a string and two letters.\n",
    "# The function returns a string that has all of the instances of the first letter are replaced by the second letter.\n",
    "def replaceLetter(s, a, b):\n",
    "    pass\n",
    "\n",
    "print replaceLetter('car', 'r', 'w')\n",
    "# answer: caw\n",
    "\n",
    "print replaceLetter('hello', 'o', 'i')\n",
    "# answer: helli\n",
    "\n",
    "print replaceLetter('no instances of letter', 'z', 'a')\n",
    "# answer: no instances of letter"
   ]
  },
  {
   "cell_type": "code",
   "execution_count": null,
   "metadata": {
    "collapsed": true
   },
   "outputs": [],
   "source": [
    "# Define a recursive function called sumDigits which takes in an int and sums the digits in the int.\n",
    "# Hint: The % operator can give you the last digit in the number.\n",
    "def sumDigits(n):\n",
    "    pass\n",
    "\n",
    "print sumDigits(123)\n",
    "# answer: 6\n",
    "\n",
    "print sumDigits(123456789)\n",
    "# answer: 45\n",
    "\n",
    "print sumDigits(369)\n",
    "# answer: 18"
   ]
  },
  {
   "cell_type": "code",
   "execution_count": null,
   "metadata": {
    "collapsed": true
   },
   "outputs": [],
   "source": [
    "# Define a recursive function called cumulativeSum which takes in a list and\n",
    "# returns a list with the cumulative sum of the numbers in a list.\n",
    "# Your function should use the helper function. \n",
    "def cumulativeSumHelper(lstA, lstB):\n",
    "    pass\n",
    "\n",
    "def cumulativeSum(lst, finalLst):\n",
    "    pass"
   ]
  },
  {
   "cell_type": "markdown",
   "metadata": {},
   "source": [
    "# Level 3!"
   ]
  },
  {
   "cell_type": "code",
   "execution_count": 10,
   "metadata": {
    "collapsed": true
   },
   "outputs": [],
   "source": [
    "# Define a recursive function called gcf which takes in an int and returns its greatest common factor.\n",
    "# Your code should use the Euclidean algorithm.\n",
    "def gcf(a, b):\n",
    "    pass\n",
    "\n",
    "print gcf(5, 17)\n",
    "# answer: 1\n",
    "\n",
    "print gcf(101, 197)\n",
    "# answer: 1\n",
    "\n",
    "print gcf(72, 180)\n",
    "# answer: 36\n",
    "\n",
    "print gcf(24, 36)\n",
    "# answer: 12"
   ]
  },
  {
   "cell_type": "code",
   "execution_count": null,
   "metadata": {
    "collapsed": true
   },
   "outputs": [],
   "source": [
    "# Define a recursive function called convertToBin which takes an int and\n",
    "# returns a string which is the binary version of the int\n",
    "def convertToBin(a):\n",
    "    pass\n",
    "\n",
    "print convertToBin(0)\n",
    "# answer: 0\n",
    "\n",
    "print convertToBin(1)\n",
    "# answer: 1\n",
    "\n",
    "print convertToBin(2)\n",
    "# answer: 10\n",
    "\n",
    "print convertToBin(3)\n",
    "# answer: 11\n",
    "\n",
    "print convertToBin(4)\n",
    "# answer: 100\n",
    "\n",
    "print convertToBin(50)\n",
    "# answer: 110010"
   ]
  },
  {
   "cell_type": "code",
   "execution_count": null,
   "metadata": {
    "collapsed": true
   },
   "outputs": [],
   "source": [
    "# Define a recursive function called convertToInt which takes a binary number in string form and \n",
    "# returns the corresponding integer.\n",
    "def convertToInt(s):\n",
    "    pass\n",
    "\n",
    "print convertToInt('10101')\n",
    "# answer: 21\n",
    "\n",
    "print convertToInt('1101')\n",
    "# answer: 13\n",
    "\n",
    "print convertToInt('1001')\n",
    "# answer: 9\n",
    "\n",
    "print convertToInt('1111111')\n",
    "# answer: 127\n",
    "\n",
    "print convertToInt('00000000000000')\n",
    "# answer: 0"
   ]
  },
  {
   "cell_type": "code",
   "execution_count": null,
   "metadata": {
    "collapsed": true
   },
   "outputs": [],
   "source": [
    "# Define a recursive function called mergeLists which takes two sorted lists, and merges them into one sorted list.\n",
    "# Your function should use the helper provided.\n",
    "def mergeListsHelper(lstA, lstB, resultList):\n",
    "    pass\n",
    "\n",
    "def mergeLists(lstA, lstB):\n",
    "    pass\n",
    "\n",
    "print mergeLists([1, 2, 3], [4, 5, 6])\n",
    "# answer: [1, 2, 3, 4, 5, 6]\n",
    "\n",
    "print mergeLists([1, 3, 5], [2, 4, 6])\n",
    "# answer: [1, 2, 3, 4, 5, 6]\n",
    "\n",
    "print mergeLists([1, 7, 10, 15, 22], [3, 5, 9])\n",
    "# answer: [1, 3, 5, 7, 9, 10, 15, 22]"
   ]
  }
 ],
 "metadata": {
  "anaconda-cloud": {},
  "kernelspec": {
   "display_name": "Python [Root]",
   "language": "python",
   "name": "Python [Root]"
  },
  "language_info": {
   "codemirror_mode": {
    "name": "ipython",
    "version": 2
   },
   "file_extension": ".py",
   "mimetype": "text/x-python",
   "name": "python",
   "nbconvert_exporter": "python",
   "pygments_lexer": "ipython2",
   "version": "2.7.12"
  }
 },
 "nbformat": 4,
 "nbformat_minor": 0
}
