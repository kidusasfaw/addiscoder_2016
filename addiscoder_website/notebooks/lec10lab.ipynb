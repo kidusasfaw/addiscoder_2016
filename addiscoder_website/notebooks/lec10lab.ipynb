{
 "cells": [
  {
   "cell_type": "code",
   "execution_count": 11,
   "metadata": {
    "collapsed": true
   },
   "outputs": [],
   "source": [
    "from __future__ import division"
   ]
  },
  {
   "cell_type": "markdown",
   "metadata": {},
   "source": [
    "###  Exercise1\n",
    "\n",
    "In lecture we saw the function ```make_first_coeff_nonzero(eqs)``` that took 3 equations in 3 variables and ensured that the first coefficient of the first equation is nonzero.\n",
    "\n",
    "Write a general version of this function that would work for _every number of equations_.\n",
    "\n",
    "That is, ```make_first_coeff_nonzero_general(eqs)``` will take a list of lists of numbers, and change its ordering so that the first number of the first list is nonzero. (You don't have to worry about the case that all lists have their first number zero.) \n",
    "\n",
    "Here are examples of outputs:"
   ]
  },
  {
   "cell_type": "code",
   "execution_count": 8,
   "metadata": {
    "collapsed": false
   },
   "outputs": [
    {
     "data": {
      "text/plain": [
       "[[1, 2, 3], [4, 5, 6], [7, 8, 9]]"
      ]
     },
     "execution_count": 8,
     "metadata": {},
     "output_type": "execute_result"
    }
   ],
   "source": [
    "L = [ [1,2,3],[4,5,6],[7,8,9]]\n",
    "make_first_coeff_nonzero_general(L)\n",
    "L"
   ]
  },
  {
   "cell_type": "code",
   "execution_count": 9,
   "metadata": {
    "collapsed": false
   },
   "outputs": [
    {
     "data": {
      "text/plain": [
       "[[4, 5, 6], [0, 2, 3], [7, 8, 9]]"
      ]
     },
     "execution_count": 9,
     "metadata": {},
     "output_type": "execute_result"
    }
   ],
   "source": [
    "L = [ [0,2,3],[4,5,6],[7,8,9]]\n",
    "make_first_coeff_nonzero_general(L)\n",
    "L"
   ]
  },
  {
   "cell_type": "code",
   "execution_count": 10,
   "metadata": {
    "collapsed": false
   },
   "outputs": [
    {
     "data": {
      "text/plain": [
       "[[1, 2, 4, 6, 8], [0, 5, 6, 7, 8], [0, 9, 10, 11, 12], [0, 1, 2, 3, 4]]"
      ]
     },
     "execution_count": 10,
     "metadata": {},
     "output_type": "execute_result"
    }
   ],
   "source": [
    "L = [ [0,1,2,3,4] , [0,5,6,7,8], [0,9,10,11,12],[1,2,4,6,8]]\n",
    "make_first_coeff_nonzero_general(L)\n",
    "L"
   ]
  },
  {
   "cell_type": "markdown",
   "metadata": {},
   "source": [
    "### Exercise 2:\n",
    "\n",
    "Write the function ```solve7(eqs)``` that solves 7 equations in 7 variables (that is, the equations are in variables $x_0,x_1,x_2,\\ldots,x_6$ and for $i=0,1,\\ldots,6$ the $i^{th}$ equation has the form $eqs[i][0]x_0+eqs[i][1]x_1 + \\cdots + eqs[i][6]x_6 + eqs[i][7]=0$.)  \n",
    "\n",
    "This may seem that it would be very complicated, but you can use the provided function ```solve6(eqs)``` that solves 6 equations in 6 variables. You can also use ```make_first_coeff_nonzero_general``` as well as the functions ```multiply_equation``` and ```add_equations``` that actually already work for equations of any  number of variables."
   ]
  },
  {
   "cell_type": "code",
   "execution_count": 16,
   "metadata": {
    "collapsed": true
   },
   "outputs": [],
   "source": [
    "def multiply_equation(eq,num):\n",
    "    \"\"\"Multiply all coefficients of equation eq by number num. \n",
    "       Return result\"\"\"\n",
    "    res = []\n",
    "    for x in eq:\n",
    "        res += [x*num]\n",
    "    return res"
   ]
  },
  {
   "cell_type": "code",
   "execution_count": 17,
   "metadata": {
    "collapsed": true
   },
   "outputs": [],
   "source": [
    "def add_equations(eq1,eq2):\n",
    "    \"\"\"Add eq1 and eq2. Return result\"\"\"\n",
    "    res = []\n",
    "    for i in range(len(eq1)):\n",
    "        res.append(eq1[i]+eq2[i])\n",
    "    return res"
   ]
  },
  {
   "cell_type": "code",
   "execution_count": 4,
   "metadata": {
    "collapsed": false
   },
   "outputs": [],
   "source": [
    "# use the following function but don't copy its code!\n",
    "# you don't need to read or understand the code also\n",
    "#\n",
    "# this function takes eqs : a list of 6 lists, where each list has 7 numbers corresponding\n",
    "# to an equation of the form a_0x_0+a_1x_1+...+a_5x_5+a_6 = 0\n",
    "# the function returns a solution of these equations: a list of 6 numbers corresponding to the \n",
    "# values of the variables x_0,...,x_6\n",
    "import numpy as np\n",
    "def solve6(eqs):\n",
    "    A = np.ndarray([6,6])\n",
    "    for i in range(6):\n",
    "        for j in range(6):\n",
    "            A[i,j] = eqs[i][j]\n",
    "    b = np.ndarray([6,1])\n",
    "    for i in range(6):\n",
    "        b[i,0] = -eqs[i][6]\n",
    "    C = np.linalg.inv(A)\n",
    "    sol = np.dot(C,b)\n",
    "    return [round(sol[i,0],3) for i in range(6)]"
   ]
  },
  {
   "cell_type": "code",
   "execution_count": 8,
   "metadata": {
    "collapsed": false
   },
   "outputs": [
    {
     "data": {
      "text/plain": [
       "[1.0, 4.0, -5.0, -9.0, -8.0, 3.0, -1.0]"
      ]
     },
     "execution_count": 8,
     "metadata": {},
     "output_type": "execute_result"
    }
   ],
   "source": [
    "solve7( [ [0, 1, 0, 0, 0, -1, 0, -1],\n",
    "          [-1, -1, 1, 1, 1, 0, 0, 27],\n",
    "          [1, 1, -1, 1, 0, -1, 0, 2],\n",
    "          [1, -1, 0, 1, 1, 0, -1, 19],\n",
    "          [0, -1, 0, -1, -1, 0, 1, -12],\n",
    "          [-1, -1, 0, 0, -1, 1, -1, -7],\n",
    "          [-1, 0, -1, 1, 1, 1, -1, 9]\n",
    "        ])"
   ]
  },
  {
   "cell_type": "code",
   "execution_count": 9,
   "metadata": {
    "collapsed": false
   },
   "outputs": [
    {
     "data": {
      "text/plain": [
       "[-5.0, -2.0, 3.0, -3.0, -4.0, 6.0, -2.0]"
      ]
     },
     "execution_count": 9,
     "metadata": {},
     "output_type": "execute_result"
    }
   ],
   "source": [
    "solve7( [ [1, 0, 0, 1, 1, -1, -1, 16],\n",
    "          [1, -1, 0, -1, 0, 1, 0, -6],\n",
    "          [0, 1, 0, -1, -1, 0, -1, -7],\n",
    "          [-1, 1, 0, 0, -1, 1, 0, -13],\n",
    "          [-1, 0, -1, -1, 0, 0, -1, -7],\n",
    "          [-1, 0, -1, -1, -1, 0, 1, -7],\n",
    "          [-1, 1, 0, 0, 1, -1, 0, 7]\n",
    "        ])"
   ]
  },
  {
   "cell_type": "code",
   "execution_count": 10,
   "metadata": {
    "collapsed": false
   },
   "outputs": [
    {
     "data": {
      "text/plain": [
       "[0.0, -5.0, -8.0, -9.0, 6.0, -5.0, -3.0]"
      ]
     },
     "execution_count": 10,
     "metadata": {},
     "output_type": "execute_result"
    }
   ],
   "source": [
    "solve7( [ [0, -1, 1, -1, -1, -1, -1, -8],\n",
    "          [0, 0, -1, 0, 1, 1, 0, -9],\n",
    "          [-1, 1, 0, -1, 0, 0, -1, -7],\n",
    "          [0, 0, -1, 1, 0, 1, 1, 9],\n",
    "          [1, 0, 1, 0, 1, -1, -1, -6],\n",
    "          [-1, 0, 0, 0, -1, 0, 1, 9],\n",
    "          [1, 0, 0, -1, 0, 1, 1, -1]\n",
    "        ])"
   ]
  },
  {
   "cell_type": "markdown",
   "metadata": {},
   "source": [
    "### Exercise 3:\n",
    "\n",
    "Write a function ```solve(eqs)``` that can solve $n$ equations in $n$ variables for every number $n$.\n",
    "In particular it should be the case that if you have 3 equations in 3 variables then it would hold that ```solve(eqs)==solve3(eqs)```, if you have 4 equations in 4 variables then ```solve(eqs)=solve4(eqs)``` and if you have 7 equations in 7 variables then ```solve(eqs)==solve7(eqs)```\n",
    "\n",
    "__Hint:__ Use _recursion_: when given as input $n$ equations in $n$ variables ```solve``` should work on these equations to reduce the task to solving $n-1$ equations on $n-1$ variables, at which point it can call _itself_ to do so.\n",
    "\n",
    "Here are some input examples:"
   ]
  },
  {
   "cell_type": "code",
   "execution_count": 123,
   "metadata": {
    "collapsed": false
   },
   "outputs": [
    {
     "data": {
      "text/plain": [
       "[-7.0, -4.0, 9.0, 8.0, -7.0]"
      ]
     },
     "execution_count": 123,
     "metadata": {},
     "output_type": "execute_result"
    }
   ],
   "source": [
    "solve( [ [-1, 1, -1, 1, 0, -2],\n",
    "        [-1, 0, 1, -1, 1, -1],\n",
    "        [1, -1, 0, 0, -1, -4],\n",
    "        [-1, 1, 0, -1, 0, 5],\n",
    "        [-1, -1, 0, -1, -1, -10]\n",
    "     ])"
   ]
  },
  {
   "cell_type": "code",
   "execution_count": 126,
   "metadata": {
    "collapsed": false
   },
   "outputs": [
    {
     "data": {
      "text/plain": [
       "[10.0, -10.0, 6.0, -8.0, 10.0]"
      ]
     },
     "execution_count": 126,
     "metadata": {},
     "output_type": "execute_result"
    }
   ],
   "source": [
    "solve( [ [-1, -1, -1, -1, -1, 8],\n",
    "        [1, 1, 1, 1, -1, 12],\n",
    "        [0, 1, 1, -1, 0, -4],\n",
    "        [-1, -1, 0, 1, -1, 18],\n",
    "        [1, -1, 1, 0, 1, -36]\n",
    "     ])"
   ]
  },
  {
   "cell_type": "code",
   "execution_count": 128,
   "metadata": {
    "collapsed": false
   },
   "outputs": [
    {
     "data": {
      "text/plain": [
       "[3.0, 3.0, -10.0, -4.0, -2.0, -3.0]"
      ]
     },
     "execution_count": 128,
     "metadata": {},
     "output_type": "execute_result"
    }
   ],
   "source": [
    "solve( [ [1, 1, 0, -1, 1, -1, -11],\n",
    "        [1, 1, -1, -1, -1, 1, -19],\n",
    "        [0, -1, -1, -1, -1, 1, -10],\n",
    "        [0, 0, 1, -1, 0, 0, 6],\n",
    "        [0, 1, 0, -1, 0, 1, -4],\n",
    "        [-1, 1, 1, 1, 1, -1, 13]\n",
    "     ])"
   ]
  },
  {
   "cell_type": "code",
   "execution_count": 132,
   "metadata": {
    "collapsed": false
   },
   "outputs": [
    {
     "data": {
      "text/plain": [
       "[-3.0, -1.0, -10.0, 7.0, 0.0, -6.0, -4.0, -2.0]"
      ]
     },
     "execution_count": 132,
     "metadata": {},
     "output_type": "execute_result"
    }
   ],
   "source": [
    "solve( [ [1, -1, 0, -1, 1, 1, -1, -1, 9],\n",
    "        [-1, 0, -1, 0, 1, -1, 1, 0, -15],\n",
    "        [1, -1, 1, -1, -1, -1, 0, -1, 11],\n",
    "        [-1, 1, 0, -1, 1, 0, 1, 1, 11],\n",
    "        [1, 1, -1, -1, -1, -1, 0, 0, -5],\n",
    "        [-1, 0, 0, 1, 1, -1, 0, 1, -14],\n",
    "        [1, 1, 1, 1, -1, 1, -1, 0, 9],\n",
    "        [1, 0, -1, 1, 0, -1, -1, -1, -26]\n",
    "     ])"
   ]
  },
  {
   "cell_type": "code",
   "execution_count": 138,
   "metadata": {
    "collapsed": false
   },
   "outputs": [
    {
     "data": {
      "text/plain": [
       "[0.0, -6.0, -10.0]"
      ]
     },
     "execution_count": 138,
     "metadata": {},
     "output_type": "execute_result"
    }
   ],
   "source": [
    "solve( [ [0, -1, -1, -16],\n",
    "        [0, -1, 0, -6],\n",
    "        [-1, 0, 0, 0]\n",
    "     ])"
   ]
  }
 ],
 "metadata": {
  "anaconda-cloud": {},
  "kernelspec": {
   "display_name": "Python [py2]",
   "language": "python",
   "name": "Python [py2]"
  },
  "language_info": {
   "codemirror_mode": {
    "name": "ipython",
    "version": 2
   },
   "file_extension": ".py",
   "mimetype": "text/x-python",
   "name": "python",
   "nbconvert_exporter": "python",
   "pygments_lexer": "ipython2",
   "version": "2.7.12"
  }
 },
 "nbformat": 4,
 "nbformat_minor": 0
}
