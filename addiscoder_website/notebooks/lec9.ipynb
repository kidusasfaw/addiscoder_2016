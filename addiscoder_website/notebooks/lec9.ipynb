{
 "cells": [
  {
   "cell_type": "markdown",
   "metadata": {
    "slideshow": {
     "slide_type": "slide"
    }
   },
   "source": [
    "# Solving linear equations\n",
    "\n",
    "When we want to solve a hard problem, it is good to start with the simplest possible problem."
   ]
  },
  {
   "cell_type": "markdown",
   "metadata": {
    "slideshow": {
     "slide_type": "fragment"
    }
   },
   "source": [
    "So we will start with solving one equation with one variable of the form $ax = b$\n"
   ]
  },
  {
   "cell_type": "markdown",
   "metadata": {
    "slideshow": {
     "slide_type": "fragment"
    }
   },
   "source": [
    "In fact, we'll make our life even easier, and so we don't worry about reading the input for now\n",
    "So, our goal is to find a function solve1(a,b) that will solve equations of the form $ax + b =0$.\n",
    "For example $solve1(2,-4)=2$\n"
   ]
  },
  {
   "cell_type": "code",
   "execution_count": 10,
   "metadata": {
    "collapsed": true
   },
   "outputs": [],
   "source": [
    "from __future__ import division"
   ]
  },
  {
   "cell_type": "code",
   "execution_count": 20,
   "metadata": {
    "collapsed": false,
    "slideshow": {
     "slide_type": "fragment"
    }
   },
   "outputs": [],
   "source": [
    "def solve1(a,b): #solve xa + b =0\n",
    "    return -b/a"
   ]
  },
  {
   "cell_type": "code",
   "execution_count": 145,
   "metadata": {
    "collapsed": false,
    "slideshow": {
     "slide_type": "fragment"
    }
   },
   "outputs": [
    {
     "data": {
      "text/plain": [
       "1.5"
      ]
     },
     "execution_count": 145,
     "metadata": {},
     "output_type": "execute_result"
    }
   ],
   "source": [
    "solve1(2,-3)"
   ]
  },
  {
   "cell_type": "markdown",
   "metadata": {
    "slideshow": {
     "slide_type": "slide"
    }
   },
   "source": [
    "Let's now try to solve _two_ equations, of the form $ax + by + c = 0 , dx + ey + f = 0$ \n",
    "So, $solve2(a,b,c,d,e,f)$ should return a list $[x,y]$ of the solution for $x$ and the solution for $y$.\n"
   ]
  },
  {
   "cell_type": "markdown",
   "metadata": {
    "slideshow": {
     "slide_type": "fragment"
    }
   },
   "source": [
    "The idea is the following: \n",
    "if $a \\neq 0$, then we can divide the first equation by $a$ to get an equation of the form \n",
    "$1x + b'y + c' = 0$"
   ]
  },
  {
   "cell_type": "markdown",
   "metadata": {
    "slideshow": {
     "slide_type": "fragment"
    }
   },
   "source": [
    "Then we can subtract the first equation times $d$ from the second equation, to make the second equation have the form $e'y + f' = 0$."
   ]
  },
  {
   "cell_type": "markdown",
   "metadata": {
    "slideshow": {
     "slide_type": "fragment"
    }
   },
   "source": [
    "But then the second equation is only over _one_ variable, which we already know how to solve.\n",
    "So, we can get a solution for $y$, and then plug it into the first equation to get a solution for $x$."
   ]
  },
  {
   "cell_type": "code",
   "execution_count": 18,
   "metadata": {
    "collapsed": true,
    "slideshow": {
     "slide_type": "slide"
    }
   },
   "outputs": [],
   "source": [
    "def solve2(a,b,c,d,e,f): # solve xa+by+c = 0 , xd+ey+f = 0\n",
    "    if a: # True if a is not zero\n",
    "        # x = (-by-c)/a\n",
    "        # d(-by-c)/a+ey+f=0\n",
    "        y = solve1(-d*b/a+e,-d*c/a+f)\n",
    "        x = (-b*y-c)/a\n",
    "        return x,y\n",
    "    # x = (-ey-f)/d\n",
    "    # a(-ey-f)/d+by+c=0\n",
    "    y = solve1(-a*e/d+b,-f*a/d+c)\n",
    "    x = (-e*y-f)/d\n",
    "    return x,y"
   ]
  },
  {
   "cell_type": "code",
   "execution_count": 59,
   "metadata": {
    "collapsed": false,
    "slideshow": {
     "slide_type": "fragment"
    }
   },
   "outputs": [
    {
     "data": {
      "text/plain": [
       "(7.0, 3.0)"
      ]
     },
     "execution_count": 59,
     "metadata": {},
     "output_type": "execute_result"
    }
   ],
   "source": [
    "solve2(1,1,-10,1,-1,-4)"
   ]
  },
  {
   "cell_type": "markdown",
   "metadata": {
    "slideshow": {
     "slide_type": "slide"
    }
   },
   "source": [
    "Now we want to solve three equations of the form:\n",
    "\n",
    "$ax + by + cz + dw + e = 0$\n",
    "\n",
    "$fx + gy + hz + iw + j = 0$\n",
    "\n",
    "$kx + ly + mz + nw + o = 0$"
   ]
  },
  {
   "cell_type": "markdown",
   "metadata": {
    "slideshow": {
     "slide_type": "fragment"
    }
   },
   "source": [
    "We are starting to run out of letters, so we will write this as:\n",
    "\n",
    "$a_{0,0}x_0 + a_{0,1}x_1 + a_{0,2}x_2 + a_{0,3} = 0$\n",
    "\n",
    "$a_{1,0}x_0 + a_{1,1}x_1 + a_{1,2}x_2 + a_{1,3} = 0$\n",
    "\n",
    "$a_{2,0}x_0 + a_{2,1}x_1 + a_{2,2}x_2 + a_{2,3} = 0$"
   ]
  },
  {
   "cell_type": "markdown",
   "metadata": {
    "slideshow": {
     "slide_type": "slide"
    }
   },
   "source": [
    "We will represent the input as a _list of lists_: \n",
    "\n",
    "\n",
    "$[$\n",
    "\n",
    "$[ a_{0,0} , a_{0,1} , a_{0,2} ,a_{0,3} ],$\n",
    "\n",
    "$[ a_{1,0} , a_{1,1} , a_{1,2} ,a_{1,3} ],$\n",
    "\n",
    "$[ a_{2,0} , a_{2,1} , a_{2,2} ,a_{2,3} ],$\n",
    "\n",
    "$]$\n",
    "\n",
    "  "
   ]
  },
  {
   "cell_type": "markdown",
   "metadata": {
    "slideshow": {
     "slide_type": "fragment"
    }
   },
   "source": [
    "Our solution will have the following form:\n",
    "\n",
    "We will write a function $solve3(eqs)$ that given a list $eqs$ that contains three lists $eqs[0],eqs[1],eqs[2]$ where each of those corresponds to an equation, returns a list of three numbers that is  the solution to the equations."
   ]
  },
  {
   "cell_type": "markdown",
   "metadata": {
    "slideshow": {
     "slide_type": "slide"
    }
   },
   "source": [
    "The approach would be as follows:\n",
    "\n",
    "1. Make sure that the first equation has the first coefficient equal to one. That is, it should be of the  form $1x_0 + a'_{0,1}x_1 + a'_{0,2}x_2 + a'_{0,3} = 0$ for some numbers $a'_{0,1},a'_{0,2},a'_{0,3}$.\n",
    "\n",
    "2. Subtract a multiple of this first equation from all the rest of the equations, so that all the rest of the equations have the first coefficient equalling zero\n",
    "\n",
    "3. Run $solve2$ on the second and third equations with 2 variables to get solution $(y,z)$\n",
    "\n",
    "4. Compute $x = -a'_{0,3} - a'_{0,2}z - a'_{0,2}y$\n",
    "\n",
    "5. Return $[x,y,z]$"
   ]
  },
  {
   "cell_type": "code",
   "execution_count": 80,
   "metadata": {
    "collapsed": true,
    "slideshow": {
     "slide_type": "slide"
    }
   },
   "outputs": [],
   "source": [
    "# first solve using \"wishful thinking\"\n",
    "def solve3(eqs):\n",
    "    make_first_coeff_nonzero(eqs) # make 1st coef of 1st equation nonzero\n",
    "    \n",
    "    eqs[0] = multiply_equation(eqs[0],1/eqs[0][0]) \n",
    "    # make 1st coef of 1st equation equal to 1\n",
    "    \n",
    "    for i in [1,2]:\n",
    "        eqs[i] = add_equations(eqs[i],multiply_equation(eqs[0],-eqs[i][0])) \n",
    "        # zero out first coefficient in 2nd and 3rd equations\n",
    "    \n",
    "    (y,z) = solve2(eqs[1][1],eqs[1][2],eqs[1][3],\n",
    "                   eqs[2][1],eqs[2][2],eqs[2][3])\n",
    "        # solve 2nd and 3rd equations on 2nd and 3rd variables \n",
    "    \n",
    "    x = -eqs[0][1]*y - eqs[0][2]*z - eqs[0][3]\n",
    "    # solve 1st variable given solutions for 2nd and 3rd variables\n",
    "    \n",
    "    return (x,y,z)\n",
    "    "
   ]
  },
  {
   "cell_type": "code",
   "execution_count": 110,
   "metadata": {
    "collapsed": true,
    "slideshow": {
     "slide_type": "slide"
    }
   },
   "outputs": [],
   "source": [
    "def make_first_coeff_nonzero(eqs):\n",
    "    \"\"\"Switch order of equations so 1st coef of 1st equation is nonzero\"\"\"\n",
    "    if eqs[0][0]:\n",
    "        return\n",
    "    if eqs[1][0]:\n",
    "        eqs[0], eqs[1] = eqs[1] , eqs[0]\n",
    "        return\n",
    "    if eqs[2][0]:\n",
    "        eqs[0] , eqs[2] = eqs[2], eqs[0]\n",
    "        return\n",
    "    sys.exit(\"Oh oh! All first coefficients are zero - can't solve!\")"
   ]
  },
  {
   "cell_type": "code",
   "execution_count": 100,
   "metadata": {
    "collapsed": true,
    "slideshow": {
     "slide_type": "fragment"
    }
   },
   "outputs": [],
   "source": [
    "def multiply_equation(eq,num):\n",
    "    \"\"\"Multiply all coefficients of equation eq by number num. \n",
    "       Return result\"\"\"\n",
    "    res = []\n",
    "    for x in eq:\n",
    "        res.append(x*num)\n",
    "    return res"
   ]
  },
  {
   "cell_type": "code",
   "execution_count": 101,
   "metadata": {
    "collapsed": true,
    "slideshow": {
     "slide_type": "fragment"
    }
   },
   "outputs": [],
   "source": [
    "def add_equations(eq1,eq2):\n",
    "    \"\"\"Add eq1 and eq2. Return result\"\"\"\n",
    "    res = []\n",
    "    for i in range(len(eq1)):\n",
    "        res.append(eq1[i]+eq2[i])\n",
    "    return res"
   ]
  },
  {
   "cell_type": "code",
   "execution_count": 102,
   "metadata": {
    "collapsed": true,
    "slideshow": {
     "slide_type": "slide"
    }
   },
   "outputs": [],
   "source": [
    "# recalling the definition of solve3:\n",
    "\n",
    "def solve3(eqs):\n",
    "    make_first_coeff_nonzero(eqs)  # make 1st coef of 1st equation nonzero\n",
    "    eqs[0] = multiply_equation(eqs[0],1/eqs[0][0]) \n",
    "    # make 1st coef of 1st equation equal 1\n",
    "    \n",
    "    for i in [1,2]:\n",
    "        eqs[i] = add_equations(eqs[i],multiply_equation(eqs[0],-eqs[i][0])) # zero out first coefficient in eqs 1,2\n",
    "    # make 1st coef of 2nd and 3rd equation equal zero\n",
    "    \n",
    "    (y,z) = solve2(eqs[1][1],eqs[1][2],eqs[1][3],eqs[2][1],eqs[2][2],eqs[2][3])\n",
    "    # solve 2nd and 3rd equations for 2nd and 3rd variables \n",
    "    \n",
    "    x = -eqs[0][1]*y - eqs[0][2]*z - eqs[0][3]\n",
    "    # solve 1st variable using solution for 2nd and 3rd variable\n",
    "    \n",
    "    return (x,y,z)\n",
    "    "
   ]
  },
  {
   "cell_type": "code",
   "execution_count": 112,
   "metadata": {
    "collapsed": false,
    "slideshow": {
     "slide_type": "fragment"
    }
   },
   "outputs": [
    {
     "data": {
      "text/plain": [
       "(1.0, 2.0, 3.0)"
      ]
     },
     "execution_count": 112,
     "metadata": {},
     "output_type": "execute_result"
    }
   ],
   "source": [
    "solve3([ [1,1,1,-6] , [1,1,-1,0], [1,-1,1,-2]])"
   ]
  },
  {
   "cell_type": "markdown",
   "metadata": {},
   "source": [
    "# Labwork"
   ]
  },
  {
   "cell_type": "markdown",
   "metadata": {},
   "source": [
    "### Exercise 1\n",
    "We wrote a function $solve1(a,b)$ that gets input coefficients for an equation $ax + b =0$ and outputs a solution for $x$. \n",
    "\n",
    "But we can also write an equation in the form $cx=d$. \n",
    "Write a function $other_solve1(c,d)$ that outputs the solution $x$ such that $cx =d$.\n",
    "\n",
    "Below are some examples for the output of other_solve1"
   ]
  },
  {
   "cell_type": "code",
   "execution_count": 2,
   "metadata": {
    "collapsed": true
   },
   "outputs": [],
   "source": [
    "def other_solve1(c,d):\n",
    "    return float(d)/float(c)"
   ]
  },
  {
   "cell_type": "code",
   "execution_count": 12,
   "metadata": {
    "collapsed": false
   },
   "outputs": [
    {
     "data": {
      "text/plain": [
       "1.0"
      ]
     },
     "execution_count": 12,
     "metadata": {},
     "output_type": "execute_result"
    }
   ],
   "source": [
    "other_solve1(1.0,1.0)"
   ]
  },
  {
   "cell_type": "code",
   "execution_count": 13,
   "metadata": {
    "collapsed": false
   },
   "outputs": [
    {
     "data": {
      "text/plain": [
       "2.0"
      ]
     },
     "execution_count": 13,
     "metadata": {},
     "output_type": "execute_result"
    }
   ],
   "source": [
    "other_solve1(1.0,2.0)"
   ]
  },
  {
   "cell_type": "code",
   "execution_count": 14,
   "metadata": {
    "collapsed": false
   },
   "outputs": [
    {
     "data": {
      "text/plain": [
       "0.5"
      ]
     },
     "execution_count": 14,
     "metadata": {},
     "output_type": "execute_result"
    }
   ],
   "source": [
    "other_solve1(2.0,1.0)"
   ]
  },
  {
   "cell_type": "code",
   "execution_count": 15,
   "metadata": {
    "collapsed": false
   },
   "outputs": [
    {
     "data": {
      "text/plain": [
       "-0.6666666666666666"
      ]
     },
     "execution_count": 15,
     "metadata": {},
     "output_type": "execute_result"
    }
   ],
   "source": [
    "other_solve1(3.0,-2.0)"
   ]
  },
  {
   "cell_type": "markdown",
   "metadata": {},
   "source": [
    "### Exercise 2\n",
    "\n",
    "Write a similar function for solving 2 equations in 2 variables.\n",
    "$other_solve2(a,b,c,d,e,f)$ should output two numbers $x,y$ such that $ax+by =c$ and $dx + ey = f$.\n",
    "\n",
    "Below are some examples for the output of $other_solve2$"
   ]
  },
  {
   "cell_type": "code",
   "execution_count": 16,
   "metadata": {
    "collapsed": true
   },
   "outputs": [],
   "source": [
    "def other_solve2(a,b,c,d,e,f):\n",
    "    return  solve2(a,b,-c,d,e,-f)"
   ]
  },
  {
   "cell_type": "code",
   "execution_count": 21,
   "metadata": {
    "collapsed": false
   },
   "outputs": [
    {
     "data": {
      "text/plain": [
       "(2.0, 1.0)"
      ]
     },
     "execution_count": 21,
     "metadata": {},
     "output_type": "execute_result"
    }
   ],
   "source": [
    "other_solve2(1.0,1.0,3.0,1.0,-1.0,1.0)"
   ]
  },
  {
   "cell_type": "code",
   "execution_count": 22,
   "metadata": {
    "collapsed": false
   },
   "outputs": [
    {
     "data": {
      "text/plain": [
       "(2.0, 2.0)"
      ]
     },
     "execution_count": 22,
     "metadata": {},
     "output_type": "execute_result"
    }
   ],
   "source": [
    "other_solve2(0.0,1.0,2.0,2.0,3.0,10.0)"
   ]
  },
  {
   "cell_type": "markdown",
   "metadata": {},
   "source": [
    "### Exercise 3\n",
    "\n",
    "There are some inputs that \"breal\" the  $solve2$ function we saw in class. \n",
    "That is, there are some examples of equations it will not be able to solve and will output an error instead.\n",
    "Can you find such an example?\n",
    "\n",
    "That is, find 6 numbers $a,b,c,d,e,f$ such that $solve2(a,b,c,d,e,f)$ will result in an error"
   ]
  },
  {
   "cell_type": "markdown",
   "metadata": {
    "slideshow": {
     "slide_type": "slide"
    }
   },
   "source": [
    "### Exercise 4\n",
    "\n",
    "Write a function $solve4(eqs)$ that solves _four_ equations in _four_ variables.\n",
    "The function will get  a list of $4$ equations, each of them a list of $5$ numbers which correspond to the coefficients of an equation in variables $x_0,x_1,x_2,x_3$ of the form $a_0x_0 + a_1x_2 + a_2x_2+ a_3x_3 + a_4 = 0$.\n",
    "\n",
    "That is, $solve4$ gets as input a list $\\mathtt{eqs}$ such that $\\mathtt{eqs} = [ \\mathtt{eq}0, \\mathtt{eq}1, \\mathtt{eq}2 ,\\mathtt{eq}3 ]$.  \n",
    "Each one of the  $\\mathtt{eq}i$'s is itself a list of 5 numbers corresponding the coefficients $a_{i,0},a_{1,1},\\ldots,a_{i,4}$ in the equation $a_{i,0}x_0 + a_{i,1}x_1 + a_{i,2}x_2 = a_{i,3}x_3 + a_{i,4} = 0$.\n",
    "\n",
    "The function should return  $(x_0,x_1,x_2,x_3)$: the solution for the four variables.\n",
    "\n",
    "For example:\n"
   ]
  },
  {
   "cell_type": "code",
   "execution_count": 114,
   "metadata": {
    "collapsed": false,
    "slideshow": {
     "slide_type": "fragment"
    }
   },
   "outputs": [
    {
     "data": {
      "text/plain": [
       "[1.0, 2.0, 3.0, 4.0]"
      ]
     },
     "execution_count": 114,
     "metadata": {},
     "output_type": "execute_result"
    }
   ],
   "source": [
    "solve4([ [1,1,1,1,-10] , [1,1,1,-1,-2], [1,1,-1,1,-4], [1,-1,1,1,-6] ])"
   ]
  }
 ],
 "metadata": {
  "anaconda-cloud": {},
  "celltoolbar": "Slideshow",
  "kernelspec": {
   "display_name": "Python [py2]",
   "language": "python",
   "name": "Python [py2]"
  },
  "language_info": {
   "codemirror_mode": {
    "name": "ipython",
    "version": 2
   },
   "file_extension": ".py",
   "mimetype": "text/x-python",
   "name": "python",
   "nbconvert_exporter": "python",
   "pygments_lexer": "ipython2",
   "version": "2.7.12"
  }
 },
 "nbformat": 4,
 "nbformat_minor": 0
}
