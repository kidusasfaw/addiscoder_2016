{
 "cells": [
  {
   "cell_type": "code",
   "execution_count": null,
   "metadata": {
    "collapsed": true
   },
   "outputs": [],
   "source": [
    "#We are going to go over concepts from yesterday and things \n",
    "#That people might be confused about.\n",
    "#How to define a function and what it means\n",
    "#Calling functions within functions\n",
    "#Calling functions confused when to define functions \n",
    "#and when to define variables\n",
    "#Intuition behind functions\n",
    "    #e.g. Def inches to centimeters x\n",
    "#Make connection that x is input in a function\n",
    "#The word return\n",
    "#Go through lab 1\n",
    "#Indentation, columns\n",
    "#Different brackets"
   ]
  },
  {
   "cell_type": "code",
   "execution_count": 130,
   "metadata": {
    "collapsed": false
   },
   "outputs": [
    {
     "name": "stdout",
     "output_type": "stream",
     "text": [
      "60\n"
     ]
    }
   ],
   "source": [
    "#Write a function called myMultiplier \n",
    "#that takes in 3 variables and returns the \n",
    "#multiplication of those 3 variables. And those \n",
    "#Variables can be int, float, long, \n",
    "\n",
    "def myMultiplier(a,b,c):\n",
    "    return a*b*c\n",
    "\n",
    "x=3\n",
    "y=4\n",
    "z=5\n",
    "timnit= myMultiplier(x,y,z)\n",
    "#timnit = myMultiplier(3,4,5)\n",
    "print timnit"
   ]
  },
  {
   "cell_type": "code",
   "execution_count": 254,
   "metadata": {
    "collapsed": false
   },
   "outputs": [],
   "source": [
    "def timnit_multiplier(a,b,c,d,e,f):\n",
    "    return myMultiplier(a,b,c)*myMultiplier(d,e,f)\n",
    "#what does this return?"
   ]
  },
  {
   "cell_type": "code",
   "execution_count": 115,
   "metadata": {
    "collapsed": true
   },
   "outputs": [],
   "source": [
    "def passing_grade(h):\n",
    "    if h>50:\n",
    "        print 'good'#True\n",
    "        return True\n",
    "    else:\n",
    "        print 'bad'#False\n",
    "        return False"
   ]
  },
  {
   "cell_type": "code",
   "execution_count": null,
   "metadata": {
    "collapsed": true
   },
   "outputs": [],
   "source": [
    "#One function can call another function. What does this function do?\n",
    "def candy_for_grade(g):\n",
    "    if passing_grade(g):\n",
    "        return 'candy'\n",
    "    else:\n",
    "        return 'no_candy'"
   ]
  },
  {
   "cell_type": "code",
   "execution_count": 119,
   "metadata": {
    "collapsed": false
   },
   "outputs": [
    {
     "name": "stdout",
     "output_type": "stream",
     "text": [
      "good\n",
      "y=no_candy\n"
     ]
    }
   ],
   "source": [
    "y=candy_for_grade(100)\n",
    "print 'y='+str(y)"
   ]
  },
  {
   "cell_type": "code",
   "execution_count": 123,
   "metadata": {
    "collapsed": false
   },
   "outputs": [
    {
     "name": "stdout",
     "output_type": "stream",
     "text": [
      "bad\n"
     ]
    }
   ],
   "source": [
    "#if x is None it is evaluated as False. \n",
    "x=None\n",
    "if x:\n",
    "    print 'good'\n",
    "else:\n",
    "    print 'bad'"
   ]
  },
  {
   "cell_type": "code",
   "execution_count": 255,
   "metadata": {
    "collapsed": false
   },
   "outputs": [
    {
     "name": "stdout",
     "output_type": "stream",
     "text": [
      "good\n"
     ]
    },
    {
     "data": {
      "text/plain": [
       "'no_candy'"
      ]
     },
     "execution_count": 255,
     "metadata": {},
     "output_type": "execute_result"
    }
   ],
   "source": [
    "candy_for_grade(51)"
   ]
  },
  {
   "cell_type": "code",
   "execution_count": 59,
   "metadata": {
    "collapsed": false
   },
   "outputs": [],
   "source": [
    "y=timnit_multiplier(3,4,5,6,7,8)\n",
    "print x"
   ]
  },
  {
   "cell_type": "code",
   "execution_count": null,
   "metadata": {
    "collapsed": true
   },
   "outputs": [],
   "source": [
    "#How to define a function (review from lab 1)\n",
    "def inchesToCentimeters(x):\n",
    "     return x*2.54\n",
    "\n",
    "def doubleIt(x):\n",
    "     return 2*x\n",
    "    \n",
    "def timeFromSeconds(x):\n",
    "    hour = x/60/60\n",
    "    minutes = x/60%60\n",
    "    seconds = x%60\n",
    "    \n",
    "    return str(hour) + ':' + str(minutes) + ':' + str(seconds)\n"
   ]
  },
  {
   "cell_type": "code",
   "execution_count": 241,
   "metadata": {
    "collapsed": false
   },
   "outputs": [
    {
     "name": "stdout",
     "output_type": "stream",
     "text": [
      "orange\n",
      "pineapple\n",
      "pineapple\n",
      "banana\n",
      "mango\n"
     ]
    }
   ],
   "source": [
    "#for loops\n",
    "fruits=['orange', 'pineapple','banana','mango']\n",
    "x='timnit'\n",
    "x='meseret'\n",
    "for x in fruits:\n",
    "    if x=='pineapple':\n",
    "        print x\n",
    "        #break\n",
    "        #continue \n",
    "    print x"
   ]
  },
  {
   "cell_type": "code",
   "execution_count": 217,
   "metadata": {
    "collapsed": false
   },
   "outputs": [
    {
     "name": "stdout",
     "output_type": "stream",
     "text": [
      "[0, 1, 2, 3]\n"
     ]
    }
   ],
   "source": [
    "x=[]\n",
    "str='a b c d e'\n",
    "y=range(0,len(str)/2)\n",
    "for y in range(0,len(str)/2):\n",
    "    x += [y]\n",
    "\n",
    "print x\n"
   ]
  },
  {
   "cell_type": "code",
   "execution_count": 223,
   "metadata": {
    "collapsed": false
   },
   "outputs": [
    {
     "name": "stdout",
     "output_type": "stream",
     "text": [
      "[0, 1, 2, 3]\n",
      "[0]\n",
      "<type 'list'>\n"
     ]
    }
   ],
   "source": [
    "y=range(0,len(str)/2)\n",
    "print y\n",
    "y[0]\n",
    "type(y[0])\n",
    "print [y[0]]\n",
    "print (type([y[0]]))"
   ]
  },
  {
   "cell_type": "code",
   "execution_count": 195,
   "metadata": {
    "collapsed": false
   },
   "outputs": [
    {
     "name": "stdout",
     "output_type": "stream",
     "text": [
      "0\n",
      "1\n",
      "2\n",
      "4\n",
      "5\n",
      "6\n",
      "6\n"
     ]
    }
   ],
   "source": [
    "numbers=[1,2,3,4,5,6]\n",
    "for x in xrange(7):\n",
    "    if x==3:\n",
    "        continue \n",
    "        #break\n",
    "    print x\n",
    "print x"
   ]
  },
  {
   "cell_type": "code",
   "execution_count": null,
   "metadata": {
    "collapsed": true
   },
   "outputs": [],
   "source": [
    "my_fruits=[]\n",
    "len(my_fruits)\n",
    "my_fruits += ['my_'+fruits[0]]\n",
    "my_fruits += ['my_'+fruits[1]]\n",
    "my_fruits += ['my_'+fruits[2]]\n",
    "my_fruits += ['my_'+fruits[3]]\n",
    "print my_fruits\n",
    "\n",
    "x=67\n",
    "x=([67])\n",
    "y=[]\n",
    "y += [x[0]]\n",
    "print y"
   ]
  },
  {
   "cell_type": "code",
   "execution_count": 253,
   "metadata": {
    "collapsed": false
   },
   "outputs": [],
   "source": [
    "fruits=['orange', 'pineapple','banana','mango']\n",
    "#my_fruits=['my_orange', 'my_pineapple','my_banana','my_mango']\n",
    "#my_favorite_fruits=['pineapple','mango']\n",
    "#best_fruit = 'banana'\n"
   ]
  },
  {
   "cell_type": "code",
   "execution_count": 158,
   "metadata": {
    "collapsed": false
   },
   "outputs": [
    {
     "name": "stdout",
     "output_type": "stream",
     "text": [
      "orange\n",
      "pineapple\n"
     ]
    }
   ],
   "source": [
    "#what does this print?\n",
    "fruits=['orange', 'pineapple','banana','mango']\n",
    "x='timnit'\n",
    "x='meseret'\n",
    "for x in fruits:\n",
    "        print x\n",
    "print x"
   ]
  },
  {
   "cell_type": "code",
   "execution_count": null,
   "metadata": {
    "collapsed": true
   },
   "outputs": [],
   "source": [
    "#what does this print?\n",
    "fruits=['orange', 'pineapple','banana','mango']\n",
    "x='timnit'\n",
    "x='meseret'\n",
    "for y in fruits:\n",
    "    if y=='pineapple':\n",
    "        break\n",
    "print y\n",
    "print x"
   ]
  },
  {
   "cell_type": "code",
   "execution_count": null,
   "metadata": {
    "collapsed": true
   },
   "outputs": [],
   "source": [
    "#what does this print?\n",
    "fruits=['orange', 'pineapple','banana','mango']\n",
    "x='timnit'\n",
    "x='meseret'\n",
    "for y in fruits:\n",
    "    if y=='pineapple':\n",
    "        break\n",
    "print y\n",
    "print x"
   ]
  },
  {
   "cell_type": "code",
   "execution_count": 156,
   "metadata": {
    "collapsed": false
   },
   "outputs": [
    {
     "name": "stdout",
     "output_type": "stream",
     "text": [
      "pineapple\n",
      "meseret\n"
     ]
    }
   ],
   "source": [
    "#what does this print?\n",
    "fruits=['orange', 'pineapple','banana','mango']\n",
    "x='timnit'\n",
    "x='meseret'\n",
    "for y in fruits:\n",
    "    if y=='pineapple':\n",
    "        break\n",
    "print y\n",
    "print x"
   ]
  },
  {
   "cell_type": "code",
   "execution_count": 256,
   "metadata": {
    "collapsed": false
   },
   "outputs": [
    {
     "name": "stdout",
     "output_type": "stream",
     "text": [
      "[]\n",
      "[]\n",
      "[]\n",
      "[]\n"
     ]
    }
   ],
   "source": [
    "#what does this print?\n",
    "fruits=['orange', 'pineapple','banana','mango']\n",
    "my_fruits=[]\n",
    "for x in fruits:\n",
    "    print my_fruits"
   ]
  },
  {
   "cell_type": "code",
   "execution_count": 257,
   "metadata": {
    "collapsed": false
   },
   "outputs": [
    {
     "name": "stdout",
     "output_type": "stream",
     "text": [
      "orange\n",
      "pineapple\n",
      "banana\n",
      "mango\n"
     ]
    },
    {
     "data": {
      "text/plain": [
       "['my_orange', 'my_pineapple', 'my_banana', 'my_mango']"
      ]
     },
     "execution_count": 257,
     "metadata": {},
     "output_type": "execute_result"
    }
   ],
   "source": [
    "#Example of for loop\n",
    "fruits = ['orange', 'pineapple', 'banana', 'mango']\n",
    "my_fruits=[]\n",
    "for x in fruits:\n",
    "    print x\n",
    "    my_fruits += ['my_'+x]\n",
    "my_fruits"
   ]
  },
  {
   "cell_type": "code",
   "execution_count": 258,
   "metadata": {
    "collapsed": false
   },
   "outputs": [
    {
     "name": "stdout",
     "output_type": "stream",
     "text": [
      "3\n",
      "3\n",
      "2\n"
     ]
    }
   ],
   "source": [
    "#Other useful functions: \n",
    "#It will be helpful for today's lab to know the \n",
    "#following functions.\n",
    "#len(x) returns the length of an iterable data \n",
    "#type (such as a str or list) as an int. For example,\n",
    "print len('abc') \n",
    "print len(['a', 'b', 'c']) \n",
    "print len(['a', ['b', 'c', 'd']])"
   ]
  },
  {
   "cell_type": "code",
   "execution_count": 259,
   "metadata": {
    "collapsed": false
   },
   "outputs": [
    {
     "name": "stdout",
     "output_type": "stream",
     "text": [
      "[0, 1, 2, 3, 4]\n",
      "[2, 3, 4]\n",
      "[0, 2, 4, 6, 8]\n"
     ]
    }
   ],
   "source": [
    "#range(x) returns a list of ints from 0 to x − 1. \n",
    "#example, \n",
    "print range(5) \n",
    "print range(2, 5) #Start at 2 \n",
    "print range(0, 10, 2) #give every 2 values back"
   ]
  },
  {
   "cell_type": "code",
   "execution_count": null,
   "metadata": {
    "collapsed": true
   },
   "outputs": [],
   "source": [
    "#What does this do \n",
    "# Example 1\n",
    "for x in range(1000):\n",
    "   if x == 6:\n",
    "      break\n",
    "   print x"
   ]
  },
  {
   "cell_type": "code",
   "execution_count": null,
   "metadata": {
    "collapsed": true
   },
   "outputs": [],
   "source": [
    "#Convert ints to strings\n",
    "#Say I have 3 variables\n",
    "hours=0\n",
    "minutes=1\n",
    "seconds=0\n",
    "\n",
    "#I want to output '0:1:0'\n",
    "#The code below does that\n",
    "str(hours)+':'+str(minutes)+':'+str(seconds)\n",
    "#str(x) converts x to string from int"
   ]
  }
 ],
 "metadata": {
  "anaconda-cloud": {},
  "kernelspec": {
   "display_name": "Python [Root]",
   "language": "python",
   "name": "Python [Root]"
  },
  "language_info": {
   "codemirror_mode": {
    "name": "ipython",
    "version": 2
   },
   "file_extension": ".py",
   "mimetype": "text/x-python",
   "name": "python",
   "nbconvert_exporter": "python",
   "pygments_lexer": "ipython2",
   "version": "2.7.12"
  }
 },
 "nbformat": 4,
 "nbformat_minor": 0
}
