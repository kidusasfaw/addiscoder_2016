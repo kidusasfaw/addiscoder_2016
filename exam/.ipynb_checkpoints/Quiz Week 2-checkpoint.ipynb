{
 "cells": [
  {
   "cell_type": "markdown",
   "metadata": {},
   "source": [
    "# Quiz 2\n",
    "\n",
    "#### Name:\n",
    "\n",
    "\n",
    "#### Grade:\n",
    "\n",
    "\n",
    "#### Region:\n",
    "\n",
    "Please answer the following questions."
   ]
  },
  {
   "cell_type": "markdown",
   "metadata": {},
   "source": [
    "### Problem 1\n",
    "Write a function hasSolution1(`a`, `b`) which returns `True` if `ax = b` has a unique solution for `x`, and otherwise returns `False`"
   ]
  },
  {
   "cell_type": "code",
   "execution_count": null,
   "metadata": {
    "collapsed": true
   },
   "outputs": [],
   "source": [
    "def hasSolution1(a,b):\n",
    "    # write your code here"
   ]
  },
  {
   "cell_type": "markdown",
   "metadata": {},
   "source": [
    "### Problem 2\n",
    "Describe what is wrong with the following code? Also change the code below by replacing `# HERE` with something else to make it work. The code you add there should not use `+` at all."
   ]
  },
  {
   "cell_type": "code",
   "execution_count": null,
   "metadata": {
    "collapsed": true
   },
   "outputs": [],
   "source": [
    "# returns the sum x+y, where x and y are both greater than or equal to 0\n",
    "def add(x, y):\n",
    "    # HERE\n",
    "    return 1 + add(x, y-1)"
   ]
  },
  {
   "cell_type": "markdown",
   "metadata": {},
   "source": [
    "### What was wrong?:"
   ]
  },
  {
   "cell_type": "markdown",
   "metadata": {},
   "source": [
    "### Problem 3\n",
    "Use recursion to implement a function `multiplyAll` which takes as input a list `L` of integers and returns the product of all elements of `L`."
   ]
  },
  {
   "cell_type": "code",
   "execution_count": null,
   "metadata": {
    "collapsed": false
   },
   "outputs": [],
   "source": [
    "def multiplyAll(L):\n",
    "    # write your code here\n",
    "\n",
    "# examples\n",
    "#\n",
    "print multiplyAll([1,2,3])\n",
    "# should print 6\n",
    "\n",
    "print multiplyAll([4, 0, 2])\n",
    "# should print 0\n",
    "\n",
    "print multiplyAll([1, 1, 1, 1, 1])\n",
    "# should print 1"
   ]
  },
  {
   "cell_type": "markdown",
   "metadata": {},
   "source": [
    "### Problem 4\n",
    "Write a function `isSorted` which takes as input a list `L` of integers and returns `True` if `L` is sorted and `False` if it is not sorted."
   ]
  },
  {
   "cell_type": "code",
   "execution_count": null,
   "metadata": {
    "collapsed": false
   },
   "outputs": [],
   "source": [
    "def isSorted(L):\n",
    "    # write your code here\n",
    "    \n",
    "# examples\n",
    "#\n",
    "print isSorted([1,2,3,4,5])\n",
    "# should print True\n",
    "\n",
    "print isSorted([1, 2, 3, 5, 4])\n",
    "# should print False"
   ]
  },
  {
   "cell_type": "markdown",
   "metadata": {},
   "source": [
    "### Problem 5\n",
    "Suppose you are given an implementation of `sort10` as below, which sorts an input list of 10 numbers. Use it to implement `sort11`, which sorts a list of 11 numbers. Use the selection sort algorithm. Your code should not use the built-in `sorted()` function in `sort11`."
   ]
  },
  {
   "cell_type": "code",
   "execution_count": null,
   "metadata": {
    "collapsed": false
   },
   "outputs": [],
   "source": [
    "def sort10(L):\n",
    "    return sorted(L)\n",
    "\n",
    "def sort11(L):\n",
    "    # write your code here, using sort10\n",
    "    \n",
    "# examples\n",
    "#\n",
    "print sort11([1, 2, 3, 4, 5, 6, 7, 8, 9, 10, 11])\n",
    "# should print [1, 2, 3, 4, 5, 6, 7, 8, 9, 10, 11]\n",
    "\n",
    "print sort11([1, 2, 3, 4, 5, 6, 7, 8, 9, 12, 10])\n",
    "# should print [1, 2, 3, 4, 5, 6, 7, 8, 9, 10, 12]"
   ]
  },
  {
   "cell_type": "markdown",
   "metadata": {},
   "source": [
    "### Problem 6\n",
    "Suppose you are given implementations of `sort10` and `merge_lists` as below. `sort10` sorts an input list of 10 numbers. `merge_lists` takes two sorted lists `L` and `R` as input and outputs the merged sorted list containing all the elements of both `L` and `R`. Use `sort10` and `merge_lists` to implement `sort20`, which sorts a list of 20 numbers. Use the merge sort algorithm. Your code should not use the built-in `sorted()` function in `sort20`."
   ]
  },
  {
   "cell_type": "code",
   "execution_count": null,
   "metadata": {
    "collapsed": false
   },
   "outputs": [],
   "source": [
    "def sort10(L):\n",
    "    return sorted(L)\n",
    "\n",
    "def merge_lists(L, R):\n",
    "    return sorted(L + R)\n",
    "\n",
    "def sort20(L):\n",
    "    # wriet your code here, using sort10 and merge_lists\n",
    "    \n",
    "# examples\n",
    "#\n",
    "print sort20([1, 2, 3, 4, 5, 6, 7, 8, 9, 10, 1, 2, 3, 4, 5, 6, 7, 8, 9, 10])\n",
    "# should print [1, 1, 2, 2, 3, 3, 4, 4, 5, 5, 6, 6, 7, 7, 8, 8, 9, 9, 10, 10]\n",
    "\n",
    "print sort20([1, 2, 1, 2, 3, 4, 3, 4, 5, 6, 5, 6, 7, 8, 7, 8, 9, 10, 10, 9])\n",
    "# should print [1, 1, 2, 2, 3, 3, 4, 4, 5, 5, 6, 6, 7, 7, 8, 8, 9, 9, 10, 10]"
   ]
  },
  {
   "cell_type": "markdown",
   "metadata": {},
   "source": [
    "### Problem 7\n",
    "You are given the function `solve2(a,b,c,d,e,f)` from class which solves systems of 2 equations with 2 variables. That is, suppose you have two equations as follows with two variables `x`, `y`:\n",
    "\n",
    "`ax + by + c = 0`\n",
    "\n",
    "`dx + ey + f = 0`\n",
    "\n",
    "Use `solve2` to implement a function `my_solve3` that solves equations of the form:\n",
    "\n",
    "`ax + by = c + dz`\n",
    "\n",
    "`ex + fy = g + hz`\n",
    "\n",
    "`ix + jy = k + lz`\n",
    "\n",
    "The input to `my_solve3` will be a list of lists of lists `L`. Every equation is a list of two lists. The first list contains `a` and `b` and the second list contains `c` and `d`. For example, if the system of equations had been\n",
    "\n",
    "`x + y = 0 + 2z`\n",
    "\n",
    "`3x - y = 5 - 3z`\n",
    "\n",
    "`2x + 2y = 2 + z`\n",
    "\n",
    "Then `L` would be `[ [[1,1], [0,2]], [[3,-1], [5,-3]], [[2,2], [2,1]] ]`"
   ]
  },
  {
   "cell_type": "code",
   "execution_count": null,
   "metadata": {
    "collapsed": false
   },
   "outputs": [],
   "source": [
    "from __future__ import division\n",
    "\n",
    "def solve1(a,b): #solve xa + b =0\n",
    "    return -b/a\n",
    "\n",
    "def solve2(a,b,c,d,e,f): # solve xa+by+c = 0 , xd+ey+f = 0\n",
    "    if a: # True if a is not zero\n",
    "        # x = (-by-c)/a\n",
    "        # d(-by-c)/a+ey+f=0\n",
    "        y = solve1(-d*b/a+e,-d*c/a+f)\n",
    "        x = (-b*y-c)/a\n",
    "        return x,y\n",
    "    # x = (-ey-f)/d\n",
    "    # a(-ey-f)/d+by+c=0\n",
    "    y = solve1(-a*e/d+b,-f*a/d+c)\n",
    "    x = (-e*y-f)/d\n",
    "    return [x,y]\n",
    "\n",
    "def my_solve3(L):\n",
    "    # write this\n",
    "    \n",
    "# examples\n",
    "#\n",
    "# the example from above:\n",
    "L = [ [[1,1], [0,2]], [[3,-1], [5,-3]], [[2,2], [2,1]] ]\n",
    "print my_solve3(L)\n",
    "# should print [0.5, 1.5, 2.0]"
   ]
  },
  {
   "cell_type": "markdown",
   "metadata": {},
   "source": [
    "### Problem 8\n",
    "Suppose `n` is about one billion (1,000,000,000). Which of these numbers is closest to the number of steps that solve will make on a system of `n` equations with `n` variables? Also please explain your solution. We have included the code for `solve` below for your convenience.\n",
    "\n",
    "#### A. `n`\n",
    "#### B. `n`<sup>2</sup>\n",
    "#### C. `n`<sup>3</sup>\n",
    "#### D. `n`<sup>4</sup>\n"
   ]
  },
  {
   "cell_type": "markdown",
   "metadata": {
    "collapsed": false
   },
   "source": [
    "### Answer: \n",
    "### Justification for answer:"
   ]
  },
  {
   "cell_type": "code",
   "execution_count": null,
   "metadata": {
    "collapsed": true
   },
   "outputs": [],
   "source": [
    "from __future__ import division\n",
    "\n",
    "def solve(eqs):\n",
    "    n = len(eqs)\n",
    "    make_first_coeff_nonzero_general(eqs)  # make 1st coef of 1st equation nonzero\n",
    "    \n",
    "    eqs[0] = multiply_equation(eqs[0],1/eqs[0][0]) \n",
    "    # make 1st coef of 1st  equation equal 1\n",
    "    \n",
    "    for i in range(1,n-1):\n",
    "        eqs[i] = add_equations(eqs[i],multiply_equation(eqs[0],-eqs[i][0])) # zero out first coefficient in eqs 1,2\n",
    "    # make 1st coef of 2nd .. n-th equation equal zero\n",
    "    \n",
    "    rest_equations = []\n",
    "    for i in range(1,n):\n",
    "        rest_equations.append(eqs[i][1:n+1])\n",
    "        \n",
    "    solutions = solve(rest_equations)\n",
    "    # solve remainder of  equations for remainder of  variables \n",
    "\n",
    "    x =  - eqs[0][n]\n",
    "    for i in range(1,n):\n",
    "        x -= eqs[0][i]*solutions[i-1]\n",
    "    # solve 1st variable using solution for 2nd and 3rd variable\n",
    "    \n",
    "    return [x] + solutions"
   ]
  }
 ],
 "metadata": {
  "anaconda-cloud": {},
  "kernelspec": {
   "display_name": "Python [Root]",
   "language": "python",
   "name": "Python [Root]"
  },
  "language_info": {
   "codemirror_mode": {
    "name": "ipython",
    "version": 2
   },
   "file_extension": ".py",
   "mimetype": "text/x-python",
   "name": "python",
   "nbconvert_exporter": "python",
   "pygments_lexer": "ipython2",
   "version": "2.7.12"
  }
 },
 "nbformat": 4,
 "nbformat_minor": 0
}
