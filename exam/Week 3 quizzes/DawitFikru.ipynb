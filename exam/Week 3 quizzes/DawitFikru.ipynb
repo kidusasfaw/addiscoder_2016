{
 "cells": [
  {
   "cell_type": "markdown",
   "metadata": {},
   "source": [
    "# Quiz 2\n",
    "\n",
    "#### Name: Dawit Fikru\n",
    "\n",
    "\n",
    "#### Grade: 11\n",
    "\n",
    "\n",
    "#### Region: Harari\n",
    "\n",
    "Please answer the following questions."
   ]
  },
  {
   "cell_type": "markdown",
   "metadata": {},
   "source": [
    "### Problem 1\n",
    "Write a function hasSolution1(`a`, `b`) which returns `True` if `ax = b` has a unique solution for `x`, and otherwise returns `False`"
   ]
  },
  {
   "cell_type": "code",
   "execution_count": 37,
   "metadata": {
    "collapsed": false
   },
   "outputs": [],
   "source": [
    "def hasSolution1(a,b):\n",
    "    if a==0:\n",
    "        return False\n",
    "    else:\n",
    "        return True\n"
   ]
  },
  {
   "cell_type": "markdown",
   "metadata": {},
   "source": [
    "### Problem 2\n",
    "Describe what is wrong with the following code? Also change the code below by replacing `# HERE` with something else to make it work. The code you add there should not use `+` at all."
   ]
  },
  {
   "cell_type": "code",
   "execution_count": 40,
   "metadata": {
    "collapsed": false
   },
   "outputs": [],
   "source": [
    "# returns the sum x+y, where x and y are both greater than or equal to 0\n",
    "def add(x, y):\n",
    "    if y==0:\n",
    "        return x\n",
    "    return 1 + add(x, y-1)"
   ]
  },
  {
   "cell_type": "markdown",
   "metadata": {},
   "source": [
    "### What was wrong?:"
   ]
  },
  {
   "cell_type": "markdown",
   "metadata": {},
   "source": [
    "first of all the function is recursion, so it must have a base case, but the code doesn't have a base case. This was the mistake of the code."
   ]
  },
  {
   "cell_type": "markdown",
   "metadata": {},
   "source": [
    "### Problem 3\n",
    "Use recursion to implement a function `multiplyAll` which takes as input a list `L` of integers and returns the product of all elements of `L`."
   ]
  },
  {
   "cell_type": "code",
   "execution_count": 42,
   "metadata": {
    "collapsed": false
   },
   "outputs": [],
   "source": [
    "def multiplyAll(L):\n",
    "    if len(L)==1:\n",
    "        return L[0]\n",
    "    return L[0] * multiplyAll(L[1:len(L)])"
   ]
  },
  {
   "cell_type": "markdown",
   "metadata": {},
   "source": [
    "Examples:"
   ]
  },
  {
   "cell_type": "code",
   "execution_count": 4,
   "metadata": {
    "collapsed": false
   },
   "outputs": [
    {
     "data": {
      "text/plain": [
       "6"
      ]
     },
     "execution_count": 4,
     "metadata": {},
     "output_type": "execute_result"
    }
   ],
   "source": [
    "multiplyAll([1,2,3])"
   ]
  },
  {
   "cell_type": "code",
   "execution_count": 5,
   "metadata": {
    "collapsed": false
   },
   "outputs": [
    {
     "data": {
      "text/plain": [
       "0"
      ]
     },
     "execution_count": 5,
     "metadata": {},
     "output_type": "execute_result"
    }
   ],
   "source": [
    "multiplyAll([4, 0, 2])"
   ]
  },
  {
   "cell_type": "code",
   "execution_count": 6,
   "metadata": {
    "collapsed": false
   },
   "outputs": [
    {
     "data": {
      "text/plain": [
       "1"
      ]
     },
     "execution_count": 6,
     "metadata": {},
     "output_type": "execute_result"
    }
   ],
   "source": [
    "multiplyAll([1, 1, 1, 1, 1])"
   ]
  },
  {
   "cell_type": "markdown",
   "metadata": {},
   "source": [
    "### Problem 4\n",
    "Write a function `isSorted` which takes as input a list `L` of integers and returns `True` if `L` is sorted and `False` if it is not sorted."
   ]
  },
  {
   "cell_type": "code",
   "execution_count": 13,
   "metadata": {
    "collapsed": false
   },
   "outputs": [
    {
     "data": {
      "text/plain": [
       "False"
      ]
     },
     "execution_count": 13,
     "metadata": {},
     "output_type": "execute_result"
    }
   ],
   "source": [
    "def isSorted(L):\n",
    "    x=0\n",
    "    y=1\n",
    "    while x<len(L) and y<len(L):\n",
    "        if L[x]<=L[y]:\n",
    "            x +=1\n",
    "            y +=1\n",
    "        else:\n",
    "            return False\n",
    "    return True\n",
    "isSorted([1, 2, 3, 5, 4])"
   ]
  },
  {
   "cell_type": "markdown",
   "metadata": {},
   "source": [
    "Examples:"
   ]
  },
  {
   "cell_type": "code",
   "execution_count": 10,
   "metadata": {
    "collapsed": false
   },
   "outputs": [
    {
     "data": {
      "text/plain": [
       "True"
      ]
     },
     "execution_count": 10,
     "metadata": {},
     "output_type": "execute_result"
    }
   ],
   "source": [
    "isSorted([1,2,3,4,5])"
   ]
  },
  {
   "cell_type": "code",
   "execution_count": 11,
   "metadata": {
    "collapsed": false
   },
   "outputs": [
    {
     "data": {
      "text/plain": [
       "False"
      ]
     },
     "execution_count": 11,
     "metadata": {},
     "output_type": "execute_result"
    }
   ],
   "source": [
    "isSorted([1, 2, 3, 5, 4])"
   ]
  },
  {
   "cell_type": "markdown",
   "metadata": {},
   "source": [
    "### Problem 5\n",
    "Suppose you are given an implementation of `sort10` as below, which sorts an input list of 10 numbers. Use it to implement `sort11`, which sorts a list of 11 numbers. Use the selection sort algorithm. Your code should not use the built-in `sorted()` function in `sort11`."
   ]
  },
  {
   "cell_type": "code",
   "execution_count": 16,
   "metadata": {
    "collapsed": true
   },
   "outputs": [],
   "source": [
    "# helper function\n",
    "def sort10(L):\n",
    "    return sorted(L)"
   ]
  },
  {
   "cell_type": "code",
   "execution_count": 53,
   "metadata": {
    "collapsed": false
   },
   "outputs": [],
   "source": [
    "def sort11(L):\n",
    "    y=0\n",
    "    x=0\n",
    "    s=[]\n",
    "    while x<len(L) and y<len(L)-1:\n",
    "        if L[y]<=L[x]:\n",
    "            x +=1\n",
    "        else:\n",
    "            y +=1\n",
    "    L[0],L[y]=L[y],L[0]\n",
    "    s +=[L[0]]\n",
    "    ans = sort10(L[1:])\n",
    "    return s + ans"
   ]
  },
  {
   "cell_type": "markdown",
   "metadata": {},
   "source": [
    "Examples"
   ]
  },
  {
   "cell_type": "code",
   "execution_count": 45,
   "metadata": {
    "collapsed": false
   },
   "outputs": [
    {
     "data": {
      "text/plain": [
       "[1, 2, 3, 4, 5, 6, 7, 8, 9, 10, 12]"
      ]
     },
     "execution_count": 45,
     "metadata": {},
     "output_type": "execute_result"
    }
   ],
   "source": [
    "sort11([1, 2, 3, 4, 5, 6, 7, 8, 9, 12, 10])"
   ]
  },
  {
   "cell_type": "code",
   "execution_count": 14,
   "metadata": {
    "collapsed": false
   },
   "outputs": [
    {
     "data": {
      "text/plain": [
       "[1, 2, 3, 4, 5, 6, 7, 8, 9, 10, 12]"
      ]
     },
     "execution_count": 14,
     "metadata": {},
     "output_type": "execute_result"
    }
   ],
   "source": [
    "sort11([1, 2, 3, 4, 5, 6, 7, 8, 9, 12, 10])"
   ]
  },
  {
   "cell_type": "markdown",
   "metadata": {},
   "source": [
    "### Problem 6\n",
    "Suppose you are given implementations of `sort10` and `merge_lists` as below. `sort10` sorts an input list of 10 numbers. `merge_lists` takes two sorted lists `L` and `R` as input and outputs the merged sorted list containing all the elements of both `L` and `R`. Use `sort10` and `merge_lists` to implement `sort20`, which sorts a list of 20 numbers. Use the merge sort algorithm. Your code should not use the built-in `sorted()` function in `sort20`."
   ]
  },
  {
   "cell_type": "code",
   "execution_count": 21,
   "metadata": {
    "collapsed": true
   },
   "outputs": [],
   "source": [
    "#helper functions\n",
    "def sort10(L):\n",
    "    return sorted(L)\n",
    "\n",
    "def merge_lists(L, R):\n",
    "    return sorted(L + R)"
   ]
  },
  {
   "cell_type": "code",
   "execution_count": 54,
   "metadata": {
    "collapsed": false
   },
   "outputs": [],
   "source": [
    "def sort20(L):\n",
    "    L1 = sort10(L[0:10])\n",
    "    L2 = sort10(L[10:20])\n",
    "    m = merge_lists(L1, L2)\n",
    "    return m"
   ]
  },
  {
   "cell_type": "markdown",
   "metadata": {},
   "source": [
    "Examples"
   ]
  },
  {
   "cell_type": "code",
   "execution_count": 17,
   "metadata": {
    "collapsed": false
   },
   "outputs": [
    {
     "data": {
      "text/plain": [
       "[1, 1, 2, 2, 3, 3, 4, 4, 5, 5, 6, 6, 7, 7, 8, 8, 9, 9, 10, 10]"
      ]
     },
     "execution_count": 17,
     "metadata": {},
     "output_type": "execute_result"
    }
   ],
   "source": [
    "sort20([1, 2, 3, 4, 5, 6, 7, 8, 9, 10, 1, 2, 3, 4, 5, 6, 7, 8, 9, 10])"
   ]
  },
  {
   "cell_type": "code",
   "execution_count": 18,
   "metadata": {
    "collapsed": false
   },
   "outputs": [
    {
     "data": {
      "text/plain": [
       "[1, 1, 2, 2, 3, 3, 4, 4, 5, 5, 6, 6, 7, 7, 8, 8, 9, 9, 10, 10]"
      ]
     },
     "execution_count": 18,
     "metadata": {},
     "output_type": "execute_result"
    }
   ],
   "source": [
    "sort20([1, 2, 1, 2, 3, 4, 3, 4, 5, 6, 5, 6, 7, 8, 7, 8, 9, 10, 10, 9])"
   ]
  },
  {
   "cell_type": "markdown",
   "metadata": {},
   "source": [
    "### Problem 7\n",
    "\n",
    "You are given the function `positive_solve4(eqs)` which solves systems of 4 equations with 4 variables, but <b>only if all the coefficients of the variables are nonnegative</b>.  On input a list ```eqs``` of 4 equations (each of which is a list of 5 coefficients), ```positive_solve4(eqs)``` will return the same value as ```solve(eqs)``` (i.e., a list of length 4 of the solutions) if all coefficients of variables are non-negative and return ```None``` otherwise. (It's OK if the constant coefficients are negative.)\n",
    "\n",
    "You need to implement the function ```solve2(a,b,c,d,e,d)``` which will solve 2 equations with 2 variables (with potentially negative coefficients) of the form $ax+by+c=0,cx+dy+e=0$ using a call to ```positive_solve4(eqs)```."
   ]
  },
  {
   "cell_type": "code",
   "execution_count": 26,
   "metadata": {
    "collapsed": true
   },
   "outputs": [],
   "source": [
    "## Helper function: positive_solve4\n",
    "## You don't need to read the code of this function\n",
    "## but simply use it as a \"black box\"\n",
    "\n",
    "from __future__ import division\n",
    "import numpy as np\n",
    "\n",
    "def positive_solve4(eqs):\n",
    "    for eq in eqs:\n",
    "        if eq[0]<0 or eq[1]<0 or eq[2]<0 or eq[3]<0:\n",
    "                return None\n",
    "    A = np.ndarray([4,4])\n",
    "    for i in range(4):\n",
    "        for j in range(4):\n",
    "            A[i,j] = eqs[i][j]\n",
    "    b = np.ndarray([4,1])\n",
    "    for i in range(4):\n",
    "        b[i,0] = -eqs[i][4]\n",
    "    C = np.linalg.inv(A)\n",
    "    sol = np.dot(C,b)\n",
    "    return [round(sol[i,0],3) for i in range(4)]"
   ]
  },
  {
   "cell_type": "code",
   "execution_count": 56,
   "metadata": {
    "collapsed": false
   },
   "outputs": [],
   "source": [
    "def solve2(a,b,c,d,e,f): # solve ax + by + c = 0 , dx + ey + f = 0\n",
    "    eqs = []\n",
    "    for x in [a,b,d,e]:\n",
    "        if x<0:\n",
    "            x=-x\n",
    "    eqs +=[[a,b,c,0],[d,e,f,0],[0,0,0,0],[0,0,0,0]]\n",
    "    res = positive_solve4(eqs)\n",
    "    return res\n",
    "solve2(1,1,-10,1,-1,-4)    "
   ]
  },
  {
   "cell_type": "markdown",
   "metadata": {},
   "source": [
    "Examples"
   ]
  },
  {
   "cell_type": "code",
   "execution_count": 25,
   "metadata": {
    "collapsed": false
   },
   "outputs": [
    {
     "data": {
      "text/plain": [
       "[7.0, 3.0]"
      ]
     },
     "execution_count": 25,
     "metadata": {},
     "output_type": "execute_result"
    }
   ],
   "source": [
    "solve2(1,1,-10,1,-1,-4)"
   ]
  },
  {
   "cell_type": "markdown",
   "metadata": {},
   "source": [
    "### Problem 8\n",
    "Suppose `n` is about one billion (1,000,000,000). Which of these numbers is closest to the number of steps that solve will make on a system of `n` equations with `n` variables? Also please explain your solution. We have included the code for `solve` below for your convenience.\n",
    "\n",
    "#### A. `n`\n",
    "#### B. `n`<sup>2</sup>\n",
    "#### C. `n`<sup>3</sup>\n",
    "#### D. `n`<sup>4</sup>\n"
   ]
  },
  {
   "cell_type": "markdown",
   "metadata": {},
   "source": [
    "### Answer: "
   ]
  },
  {
   "cell_type": "markdown",
   "metadata": {},
   "source": [
    "A"
   ]
  },
  {
   "cell_type": "markdown",
   "metadata": {},
   "source": [
    "### Justification for answer:"
   ]
  },
  {
   "cell_type": "markdown",
   "metadata": {
    "collapsed": false
   },
   "source": [
    "the code is recursion and it first make the first element of the first list to be 1 and the other first entries of lists zero and calls the function to run with n-1 equations with n-1 variables up to the time when it is left only with one variable. so the code will run for n number of steps to find the last answer for the system of equations."
   ]
  },
  {
   "cell_type": "markdown",
   "metadata": {},
   "source": [
    "Code of ```solve``` for your convenience:"
   ]
  },
  {
   "cell_type": "code",
   "execution_count": null,
   "metadata": {
    "collapsed": true
   },
   "outputs": [],
   "source": [
    "from __future__ import division\n",
    "\n",
    "def solve(eqs):\n",
    "    n = len(eqs)\n",
    "    make_first_coeff_nonzero_general(eqs)  # make 1st coef of 1st equation nonzero\n",
    "    \n",
    "    eqs[0] = multiply_equation(eqs[0],1/eqs[0][0]) \n",
    "    # make 1st coef of 1st  equation equal 1\n",
    "    \n",
    "    for i in range(1,n-1):\n",
    "        eqs[i] = add_equations(eqs[i],multiply_equation(eqs[0],-eqs[i][0])) # zero out first coefficient in eqs 1,2\n",
    "    # make 1st coef of 2nd .. n-th equation equal zero\n",
    "    \n",
    "    rest_equations = []\n",
    "    for i in range(1,n):\n",
    "        rest_equations.append(eqs[i][1:n+1])\n",
    "        \n",
    "    solutions = solve(rest_equations)\n",
    "    # solve remainder of  equations for remainder of  variables \n",
    "\n",
    "    x =  - eqs[0][n]\n",
    "    for i in range(1,n):\n",
    "        x -= eqs[0][i]*solutions[i-1]\n",
    "    # solve 1st variable using solution for 2nd and 3rd variable\n",
    "    \n",
    "    return [x] + solutions"
   ]
  }
 ],
 "metadata": {
  "anaconda-cloud": {},
  "kernelspec": {
   "display_name": "Python [Root]",
   "language": "python",
   "name": "Python [Root]"
  },
  "language_info": {
   "codemirror_mode": {
    "name": "ipython",
    "version": 2
   },
   "file_extension": ".py",
   "mimetype": "text/x-python",
   "name": "python",
   "nbconvert_exporter": "python",
   "pygments_lexer": "ipython2",
   "version": "2.7.12"
  }
 },
 "nbformat": 4,
 "nbformat_minor": 0
}
