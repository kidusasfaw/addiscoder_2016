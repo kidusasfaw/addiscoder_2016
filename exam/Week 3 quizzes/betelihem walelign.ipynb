{
 "cells": [
  {
   "cell_type": "markdown",
   "metadata": {},
   "source": [
    "# Quiz 2\n",
    "\n",
    "#### Name:betelihem walelign\n",
    "\n",
    "\n",
    "#### Grade:11\n",
    "\n",
    "\n",
    "#### Region:amhara\n",
    "\n",
    "Please answer the following questions.                                                     "
   ]
  },
  {
   "cell_type": "markdown",
   "metadata": {},
   "source": [
    "### Problem 1\n",
    "Write a function hasSolution1(`a`, `b`) which returns `True` if `ax = b` has a unique solution for `x`, and otherwise returns `False`"
   ]
  },
  {
   "cell_type": "code",
   "execution_count": null,
   "metadata": {
    "collapsed": true
   },
   "outputs": [],
   "source": [
    "def hasSolution1(a,b):\n",
    "    # write your code here\n",
    "        return b/a\n",
    "    if a:\n",
    "        a!=0\n",
    "        return true\n",
    "    else:\n",
    "        return false"
   ]
  },
  {
   "cell_type": "markdown",
   "metadata": {},
   "source": [
    "### Problem 2\n",
    "Describe what is wrong with the following code? Also change the code below by replacing `# HERE` with something else to make it work. The code you add there should not use `+` at all."
   ]
  },
  {
   "cell_type": "code",
   "execution_count": null,
   "metadata": {
    "collapsed": true
   },
   "outputs": [],
   "source": [
    "# returns the sum x+y, where x and y are both greater than or equal to 0\n",
    "def add(x,y):\n",
    "    # HERE\n",
    "    return add(x+y)\n",
    "    x=[]\n",
    "    y=[]\n",
    "    return (x+y)\n",
    "add([x+y])"
   ]
  },
  {
   "cell_type": "markdown",
   "metadata": {},
   "source": [
    "### What was wrong?:"
   ]
  },
  {
   "cell_type": "markdown",
   "metadata": {},
   "source": [
    "_write your answer here_\n",
    "return 1+add(x,y-1)"
   ]
  },
  {
   "cell_type": "markdown",
   "metadata": {},
   "source": [
    "### Problem 3\n",
    "Use recursion to implement a function `multiplyAll` which takes as input a list `L` of integers and returns the product of all elements of `L`."
   ]
  },
  {
   "cell_type": "code",
   "execution_count": 21,
   "metadata": {
    "collapsed": false
   },
   "outputs": [
    {
     "ename": "TypeError",
     "evalue": "'function' object has no attribute '__getitem__'",
     "output_type": "error",
     "traceback": [
      "\u001b[1;31m---------------------------------------------------------------------------\u001b[0m",
      "\u001b[1;31mTypeError\u001b[0m                                 Traceback (most recent call last)",
      "\u001b[1;32m<ipython-input-21-5964e440af3f>\u001b[0m in \u001b[0;36m<module>\u001b[1;34m()\u001b[0m\n\u001b[0;32m      3\u001b[0m     \u001b[1;32mfor\u001b[0m \u001b[0mi\u001b[0m \u001b[1;32min\u001b[0m \u001b[1;33m(\u001b[0m\u001b[0mlen\u001b[0m\u001b[1;33m[\u001b[0m\u001b[0mL\u001b[0m\u001b[1;33m]\u001b[0m\u001b[1;33m)\u001b[0m\u001b[1;33m:\u001b[0m\u001b[1;33m\u001b[0m\u001b[0m\n\u001b[0;32m      4\u001b[0m         \u001b[0mL\u001b[0m\u001b[1;33m[\u001b[0m\u001b[1;36m0\u001b[0m\u001b[1;33m]\u001b[0m\u001b[1;33m[\u001b[0m\u001b[1;36m0\u001b[0m\u001b[1;33m]\u001b[0m\u001b[1;33m*\u001b[0m\u001b[0mL\u001b[0m\u001b[1;33m[\u001b[0m\u001b[1;36m0\u001b[0m\u001b[1;33m]\u001b[0m\u001b[1;33m[\u001b[0m\u001b[1;36m1\u001b[0m\u001b[1;33m]\u001b[0m\u001b[1;33m*\u001b[0m\u001b[0mL\u001b[0m\u001b[1;33m[\u001b[0m\u001b[1;36m0\u001b[0m\u001b[1;33m]\u001b[0m\u001b[1;33m[\u001b[0m\u001b[1;36m2\u001b[0m\u001b[1;33m]\u001b[0m\u001b[1;33m\u001b[0m\u001b[0m\n\u001b[1;32m----> 5\u001b[1;33m \u001b[0mmultiplyAll\u001b[0m\u001b[1;33m[\u001b[0m\u001b[1;33m[\u001b[0m\u001b[1;36m1\u001b[0m\u001b[1;33m,\u001b[0m\u001b[1;36m2\u001b[0m\u001b[1;33m,\u001b[0m\u001b[1;36m3\u001b[0m\u001b[1;33m]\u001b[0m\u001b[1;33m]\u001b[0m\u001b[1;33m\u001b[0m\u001b[0m\n\u001b[0m\u001b[0;32m      6\u001b[0m \u001b[1;33m\u001b[0m\u001b[0m\n",
      "\u001b[1;31mTypeError\u001b[0m: 'function' object has no attribute '__getitem__'"
     ]
    }
   ],
   "source": [
    "def multiplyAll(L):\n",
    "    # write your code here\n",
    "    for i in (len[L]):\n",
    "        L[0][0]*L[0][1]*L[0][2] \n",
    "multiplyAll([1,2,3]):\n",
    "        "
   ]
  },
  {
   "cell_type": "markdown",
   "metadata": {},
   "source": [
    "Examples:"
   ]
  },
  {
   "cell_type": "code",
   "execution_count": 4,
   "metadata": {
    "collapsed": false
   },
   "outputs": [
    {
     "data": {
      "text/plain": [
       "6"
      ]
     },
     "execution_count": 4,
     "metadata": {},
     "output_type": "execute_result"
    }
   ],
   "source": [
    "multiplyAll([1,2,3])"
   ]
  },
  {
   "cell_type": "code",
   "execution_count": 5,
   "metadata": {
    "collapsed": false
   },
   "outputs": [
    {
     "data": {
      "text/plain": [
       "0"
      ]
     },
     "execution_count": 5,
     "metadata": {},
     "output_type": "execute_result"
    }
   ],
   "source": [
    "multiplyAll([4, 0, 2])"
   ]
  },
  {
   "cell_type": "code",
   "execution_count": 6,
   "metadata": {
    "collapsed": false
   },
   "outputs": [
    {
     "data": {
      "text/plain": [
       "1"
      ]
     },
     "execution_count": 6,
     "metadata": {},
     "output_type": "execute_result"
    }
   ],
   "source": [
    "multiplyAll([1, 1, 1, 1, 1])"
   ]
  },
  {
   "cell_type": "markdown",
   "metadata": {},
   "source": [
    "### Problem 4\n",
    "Write a function `isSorted` which takes as input a list `L` of integers and returns `True` if `L` is sorted and `False` if it is not sorted."
   ]
  },
  {
   "cell_type": "code",
   "execution_count": 8,
   "metadata": {
    "collapsed": false
   },
   "outputs": [
    {
     "ename": "SyntaxError",
     "evalue": "invalid syntax (<ipython-input-8-f7a5c907da4e>, line 3)",
     "output_type": "error",
     "traceback": [
      "\u001b[1;36m  File \u001b[1;32m\"<ipython-input-8-f7a5c907da4e>\"\u001b[1;36m, line \u001b[1;32m3\u001b[0m\n\u001b[1;33m    if len L<=1:\u001b[0m\n\u001b[1;37m           ^\u001b[0m\n\u001b[1;31mSyntaxError\u001b[0m\u001b[1;31m:\u001b[0m invalid syntax\n"
     ]
    }
   ],
   "source": [
    "def isSorted(L):\n",
    "    # write your code here\n",
    "             if len L<=1:\n",
    "        for i in range(len(L)-1):\n",
    "            if L[i]>L[i+1]:\n",
    "                L[i],L[i+1]=L[i+1],L[i] \n",
    "                issorted(L[0:len(L)])\n",
    "            return True\n",
    "        else:\n",
    "        return False\n",
    "\n",
    "        "
   ]
  },
  {
   "cell_type": "markdown",
   "metadata": {},
   "source": [
    "Examples:"
   ]
  },
  {
   "cell_type": "code",
   "execution_count": 9,
   "metadata": {
    "collapsed": false
   },
   "outputs": [
    {
     "ename": "NameError",
     "evalue": "name 'isSorted' is not defined",
     "output_type": "error",
     "traceback": [
      "\u001b[1;31m---------------------------------------------------------------------------\u001b[0m",
      "\u001b[1;31mNameError\u001b[0m                                 Traceback (most recent call last)",
      "\u001b[1;32m<ipython-input-9-37b439081d6b>\u001b[0m in \u001b[0;36m<module>\u001b[1;34m()\u001b[0m\n\u001b[1;32m----> 1\u001b[1;33m \u001b[0misSorted\u001b[0m\u001b[1;33m(\u001b[0m\u001b[1;33m[\u001b[0m\u001b[1;36m1\u001b[0m\u001b[1;33m,\u001b[0m\u001b[1;36m2\u001b[0m\u001b[1;33m,\u001b[0m\u001b[1;36m3\u001b[0m\u001b[1;33m,\u001b[0m\u001b[1;36m4\u001b[0m\u001b[1;33m,\u001b[0m\u001b[1;36m5\u001b[0m\u001b[1;33m]\u001b[0m\u001b[1;33m)\u001b[0m\u001b[1;33m\u001b[0m\u001b[0m\n\u001b[0m",
      "\u001b[1;31mNameError\u001b[0m: name 'isSorted' is not defined"
     ]
    }
   ],
   "source": [
    "isSorted([1,2,3,4,5])"
   ]
  },
  {
   "cell_type": "code",
   "execution_count": 11,
   "metadata": {
    "collapsed": false
   },
   "outputs": [
    {
     "data": {
      "text/plain": [
       "False"
      ]
     },
     "execution_count": 11,
     "metadata": {},
     "output_type": "execute_result"
    }
   ],
   "source": [
    "isSorted([1, 2, 3, 5, 4])"
   ]
  },
  {
   "cell_type": "markdown",
   "metadata": {},
   "source": [
    "### Problem 5\n",
    "Suppose you are given an implementation of `sort10` as below, which sorts an input list of 10 numbers. Use it to implement `sort11`, which sorts a list of 11 numbers. Use the selection sort algorithm. Your code should not use the built-in `sorted()` function in `sort11`."
   ]
  },
  {
   "cell_type": "code",
   "execution_count": 26,
   "metadata": {
    "collapsed": true
   },
   "outputs": [],
   "source": [
    "# helper function\n",
    "def sort10(L):\n",
    "    L=[]\n",
    "    return sorted(L)"
   ]
  },
  {
   "cell_type": "code",
   "execution_count": 12,
   "metadata": {
    "collapsed": false
   },
   "outputs": [
    {
     "ename": "SyntaxError",
     "evalue": "invalid syntax (<ipython-input-12-e7c82a913afd>, line 3)",
     "output_type": "error",
     "traceback": [
      "\u001b[1;36m  File \u001b[1;32m\"<ipython-input-12-e7c82a913afd>\"\u001b[1;36m, line \u001b[1;32m3\u001b[0m\n\u001b[1;33m    if len L<=1:\u001b[0m\n\u001b[1;37m           ^\u001b[0m\n\u001b[1;31mSyntaxError\u001b[0m\u001b[1;31m:\u001b[0m invalid syntax\n"
     ]
    }
   ],
   "source": [
    "def sort11(L):\n",
    "    # write your code here, using sort10\n",
    "        if len L<=1:\n",
    "            return L\n",
    "    for i in range(len(L)-1):\n",
    "        if L[0:len(L)]:\n",
    "            return\n",
    "        if L(i)>L(i+1):\n",
    "return sorted L[0:len(L)]"
   ]
  },
  {
   "cell_type": "markdown",
   "metadata": {},
   "source": [
    "Examples"
   ]
  },
  {
   "cell_type": "code",
   "execution_count": 13,
   "metadata": {
    "collapsed": false
   },
   "outputs": [
    {
     "data": {
      "text/plain": [
       "[1, 2, 3, 4, 5, 6, 7, 8, 9, 10, 11]"
      ]
     },
     "execution_count": 13,
     "metadata": {},
     "output_type": "execute_result"
    }
   ],
   "source": [
    "sort11([1, 2, 3, 4, 5, 6, 7, 8, 9, 10, 11])"
   ]
  },
  {
   "cell_type": "code",
   "execution_count": 14,
   "metadata": {
    "collapsed": false
   },
   "outputs": [
    {
     "data": {
      "text/plain": [
       "[1, 2, 3, 4, 5, 6, 7, 8, 9, 10, 12]"
      ]
     },
     "execution_count": 14,
     "metadata": {},
     "output_type": "execute_result"
    }
   ],
   "source": [
    "sort11([1, 2, 3, 4, 5, 6, 7, 8, 9, 12, 10])"
   ]
  },
  {
   "cell_type": "markdown",
   "metadata": {},
   "source": [
    "### Problem 6\n",
    "Suppose you are given implementations of `sort10` and `merge_lists` as below. `sort10` sorts an input list of 10 numbers. `merge_lists` takes two sorted lists `L` and `R` as input and outputs the merged sorted list containing all the elements of both `L` and `R`. Use `sort10` and `merge_lists` to implement `sort20`, which sorts a list of 20 numbers. Use the merge sort algorithm. Your code should not use the built-in `sorted()` function in `sort20`."
   ]
  },
  {
   "cell_type": "code",
   "execution_count": null,
   "metadata": {
    "collapsed": true
   },
   "outputs": [],
   "source": [
    "#helper functions\n",
    "def sort10(L):\n",
    "    return sorted(L)\n",
    "\n",
    "def merge_lists(L, R):\n",
    "    y=[]\n",
    "    m=[]\n",
    "    return sorted(L + R)"
   ]
  },
  {
   "cell_type": "code",
   "execution_count": null,
   "metadata": {
    "collapsed": false
   },
   "outputs": [],
   "source": [
    "def sort20(L):\n",
    "    if len x<=1\n",
    "    return x\n",
    " for i in range(len(x)-1)\n",
    "    if x[0:len(x)]\n",
    "    return\n",
    "if x(i)>x(i+1):\n",
    "    # write your code here, using sort10 and merge_lists"
   ]
  },
  {
   "cell_type": "markdown",
   "metadata": {},
   "source": [
    "Examples"
   ]
  },
  {
   "cell_type": "code",
   "execution_count": 17,
   "metadata": {
    "collapsed": false
   },
   "outputs": [
    {
     "data": {
      "text/plain": [
       "[1, 1, 2, 2, 3, 3, 4, 4, 5, 5, 6, 6, 7, 7, 8, 8, 9, 9, 10, 10]"
      ]
     },
     "execution_count": 17,
     "metadata": {},
     "output_type": "execute_result"
    }
   ],
   "source": [
    "sort20([1, 2, 3, 4, 5, 6, 7, 8, 9, 10, 1, 2, 3, 4, 5, 6, 7, 8, 9, 10])"
   ]
  },
  {
   "cell_type": "code",
   "execution_count": 18,
   "metadata": {
    "collapsed": false
   },
   "outputs": [
    {
     "data": {
      "text/plain": [
       "[1, 1, 2, 2, 3, 3, 4, 4, 5, 5, 6, 6, 7, 7, 8, 8, 9, 9, 10, 10]"
      ]
     },
     "execution_count": 18,
     "metadata": {},
     "output_type": "execute_result"
    }
   ],
   "source": [
    "sort20([1, 2, 1, 2, 3, 4, 3, 4, 5, 6, 5, 6, 7, 8, 7, 8, 9, 10, 10, 9])"
   ]
  },
  {
   "cell_type": "markdown",
   "metadata": {},
   "source": [
    "### Problem 7\n",
    "\n",
    "You are given the function `positive_solve4(eqs)` which solves systems of 4 equations with 4 variables, but <b>only if all the coefficients of the variables are nonnegative</b>.  On input a list ```eqs``` of 4 equations (each of which is a list of 5 coefficients), ```positive_solve4(eqs)``` will return the same value as ```solve(eqs)``` (i.e., a list of length 4 of the solutions) if all coefficients of variables are non-negative and return ```None``` otherwise. (It's OK if the constant coefficients are negative.)\n",
    "\n",
    "You need to implement the function ```solve2(a,b,c,d,e,d)``` which will solve 2 equations with 2 variables (with potentially negative coefficients) of the form $ax+by+c=0,cx+dy+e=0$ using a call to ```positive_solve4(eqs)```."
   ]
  },
  {
   "cell_type": "code",
   "execution_count": 20,
   "metadata": {
    "collapsed": true
   },
   "outputs": [],
   "source": [
    "## Helper function: positive_solve4\n",
    "## You don't need to read the code of this function\n",
    "## but simply use it as a \"black box\"\n",
    "\n",
    "from __future__ import division\n",
    "import numpy as np\n",
    "\n",
    "def positive_solve4(eqs):\n",
    "    for eq in eqs:\n",
    "        if eq[0]<0 or eq[1]<0 or eq[2]<0 or eq[3]<0:\n",
    "                return None\n",
    "    A = np.ndarray([4,4])\n",
    "    for i in range(4):\n",
    "        for j in range(4):\n",
    "            A[i,j] = eqs[i][j]\n",
    "    b = np.ndarray([4,1])\n",
    "    for i in range(4):\n",
    "        b[i,0] = -eqs[i][4]\n",
    "    C = np.linalg.inv(A)\n",
    "    sol = np.dot(C,b)\n",
    "    return [round(sol[i,0],3) for i in range(4)]"
   ]
  },
  {
   "cell_type": "code",
   "execution_count": 20,
   "metadata": {
    "collapsed": false
   },
   "outputs": [
    {
     "ename": "IndentationError",
     "evalue": "unindent does not match any outer indentation level (<ipython-input-20-acdd5cdca3ba>, line 15)",
     "output_type": "error",
     "traceback": [
      "\u001b[1;36m  File \u001b[1;32m\"<ipython-input-20-acdd5cdca3ba>\"\u001b[1;36m, line \u001b[1;32m15\u001b[0m\n\u001b[1;33m    res = positive_solve4(eqs)\u001b[0m\n\u001b[1;37m                              ^\u001b[0m\n\u001b[1;31mIndentationError\u001b[0m\u001b[1;31m:\u001b[0m unindent does not match any outer indentation level\n"
     ]
    }
   ],
   "source": [
    "def solve2(a,b,c,d,e,f): # solve ax + by + c = 0 , dx + ey + f = 0\n",
    "        eqs = []\n",
    "            w=0\n",
    "            z=0\n",
    "        return (x,y)\n",
    "solve2(1,1,-10,1,-1,-4)      \n",
    "        #if a:\n",
    "            #y(A,B)\n",
    "            #x(C)\n",
    "            #return(x,y)\n",
    "        #y(D,E)\n",
    "        #x(F)\n",
    "        #return(x,y)\n",
    "        \n",
    "    # YOUR CODE HERE\n",
    "    \n",
    "    res = positive_solve4(eqs)\n",
    "    \n",
    "    # YOUR CODE HERE TO COMPUTE RETURN VALUE"
   ]
  },
  {
   "cell_type": "markdown",
   "metadata": {},
   "source": [
    "Examples"
   ]
  },
  {
   "cell_type": "code",
   "execution_count": 25,
   "metadata": {
    "collapsed": false
   },
   "outputs": [
    {
     "data": {
      "text/plain": [
       "[7.0, 3.0]"
      ]
     },
     "execution_count": 25,
     "metadata": {},
     "output_type": "execute_result"
    }
   ],
   "source": [
    "solve2(1,1,-10,1,-1,-4)"
   ]
  },
  {
   "cell_type": "markdown",
   "metadata": {},
   "source": [
    "### Problem 8\n",
    "Suppose `n` is about one billion (1,000,000,000). Which of these numbers is closest to the number of steps that solve will make on a system of `n` equations with `n` variables? Also please explain your solution. We have included the code for `solve` below for your convenience.\n",
    "\n",
    "#### A. `n`\n",
    "#### B. `n`<sup>2</sup>\n",
    "#### C. `n`<sup>3</sup>\n",
    "#### D. `n`<sup>4</sup>\n"
   ]
  },
  {
   "cell_type": "markdown",
   "metadata": {},
   "source": [
    "### Answer: "
   ]
  },
  {
   "cell_type": "markdown",
   "metadata": {},
   "source": [
    "_write your answer here_\n",
    "10*"
   ]
  },
  {
   "cell_type": "markdown",
   "metadata": {},
   "source": [
    "### Justification for answer:"
   ]
  },
  {
   "cell_type": "markdown",
   "metadata": {
    "collapsed": false
   },
   "source": [
    "_write your answer here_"
   ]
  },
  {
   "cell_type": "markdown",
   "metadata": {},
   "source": [
    "Code of ```solve``` for your convenience:"
   ]
  },
  {
   "cell_type": "code",
   "execution_count": null,
   "metadata": {
    "collapsed": true
   },
   "outputs": [],
   "source": [
    "from __future__ import division\n",
    "\n",
    "def solve(eqs):\n",
    "    n = len(eqs)\n",
    "    make_first_coeff_nonzero_general(eqs)  # make 1st coef of 1st equation nonzero\n",
    "    \n",
    "    eqs[0] = multiply_equation(eqs[0],1/eqs[0][0]) \n",
    "    # make 1st coef of 1st  equation equal 1\n",
    "    \n",
    "    for i in range(1,n-1):\n",
    "        eqs[i] = add_equations(eqs[i],multiply_equation(eqs[0],-eqs[i][0])) # zero out first coefficient in eqs 1,2\n",
    "    # make 1st coef of 2nd .. n-th equation equal zero\n",
    "    \n",
    "    rest_equations = []\n",
    "    for i in range(1,n):\n",
    "        rest_equations.append(eqs[i][1:n+1])\n",
    "        \n",
    "    solutions = solve(rest_equations)\n",
    "    # solve remainder of  equations for remainder of  variables \n",
    "\n",
    "    x =  - eqs[0][n]\n",
    "    for i in range(1,n):\n",
    "        x -= eqs[0][i]*solutions[i-1]\n",
    "    # solve 1st variable using solution for 2nd and 3rd variable\n",
    "    \n",
    "    return [x] + solutions"
   ]
  }
 ],
 "metadata": {
  "anaconda-cloud": {},
  "kernelspec": {
   "display_name": "Python [Root]",
   "language": "python",
   "name": "Python [Root]"
  },
  "language_info": {
   "codemirror_mode": {
    "name": "ipython",
    "version": 2
   },
   "file_extension": ".py",
   "mimetype": "text/x-python",
   "name": "python",
   "nbconvert_exporter": "python",
   "pygments_lexer": "ipython2",
   "version": "2.7.12"
  }
 },
 "nbformat": 4,
 "nbformat_minor": 0
}
