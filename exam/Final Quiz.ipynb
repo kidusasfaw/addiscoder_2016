{
 "cells": [
  {
   "cell_type": "markdown",
   "metadata": {},
   "source": [
    "# Final Quiz\n",
    "\n",
    "#### Name:\n",
    "\n",
    "We would also love to know more about you, and to keep in touch after the course. We encourage you to join the \"AddisCoder 2016\" Facebook group, which you can find via a Facebook search. Also feel free to leave some further information about yourself below.\n",
    "\n",
    "#### E-mail:\n",
    "\n",
    "#### Phone number:\n",
    "\n",
    "#### City/Town:\n",
    "\n",
    "#### High school:\n",
    "\n",
    "Please answer the questions according to the following example.\n",
    "\n",
    "### Example\n",
    "\n",
    "What will be the output of the code below?"
   ]
  },
  {
   "cell_type": "code",
   "execution_count": null,
   "metadata": {
    "collapsed": false
   },
   "outputs": [],
   "source": [
    "def addOne(x):\n",
    "    return x + 1\n",
    "    \n",
    "print addOne(2)"
   ]
  },
  {
   "cell_type": "markdown",
   "metadata": {},
   "source": [
    "#### Answer\n",
    "`3`"
   ]
  },
  {
   "cell_type": "markdown",
   "metadata": {},
   "source": [
    "### Problem 1\n",
    "What will be the value of `x`?"
   ]
  },
  {
   "cell_type": "code",
   "execution_count": null,
   "metadata": {
    "collapsed": true
   },
   "outputs": [],
   "source": [
    "x = 2**3-2*3"
   ]
  },
  {
   "cell_type": "markdown",
   "metadata": {},
   "source": [
    "### Problem 2\n",
    "What will be the output of the code below? If there's an error, explain why."
   ]
  },
  {
   "cell_type": "code",
   "execution_count": 2,
   "metadata": {
    "collapsed": false
   },
   "outputs": [],
   "source": [
    "L = [1, 2, 3]\n",
    "i = 0\n",
    "while i < len(L):\n",
    "    print i"
   ]
  },
  {
   "cell_type": "markdown",
   "metadata": {},
   "source": [
    "### Problem 3\n",
    "What will be the output of the code below? If there's an error, explain why."
   ]
  },
  {
   "cell_type": "code",
   "execution_count": null,
   "metadata": {
    "collapsed": false
   },
   "outputs": [],
   "source": [
    "L = [2, 1, 0]\n",
    "for x in L:\n",
    "    print L[x]"
   ]
  },
  {
   "cell_type": "markdown",
   "metadata": {},
   "source": [
    "### Problem 4\n",
    "What will be the output of the code below? If there's an error, explain why."
   ]
  },
  {
   "cell_type": "code",
   "execution_count": 5,
   "metadata": {
    "collapsed": false
   },
   "outputs": [],
   "source": [
    "L = '210'\n",
    "for x in L:\n",
    "    print L[x]"
   ]
  },
  {
   "cell_type": "markdown",
   "metadata": {},
   "source": [
    "### Problem 5\n",
    "What will be the output of the code below? If there's an error, explain why."
   ]
  },
  {
   "cell_type": "code",
   "execution_count": null,
   "metadata": {
    "collapsed": false
   },
   "outputs": [],
   "source": [
    "def multiply(x,y):\n",
    "    return x + multiply(x, y-1)\n",
    "print multiply(5, 4)"
   ]
  },
  {
   "cell_type": "markdown",
   "metadata": {},
   "source": [
    "### Problem 6\n",
    "Suppose someone has given you an implementation of `solve2` such that `solve2(a,b,c,d,e,f)` returns a list `L` containing the solution to the pair of equations `ax + by + c = 0` and `dx + ey + f = 0`. If there is no unique solution, `solve2` returns `None`. Otherwise, `L[0]` is the solution for $x$, and `L[1]` for $y$. Which of the following is a correct implementation of `solve(a,b)`, which returns a solution to `ax + b = 0`?"
   ]
  },
  {
   "cell_type": "code",
   "execution_count": null,
   "metadata": {
    "collapsed": false
   },
   "outputs": [],
   "source": [
    "# A\n",
    "def solve(a,b):\n",
    "    return solve2(a,b,0,0,0,0)\n",
    "\n",
    "# B\n",
    "def solve(a,b):\n",
    "    return solve2(a,0,b,0,0,0)[0]\n",
    "\n",
    "# C\n",
    "def solve(a,b):\n",
    "    return solve2(a,b,0,1,0,0)[0]\n",
    "\n",
    "# D\n",
    "def solve(a,b):\n",
    "    return solve2(a,0,b,1,1,0)[0]"
   ]
  },
  {
   "cell_type": "markdown",
   "metadata": {},
   "source": [
    "### Problem 7\n",
    "What will be the output of the code below? If there is an error, explain why"
   ]
  },
  {
   "cell_type": "code",
   "execution_count": null,
   "metadata": {
    "collapsed": false
   },
   "outputs": [],
   "source": [
    "def mystery(x):\n",
    "    return 2*x + 7\n",
    "print mystery('10')"
   ]
  },
  {
   "cell_type": "markdown",
   "metadata": {},
   "source": [
    "### Problem 8\n",
    "What will be the output of the code below? If there is an error, explain why"
   ]
  },
  {
   "cell_type": "code",
   "execution_count": 7,
   "metadata": {
    "collapsed": false
   },
   "outputs": [],
   "source": [
    "def mystery(x):\n",
    "    return 3*x\n",
    "print mystery('7')"
   ]
  },
  {
   "cell_type": "markdown",
   "metadata": {},
   "source": [
    "### Problem 9\n",
    "Consider the algorithm you learned for multiplication when you were a young child, based on memorizing your multiplication tables for all numbers between $0$ and $9$. Let's say for multiplying numbers with $n$ digits, it took about $4n^2$ steps. Suppose you spent some more time and now memorized multiplication tables for all numbers between $0$ and $99$. With this increased memorization, now how many steps would the grade school algorithm take?"
   ]
  },
  {
   "cell_type": "markdown",
   "metadata": {},
   "source": [
    "A. $4n^2$\n",
    "\n",
    "B. $2n^2$\n",
    "\n",
    "C. $n^2$\n",
    "\n",
    "D. $4n$"
   ]
  },
  {
   "cell_type": "markdown",
   "metadata": {},
   "source": [
    "### Problem 10\n",
    "Suppose I wish to write a function `findIt(x, L)` which takes as input a number `x` and an arbitrary list `L` and returns any index `i` such that `L[i] == x`. If `x` doesn't appear in `L`, the function should return `-1`. Which algorithmic concept should I use to implement `findIt`? Circle any that apply."
   ]
  },
  {
   "cell_type": "markdown",
   "metadata": {
    "collapsed": false
   },
   "source": [
    "A. `for` loop\n",
    "\n",
    "B. binary search\n",
    "\n",
    "C. hashing\n",
    "\n",
    "D. `while` loop"
   ]
  },
  {
   "cell_type": "markdown",
   "metadata": {},
   "source": [
    "### Problem 11\n",
    "Suppose we want to implement a function `foo(x, L)` in which `L` is sorted. This function should return `True` if `foo` is in `L` and return `False` otherwise. `x` is an `int` and `L` is a list of ints. What error might the following code give if run?"
   ]
  },
  {
   "cell_type": "code",
   "execution_count": 15,
   "metadata": {
    "collapsed": false
   },
   "outputs": [],
   "source": [
    "# check if x is in L[A:B]\n",
    "def binarySearch(x, L, A, B):\n",
    "    if B < A+1:\n",
    "        return False\n",
    "    else:\n",
    "        mid = (A+B)/2\n",
    "        if L[mid] == x:\n",
    "            return True\n",
    "        elif L[mid] > x:\n",
    "            return binarySearch(x, L, A, mid)\n",
    "        else:\n",
    "            return binarySearch(x, L, mid, B)\n",
    "    \n",
    "def foo(x, L):\n",
    "    return binarySearch(x, L, 0, len(L))"
   ]
  },
  {
   "cell_type": "markdown",
   "metadata": {},
   "source": [
    "A. maximum recursion depth exceeded\n",
    "\n",
    "B. index out of range error\n",
    "\n",
    "C. No error will be printed by Python, the code is correct.\n",
    "\n",
    "D. No error will be printed by Python, but there is a mistake in the code so sometimes it gives the wrong answer."
   ]
  },
  {
   "cell_type": "markdown",
   "metadata": {},
   "source": [
    "### Problem 13\n",
    "In the mobile application `Snapchat`, users post pictures and videos from their phone. Then other users can \"follow\" them to see everything they post. If you follow me, I don't have to follow you back. We want to make a graph representing who is following who on Snapchat. What would the most natural representation be?"
   ]
  },
  {
   "cell_type": "markdown",
   "metadata": {
    "collapsed": false
   },
   "source": [
    "A. Undirected graph\n",
    "\n",
    "B. Directed graph\n",
    "\n",
    "C. Either of the above is fine\n",
    "\n",
    "D. This is not a proper situation to use a graph representation"
   ]
  },
  {
   "cell_type": "markdown",
   "metadata": {},
   "source": [
    "### Problem 14\n",
    "Jelani's friend is named Tinchel, and Tinchel believes that memoization should always be used in recursive situations to make things faster. For example, `MergeSort` should be memoized to make it faster. Is Tinchel right?"
   ]
  },
  {
   "cell_type": "markdown",
   "metadata": {
    "collapsed": false
   },
   "source": [
    "A. Yes, memoization always makes recursive algorithms faster.\n",
    "\n",
    "B. No, memoization doesn't always help, but it would make `MergeSort` faster.\n",
    "\n",
    "C. No, memoization doesn't always help. For `MergeSort` it wouldn't help since it never recurses on the same parameters twice.\n",
    "\n",
    "D. Yes, memoization should always be used, but Tinchel's reason is wrong. The real reason is that it uses less memory."
   ]
  },
  {
   "cell_type": "markdown",
   "metadata": {},
   "source": [
    "### Problem 15\n",
    "What would be the running time of integer multiplication if we had a way of breaking the input integers into $4$ pieces and doing $5$ recursive calls, then combining the results in $O(n)$ time? Here $n$ is the number of digits."
   ]
  },
  {
   "cell_type": "markdown",
   "metadata": {
    "collapsed": false
   },
   "source": [
    "A. $O(n^{\\log_2 3})$\n",
    "\n",
    "B. $O(n^{\\log_2 5})$\n",
    "\n",
    "C. $O(n^{\\frac 12\\cdot \\log_2 5})$\n",
    "\n",
    "D. $O(n)$"
   ]
  }
 ],
 "metadata": {
  "anaconda-cloud": {},
  "kernelspec": {
   "display_name": "Python [Root]",
   "language": "python",
   "name": "Python [Root]"
  },
  "language_info": {
   "codemirror_mode": {
    "name": "ipython",
    "version": 2
   },
   "file_extension": ".py",
   "mimetype": "text/x-python",
   "name": "python",
   "nbconvert_exporter": "python",
   "pygments_lexer": "ipython2",
   "version": "2.7.12"
  }
 },
 "nbformat": 4,
 "nbformat_minor": 0
}
