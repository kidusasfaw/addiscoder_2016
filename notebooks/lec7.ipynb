{
 "cells": [
  {
   "cell_type": "code",
   "execution_count": null,
   "metadata": {
    "collapsed": true
   },
   "outputs": [],
   "source": [
    "#Today we will see more examples of functions \n",
    "#calling each other. \n",
    "#You have already seen an example of this \n",
    "#in lecture 6. \n",
    "#And at the very end, we will cover a new topic \n",
    "#called recursion which we will cover tomorrow \n",
    "#and next week. Read lecture 4 handout \n",
    "#before class tomorrow. \n",
    "#It will probably be confusing at first\n",
    "#because it is a new topic. \n",
    "#But you will understand it over time. "
   ]
  },
  {
   "cell_type": "code",
   "execution_count": null,
   "metadata": {
    "collapsed": true
   },
   "outputs": [],
   "source": [
    "#some other things that you might have forgotten.\n",
    "#You can have a list of lists\n",
    "#e.g.\n",
    "x=[1,2,3,4,5] #what is x[0]\n",
    "x=['a','b','c','d']\n",
    "#how about now?\n",
    "x=[[1,2],3,[4,5,6,7]] \n",
    "#what is x[0]? [1,2]\n",
    "#what is x[1]? 3\n",
    "#what is x[2]? [4,5,6,7]\n",
    "#what is len(x)? 3\n",
    "#What is x[0][0]? \n",
    "#  1 because x[0] is [1,2] and [1,2][0] is 1.\n",
    "#what is x[0][1]? 2.\n",
    "#what is len(x[0][0])? \n",
    "#  Error because len(1) cannot use len on int.\n",
    "#what about len(x[0])? 2"
   ]
  },
  {
   "cell_type": "code",
   "execution_count": 104,
   "metadata": {
    "collapsed": false
   },
   "outputs": [
    {
     "name": "stdout",
     "output_type": "stream",
     "text": [
      "6\n",
      "5\n"
     ]
    }
   ],
   "source": [
    "#Say you want to swap the values of a and b. \n",
    "#.e.g.\n",
    "a=5\n",
    "b=6\n",
    "\n",
    "#a=b #now a is 6\n",
    "#b=a #b=a now b is also 6\n",
    "#new_a=a #new_a is 5\n",
    "#a=b #now what is a? a is 6\n",
    "#b=new_a #noew what is b? 5. \n",
    "\n",
    "#and you want to have a=6 and b=5\n",
    "#How would you do this?\n",
    "\n",
    "\n",
    "a,b=b,a\n",
    "print a\n",
    "print b"
   ]
  },
  {
   "cell_type": "code",
   "execution_count": null,
   "metadata": {
    "collapsed": true
   },
   "outputs": [],
   "source": [
    "#Say you want to swap the values of a and b. \n",
    "#.e.g.\n",
    "a=5\n",
    "b=6\n",
    "#and you want to have a=6 and b=5\n",
    "#How would you do this?\n",
    "new_a=b\n",
    "b=a\n",
    "a=new_a\n",
    "\n",
    "#an easy way to do this in python is \n",
    "a,b=b,a"
   ]
  },
  {
   "cell_type": "code",
   "execution_count": null,
   "metadata": {
    "collapsed": true
   },
   "outputs": [],
   "source": [
    "#As we have seen before, one function can call another function. \n",
    "#What does this function do?\n",
    "#what is printed?\n",
    "#Having more than one function\n",
    "def passing_grade(h):\n",
    "    if h>50:\n",
    "        #print 'good'#True  <--Some people are confused by print Vs. return\n",
    "        return True\n",
    "    else:\n",
    "        #print 'bad'#False\n",
    "        return False\n",
    "\n",
    "def candy_for_grade(g):\n",
    "    if passing_grade(g):\n",
    "        return 'candy'\n",
    "    else:\n",
    "        return 'no_candy'\n",
    "y=candy_for_grade(51)\n",
    "#print y\n",
    "\n",
    "#what is the value of y?"
   ]
  },
  {
   "cell_type": "code",
   "execution_count": null,
   "metadata": {
    "collapsed": true
   },
   "outputs": [],
   "source": [
    "#As we have seen before, one function can call another function. \n",
    "#What does this function do?\n",
    "#what is printed?\n",
    "#Having more than one function\n",
    "def passing_grade(h):\n",
    "    if h>50:\n",
    "        print 'good'#True  <--Some people are confused by print Vs. return\n",
    "        return True\n",
    "    else:\n",
    "        print 'bad'#False\n",
    "        return False\n",
    "\n",
    "def candy_for_grade(g):\n",
    "    if passing_grade(g):\n",
    "        return 'candy'\n",
    "    else:\n",
    "        return 'no_candy'\n",
    "y=candy_for_grade(51)\n",
    "print y\n",
    "\n",
    "#what is the value of y? Now? Rembmer \n",
    "#whether or not we print something, this \n",
    "#does not change\n",
    "#the value of why."
   ]
  },
  {
   "cell_type": "code",
   "execution_count": null,
   "metadata": {
    "collapsed": true
   },
   "outputs": [],
   "source": [
    "#In lab2, you have looked at the function \n",
    "#isPalindrome which \n",
    "#returns True if a given string is a palindrome. \n",
    "#I.e., isPalindrome('abcde') returns False.\n",
    "#returns False and isPalindrome('abcba') \n",
    "#returns True. \n",
    "#You have also seen a function called reverse \n",
    "#that returns the reversed verion of a string.\n",
    "#I give you a function called reverse. It takes in\n",
    "#a string, and returns the reversed version of\n",
    "#the string. So reverse('abcba') returns abcba.\n",
    "#reverse('12345') returns '54321'. \n",
    "#reverse(12345) gives an error. \n",
    "#can you think of a way to create the function \n",
    "#isPalindrom by using the function reverse?\n",
    "#Like I said in lecture before, \n",
    "#first try to write down in English\n",
    "#how the function would work.\n",
    "#....."
   ]
  },
  {
   "cell_type": "code",
   "execution_count": 109,
   "metadata": {
    "collapsed": false
   },
   "outputs": [
    {
     "data": {
      "text/plain": [
       "True"
      ]
     },
     "execution_count": 109,
     "metadata": {},
     "output_type": "execute_result"
    }
   ],
   "source": [
    "def Reverse(x):\n",
    "    y=''\n",
    "    for n in range(len(x)):\n",
    "        y += x[len(x)-n-1] \n",
    "    print y\n",
    "    return y\n",
    "    \n",
    "\n",
    "#def isPalindrome(x):\n",
    "#    if Reverse(x)==x: #I am saying if None==x:\n",
    "#        return True\n",
    "#    else:\n",
    "#        return False\n",
    "#isPalindrome('abcba')\n",
    "\n",
    "def isPalindrome(x):\n",
    "    return Reverse(x)==x\n",
    "isPalindrome('abcba')"
   ]
  },
  {
   "cell_type": "code",
   "execution_count": 111,
   "metadata": {
    "collapsed": false
   },
   "outputs": [
    {
     "data": {
      "text/plain": [
       "True"
      ]
     },
     "execution_count": 111,
     "metadata": {},
     "output_type": "execute_result"
    }
   ],
   "source": [
    "5==5"
   ]
  },
  {
   "cell_type": "code",
   "execution_count": 46,
   "metadata": {
    "collapsed": false
   },
   "outputs": [
    {
     "data": {
      "text/plain": [
       "False"
      ]
     },
     "execution_count": 46,
     "metadata": {},
     "output_type": "execute_result"
    }
   ],
   "source": [
    "def isPalindrome(x):\n",
    "    if x==reverse(x):\n",
    "        return True\n",
    "    else:\n",
    "        return False\n",
    "\n",
    "isPalindrome('123210')    "
   ]
  },
  {
   "cell_type": "code",
   "execution_count": 115,
   "metadata": {
    "collapsed": false
   },
   "outputs": [
    {
     "data": {
      "text/plain": [
       "False"
      ]
     },
     "execution_count": 115,
     "metadata": {},
     "output_type": "execute_result"
    }
   ],
   "source": [
    "#Another way\n",
    "def isPalindrome(x):\n",
    "    x=str(x)\n",
    "    return x==reverse(x)\n",
    "#this does the same thing as the function \n",
    "#isPalindrome above. \n",
    "#why?\n",
    "#if I give isPalindrome('12345') I want False\n",
    "#if I give isPalindrome(12345) I want False\n",
    "#if I give isPalindrome('abcba') I want True\n",
    "#if I give isPalindrome(12321) I want True\n",
    "#isPalindrome('12345')"
   ]
  },
  {
   "cell_type": "code",
   "execution_count": 48,
   "metadata": {
    "collapsed": false
   },
   "outputs": [],
   "source": [
    "#Ok so now we want to have a function isPalindrome. \n",
    "#However, we want it\n",
    "#to be able to have a string or an int as an input. \n",
    "#the function we wrote above can only take a string.\n",
    "#what is the output of the code below?\n",
    "\n",
    "def reverse(x):\n",
    "    y=''\n",
    "    for n in range(len(x)): \n",
    "      y += x[len(x)-n-1] \n",
    "    return y\n",
    "\n",
    "def isPalindrome(x):\n",
    "    #x=str(x) #add this to use ints. \n",
    "    if x==reverse(x):\n",
    "        return True\n",
    "    else:\n",
    "        return False\n",
    "    \n",
    "isPalindrome(123210)"
   ]
  },
  {
   "cell_type": "code",
   "execution_count": 50,
   "metadata": {
    "collapsed": false
   },
   "outputs": [],
   "source": [
    "#We get a type error. Why? Because reverse only takes a string.\n",
    "#where exactly is the error? \n",
    "#1. We cannot use len on an int\n",
    "#2. We cannot index into an int like this: \n",
    "#       if x is an int we cannot say x[0] \n",
    "#or x[1] etc...\n",
    "#So how can we still have a function \n",
    "#that takes a string or an int and returns \n",
    "#whether or not that string or int is a palindrome? \n",
    "#There are many ways of \n",
    "#doing this. I will give you a few minutes to \n",
    "#think of a few ways.\n"
   ]
  },
  {
   "cell_type": "code",
   "execution_count": 120,
   "metadata": {
    "collapsed": false
   },
   "outputs": [
    {
     "name": "stdout",
     "output_type": "stream",
     "text": [
      "Wrong data type\n",
      "None\n"
     ]
    }
   ],
   "source": [
    "#One way to do this is to have 2 functions. \n",
    "#One checks if a string is \n",
    "#a palindrome. Another one checks if an int is \n",
    "#a palindrome.\n",
    "def reverse(x):\n",
    "    '''\n",
    "    This function takes a string. And returns\n",
    "    the reversed version of the string.\n",
    "    '''\n",
    "    y=''\n",
    "    for n in range(len(x)):\n",
    "      y += x[len(x)-n-1] \n",
    "    return y\n",
    "\n",
    "def isStrPalindrome(x):\n",
    "    '''\n",
    "    This function takes a string and returns \n",
    "    True if the string is a palindrome. It returns\n",
    "    False otherwise. \n",
    "    '''\n",
    "    #return x==reverse(x)\n",
    "    #same as\n",
    "    if x==reverse(x):\n",
    "        return True\n",
    "    else:\n",
    "        return False\n",
    "\n",
    "def isIntPalindrome(x):\n",
    "    '''\n",
    "    This function takes an int. And returns\n",
    "    True if the int is a plandrome. It returns\n",
    "    False otherwise. \n",
    "    '''\n",
    "    #what is I did x==reverse(x)\n",
    "    #return str(x)==reverse(str(x))\n",
    "    if str(x)==reverse(str(x)):\n",
    "        return True\n",
    "    else:\n",
    "        return False\n",
    "\n",
    "def isPalindrome(x):\n",
    "   if type(x)==str:\n",
    "      #isStrPalindrome takes a string\n",
    "      #and returns True if the string is \n",
    "      #a palindrome. False if not. \n",
    "      return isStrPalindrome(x)\n",
    "      \n",
    "   elif type(x)==int:\n",
    "      #isStrPalindrome takes a int\n",
    "      #and returns True if the int is \n",
    "      #a palindrome. False if not.\n",
    "      return isIntPalindrome(x)\n",
    "   else:\n",
    "      print 'Wrong data type'\n",
    "      return\n",
    "\n",
    "y=isPalindrome(12.56)\n",
    "print y\n"
   ]
  },
  {
   "cell_type": "code",
   "execution_count": null,
   "metadata": {
    "collapsed": true
   },
   "outputs": [],
   "source": [
    "#Finally, we are going to cover recursion.\n",
    "#This might be a hard concept to understand \n",
    "#in the beginning. But with a little bit of \n",
    "#practice, \n",
    "#you'll get it. "
   ]
  },
  {
   "cell_type": "code",
   "execution_count": null,
   "metadata": {
    "collapsed": true
   },
   "outputs": [],
   "source": [
    "#Lets start with an example.\n",
    "#consider the Fibonacci sequence \n",
    "#1, 1, 2, 3, 5, 8, 13, . . .. \n",
    "#This sequence is defined by the 0th and 1st \n",
    "#Fibonacci numbers both being 1, \n",
    "#and subsequent Fibonacci numbers being \n",
    "#the sum of the previous two.\n",
    "\n",
    "#The Fibonacci sequence is very well known in \n",
    "#Math and\n",
    "#appears frequently in nature. \n",
    "#It also has applications\n",
    "#in various computer science algorithms. \n",
    "\n",
    "#We will not discuss the Fibonacci sequence \n",
    "#in detail\n",
    "#in this class but if you are interested in \n",
    "#learning\n",
    "#more you can read the Wikipedia page here:\n",
    "#https://en.wikipedia.org/wiki/Fibonacci_number"
   ]
  },
  {
   "cell_type": "code",
   "execution_count": null,
   "metadata": {
    "collapsed": true
   },
   "outputs": [],
   "source": [
    "#The Fibonacci sequence is defined by the 0th \n",
    "#and 1st \n",
    "#Fibonacci numbers both being 1, \n",
    "#and subsequent Fibonacci numbers being \n",
    "#the sum of the previous two\n",
    "#F(i) is 1 if i=0 or i=1\n",
    "#   \n",
    "#F(i) is F(i−1) + F(i−2) otherwise\n",
    "\n",
    "#So what is F(0)? \n",
    "#    1 because i is 1\n",
    "#What is F(1)?\n",
    "#   1 because i is 1\n",
    "#What is F(2)\n",
    "#   It is F(i-1) + F(i-2)\n",
    "#   which is 1+1=2\n",
    "#F(3) is F(i-1)+F(i-2)=F(3-1)+F(3-2)\n",
    "#   which is F(2)+F(1)=2+1=3\n",
    "#F(4) is F(4-1)+F(4-2)=F(3)+F(2)=3+2=5\n",
    "# ....And it continues this way"
   ]
  },
  {
   "cell_type": "code",
   "execution_count": null,
   "metadata": {
    "collapsed": true
   },
   "outputs": [],
   "source": [
    "##Now let us make a function that takes i and \n",
    "#returns the ith Fibonacci number. \n",
    "#We can do it the way we have learned how to.\n",
    "#First we write in English how we want to create \n",
    "#the function."
   ]
  },
  {
   "cell_type": "code",
   "execution_count": 84,
   "metadata": {
    "collapsed": false
   },
   "outputs": [
    {
     "data": {
      "text/plain": [
       "3"
      ]
     },
     "execution_count": 84,
     "metadata": {},
     "output_type": "execute_result"
    }
   ],
   "source": [
    "#Now let us make a function that takes i and \n",
    "#returns the ith Fibonacci number. \n",
    "#We can do it the way we have learned how to.\n",
    "#lets call the function fibonacci\n",
    "def fibonacci(i):\n",
    "    fib_i=1\n",
    "    fib_i_prev=1\n",
    "    fib_i_prev_prev=1\n",
    "    \n",
    "    if i==0 or i==1:\n",
    "        return fib_i\n",
    "    for x in range(2,i+1):\n",
    "        fib_i = fib_i_prev + fib_i_prev_prev\n",
    "        fib_i_prev_prev=fib_i_prev\n",
    "        fib_i_prev=fib_i\n",
    "    return fib_i\n",
    "fibonacci(3)"
   ]
  },
  {
   "cell_type": "code",
   "execution_count": 60,
   "metadata": {
    "collapsed": false
   },
   "outputs": [
    {
     "data": {
      "text/plain": [
       "8"
      ]
     },
     "execution_count": 60,
     "metadata": {},
     "output_type": "execute_result"
    }
   ],
   "source": [
    "#Although we could implement the Fibonacci sequence\n",
    "#in a very complicated way without using recursion,\n",
    "#the following function using recursion \n",
    "#is very simple and easier to understand\n",
    "def fibonacci(i):\n",
    "    if i<2:\n",
    "        return 1\n",
    "    return fibonacci(i-1) + fibonacci(i-2)\n",
    "fibonacci(5)\n",
    "\n",
    "#compare this function to the function we \n",
    "#wrote above\n",
    "#which is more complicated and hard to understand"
   ]
  },
  {
   "cell_type": "code",
   "execution_count": 18,
   "metadata": {
    "collapsed": false
   },
   "outputs": [
    {
     "data": {
      "text/plain": [
       "15"
      ]
     },
     "execution_count": 18,
     "metadata": {},
     "output_type": "execute_result"
    }
   ],
   "source": [
    "#Here is another example of a function that can\n",
    "#be done recursively. Multiplying 2 numbers\n",
    "a=5\n",
    "b=3\n",
    "a*b\n",
    "#a*b gives 15 as you all know"
   ]
  },
  {
   "cell_type": "code",
   "execution_count": 31,
   "metadata": {
    "collapsed": false
   },
   "outputs": [
    {
     "name": "stdout",
     "output_type": "stream",
     "text": [
      "5 3\n",
      "5 2\n",
      "5 1\n",
      "5 0\n"
     ]
    },
    {
     "data": {
      "text/plain": [
       "15"
      ]
     },
     "execution_count": 31,
     "metadata": {},
     "output_type": "execute_result"
    }
   ],
   "source": [
    "#We can implement the multiplication of 2 numbers\n",
    "#a and b in as recursive function only using \n",
    "#addition.\n",
    "#when you multiply 5*3, what do you do?\n",
    "#5*3 is 5+5+5. The function below adds 5 to itself\n",
    "#3 times. In genera, the function below takes \n",
    "#inputs a and b and adds a to itself b times. \n",
    "#This is the same as performing a*b.\n",
    "def multiplyNumbers(a,b):\n",
    "    print a,b\n",
    "    if b == 0:\n",
    "        return 0\n",
    "    else:\n",
    "        return a + (multiplyNumbers(a,(b - 1)))\n",
    "multiplyNumbers(5,3)\n",
    "#we can print a and b to see how many times\n",
    "#multiplyNumbers is called and what the inputs(a,b)\n",
    "#are each time it is called. \n",
    "#Remember printing something\n",
    "#is different from returning something. We are \n",
    "#printing all of these values to\n",
    "#figure out what the function is doing. \n",
    "#This does not change what the \n",
    "#function is returning. "
   ]
  }
 ],
 "metadata": {
  "anaconda-cloud": {},
  "kernelspec": {
   "display_name": "Python [Root]",
   "language": "python",
   "name": "Python [Root]"
  },
  "language_info": {
   "codemirror_mode": {
    "name": "ipython",
    "version": 2
   },
   "file_extension": ".py",
   "mimetype": "text/x-python",
   "name": "python",
   "nbconvert_exporter": "python",
   "pygments_lexer": "ipython2",
   "version": "2.7.12"
  }
 },
 "nbformat": 4,
 "nbformat_minor": 0
}
