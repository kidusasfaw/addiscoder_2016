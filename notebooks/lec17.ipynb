{
 "cells": [
  {
   "cell_type": "markdown",
   "metadata": {},
   "source": [
    "# Arithmetic: adding and multiplying"
   ]
  },
  {
   "cell_type": "markdown",
   "metadata": {
    "slideshow": {
     "slide_type": "slide"
    }
   },
   "source": [
    "Let's consider the following problems you all learned how to solve when you were little kids: adding and multiplying integers. Today we will consider the following questions: given two integers $x,y$ each with $n$ digits, what is the fastest algorithm for adding them? What about multiplying?"
   ]
  },
  {
   "cell_type": "markdown",
   "metadata": {},
   "source": [
    "## Addition\n",
    "\n",
    "```\n",
    "                     1        11        11\n",
    "18945     18945     18945     18945     18945\n",
    "\n",
    "23401     23401     23401     23401     23401\n",
    "_____     _____     _____     _____     _____\n",
    "\n",
    "    6        46       346      2346     42346\n",
    "```"
   ]
  },
  {
   "cell_type": "code",
   "execution_count": 33,
   "metadata": {
    "collapsed": true
   },
   "outputs": [],
   "source": [
    "# we've already memorized how to add single digits to each other\n",
    "# lookupTable[i][j] gives result of i+j for single digits i, j\n",
    "additionTable = [\n",
    "    ['0', '1', '2', '3', '4', '5', '6', '7', '8', '9'], # 0 + ...\n",
    "    ['1', '2', '3', '4', '5', '6', '7', '8', '9', '10'], # 1 + ...\n",
    "    ['2', '3', '4', '5', '6', '7', '8', '9', '10', '11'], # 2 + ...\n",
    "    ['3', '4', '5', '6', '7', '8', '9', '10', '11', '12'], # 3 + ...\n",
    "    ['4', '5', '6', '7', '8', '9', '10', '11', '12', '13'], # 4 + ...\n",
    "    ['5', '6', '7', '8', '9', '10', '11', '12', '13', '14'], # 5 + ...\n",
    "    ['6', '7', '8', '9', '10', '11', '12', '13', '14', '15'], # 6 + ...\n",
    "    ['7', '8', '9', '10', '11', '12', '13', '14', '15', '16'], # 7 + ...\n",
    "    ['8', '9', '10', '11', '12', '13', '14', '15', '16', '17'], # 8 + ...\n",
    "    ['9', '10', '11', '12', '13', '14', '15', '16', '17', '18'] # 9 + ...\n",
    "]\n",
    "\n",
    "# we also memorized how to count from 0 to 19\n",
    "increment = ['1', '2', '3', '4', '5', '6', '7', '8', '9', '10', '11', '12', '13', '14', '15', '16', '17', '18', '19']\n",
    "\n",
    "# convert a list of single characters into a string by concatenating them\n",
    "def listToString(L):\n",
    "    s = ''\n",
    "    for x in L:\n",
    "        s += x\n",
    "    return s\n",
    "\n",
    "def stripLeadingZeroes(s):\n",
    "    i = 0\n",
    "    while i<len(s) and s[i]=='0':\n",
    "        i += 1\n",
    "    if i == len(s):\n",
    "        return '0'\n",
    "    else:\n",
    "        return s[i:]\n",
    "\n",
    "# take as input x,y as strings of digits\n",
    "def add(x, y):\n",
    "    if len(x) < len(y):\n",
    "        x = '0'*(len(y)-len(x)) + x\n",
    "    else:\n",
    "        y = '0'*(len(x)-len(y)) + y\n",
    "    # now both numbers are n digits\n",
    "    # the answer will have either n+1 or n digits\n",
    "    n = len(x)\n",
    "    \n",
    "    # we start adding from the rightmost digit\n",
    "    i = n-1\n",
    "    carry = 0\n",
    "    \n",
    "    result = ['0']*(n+1)\n",
    "    \n",
    "    while i >= 0:\n",
    "        d = additionTable[int(x[i])][int(y[i])]\n",
    "        if carry == 1:\n",
    "            d = increment[int(d)]\n",
    "        result[i+1] = d[len(d)-1]\n",
    "        if len(d) == 2:\n",
    "            carry = 1\n",
    "        else:\n",
    "            carry = 0\n",
    "        i -= 1\n",
    "        \n",
    "    if carry == 1:\n",
    "        result[0] = '1'\n",
    "        \n",
    "    return listToString(stripLeadingZeroes(result))\n",
    "    "
   ]
  },
  {
   "cell_type": "code",
   "execution_count": 30,
   "metadata": {
    "collapsed": false
   },
   "outputs": [
    {
     "data": {
      "text/plain": [
       "'147'"
      ]
     },
     "execution_count": 30,
     "metadata": {},
     "output_type": "execute_result"
    }
   ],
   "source": [
    "add('55', '92')"
   ]
  },
  {
   "cell_type": "code",
   "execution_count": 31,
   "metadata": {
    "collapsed": false
   },
   "outputs": [
    {
     "data": {
      "text/plain": [
       "'15'"
      ]
     },
     "execution_count": 31,
     "metadata": {},
     "output_type": "execute_result"
    }
   ],
   "source": [
    "add('7', '8')"
   ]
  },
  {
   "cell_type": "code",
   "execution_count": 28,
   "metadata": {
    "collapsed": false
   },
   "outputs": [
    {
     "data": {
      "text/plain": [
       "'3024'"
      ]
     },
     "execution_count": 28,
     "metadata": {},
     "output_type": "execute_result"
    }
   ],
   "source": [
    "add('14', '3010')"
   ]
  },
  {
   "cell_type": "code",
   "execution_count": 32,
   "metadata": {
    "collapsed": false
   },
   "outputs": [
    {
     "data": {
      "text/plain": [
       "'74'"
      ]
     },
     "execution_count": 32,
     "metadata": {},
     "output_type": "execute_result"
    }
   ],
   "source": [
    "add('23','51')"
   ]
  },
  {
   "cell_type": "markdown",
   "metadata": {},
   "source": [
    "## Runtime analysis: addition\n",
    "\n",
    "How many steps does it take to add $x$ and $y$, each being at most $n$ digits? It scales linearly with $n$. Padding zeroes to make them the same length takes at most $n$ steps. Then the ```while``` loop goes on for $n$ steps, and each iteration in the ```while``` loop we only do a constant amount of work.\n",
    "\n",
    "<b>Total time</b>: $O(n)$"
   ]
  },
  {
   "cell_type": "markdown",
   "metadata": {
    "collapsed": false
   },
   "source": [
    "## Mulitplication\n",
    "\n",
    "```\n",
    "\n",
    "123        123        123        123        123\n",
    " \n",
    "241        241        241        241        241\n",
    "___        ___       ____      _____     ______\n",
    "123        123       5043       5043      29643\n",
    "          492                  246\n",
    "```"
   ]
  },
  {
   "cell_type": "code",
   "execution_count": 58,
   "metadata": {
    "collapsed": false
   },
   "outputs": [],
   "source": [
    "multiplicationTable = [ # we memorized x*y for x,y being single digits\n",
    "    ['0', '0', '0', '0', '0', '0', '0', '0', '0', '0'],\n",
    "    ['0', '1', '2', '3', '4', '5', '6', '7', '8', '9'],\n",
    "    ['0', '2', '4', '6', '8', '10', '12', '14', '16', '18'],\n",
    "    ['0', '3', '6', '9', '12', '15', '18', '21', '24', '27'],\n",
    "    ['0', '4', '8', '12', '16', '20', '24', '28', '32', '36'],\n",
    "    ['0', '5', '10', '15', '20', '25', '30', '35', '40', '45'],\n",
    "    ['0', '6', '12', '18', '24', '30', '36', '42', '48', '54'],\n",
    "    ['0', '7', '14', '21', '28', '35', '42', '49', '56', '63'],\n",
    "    ['0', '8', '16', '24', '32', '40', '48', '56', '64', '72'],\n",
    "    ['0', '9', '18', '27', '36', '45', '54', '63', '72', '81']\n",
    "]\n",
    "\n",
    "# c is a single digit number, and x is arbitrary length. return c*x.\n",
    "# c and x are strings\n",
    "def multiplyDigit(c, x):\n",
    "    result = ['0']*(len(x)+1)\n",
    "    carry = '0'\n",
    "    i = len(x)-1\n",
    "    while i >= 0:\n",
    "        d = multiplicationTable[int(c)][int(x[i])]\n",
    "        d = add(d, carry)\n",
    "        result[i+1] = d[len(d)-1]\n",
    "        if len(d) == 2:\n",
    "            carry = d[0]\n",
    "        else:\n",
    "            carry = '0'\n",
    "        i -= 1\n",
    "    return listToString(stripLeadingZeroes(result))\n",
    "\n",
    "# again x,y are strings of digits\n",
    "def multiply(x, y):\n",
    "    # make x and y have the same length\n",
    "    if len(x) < len(y):\n",
    "        x = '0'*(len(y)-len(x)) + x\n",
    "    else:\n",
    "        y = '0'*(len(x)-len(y)) + y\n",
    "        \n",
    "    n = len(x)\n",
    "    result = '0'\n",
    "    \n",
    "    i = n-1\n",
    "    zeroes = ''\n",
    "    while i >= 0:\n",
    "        result = add(result, multiplyDigit(y[i], x) + zeroes)\n",
    "        zeroes += '0'\n",
    "        i -= 1\n",
    "    return result\n",
    "    "
   ]
  },
  {
   "cell_type": "code",
   "execution_count": 59,
   "metadata": {
    "collapsed": false
   },
   "outputs": [
    {
     "data": {
      "text/plain": [
       "'132'"
      ]
     },
     "execution_count": 59,
     "metadata": {},
     "output_type": "execute_result"
    }
   ],
   "source": [
    "multiply('11', '12')"
   ]
  },
  {
   "cell_type": "code",
   "execution_count": 60,
   "metadata": {
    "collapsed": false
   },
   "outputs": [
    {
     "data": {
      "text/plain": [
       "'10824'"
      ]
     },
     "execution_count": 60,
     "metadata": {},
     "output_type": "execute_result"
    }
   ],
   "source": [
    "multiply('24', '451')"
   ]
  },
  {
   "cell_type": "markdown",
   "metadata": {
    "collapsed": false
   },
   "source": [
    "## Runtime analysis: multiplication\n",
    "\n",
    "How many steps does it take to multiply $x$ and $y$, each being at most $n$ digits? We do $n$ additions, each time to numbers that are at most $2n$ digits long (since we pad with the ```zeroes``` variable, which has at most $n$ zeroes). Each addition thus takes $O(n)$ time.\n",
    "\n",
    "<b>Total time</b>: $O(n^2)$"
   ]
  },
  {
   "cell_type": "markdown",
   "metadata": {
    "collapsed": false
   },
   "source": [
    "# Strange situation $\\ldots$\n",
    "\n",
    "Addition and multiplication are both basic arithmetic operations, but one takes $\\approx n$ steps while the other takes $\\approx n^2$. Maybe we are just using the wrong algorithm? After all, these aren't the <i>only</i> algorithms for addition and multiplication.\n",
    "\n",
    "For example: for addition, we could add $x+y$ by incrementing $x$ repeatedly, $y$ times. The running time would then be $O(y)$. Unfortunately if $y$ is $n$ digits, it could be as big as $10^n-1$ ($n$ $9$'s in a row), so this running time, in terms of $n$, could be as bad as $\\approx 10^n$, which is $\\gg n$. So the grade school algorithm is better than this naive algorithm of repeated increments. Maybe there's something smarter for multiplication than the grade school algorithm?"
   ]
  },
  {
   "cell_type": "markdown",
   "metadata": {
    "slideshow": {
     "slide_type": "slide"
    }
   },
   "source": [
    "The story goes that Andrey Kolmogorov, a giant of probability theory and other areas of mathematics, had a conjecture from 1956 stating that it is impossible to multiply two $n$-digit numbers much faster than $n^2$ time. In 1960, Kolmogorov told many mathematicians his conjecture at a seminar at Moscow State University, and Karatsuba, then in the audience, went home and disproved Kolmogorov’s conjecture in exactly one week 1. Let’s now cover the method he came up with.\n",
    "\n",
    "The basic idea is something called <i>divide-and-conquer</i>, which we also saw with ```MergeSort```."
   ]
  },
  {
   "cell_type": "markdown",
   "metadata": {
    "collapsed": false,
    "slideshow": {
     "slide_type": "slide"
    }
   },
   "source": [
    "Suppose we want to multiply $x$ and $y$. Let's look at a concrete example.\n",
    "\n",
    "```\n",
    "44729013 x 10022889\n",
    "```\n",
    "\n",
    "Here $x = 44729013, y = 10022889$. We begin by splitting the digits in half and writing\n",
    "\n",
    "$x = 4472\\times 10^4 + 9013 = x_{hi}\\times 10^4 + x_{lo}$, \n",
    "\n",
    "$y = 1002\\times 10^4 + 2889 = y_{hi}\\times 10^4 + y_{lo}$\n",
    "\n",
    "Then\n",
    "\n",
    "$x\\cdot y = (x_{hi}\\times 10^4 + x_{lo})\\times (y_{hi}\\times 10^4 + y_{lo}) = x_{hi}y_{hi} 10^8 + (x_{hi}y_{lo} + x_{lo}y_{hi})10^4 + x_{lo}y_{lo}$\n",
    "\n",
    "In other words, to multiply one pair of $8$ digit numbers $x$ and $y$, we just need to multiply four pairs of $4$-digit numbers: $x_{hi}y_{hi}$, $x_{hi}y_{lo}$, $x_{lo}y_{hi}$, $x_{lo}y_{lo}$. This gives us a recursive algorithm! The base case is when the number of digits is $1$, and then we can just use our ```multiplicationTable```."
   ]
  },
  {
   "cell_type": "code",
   "execution_count": 104,
   "metadata": {
    "collapsed": false
   },
   "outputs": [],
   "source": [
    "def multiplyRecursive(x, y):\n",
    "    # let's first make sure both x,y have the same number of digits,\n",
    "    n = max(len(x), len(y))\n",
    "    x = '0'*(n-len(x)) + x\n",
    "    y = '0'*(n-len(y)) + y\n",
    "    \n",
    "    if n == 1:\n",
    "        return multiplicationTable[int(x)][int(y)]\n",
    "    \n",
    "    xlo = x[n/2:]\n",
    "    ylo = y[n/2:]\n",
    "    xhi = x[:n/2]\n",
    "    yhi = y[:n/2]\n",
    "    \n",
    "    A = multiplyRecursive(xhi, yhi)\n",
    "    B = multiplyRecursive(xlo, ylo)\n",
    "    C = multiplyRecursive(xhi, ylo)\n",
    "    D = multiplyRecursive(xlo, yhi)\n",
    "    \n",
    "    result = A + '0'*(2*len(xlo))\n",
    "    result = add(result, add(C, D)+'0'*len(xlo))\n",
    "    result = add(result, B)\n",
    "    return result"
   ]
  },
  {
   "cell_type": "code",
   "execution_count": 105,
   "metadata": {
    "collapsed": false
   },
   "outputs": [
    {
     "name": "stdout",
     "output_type": "stream",
     "text": [
      "True\n",
      "True\n"
     ]
    }
   ],
   "source": [
    "# sanity check\n",
    "print multiplyRecursive('11', '12') == multiply('11', '12')\n",
    "print multiplyRecursive('24', '451') == multiply('24', '451')"
   ]
  },
  {
   "cell_type": "markdown",
   "metadata": {},
   "source": [
    "## Runtime analysis: recursive multiplication\n",
    "\n",
    "We can analyze what is called a <i>recurrence relation</i>. Let $T(n)$ be the total number of steps to multiply two $n$-digit numbers using the function ```multiplyRecursive```. Then $T(1) = 1$ (since we just look answer up in a table), and otherwise\n",
    "\n",
    "$T(n) = 4 T(n/2) + O(n)$\n",
    "\n",
    "Let us assume here that $n$ is a perfect power of $2$, so as we keep dividing by $2$ we are always left with an integer; this just makes our lives easier (but it turns out the same kind of analysis holds in general).\n",
    "\n",
    "![title](multrecursive.png)\n",
    "\n",
    "\n",
    "\n",
    "Total work across all levels:\n",
    "$n + 2n + 4n + \\ldots + 2^L n$\n",
    "where $L$ is the number of levels of this recursion tree before we get to the base case of $1$ digit. What is $L$?"
   ]
  },
  {
   "cell_type": "markdown",
   "metadata": {},
   "source": [
    "$L$ is such that $n/2^L = 1$, so $L = \\log_2 n$. Thus the running time is\n",
    "\n",
    "$n (2^0 + 2^1 + \\ldots + 2^{\\log_2 n}) = n (2n - 1) = 2n^2 - n$\n",
    "\n",
    "<b>Total time</b>: $O(n^2)$"
   ]
  },
  {
   "cell_type": "markdown",
   "metadata": {},
   "source": [
    "# Karatsuba's ingenius idea\n",
    "\n",
    "Save on multiplications: instead of $4$ recursive calls, only have $3$! The key insight is that the three values we actually need are:\n",
    "\n",
    "$A = x_{hi} y_{hi}$\n",
    "\n",
    "$B = x_{lo} y_{lo}$\n",
    "\n",
    "and\n",
    "\n",
    "$Z = x_{lo}y_{hi} + x_{hi} y_{lo}$\n",
    "\n",
    "We obtained $A$ and $B$ directly, and we naively calculated $Z$ using two recursive multiplication calls, for a total of four calls. How can we get away with three calls? The trick is to define\n",
    "\n",
    "$E = (x_{lo} + x_{hi}) \\times (y_{lo} + y_{hi})$.\n",
    "\n",
    "Then we can obtain $Z$ as $E - A - B$. Thus we only need to do three recursive calls, and some extra subtractions, but subtractions are as cheap as additions! (only $O(n)$ time)"
   ]
  },
  {
   "cell_type": "markdown",
   "metadata": {},
   "source": [
    "![title](karatsuba.png)\n",
    "\n",
    "Total work across all levels:\n",
    "$n + \\frac 32 n + (\\frac 32)^2 n + \\ldots + (\\frac 32)^L n$\n",
    "where $L$ is the number of levels of this recursion tree before we get to the base case of $1$ digit. What is $L$ now?"
   ]
  },
  {
   "cell_type": "markdown",
   "metadata": {},
   "source": [
    "$L$ didn't change, since we still divide $n$ by $2$ at each recursive level! So $L$ is still such that $n/2^L = 1$, so $L = \\log_2 n$. Thus the running time is\n",
    "$n \\cdot \\sum_{k=0}^{\\log_2 n} (\\frac 32)^k = n \\cdot \\left(\\frac{(\\frac 32)^{\\log_2 n} - 1}{\\frac 12}\\right)$\n",
    "\n",
    "Now, for some arithmetic $\\ldots$\n",
    "\n",
    "$(\\frac 32)^{\\log_2 n} = (2^{\\log_2 \\frac 32})^{\\log_2 n} = (2^{\\log_2 n})^{\\log_2 \\frac 32} = n^{\\log_2 \\frac 32} = n^{(\\log_2 3) - (\\log_2 2)} = n^{(\\log_2 3) - 1}$\n",
    "\n",
    "Therefore $n \\cdot \\left(\\frac{(\\frac 32)^{\\log_2 n} - 1}{\\frac 12}\\right) = n \\cdot \\frac{n^{(\\log_2 3) - 1} - 1}{\\frac 12} = 2n^{\\log_2 3} - 2n$.\n",
    "\n",
    "<b>Total time</b>: $O(n^{\\log_2 3}) = O(n^{1.585\\ldots})$"
   ]
  },
  {
   "cell_type": "code",
   "execution_count": 98,
   "metadata": {
    "collapsed": true
   },
   "outputs": [],
   "source": [
    "# doing subtraction by hand is similar to addition. we'll leave doing it from scratch as an exercise for you, and\n",
    "# here we will just \"cheat\" and use Python's built-in subtraction\n",
    "def subtract(x, y):\n",
    "    return str(long(x) - long(y))\n",
    "\n",
    "def karatsuba(x, y):\n",
    "    n = max(len(x), len(y))\n",
    "    x = '0'*(n-len(x)) + x\n",
    "    y = '0'*(n-len(y)) + y\n",
    "    \n",
    "    if n == 1:\n",
    "        return multiplicationTable[int(x)][int(y)]\n",
    "    \n",
    "    xlo = x[n/2:]\n",
    "    ylo = y[n/2:]\n",
    "    xhi = x[:n/2]\n",
    "    yhi = y[:n/2]\n",
    "    \n",
    "    A = karatsuba(xhi, yhi)\n",
    "    B = karatsuba(xlo, ylo)\n",
    "    E = karatsuba(add(xlo, xhi), add(ylo, yhi))\n",
    "    \n",
    "    result = A + '0'*(2*len(xlo))\n",
    "    result = add(result, subtract(E, add(A, B))+'0'*len(xlo))\n",
    "    result = add(result, B)\n",
    "    \n",
    "    return result\n",
    "    "
   ]
  },
  {
   "cell_type": "code",
   "execution_count": 99,
   "metadata": {
    "collapsed": false
   },
   "outputs": [
    {
     "name": "stdout",
     "output_type": "stream",
     "text": [
      "True\n",
      "True\n"
     ]
    }
   ],
   "source": [
    "print karatsuba('11', '12') == multiply('11', '12')\n",
    "print karatsuba('24', '451') == multiply('24', '451')"
   ]
  }
 ],
 "metadata": {
  "anaconda-cloud": {},
  "celltoolbar": "Slideshow",
  "kernelspec": {
   "display_name": "Python [Root]",
   "language": "python",
   "name": "Python [Root]"
  },
  "language_info": {
   "codemirror_mode": {
    "name": "ipython",
    "version": 2
   },
   "file_extension": ".py",
   "mimetype": "text/x-python",
   "name": "python",
   "nbconvert_exporter": "python",
   "pygments_lexer": "ipython2",
   "version": "2.7.12"
  }
 },
 "nbformat": 4,
 "nbformat_minor": 0
}
