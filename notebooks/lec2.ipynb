{
 "cells": [
  {
   "cell_type": "code",
   "execution_count": 206,
   "metadata": {
    "collapsed": false
   },
   "outputs": [],
   "source": [
    "#if Statements: The if statement allows you to only \n",
    "#conditionally execute some code block,\n",
    "#conditioned on some expression evaluating to True.\n",
    "\n",
    "#if BOOLEAN EXPRESSION:\n",
    "#    CODE BLOCK\n",
    "#elif BOOLEAN EXPRESSION:\n",
    "#    CODE BLOCK\n",
    "#elif BOOLEAN EXPRESSION:\n",
    "#    CODE BLOCK\n",
    "#else:\n",
    "#    CODE BLOCK"
   ]
  },
  {
   "cell_type": "code",
   "execution_count": null,
   "metadata": {
    "collapsed": true
   },
   "outputs": [],
   "source": [
    "#In the above code, exactly one of the code blocks is executed, \n",
    "#corresponding to the first BOOLEAN EXPRESSION which evaluates to True \n",
    "#(or the final code block corresponding to the else \n",
    "#in the case that none of the BOOLEAN EXPRESSIONS evaluates to True).\n",
    "#The elif and else statements are optional."
   ]
  },
  {
   "cell_type": "code",
   "execution_count": 3,
   "metadata": {
    "collapsed": true
   },
   "outputs": [],
   "source": [
    "#Example\n",
    "def printSign(n):\n",
    "    if n < 0:\n",
    "        print 'Negative'\n",
    "    elif n > 0:\n",
    "        print 'Positive'\n",
    "printSign(10)\n",
    "#what does this print"
   ]
  },
  {
   "cell_type": "code",
   "execution_count": 126,
   "metadata": {
    "collapsed": false
   },
   "outputs": [],
   "source": [
    "#What about printSign(0) what happens there?\n",
    "def printSign(n):\n",
    "    if n>0:\n",
    "        print 'Positive'\n",
    "    elif n<0:\n",
    "        print 'Negative'\n",
    "    elif n==0:\n",
    "        print 'Zero'\n",
    "    print 'my name is timnit'\n"
   ]
  },
  {
   "cell_type": "code",
   "execution_count": 130,
   "metadata": {
    "collapsed": false
   },
   "outputs": [
    {
     "name": "stdout",
     "output_type": "stream",
     "text": [
      "Zero\n",
      "my name is timnit\n"
     ]
    }
   ],
   "source": [
    "#What does this print? Do you understand why?\n",
    "printSign(0)"
   ]
  },
  {
   "cell_type": "code",
   "execution_count": null,
   "metadata": {
    "collapsed": true
   },
   "outputs": [],
   "source": [
    "#for Statements: The for statement allows you to iterate over data \n",
    "#in Python (for example,iterating over items in a list, \n",
    "#or characters in str).\n",
    "#for var in v:\n",
    "#    CODE BLOCK\n",
    "#In the for loop below, x is like var and fruits is like v "
   ]
  },
  {
   "cell_type": "code",
   "execution_count": 204,
   "metadata": {
    "collapsed": false
   },
   "outputs": [
    {
     "name": "stdout",
     "output_type": "stream",
     "text": [
      "['my_orange', 'my_pineapple', 'my_banana', 'my_mango']\n"
     ]
    }
   ],
   "source": [
    "fruits = ['orange', 'pineapple', 'banana', 'mango']\n",
    "my_fruits=[]\n",
    "for x in fruits:\n",
    "    my_fruits += ['my_'+x]\n",
    "\n",
    "fruits[0]='my_' + fruits[0]\n",
    "fruits[1]='my_'+ fruits[1]\n",
    "print my_fruits"
   ]
  },
  {
   "cell_type": "code",
   "execution_count": 11,
   "metadata": {
    "collapsed": false
   },
   "outputs": [
    {
     "name": "stdout",
     "output_type": "stream",
     "text": [
      "orange oranges\n",
      "pineapple pineapples\n",
      "banana bananas\n",
      "mango mangos\n",
      "['oranges', 'pineapples', 'bananas', 'mangos']\n"
     ]
    }
   ],
   "source": [
    "#For loop example\n",
    "fruits = ['orange', 'pineapple', 'banana', 'mango']\n",
    "pluralFruits = []\n",
    "for x in fruits:\n",
    "    plural = x + 's'\n",
    "    print x,plural\n",
    "    pluralFruits += [plural]\n",
    "print pluralFruits"
   ]
  },
  {
   "cell_type": "code",
   "execution_count": null,
   "metadata": {
    "collapsed": false
   },
   "outputs": [],
   "source": [
    "#While statements\n",
    "#The while statement allows you to repeatedly execute a code block \n",
    "#as long as some bool expression evaluates to True.\n",
    "#while BOOLEAN EXPRESSION:\n",
    "#   CODE BLOCK"
   ]
  },
  {
   "cell_type": "code",
   "execution_count": 183,
   "metadata": {
    "collapsed": false
   },
   "outputs": [
    {
     "name": "stdout",
     "output_type": "stream",
     "text": [
      "[0]\n",
      "1\n"
     ]
    }
   ],
   "source": [
    "#While loop example\n",
    "x = []\n",
    "y=0\n",
    "while True:\n",
    "    x += [y] \n",
    "    y += 1\n",
    "    print x\n",
    "    print y\n",
    "    if y < 3:\n",
    "        break\n",
    "   \n",
    "#print x\n",
    "#print y"
   ]
  },
  {
   "cell_type": "code",
   "execution_count": null,
   "metadata": {
    "collapsed": true
   },
   "outputs": [],
   "source": [
    "#break and continue: Sometimes you might want to stop iterating \n",
    "#in a for or while early, or just skip some particular iteration. \n",
    "#The break and continue statements are useful for this. \n",
    "#break exits the loop early, and continue moves back to\n",
    "#the beginning of the loop."
   ]
  },
  {
   "cell_type": "code",
   "execution_count": 200,
   "metadata": {
    "collapsed": false
   },
   "outputs": [
    {
     "name": "stdout",
     "output_type": "stream",
     "text": [
      "5\n",
      "6\n",
      "7\n",
      "8\n",
      "9\n",
      "10\n"
     ]
    }
   ],
   "source": [
    "myList = [0, 1, 2, 3, 4, 5, 6, 7, 8, 9, 10]\n",
    "for x in myList:\n",
    "    if x < 5:\n",
    "        continue\n",
    "    print x\n"
   ]
  },
  {
   "cell_type": "code",
   "execution_count": 202,
   "metadata": {
    "collapsed": false
   },
   "outputs": [
    {
     "name": "stdout",
     "output_type": "stream",
     "text": [
      "1\n",
      "3\n",
      "5\n"
     ]
    }
   ],
   "source": [
    "#Example: Both of these code examples print only the odd numbers between 0 and 5.\n",
    "myList = [0, 1, 2, 3, 4, 5, 6, 7, 8, 9, 10]\n",
    "for x in myList:\n",
    "    if x > 5: \n",
    "        break\n",
    "    elif x%2 == 0:\n",
    "        continue\n",
    "    else:\n",
    "        print x"
   ]
  },
  {
   "cell_type": "code",
   "execution_count": 201,
   "metadata": {
    "collapsed": false
   },
   "outputs": [
    {
     "name": "stdout",
     "output_type": "stream",
     "text": [
      "1\n",
      "3\n",
      "5\n"
     ]
    }
   ],
   "source": [
    "# Example with while loop x=0\n",
    "x=0\n",
    "while True:\n",
    "    if x > 5: \n",
    "        break\n",
    "    elif x%2 == 0:\n",
    "        x += 1 #<----What happens if I leave out this line?\n",
    "        continue\n",
    "    else:\n",
    "        print x\n",
    "    x += 1"
   ]
  },
  {
   "cell_type": "code",
   "execution_count": 209,
   "metadata": {
    "collapsed": false
   },
   "outputs": [
    {
     "name": "stdout",
     "output_type": "stream",
     "text": [
      "3\n",
      "3\n",
      "2\n",
      "<type 'str'>\n",
      "<type 'list'>\n",
      "<type 'int'>\n"
     ]
    }
   ],
   "source": [
    "#Other useful functions: \n",
    "#It will be helpful for today's lab to know the following functions.\n",
    "#len(x) returns the length of an iterable data \n",
    "#type (such as a str or list) as an int. For example,\n",
    "print len('abc') \n",
    "print len(['a', 'b', 'c']) \n",
    "print len(['a', ['b', 'c', 'd']])\n",
    "\n",
    "print type('abc')\n",
    "print type(['a', 'b', 'c'])\n",
    "print type(5)"
   ]
  },
  {
   "cell_type": "code",
   "execution_count": 207,
   "metadata": {
    "collapsed": false
   },
   "outputs": [
    {
     "name": "stdout",
     "output_type": "stream",
     "text": [
      "[0, 1, 2, 3, 4]\n",
      "[2, 3, 4]\n",
      "[0, 2, 4, 6, 8]\n"
     ]
    }
   ],
   "source": [
    "#range(x) returns a list of ints from 0 to x − 1. \n",
    "#example, \n",
    "print range(5) \n",
    "print range(2, 5) #Start at 2 \n",
    "print range(0, 10, 2) #give every 2 values back"
   ]
  },
  {
   "cell_type": "code",
   "execution_count": 48,
   "metadata": {
    "collapsed": false
   },
   "outputs": [
    {
     "name": "stdout",
     "output_type": "stream",
     "text": [
      "6\n",
      "115.312085 seconds\n"
     ]
    }
   ],
   "source": [
    "# Example 1\n",
    "for x in range(1000):\n",
    "   if x == 6:\n",
    "      break\n",
    "print x\n",
    "#What does this print?"
   ]
  },
  {
   "cell_type": "code",
   "execution_count": 210,
   "metadata": {
    "collapsed": false
   },
   "outputs": [
    {
     "name": "stdout",
     "output_type": "stream",
     "text": [
      "bbcdefg\n",
      "7\n",
      "['a', 'b', 'c', 'd', 'e', 'f', 'g']\n",
      "7\n",
      "a\n"
     ]
    }
   ],
   "source": [
    "x_str='bbcdefg'\n",
    "print x_str\n",
    "print len(x_str)\n",
    "x_str[0]\n",
    "\n",
    "x=['a','b','c','d','e','f','g']\n",
    "print x\n",
    "print len(x)\n",
    "print x[0]\n",
    "x[0]=x_str[0]"
   ]
  },
  {
   "cell_type": "code",
   "execution_count": 107,
   "metadata": {
    "collapsed": false
   },
   "outputs": [
    {
     "name": "stdout",
     "output_type": "stream",
     "text": [
      "[1, 'b', 'c', 'd', 'e', 'f', 'g']\n"
     ]
    }
   ],
   "source": [
    "x=5\n",
    "x=['a','b','c','d','e','f','g']\n",
    "x[0]=1\n",
    "print x"
   ]
  },
  {
   "cell_type": "code",
   "execution_count": 110,
   "metadata": {
    "collapsed": false
   },
   "outputs": [
    {
     "name": "stdout",
     "output_type": "stream",
     "text": [
      "b\n",
      "1\n"
     ]
    }
   ],
   "source": [
    "x_str='bbcdefg'\n",
    "print x_str[0]\n",
    "print x[0]"
   ]
  },
  {
   "cell_type": "code",
   "execution_count": 111,
   "metadata": {
    "collapsed": true
   },
   "outputs": [],
   "source": [
    "x[0]=x_str[0]"
   ]
  }
 ],
 "metadata": {
  "anaconda-cloud": {},
  "kernelspec": {
   "display_name": "Python [Root]",
   "language": "python",
   "name": "Python [Root]"
  },
  "language_info": {
   "codemirror_mode": {
    "name": "ipython",
    "version": 2
   },
   "file_extension": ".py",
   "mimetype": "text/x-python",
   "name": "python",
   "nbconvert_exporter": "python",
   "pygments_lexer": "ipython2",
   "version": "2.7.12"
  }
 },
 "nbformat": 4,
 "nbformat_minor": 0
}
