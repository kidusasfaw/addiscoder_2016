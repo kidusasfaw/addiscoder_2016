{
 "cells": [
  {
   "cell_type": "code",
   "execution_count": null,
   "metadata": {
    "collapsed": true
   },
   "outputs": [],
   "source": [
    "#You have a list fruits:\n",
    "fruits=['orange', 'pineapple','banana','mango']\n",
    "#Can you give me 2 things?\n",
    "#1. a list called my_fruits\n",
    "#my_fruits=['my_orange', 'my_pineapple','my_banana','my_mango']\n",
    "\n",
    "#I saw The following solutions before:\n",
    "my_fruits=[]\n",
    "my_fruits += ['my'+fruits[0]]\n",
    "my_fruits += ['my'+fruits[1]]\n",
    "#I don't want you to do that. \n",
    "#I want you to give me an answer using for loops."
   ]
  },
  {
   "cell_type": "code",
   "execution_count": null,
   "metadata": {
    "collapsed": true
   },
   "outputs": [],
   "source": [
    "fruits=['orange', 'pineapple','banana','mango']\n",
    "my_fruits = []\n",
    "for x in fruits:\n",
    "    my_fruits += ['my_' + x]\n",
    "print my_fruits\n",
    "#what does this print?"
   ]
  },
  {
   "cell_type": "code",
   "execution_count": null,
   "metadata": {
    "collapsed": true
   },
   "outputs": [],
   "source": [
    "my_fruits = []\n",
    "for x in fruits:\n",
    "    my_fruits += ['my_' + x]\n",
    "    print my_fruits\n",
    "#what does this print?"
   ]
  },
  {
   "cell_type": "code",
   "execution_count": null,
   "metadata": {
    "collapsed": true
   },
   "outputs": [],
   "source": [
    "#2. I would like you to give me a list called my_favorite_fruits\n",
    "#with the elements pineapple and mango\n",
    "#so my_favorite_fruits=['pinapple','mango']\n",
    "my_favorite_fruits = []\n",
    "for x in fruits:\n",
    "    y = [fruits[1]] + [fruits[3]] #['pinapple','mango']\n",
    "    my_favorite_fruits += y #['pinapple', 'mango']\n",
    "    if x==fruits[0]: #if x=='orange'\n",
    "        break\n",
    "#my_favorite_fruits += [x]\n",
    "print my_favorite_fruits"
   ]
  },
  {
   "cell_type": "code",
   "execution_count": null,
   "metadata": {
    "collapsed": true
   },
   "outputs": [],
   "source": [
    "#3. give me a variable called best_fruit whose value is 'banana' and whose\n",
    "#data type is a string:\n",
    "#best_fruit='banana'\n",
    "best_fruits =''\n",
    "for x in fruits:\n",
    "    if x=='banana':\n",
    "        best_fruits = x \n",
    "        break\n",
    "#print x  \n",
    "print best_fruits"
   ]
  },
  {
   "cell_type": "code",
   "execution_count": 1,
   "metadata": {
    "collapsed": false
   },
   "outputs": [
    {
     "name": "stdout",
     "output_type": "stream",
     "text": [
      "['pineapplemango', 'pineapplemango', 'pineapplemango', 'pineapplemango']\n"
     ]
    }
   ],
   "source": [
    "#one of your classmates came up with this solution.\n",
    "#what is wrong with this solution?\n",
    "#print it and see what the output is. \n",
    "\n",
    "fruits=['orange', 'pineapple','banana','mango']\n",
    "my_favorite_fruits=[]\n",
    "for x in fruits:\n",
    "    #x is banana\n",
    "    #y=['pinapple'+'mango]\n",
    "    y=[fruits[1]+fruits[3]]\n",
    "    my_favorite_fruits += y\n",
    "print my_favorite_fruits"
   ]
  },
  {
   "cell_type": "code",
   "execution_count": null,
   "metadata": {
    "collapsed": true
   },
   "outputs": [],
   "source": [
    "#What is printed?\n",
    "fruits=['orange', 'pineapple','banana','mango']\n",
    "for x in fruits:\n",
    "    if x=='pineapple':\n",
    "        print x\n",
    "        continue"
   ]
  },
  {
   "cell_type": "code",
   "execution_count": null,
   "metadata": {
    "collapsed": true
   },
   "outputs": [],
   "source": [
    "#Can you give me a function called reverse, that takes in an input string\n",
    "#And returns the reversed version of the string. \n",
    "#For example, if the input is abcde it returns edcba. \n",
    "#This will give you an exercise using len and range"
   ]
  },
  {
   "cell_type": "code",
   "execution_count": null,
   "metadata": {
    "collapsed": true
   },
   "outputs": [],
   "source": [
    "#One solution that one of your classmates came up with\n",
    "def reverse(input_string):\n",
    "    z=0\n",
    "    n=''  \n",
    "    for x in input_string:\n",
    "        y=input_string[len(input_string)-1-z] #z=0\n",
    "        z += 1\n",
    "        n += y\n",
    "    return n  "
   ]
  },
  {
   "cell_type": "code",
   "execution_count": 5,
   "metadata": {
    "collapsed": false
   },
   "outputs": [
    {
     "name": "stdout",
     "output_type": "stream",
     "text": [
      "giggfehgedcba\n"
     ]
    }
   ],
   "source": [
    "#Another solution\n",
    "def reverse(x):\n",
    "   y=''\n",
    "   for i in range(len(x)): \n",
    "      y += x[len(x)-i-1] \n",
    "   return y                \n",
    "d=reverse('abcdeghefggig')   \n",
    "print d"
   ]
  },
  {
   "cell_type": "code",
   "execution_count": null,
   "metadata": {
    "collapsed": true
   },
   "outputs": [],
   "source": [
    "#What is the difference between these 2 solutions?\n",
    "#Which solution is better?"
   ]
  }
 ],
 "metadata": {
  "anaconda-cloud": {},
  "kernelspec": {
   "display_name": "Python [Root]",
   "language": "python",
   "name": "Python [Root]"
  },
  "language_info": {
   "codemirror_mode": {
    "name": "ipython",
    "version": 2
   },
   "file_extension": ".py",
   "mimetype": "text/x-python",
   "name": "python",
   "nbconvert_exporter": "python",
   "pygments_lexer": "ipython2",
   "version": "2.7.12"
  }
 },
 "nbformat": 4,
 "nbformat_minor": 0
}
