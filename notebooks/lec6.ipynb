{
 "cells": [
  {
   "cell_type": "code",
   "execution_count": null,
   "metadata": {
    "collapsed": true
   },
   "outputs": [],
   "source": [
    "#Today we are going to review functions. \n",
    "#We are going to go over how one function\n",
    "#calls another function and we are going to review \n",
    "#some functions from lab 2. \n",
    "#In lab, you are going to have new \n",
    "#exercises of writing simple functions\n",
    "\n",
    "#input--->function--->output\n"
   ]
  },
  {
   "cell_type": "code",
   "execution_count": null,
   "metadata": {
    "collapsed": true
   },
   "outputs": [],
   "source": [
    "#Write a function called multiplyByTwo \n",
    "#that takes in an int and \n",
    "#returns the input * 2. \n",
    "\n",
    "def multiplyByTwo(z):\n",
    "    return z*2\n",
    "\n",
    "#what is the name of the function? multiplyByTwo\n",
    "#what is the input? z\n",
    "#what is the output z*2\n",
    "#the function returns the output which is z*2"
   ]
  },
  {
   "cell_type": "code",
   "execution_count": 7,
   "metadata": {
    "collapsed": false
   },
   "outputs": [
    {
     "name": "stdout",
     "output_type": "stream",
     "text": [
      "16\n"
     ]
    }
   ],
   "source": [
    "#Now we want to add 3 to a number and multiply it by 2\n",
    "#i.e. We want to create a function called\n",
    "#multiplyByTwoAddThree that takes in a number\n",
    "#and returns the (number +3)*2. \n",
    "def addThree(z):\n",
    "    return z+3\n",
    "\n",
    "#One function can call another function.\n",
    "#Here, multiplyByTwoAddThree calls another function\n",
    "#called addThree. When we call multiplyByTwoAddThree\n",
    "#with the input 5, multiplyByTwoAddThree calls\n",
    "#another function addThree. This function adds\n",
    "#3 to its input and returns the output. \n",
    "\n",
    "def multiplyByTwoAddThree(z):\n",
    "    return addThree(z)*2\n",
    "\n",
    "y=multiplyByTwoAddThree(5)\n",
    "print y"
   ]
  },
  {
   "cell_type": "code",
   "execution_count": 52,
   "metadata": {
    "collapsed": false
   },
   "outputs": [
    {
     "name": "stdout",
     "output_type": "stream",
     "text": [
      "10\n"
     ]
    }
   ],
   "source": [
    "#printing something is different from returning\n",
    "#something. In this example, when we print y\n",
    "#what does it print? why? \n",
    "#what happens if we call \n",
    "#y=multiplyByTwo(5)\n",
    "#print y\n",
    "#why?\n",
    "def multiplyByTwo(z):\n",
    "    if type(z)==int:\n",
    "        return  z*2\n",
    "    else:\n",
    "        print 'I only want integer output'\n",
    "        return \n",
    "y=multiplyByTwo(5)\n",
    "print y"
   ]
  },
  {
   "cell_type": "code",
   "execution_count": null,
   "metadata": {
    "collapsed": true
   },
   "outputs": [],
   "source": [
    "#Having more than one function\n",
    "def passing_grade(h):\n",
    "    if h>50:\n",
    "        print 'good'#True  <--Some people are confused by print Vs. return\n",
    "        return True\n",
    "    else:\n",
    "        print 'bad'#False\n",
    "        return False\n",
    "y=passing_grade(100)\n",
    "print y"
   ]
  },
  {
   "cell_type": "code",
   "execution_count": 59,
   "metadata": {
    "collapsed": false
   },
   "outputs": [
    {
     "name": "stdout",
     "output_type": "stream",
     "text": [
      "good\n",
      "candy\n"
     ]
    }
   ],
   "source": [
    "#One function can call another function. What does this function do?\n",
    "#what is printed?\n",
    "def candy_for_grade(g):\n",
    "    if passing_grade(g):\n",
    "        return 'candy'\n",
    "    else:\n",
    "        return 'no_candy'\n",
    "y=candy_for_grade(51)\n",
    "print y"
   ]
  },
  {
   "cell_type": "code",
   "execution_count": 60,
   "metadata": {
    "collapsed": false
   },
   "outputs": [
    {
     "name": "stdout",
     "output_type": "stream",
     "text": [
      "good\n",
      "None\n"
     ]
    }
   ],
   "source": [
    "#Having more than one function\n",
    "def passing_grade(h):\n",
    "    if h>50:\n",
    "        print 'good'#True  <--Some people are confused by print Vs. return\n",
    "        #return True\n",
    "    else:\n",
    "        print 'bad'#False\n",
    "        return False\n",
    "y=passing_grade(100)\n",
    "print y\n",
    "\n",
    "#Now what is printed? why?"
   ]
  },
  {
   "cell_type": "code",
   "execution_count": null,
   "metadata": {
    "collapsed": true
   },
   "outputs": [],
   "source": [
    "#Can you give me a function called reverse, that takes in an input string\n",
    "#And returns the reversed version of the string. \n",
    "#For example, if the input is abcde it returns edcba. \n",
    "#This will give you an exercise using len and range"
   ]
  },
  {
   "cell_type": "code",
   "execution_count": 30,
   "metadata": {
    "collapsed": false
   },
   "outputs": [
    {
     "data": {
      "text/plain": [
       "[0, 1, 2, 3, 4]"
      ]
     },
     "execution_count": 30,
     "metadata": {},
     "output_type": "execute_result"
    }
   ],
   "source": [
    "'''\n",
    "Lets say input_string='abcde'\n",
    "Before you answer the question, you should try \n",
    "to figure out how the function would work on paper.\n",
    "what do we want to do?\n",
    "-->go through all the characters in input_string\n",
    "one by one. (for loop)\n",
    "-->Start from e (last character) and go to \n",
    "the first character. \n",
    "   --start here: \n",
    "        input_string[len(input_string)-1]\n",
    "        and also go to \n",
    "        input_string[len(input_string)-1-1]\n",
    "        input_string[len(input_string)-1-2]\n",
    "        .....\n",
    "        --do this until you get to \n",
    "        input_string[0]\n",
    "\n",
    "   --end here:\n",
    "        input_string[0]\n",
    "For each of these characters, \n",
    "add them to an output string\n",
    "When you are done, return the output string.\n",
    "'''"
   ]
  },
  {
   "cell_type": "code",
   "execution_count": 41,
   "metadata": {
    "collapsed": false
   },
   "outputs": [
    {
     "name": "stdout",
     "output_type": "stream",
     "text": [
      "edcba\n"
     ]
    }
   ],
   "source": [
    "input_string='abcde'\n",
    "output_string=''\n",
    "for x in range(len(input_string)):\n",
    "  output_string += input_string[len(input_string)-x-1]\n",
    "print output_string"
   ]
  },
  {
   "cell_type": "code",
   "execution_count": 51,
   "metadata": {
    "collapsed": false
   },
   "outputs": [
    {
     "name": "stdout",
     "output_type": "stream",
     "text": [
      "54321\n"
     ]
    }
   ],
   "source": [
    "def reverse(x):\n",
    "    y=''\n",
    "    for n in range(len(x)):\n",
    "      y += x[len(x)-n-1] \n",
    "    return y\n",
    "my_string=reverse('12345')\n",
    "print my_string"
   ]
  },
  {
   "cell_type": "code",
   "execution_count": 53,
   "metadata": {
    "collapsed": false
   },
   "outputs": [
    {
     "ename": "SyntaxError",
     "evalue": "invalid syntax (<ipython-input-53-0bc4d3491bad>, line 2)",
     "output_type": "error",
     "traceback": [
      "\u001b[0;36m  File \u001b[0;32m\"<ipython-input-53-0bc4d3491bad>\"\u001b[0;36m, line \u001b[0;32m2\u001b[0m\n\u001b[0;31m    for x  range(len(abc)):\u001b[0m\n\u001b[0m               ^\u001b[0m\n\u001b[0;31mSyntaxError\u001b[0m\u001b[0;31m:\u001b[0m invalid syntax\n"
     ]
    }
   ],
   "source": [
    "#what kind of error does this give me?\n",
    "#how do I fix it?\n",
    "abc='123456'\n",
    "for x  range(len(abc)):\n",
    "  print x\n",
    "  print abc[x]\n",
    "#Reading the error message that you get helps you figure out where you might\n",
    "#have gone wrong in your code. So always read the error message you get. \n",
    "#many times it points you to the line and exact word that is problematic."
   ]
  },
  {
   "cell_type": "code",
   "execution_count": 42,
   "metadata": {
    "collapsed": false
   },
   "outputs": [
    {
     "name": "stdout",
     "output_type": "stream",
     "text": [
      "timnit\n"
     ]
    }
   ],
   "source": [
    "#when you print the string it does not print it with quotation marks. \n",
    "x='timnit'\n",
    "print x"
   ]
  },
  {
   "cell_type": "code",
   "execution_count": null,
   "metadata": {
    "collapsed": true
   },
   "outputs": [],
   "source": []
  }
 ],
 "metadata": {
  "anaconda-cloud": {},
  "kernelspec": {
   "display_name": "Python [Root]",
   "language": "python",
   "name": "Python [Root]"
  },
  "language_info": {
   "codemirror_mode": {
    "name": "ipython",
    "version": 2
   },
   "file_extension": ".py",
   "mimetype": "text/x-python",
   "name": "python",
   "nbconvert_exporter": "python",
   "pygments_lexer": "ipython2",
   "version": "2.7.12"
  }
 },
 "nbformat": 4,
 "nbformat_minor": 0
}
