{
 "cells": [
  {
   "cell_type": "markdown",
   "metadata": {},
   "source": [
    "# De-recursion"
   ]
  },
  {
   "cell_type": "markdown",
   "metadata": {},
   "source": [
    "Many times, recursion gives us a clean way to __think__ about problems and __solve__ them."
   ]
  },
  {
   "cell_type": "markdown",
   "metadata": {},
   "source": [
    "But a recursive program is often __slower__ than non recursive version."
   ]
  },
  {
   "cell_type": "markdown",
   "metadata": {},
   "source": [
    "So sometimes, after finding a recursive solution, we want to transform it to a non recursive solution."
   ]
  },
  {
   "cell_type": "markdown",
   "metadata": {},
   "source": [
    "Understanding how the non recursive function also helps us understand the recursive version better."
   ]
  },
  {
   "cell_type": "markdown",
   "metadata": {},
   "source": [
    "## Example: Binary Search "
   ]
  },
  {
   "cell_type": "markdown",
   "metadata": {},
   "source": [
    "Recall the recursive code for binary search:"
   ]
  },
  {
   "cell_type": "code",
   "execution_count": 1,
   "metadata": {
    "collapsed": true
   },
   "outputs": [],
   "source": [
    "def bin_search(L,item):\n",
    "    n = len(L)\n",
    "    if n==0:\n",
    "        return -1\n",
    "    m = int(n/2)\n",
    "    if L[m]==item:\n",
    "        return m\n",
    "    if L[m]>item:\n",
    "        return bin_search(L[:m],item)\n",
    "    res = bin_search(L[m+1:n],item)\n",
    "    return -1 if res==-1 else m+1+res"
   ]
  },
  {
   "cell_type": "markdown",
   "metadata": {},
   "source": [
    "To make it non recursive we will do the following:"
   ]
  },
  {
   "cell_type": "code",
   "execution_count": 2,
   "metadata": {
    "collapsed": true
   },
   "outputs": [],
   "source": [
    "def bin_search_nr(L,item):\n",
    "    left = 0\n",
    "    right= len(L)\n",
    "    while right-left >0:\n",
    "        m = int((left+right)/2)\n",
    "        if L[m]==item:\n",
    "            return m\n",
    "        if L[m]>item:\n",
    "            right = m\n",
    "        else:\n",
    "            left  = m+1\n",
    "    return -1"
   ]
  },
  {
   "cell_type": "code",
   "execution_count": 3,
   "metadata": {
    "collapsed": true
   },
   "outputs": [],
   "source": [
    "L = range(0,200,2)"
   ]
  },
  {
   "cell_type": "code",
   "execution_count": 4,
   "metadata": {
    "collapsed": false
   },
   "outputs": [
    {
     "data": {
      "text/plain": [
       "50"
      ]
     },
     "execution_count": 4,
     "metadata": {},
     "output_type": "execute_result"
    }
   ],
   "source": [
    "bin_search_nr(L,100)"
   ]
  },
  {
   "cell_type": "code",
   "execution_count": 5,
   "metadata": {
    "collapsed": false
   },
   "outputs": [
    {
     "data": {
      "text/plain": [
       "-1"
      ]
     },
     "execution_count": 5,
     "metadata": {},
     "output_type": "execute_result"
    }
   ],
   "source": [
    "bin_search_nr(L,101)"
   ]
  },
  {
   "cell_type": "markdown",
   "metadata": {},
   "source": [
    "## Example 2: Selection sort"
   ]
  },
  {
   "cell_type": "code",
   "execution_count": 6,
   "metadata": {
    "collapsed": true
   },
   "outputs": [],
   "source": [
    "def find_min_index(L):\n",
    "    current_index = 0\n",
    "    current_min = L[0]\n",
    "    for j in range(1,len(L)):\n",
    "        if current_min > L[j]:\n",
    "            current_min = L[j]\n",
    "            current_index = j\n",
    "    return current_index"
   ]
  },
  {
   "cell_type": "code",
   "execution_count": 7,
   "metadata": {
    "collapsed": true
   },
   "outputs": [],
   "source": [
    "def selection_sort(L):\n",
    "    if len(L)<=1:   \n",
    "        return L # a one-element list is always sorted\n",
    "    min_idx = find_min_index(L) #non-recursive helper function\n",
    "    L[0], L[min_idx] = L[min_idx], L[0] \n",
    "    return [L[0]] + sort(L[1:len(L)])"
   ]
  },
  {
   "cell_type": "code",
   "execution_count": 8,
   "metadata": {
    "collapsed": true
   },
   "outputs": [],
   "source": [
    "def selection_sort_nr(L):\n",
    "    for i in range(len(L)):\n",
    "        min_idx = i+find_min_index(L[i:])\n",
    "        L[i], L[min_idx] = L[min_idx], L[i]\n",
    "    return L"
   ]
  },
  {
   "cell_type": "code",
   "execution_count": 9,
   "metadata": {
    "collapsed": false
   },
   "outputs": [
    {
     "data": {
      "text/plain": [
       "[1, 1, 2, 3, 4, 5, 9]"
      ]
     },
     "execution_count": 9,
     "metadata": {},
     "output_type": "execute_result"
    }
   ],
   "source": [
    "selection_sort_nr([3,1,4,1,5,9,2])"
   ]
  },
  {
   "cell_type": "markdown",
   "metadata": {},
   "source": [
    "## Example 3: Merge sort"
   ]
  },
  {
   "cell_type": "code",
   "execution_count": 10,
   "metadata": {
    "collapsed": true
   },
   "outputs": [],
   "source": [
    "def merge_lists(L1,L2):\n",
    "    i=0\n",
    "    j=0\n",
    "    res = []\n",
    "    while i<len(L1) and j<len(L2):\n",
    "        if L1[i] < L2[j]:\n",
    "            res.append(L1[i])\n",
    "            i += 1\n",
    "        else:\n",
    "            res.append(L2[j])\n",
    "            j += 1\n",
    "    res += L1[i:]+L2[j:]\n",
    "    return res"
   ]
  },
  {
   "cell_type": "code",
   "execution_count": 11,
   "metadata": {
    "collapsed": true
   },
   "outputs": [],
   "source": [
    "def merge_sort(L):\n",
    "    if len(L) <= 1:\n",
    "        return L\n",
    "    m = int(len(L)/2)\n",
    "    L1 = merge_sort(L[0:m])\n",
    "    L2 = merge_sort(L[m:])\n",
    "    return merge_lists(L1,L2)"
   ]
  },
  {
   "cell_type": "code",
   "execution_count": 12,
   "metadata": {
    "collapsed": false
   },
   "outputs": [
    {
     "data": {
      "text/plain": [
       "[1, 1, 2, 3, 4, 5, 9]"
      ]
     },
     "execution_count": 12,
     "metadata": {},
     "output_type": "execute_result"
    }
   ],
   "source": [
    "merge_sort([3,1,4,1,5,9,2])"
   ]
  },
  {
   "cell_type": "code",
   "execution_count": 13,
   "metadata": {
    "collapsed": true
   },
   "outputs": [],
   "source": [
    "def merge_sort_nr(L):\n",
    "    lists = [ [x] for x in L]\n",
    "    while len(lists)>1:\n",
    "        new_lists = []\n",
    "        if len(lists) % 2:\n",
    "            lists.append([])\n",
    "        for i in range(0,len(lists)-1,2):\n",
    "            new_lists.append(merge_lists(lists[i],lists[i+1]))\n",
    "        lists = new_lists\n",
    "    return lists[0]"
   ]
  },
  {
   "cell_type": "code",
   "execution_count": 14,
   "metadata": {
    "collapsed": false
   },
   "outputs": [
    {
     "data": {
      "text/plain": [
       "[1, 1, 2, 3, 4, 5, 9]"
      ]
     },
     "execution_count": 14,
     "metadata": {},
     "output_type": "execute_result"
    }
   ],
   "source": [
    "merge_sort_nr([3,1,4,1,5,9,2])"
   ]
  },
  {
   "cell_type": "markdown",
   "metadata": {},
   "source": [
    "# Graphs"
   ]
  },
  {
   "cell_type": "markdown",
   "metadata": {},
   "source": [
    "Often in computation we have __data__ from the world, and a __question__ we want to answer about these data."
   ]
  },
  {
   "cell_type": "markdown",
   "metadata": {},
   "source": [
    "To do so, we need to find a __model__ for the data, and a way to translate our question into a __mathemtical question about the model__"
   ]
  },
  {
   "cell_type": "markdown",
   "metadata": {},
   "source": [
    "Here are some examples:\n",
    "\n",
    "* Suppose you have a map of Addis Ababa and want to find out what's the fastest way to get from the national museum to the market.\n",
    "\n",
    "* Suppose you are Facebook and you are trying to figure out how many friends of friends does the average Ethiopean has.\n",
    "\n",
    "* Suppose you are a geneticist, and are trying to figure out which genes are related to a particular type of colon cancer.\n",
    "\n"
   ]
  },
  {
   "cell_type": "markdown",
   "metadata": {},
   "source": [
    "![title](addis_map.jpg)"
   ]
  },
  {
   "cell_type": "markdown",
   "metadata": {},
   "source": [
    "What is perhaps most surprising is that these and any many other questions, all use the same mathematical model of a __graph__ "
   ]
  },
  {
   "cell_type": "markdown",
   "metadata": {},
   "source": [
    "A __graph__ is just a way to store __connections__ between pairs of entities:\n",
    "\n",
    "* The graph of Addis's roads could be composed of all street intersections, with a connection between intersection $u$ and intersection $v$ if they are directly connected by a road.\n",
    "\n",
    "* The Facebook graphs is composed of all Facebook users, with a connection between user $u$ and user $v$ if they are friends.\n",
    "\n",
    "* The gene-symptom interaction graph is composed of all genes and all \"symptoms\" (also known as phenotypes: some observable differences in people), where gene $u$ is connected to symptom $v$ if there is a correlation between people having the gene $u$ and symptom $v$. "
   ]
  },
  {
   "cell_type": "markdown",
   "metadata": {},
   "source": [
    "Mathematically, a graph is a set $V$ of __vertices__ and a set $E$ of pairs of these vertices which is known as the set of __edges__. We say that a vertex $u\\in V$ is connected to $v\\in V$ if the pair $(u,v)$ is in $E$."
   ]
  },
  {
   "cell_type": "markdown",
   "metadata": {},
   "source": [
    "A graph where $(u,v)\\in E$ if and only if $(v,u)\\in E$ is known as an __undirected__ graphs. Undirected graphs form an important special case, and we will mostly be interested in those graphs. "
   ]
  },
  {
   "cell_type": "markdown",
   "metadata": {},
   "source": [
    "Sometimes the edges (or vertices) of the graph are __labeled__ (often by a number), for example in the case of the road network, we might label every road segment with the average time it takes to travel from one end to the other."
   ]
  },
  {
   "cell_type": "markdown",
   "metadata": {},
   "source": [
    "There are two main representations for graphs. We can always assume the vertices are simply identified by the numbers $1$ to $n$ for some $n$. \n",
    "\n",
    "The __adjacency list representation__ is an array $L$ where $L[i]$ is the list of all neighbors of the vertex $i$ (i.e., all $j$ such that $(i,j)\\in E$)\n",
    "\n",
    "The __adjacency matrix representation__ is an $n\\times n$ two-dimensional array $M$ (i.e., matrix) such that $M[i][j]$ equals $1$ if $j$ is a neighbor of $i$ and equals $0$ otherwise."
   ]
  },
  {
   "cell_type": "markdown",
   "metadata": {},
   "source": [
    "### Questions"
   ]
  },
  {
   "cell_type": "markdown",
   "metadata": {},
   "source": [
    "* If a graph has $n$ vertices and $m$ edges - how big is its adjacency list representation? how big  is its adjacency matrix representation?"
   ]
  },
  {
   "cell_type": "markdown",
   "metadata": {},
   "source": [
    "* Given a graph $G$ on $n$ vertices and two vertices $i,j$, how long can it take us (in the worst case) to find out if $j$ is a neighbor of $i$ when $G$ is represented in the adjacenecy list form? How long will it take in the adjacenecy matrix form?"
   ]
  },
  {
   "cell_type": "markdown",
   "metadata": {},
   "source": [
    "### Examples:"
   ]
  },
  {
   "cell_type": "code",
   "execution_count": 16,
   "metadata": {
    "collapsed": false
   },
   "outputs": [],
   "source": [
    "G = [[1],[2],[3],[0]]"
   ]
  },
  {
   "cell_type": "code",
   "execution_count": 17,
   "metadata": {
    "collapsed": false,
    "scrolled": true
   },
   "outputs": [
    {
     "name": "stdout",
     "output_type": "stream",
     "text": [
      "shell_layout\n"
     ]
    },
    {
     "data": {
      "image/png": "[encoded data removed]",
      "text/plain": [
       "<matplotlib.figure.Figure at 0x98851d0>"
      ]
     },
     "metadata": {},
     "output_type": "display_data"
    }
   ],
   "source": [
    "draw_graph(G)"
   ]
  },
  {
   "cell_type": "code",
   "execution_count": 21,
   "metadata": {
    "collapsed": false
   },
   "outputs": [
    {
     "name": "stdout",
     "output_type": "stream",
     "text": [
      "shell_layout\n"
     ]
    },
    {
     "data": {
      "image/png": "[encoded data removed]",
      "text/plain": [
       "<matplotlib.figure.Figure at 0xa3077b8>"
      ]
     },
     "metadata": {},
     "output_type": "display_data"
    }
   ],
   "source": [
    "G = [[1,2,3,4,5,6]]\n",
    "draw_graph(G)"
   ]
  },
  {
   "cell_type": "code",
   "execution_count": 23,
   "metadata": {
    "collapsed": false,
    "scrolled": true
   },
   "outputs": [
    {
     "name": "stdout",
     "output_type": "stream",
     "text": [
      "spectral_layout\n"
     ]
    },
    {
     "data": {
      "image/png": "[encoded data removed]",
      "text/plain": [
       "<matplotlib.figure.Figure at 0xb0544e0>"
      ]
     },
     "metadata": {},
     "output_type": "display_data"
    }
   ],
   "source": [
    "n = 20\n",
    "G = [ [(i+1) % n] for i in range(n) ]\n",
    "draw_graph(G)"
   ]
  },
  {
   "cell_type": "code",
   "execution_count": 24,
   "metadata": {
    "collapsed": true
   },
   "outputs": [],
   "source": [
    "def grid_neighbors(i,j,n):\n",
    "    if i==n-1 and j== n-1: return []\n",
    "    if i==n-1:\n",
    "        return [i*n+j+1]\n",
    "    if j==n-1:\n",
    "        return [(i+1)*n+j]\n",
    "    return [n*i+((j+1) % n), n*((i+1) % n)+j] "
   ]
  },
  {
   "cell_type": "code",
   "execution_count": 25,
   "metadata": {
    "collapsed": true
   },
   "outputs": [],
   "source": [
    "n = 5\n",
    "G = [ grid_neighbors(i,j,n) for i in range(n) for j in range(n)  ]"
   ]
  },
  {
   "cell_type": "code",
   "execution_count": 26,
   "metadata": {
    "collapsed": false
   },
   "outputs": [
    {
     "name": "stdout",
     "output_type": "stream",
     "text": [
      "grid_layout\n"
     ]
    },
    {
     "data": {
      "image/png": "[encoded data removed]",
      "text/plain": [
       "<matplotlib.figure.Figure at 0xb3026a0>"
      ]
     },
     "metadata": {},
     "output_type": "display_data"
    }
   ],
   "source": [
    "draw_graph(G,'grid_layout')"
   ]
  },
  {
   "cell_type": "markdown",
   "metadata": {},
   "source": [
    "### Graph connectivity\n",
    "\n",
    "Given $i,j$ and a graph $G$: find out if $j$ is connected to $i$ (perhaps indirectly) in the graph"
   ]
  },
  {
   "cell_type": "markdown",
   "metadata": {},
   "source": [
    "Here is a natural suggestion for a recursive algorithm:\n",
    "\n",
    "$connected(i,j,G)$ is True if $i$ is a neighbor of $j$, and otherwise it is True if there is some neighbor $k$ of $i$ such that $k$ is connected to $j$. \n",
    "\n",
    "Let's code it up try to see what happens:"
   ]
  },
  {
   "cell_type": "code",
   "execution_count": 27,
   "metadata": {
    "collapsed": false
   },
   "outputs": [],
   "source": [
    "def connected(i,j,G):\n",
    "    sys.stdout.write('.')\n",
    "    if j in G[i]: \n",
    "        return True\n",
    "    return any([connected(k,j,G) for k in G[i]])"
   ]
  },
  {
   "cell_type": "code",
   "execution_count": 28,
   "metadata": {
    "collapsed": false
   },
   "outputs": [],
   "source": [
    "def undir(G):\n",
    "    n = max(max(G[i]) if G[i] else 0 for i in range(len(G)))\n",
    "    n = max(n+1,len(G))\n",
    "    _G = [[] for i in range(n)]\n",
    "    for i in range(len(G)): \n",
    "        for j in G[i]:\n",
    "            if not j in _G[i]:\n",
    "                _G[i].append(j)\n",
    "            if not i in _G[j]:\n",
    "                _G[j].append(i)\n",
    "    return _G"
   ]
  },
  {
   "cell_type": "code",
   "execution_count": 29,
   "metadata": {
    "collapsed": false
   },
   "outputs": [
    {
     "name": "stdout",
     "output_type": "stream",
     "text": [
      "spectral_layout\n"
     ]
    },
    {
     "data": {
      "image/png": "[encoded data removed]",
      "text/plain": [
       "<matplotlib.figure.Figure at 0xb30c5c0>"
      ]
     },
     "metadata": {},
     "output_type": "display_data"
    }
   ],
   "source": [
    "G = [[1],[2],[3],[4],[]]\n",
    "draw_graph(G)"
   ]
  },
  {
   "cell_type": "code",
   "execution_count": 30,
   "metadata": {
    "collapsed": false
   },
   "outputs": [
    {
     "data": {
      "text/plain": [
       "[[1], [0, 2], [1, 3], [2, 4], [3]]"
      ]
     },
     "execution_count": 30,
     "metadata": {},
     "output_type": "execute_result"
    }
   ],
   "source": [
    "G = undir(G)\n",
    "G"
   ]
  },
  {
   "cell_type": "code",
   "execution_count": 31,
   "metadata": {
    "collapsed": false
   },
   "outputs": [
    {
     "name": "stdout",
     "output_type": "stream",
     "text": [
      "."
     ]
    },
    {
     "data": {
      "text/plain": [
       "True"
      ]
     },
     "execution_count": 31,
     "metadata": {},
     "output_type": "execute_result"
    }
   ],
   "source": [
    "connected(0,1,G)"
   ]
  },
  {
   "cell_type": "code",
   "execution_count": 32,
   "metadata": {
    "collapsed": false
   },
   "outputs": [
    {
     "name": "stdout",
     "output_type": "stream",
     "text": [
      ".."
     ]
    },
    {
     "data": {
      "text/plain": [
       "True"
      ]
     },
     "execution_count": 32,
     "metadata": {},
     "output_type": "execute_result"
    }
   ],
   "source": [
    "connected(0,2,G)"
   ]
  },
  {
   "cell_type": "code",
   "execution_count": 33,
   "metadata": {
    "collapsed": false
   },
   "outputs": [
    {
     "name": "stdout",
     "output_type": "stream",
     "text": [
      "............................................................................................................................................................................................................................................................................................................................................................................................................................................................................................................................................................................................................................................................................................................................................................................................................................................................................................................................................................................................................."
     ]
    },
    {
     "ename": "RuntimeError",
     "evalue": "maximum recursion depth exceeded while calling a Python object",
     "output_type": "error",
     "traceback": [
      "\u001b[1;31m------------------------------------------------------------------------\u001b[0m",
      "\u001b[1;31mRuntimeError\u001b[0m                           Traceback (most recent call last)",
      "\u001b[1;32m<ipython-input-33-f99c3502d881>\u001b[0m in \u001b[0;36m<module>\u001b[1;34m()\u001b[0m\n\u001b[1;32m----> 1\u001b[1;33m \u001b[0mconnected\u001b[0m\u001b[1;33m(\u001b[0m\u001b[1;36m0\u001b[0m\u001b[1;33m,\u001b[0m\u001b[1;36m3\u001b[0m\u001b[1;33m,\u001b[0m\u001b[0mG\u001b[0m\u001b[1;33m)\u001b[0m\u001b[1;33m\u001b[0m\u001b[0m\n\u001b[0m",
      "\u001b[1;32m<ipython-input-27-8da4daf39797>\u001b[0m in \u001b[0;36mconnected\u001b[1;34m(i, j, G)\u001b[0m\n\u001b[0;32m      3\u001b[0m     \u001b[1;32mif\u001b[0m \u001b[0mj\u001b[0m \u001b[1;32min\u001b[0m \u001b[0mG\u001b[0m\u001b[1;33m[\u001b[0m\u001b[0mi\u001b[0m\u001b[1;33m]\u001b[0m\u001b[1;33m:\u001b[0m\u001b[1;33m\u001b[0m\u001b[0m\n\u001b[0;32m      4\u001b[0m         \u001b[1;32mreturn\u001b[0m \u001b[0mTrue\u001b[0m\u001b[1;33m\u001b[0m\u001b[0m\n\u001b[1;32m----> 5\u001b[1;33m     \u001b[1;32mreturn\u001b[0m \u001b[0many\u001b[0m\u001b[1;33m(\u001b[0m\u001b[1;33m[\u001b[0m\u001b[0mconnected\u001b[0m\u001b[1;33m(\u001b[0m\u001b[0mk\u001b[0m\u001b[1;33m,\u001b[0m\u001b[0mj\u001b[0m\u001b[1;33m,\u001b[0m\u001b[0mG\u001b[0m\u001b[1;33m)\u001b[0m \u001b[1;32mfor\u001b[0m \u001b[0mk\u001b[0m \u001b[1;32min\u001b[0m \u001b[0mG\u001b[0m\u001b[1;33m[\u001b[0m\u001b[0mi\u001b[0m\u001b[1;33m]\u001b[0m\u001b[1;33m]\u001b[0m\u001b[1;33m)\u001b[0m\u001b[1;33m\u001b[0m\u001b[0m\n\u001b[0m",
      "... last 1 frames repeated, from the frame below ...\n",
      "\u001b[1;32m<ipython-input-27-8da4daf39797>\u001b[0m in \u001b[0;36mconnected\u001b[1;34m(i, j, G)\u001b[0m\n\u001b[0;32m      3\u001b[0m     \u001b[1;32mif\u001b[0m \u001b[0mj\u001b[0m \u001b[1;32min\u001b[0m \u001b[0mG\u001b[0m\u001b[1;33m[\u001b[0m\u001b[0mi\u001b[0m\u001b[1;33m]\u001b[0m\u001b[1;33m:\u001b[0m\u001b[1;33m\u001b[0m\u001b[0m\n\u001b[0;32m      4\u001b[0m         \u001b[1;32mreturn\u001b[0m \u001b[0mTrue\u001b[0m\u001b[1;33m\u001b[0m\u001b[0m\n\u001b[1;32m----> 5\u001b[1;33m     \u001b[1;32mreturn\u001b[0m \u001b[0many\u001b[0m\u001b[1;33m(\u001b[0m\u001b[1;33m[\u001b[0m\u001b[0mconnected\u001b[0m\u001b[1;33m(\u001b[0m\u001b[0mk\u001b[0m\u001b[1;33m,\u001b[0m\u001b[0mj\u001b[0m\u001b[1;33m,\u001b[0m\u001b[0mG\u001b[0m\u001b[1;33m)\u001b[0m \u001b[1;32mfor\u001b[0m \u001b[0mk\u001b[0m \u001b[1;32min\u001b[0m \u001b[0mG\u001b[0m\u001b[1;33m[\u001b[0m\u001b[0mi\u001b[0m\u001b[1;33m]\u001b[0m\u001b[1;33m]\u001b[0m\u001b[1;33m)\u001b[0m\u001b[1;33m\u001b[0m\u001b[0m\n\u001b[0m",
      "\u001b[1;31mRuntimeError\u001b[0m: maximum recursion depth exceeded while calling a Python object"
     ]
    }
   ],
   "source": [
    "connected(0,3,G)"
   ]
  },
  {
   "cell_type": "markdown",
   "metadata": {},
   "source": [
    "The problem is that we are getting into an infinite loop! \n",
    "We can fix this by remembering which vertices we visited."
   ]
  },
  {
   "cell_type": "code",
   "execution_count": 34,
   "metadata": {
    "collapsed": true
   },
   "outputs": [],
   "source": [
    "def grid_input(n): # return a n by n grid with an isolated vertex\n",
    "    G = [ grid_neighbors(i,j,n) for i in range(n) for j in range(n)  ]\n",
    "    G.append([])\n",
    "    G = undir(G)\n",
    "    return (0,len(G)-1,G)"
   ]
  },
  {
   "cell_type": "code",
   "execution_count": 35,
   "metadata": {
    "collapsed": true
   },
   "outputs": [],
   "source": [
    "def connected(source,target,G):\n",
    "    added = [False for i in range(len(G))]\n",
    "    added[source] = True\n",
    "    to_visit = [source] # to visit: list of vertices that are definitely connected to the source\n",
    "    while to_visit:\n",
    "        step_pc() # count how many times the while loop is executed\n",
    "        i = to_visit.pop()\n",
    "        if i==target:\n",
    "            return True\n",
    "        for j in G[i]:\n",
    "            if not added[j]:\n",
    "                added[j] = True\n",
    "                to_visit.append(j)\n",
    "    return False\n",
    "    "
   ]
  },
  {
   "cell_type": "code",
   "execution_count": 36,
   "metadata": {
    "collapsed": false
   },
   "outputs": [
    {
     "name": "stdout",
     "output_type": "stream",
     "text": [
      "spring100_layout\n"
     ]
    },
    {
     "data": {
      "image/png": "[encoded data removed]",
      "text/plain": [
       "<matplotlib.figure.Figure at 0xb201d30>"
      ]
     },
     "metadata": {},
     "output_type": "display_data"
    }
   ],
   "source": [
    "G = undir([[1],[2],[0],[]])\n",
    "draw_graph(G)"
   ]
  },
  {
   "cell_type": "code",
   "execution_count": 37,
   "metadata": {
    "collapsed": false
   },
   "outputs": [
    {
     "name": "stdout",
     "output_type": "stream",
     "text": [
      "True False\n"
     ]
    }
   ],
   "source": [
    "print connected(0,1,G) , connected(0,3,G)"
   ]
  },
  {
   "cell_type": "code",
   "execution_count": 24,
   "metadata": {
    "collapsed": false
   },
   "outputs": [
    {
     "name": "stdout",
     "output_type": "stream",
     "text": [
      "-------------------------------------------------------------------------------------------------------------------------------------------------------------------------------------------------------\n",
      ".......................................................................................................................................................................................................\n",
      "0.684 micro-seconds per step\n",
      "(array([4], dtype=int64),)\n",
      "Curve (steps): $n$\n"
     ]
    },
    {
     "data": {
      "image/png": "[encoded data removed]",
      "text/plain": [
       "<matplotlib.figure.Figure at 0x3843198>"
      ]
     },
     "metadata": {},
     "output_type": "display_data"
    },
    {
     "data": {
      "image/png": "[encoded data removed]",
      "text/plain": [
       "<matplotlib.figure.Figure at 0xf8708d0>"
      ]
     },
     "metadata": {},
     "output_type": "display_data"
    }
   ],
   "source": [
    "# running time of connectivity algorithm"
   ]
  },
  {
   "cell_type": "markdown",
   "metadata": {},
   "source": [
    "Let's see how the evolution of the algorithm looks on a typical graph:\n",
    "\n"
   ]
  },
  {
   "cell_type": "code",
   "execution_count": 38,
   "metadata": {
    "collapsed": true
   },
   "outputs": [],
   "source": [
    "def connected_viz(source,target,G,layout_method=None):\n",
    "    initialize_animation(G,my_layout_method=layout_method)\n",
    "    visited = [False for i in range(len(G))]\n",
    "    to_visit = [source] # to visit: list of vertices that are definitely connected to the source\n",
    "    while to_visit:\n",
    "        step_pc() # count how many times the while loop is executed\n",
    "        i = to_visit.pop()\n",
    "        color(i,'r') # red: observed\n",
    "        if i==target:\n",
    "            return True\n",
    "        visited[i] = True\n",
    "        for j in G[i]:\n",
    "            if not visited[j]:\n",
    "                to_visit.append(j)\n",
    "                color(j,'g') # green: waiting to be visited\n",
    "    return False\n",
    "    "
   ]
  },
  {
   "cell_type": "code",
   "execution_count": 41,
   "metadata": {
    "collapsed": false
   },
   "outputs": [],
   "source": [
    "(s,t,G) = grid_input(5)"
   ]
  },
  {
   "cell_type": "code",
   "execution_count": 42,
   "metadata": {
    "collapsed": false
   },
   "outputs": [
    {
     "name": "stdout",
     "output_type": "stream",
     "text": [
      "grid_layout\n"
     ]
    },
    {
     "data": {
      "image/png": "[encoded data removed]",
      "text/plain": [
       "<matplotlib.figure.Figure at 0xbc8cd68>"
      ]
     },
     "metadata": {},
     "output_type": "display_data"
    }
   ],
   "source": [
    "draw_graph(G,'grid_layout')"
   ]
  },
  {
   "cell_type": "code",
   "execution_count": 43,
   "metadata": {
    "collapsed": false
   },
   "outputs": [
    {
     "data": {
      "text/plain": [
       "False"
      ]
     },
     "execution_count": 43,
     "metadata": {},
     "output_type": "execute_result"
    },
    {
     "data": {
      "image/png": "[encoded data removed]",
      "text/plain": [
       "<matplotlib.figure.Figure at 0xb60a0b8>"
      ]
     },
     "metadata": {},
     "output_type": "display_data"
    }
   ],
   "source": [
    "connected_viz(s,t,G,'grid_layout')"
   ]
  },
  {
   "cell_type": "code",
   "execution_count": 44,
   "metadata": {
    "collapsed": false,
    "scrolled": true
   },
   "outputs": [
    {
     "name": "stdout",
     "output_type": "stream",
     "text": [
      "saving..\n",
      "rendering..\n"
     ]
    },
    {
     "data": {
      "text/html": [
       "<video width=\"432.0\" height=\"288.0\" controls autoplay>\n",
       "  <source type=\"video/mp4\" src=\"data:video/mp4;base64,AAAAHGZ0eXBNNFYgAAACAGlzb21pc28yYXZjMQAAAAhmcmVlAABlHm1kYXQAAAKtBgX//6ncRem9\n",
       "5tlIt5Ys2CDZI+7veDI2NCAtIGNvcmUgMTQ4IHIyNzA1IDNmNWVkNTYgLSBILjI2NC9NUEVHLTQg\n",
       "QVZDIGNvZGVjIC0gQ29weWxlZnQgMjAwMy0yMDE2IC0gaHR0cDovL3d3dy52aWRlb2xhbi5vcmcv\n",
       "eDI2NC5odG1sIC0gb3B0aW9uczogY2FiYWM9MSByZWY9MyBkZWJsb2NrPTE6MDowIGFuYWx5c2U9\n",
       "MHgzOjB4MTEzIG1lPWhleCBzdWJtZT03IHBzeT0xIHBzeV9yZD0xLjAwOjAuMDAgbWl4ZWRfcmVm\n",
       "PTEgbWVfcmFuZ2U9MTYgY2hyb21hX21lPTEgdHJlbGxpcz0xIDh4OGRjdD0xIGNxbT0wIGRlYWR6\n",
       "b25lPTIxLDExIGZhc3RfcHNraXA9MSBjaHJvbWFfcXBfb2Zmc2V0PS0yIHRocmVhZHM9NiBsb29r\n",
       "YWhlYWRfdGhyZWFkcz0xIHNsaWNlZF90aHJlYWRzPTAgbnI9MCBkZWNpbWF0ZT0xIGludGVybGFj\n",
       "ZWQ9MCBibHVyYXlfY29tcGF0PTAgY29uc3RyYWluZWRfaW50cmE9MCBiZnJhbWVzPTMgYl9weXJh\n",
       "bWlkPTIgYl9hZGFwdD0xIGJfYmlhcz0wIGRpcmVjdD0xIHdlaWdodGI9MSBvcGVuX2dvcD0wIHdl\n",
       "aWdodHA9MiBrZXlpbnQ9MjUwIGtleWludF9taW49MiBzY2VuZWN1dD00MCBpbnRyYV9yZWZyZXNo\n",
       "PTAgcmNfbG9va2FoZWFkPTQwIHJjPWNyZiBtYnRyZWU9MSBjcmY9MjMuMCBxY29tcD0wLjYwIHFw\n",
       "bWluPTAgcXBtYXg9NjkgcXBzdGVwPTQgaXBfcmF0aW89MS40MCBhcT0xOjEuMDAAgAAAGgxliIQA\n",
       "Fv/+99M/zLLr9zm146j3op4mX0N1JQGblsTtOoAAAAMABnblzZfZ7UFwH2gAB4gACslj/4SGPgAZ\n",
       "9KhLQAnfw8Ion8mjSalhtMLzg2AnSdwXkbwR0yr7lAllDi9OokDfKBHSynh8P5pvrZL1A4Y2nEuh\n",
       "/Q6nTQQv6M5vIHOH4OSaCCN0iMjFBiIl5D07Bb/bR/R7DcGAgaQp2Ut1BEQtHPYQsYRaWqjs25to\n",
       "TlOpJaISt4VEMYwGbqC8Cv97TV7ki1izokKU6umJhZIIloAVo15V0DhGNH/+iQSQoYbQ03/Dbb4D\n",
       "G4/1T3c8En3oPEwU7e+Bm8bN43WjpgWd2bkGufhplZAZoXm9h+zQaUUk9Ks+NztD3wcmJHKXnrN0\n",
       "KQiIiQ72gALQjUfb/dhVQD5ykHnI3JLXgXUoQKm0+WZJBvFnbPFrQkxFG58NXrWCnqAN4/pCfYGr\n",
       "0zfABzeP3hZIzuNjNJzfMHtb5xflGIJpECkcVLXJTPOGsYM3+DwYZ85lfA7An/RXptRu5befvU28\n",
       "7FMoxutZaNSae8LIM/UwDwYXEgsRrYnLozx5Z2o/YCzJYDX/lq+RrcCPuh6GJYvW/sal6g7DhjKu\n",
       "EDq/KH5LdnQRwo7G8jhhqLaw5KuIkigE4YNquVs1gKGPRImdcxdxdts+MkNcWEAE9Ts7stBV3STa\n",
       "AtfjaiurgmVMCkLEPuuLGnslCo7p/jUaPaD1LCQpztQOmR7bdP3e+LfEqdyDFqFrP7PSHMFXE2/D\n",
       "Ip2Ghn7FNOFAoEN0G0qeySlurRfLg2nt43OvF//VvNFkk0BbdTdTjIk0cU4j6G+ayNBL9zwk+MpF\n",
       "AJYTokJkXohX3cjFB7LanSzi0CAqrHlSu/rC3OnudQ246mAWO1AbVKEDbux54IWH5Dh7gWBtnBoU\n",
       "t357fuT1u2hduC84WN1bKWIWowIgugdY5i24dRc0WIe9rI5rLVz9OAldeVJ2diN6fC6HQSNnKnKa\n",
       "rS70L+r9hUjby8KVHsnez86BM7H31//bU9TX8tl6pUOUmibZJAENRUiutRtwfLs6vItNo2QrVbiN\n",
       "9FqhmtISHZp1j2esvnUfkuuTzaH2V+0gOS3wU2isMpbHouBX9hsS4hqPH+H0WOZOItRloUNvLsnp\n",
       "QDfDMPY5oxcMw3ph49XClghiqIBDajZIHLd0+OItpPZ6v50UibTTs/V0gcIQS2/2OOpHwJEzPpel\n",
       "gC+mN5OXJYTSjXZLH+p05jWrNUyhe1+DTeCv+k2J1rwO7x1vOWl5K+RKOzlrIRk3SRZiSL8vRKos\n",
       "WfBh727gueuegg5VpUyy8evujbdAC3LutV0Opz607kjDHemYZJikbKLVE5+abtef9mJnl4vS+3sL\n",
       "VB+P6d/phx/kJzUJXmOgPeItwqxrJDsIdqmo0dKRqN9//aO/DvEpcjdj8+yG7bNRctl+Mr1TCLZc\n",
       "sJCfrkq1CtjyCKC9Vk0bLAf5UAofGOS31/zZ3dApwq1go+bWJX9NOQVzs44sVsYxGxKgFZ3eLWtK\n",
       "tMdv3AuUS0moHXtquxsqeOBjKjwleDs+NfBjrrDnIaehAzc+JkzdWrS6f9NTuoLjWTak6IioNn+k\n",
       "5CXN3nKBL4/P//CX/aD3aGV6nWVqwQxqGmxvV39vr3uNxEtCyEq7UFbEc8Hrx1VxgK8Aqykuzpl9\n",
       "zODEu41PBFdmVKpkTHCZwafioWqQlx8a9jgsrPPCqox1rz6P4qOv3X2W+UjSLebgrOnELp6RAOnm\n",
       "n2Gvu140s1OeF797PPe9kyIqvgIbjE6c8EAkSWB8Grw0SU2cIbSUNP4ndz3QKLJpl7j0dLmMP9bw\n",
       "VVIKUx28dIO9kd0yKDQEeED2t0tgHjI3W6vRGzClrkYJbfl9m8gr38qvRpRULS0bicIc7TQYwMaP\n",
       "5VpWOzWBDwM75uLM537tLrSEAOUFoBfdQhfC+uelkGxkyqt40oYEabEFSd+LRR5fj34STKDx/NOC\n",
       "ziRrzOUTO9oOYfO1xf7/DlM6YTFhoIJ5Q+Feg81tiRiJ6QqaNOIV3DCQnZYLMXhNhKiFw92IzDf5\n",
       "s19gDnfXnRn7WKbINP8h4YSlLVp0fToP4Ju6PqcLwScjUhtK2xmooDKK/f4857aBXVDMSwIw6Lnx\n",
       "It0ieJVlqmformgAKe7D6K2kz5ZIWb6EVSQzxyDjaxtBcJRukP6pAf8jKwe+Xa+6dbKXPp9yKWhz\n",
       "+8lSIhUff7tFl901PNGAFG9Y5MJNRNshvMwGac73WtxdbQR0Q1fnH/N6mTQPqUYGuKP6Y70rIWSF\n",
       "B+FYp9E4h8+nw4a+4z/FYUfZsoCTkDrNq6mqnZ56PLeRZ5zZAgHbrRDd1DUDvqW8VD4Sh5iYaO2S\n",
       "ELFjJH33dlSDH43OG7aOKK5nXb/mkLpTxNYLZ9KCS3p3Gq9sZkL3LfAGd5ajgPzdYQUw15SOGqPL\n",
       "gy70Mh3LfcjDNbSa58H0lGI64UBkoWSTLBfKlvmHVZjyhCNHcwMMlpMGBJRS14Eea8ROVgd/pJhh\n",
       "j1fVZCvKLg74x7jBu7CO9zpL7di5Xrb9k8T41cauEMZneU0dEcgKxlIwtgDwloyoMDaNU2sDkrua\n",
       "1SSZzK92KGyYj82C2ElEfNbT1fRcyh7Do4F+L+8uNLy2+R287jeOhaO5G1go37eks6M3mQyyOBu4\n",
       "z49qRqB2zBjiftY6tcvMqya0cd71HvF5hT2d2pFrwh+TtP1GlKcBbXZd+3My54eTZ27uAowT4Gxq\n",
       "Ie4jPm07m4dqUQNNS4UyyF+1XF1jWwp6A5POPxoO9rEr8ZKWFnFgq0M8SBfdcdwm8pZ6vbe+u+FB\n",
       "pevYAVUe9Hta3RyHXEjH6+C4Iis5HO0jh+OOkfLerdHmzmx1E9T/t4jeFmBCQwrK+K0AGWkDLPzW\n",
       "9oF2FSfYUVXMT4jkFs81ly7z0WGz3fx/8ROyoSfRfeCuogdtWX1DnCc6Fu1ojvChgQE6bJrRru5T\n",
       "+rOvwjfymRLRa+7qFg6NRTr1mBIKyDA6iXXQmdtTFzXa3i/nh19Wz0MO+eegHPUVpJi/uIIeo2xr\n",
       "FJvqtdndeafKGqGYtIo5qiAWOnXKrHbAg+hzeFaViZj0+Xcho/2DJHLoMeMJGR57Gq71mGGc5E4D\n",
       "wc+o+vQTLvJAnFKAk/cpCCXNC/6cXt/E+uz1WYeuwfuU/+lJKqmvifuXsa0o+7F/iPjqdjI1XMA2\n",
       "dWkxDkKtzsqFO14Ze+T9YVwRSBj15r1xlVQ6nuffsDDO3rYSCmac5Yqr24Nj/Scq4+e1o3BKsUDo\n",
       "Jd6IeZQCmTgw6zbPxB6tnwcAyU7cPK1v4IjvH9xRoIuH4DQGlIjtF6wb92zo9zOwgt7QC0FVGuGZ\n",
       "uerLjt3c7ZysUlUWOdT15f5W7H0loRhp1e12WFjRDVwz1CvAlkElnGhfYI//SaIx/gE9XkbKWRCv\n",
       "BS44zVhpwLoNg8l6ht1B2/ZPPdhay2rfy4qYKeubI6wet30Tlz34j2JRRW/z10W5enMMVaHRAI+a\n",
       "K60b4rEVgC7HvjHjFo5qGX3Ob/9ZBRoYOlwgKNvkC6XI9jzyL/ruzAU0CSUefxu48/pRQp1FzACv\n",
       "Bvn5u6bC072qghPR4lbOinJNTRemRfAmvoIzxeN5EWm/Nb7+HMygqq48MXIAocGVhyVrYVXuYKC3\n",
       "vQ0sKCaikgB23+owedYBK0P6/PXQdXQKxjCDrQltp3XWe1lOHZaZKEQ5OXsQ+XPvoRfhNKvlzxD6\n",
       "94kK6yNeTFLGtyYEX0oW71Fm5xNu5qhxENMu9ewGSNYib0fnhwSrvwcdufdgMW1NReRVLTGCXwIQ\n",
       "EDsUVrkSVFZl+45AlV1T/Vt7n/yy8hu/+Lme59iRy4zNWy3BD7fMeGJDx/pU8/PLrTqbmCp3vQ42\n",
       "Y10uZKUG/DVmMoQ2QOPEyfXFuRKB1/4Gflogwt/oywtl1u/cHaoyPmFzp89paU9DQFGpRCbUvMcV\n",
       "FyljsgR6cbZeIEqzRP7U5Cmk1aFypezW99aOVDjECJOfx7Gyfjgg4X/SH4eJ3adIEn8OOVmhMYmJ\n",
       "+Sk5fAbcBJ0ftZfbXcSeC+PRNsgTgUUCZz9zXtuP0DT/C4hiMRC6DHIgskUAtwVuy35VhtTwtE0g\n",
       "2ngPVWKxD9SmiVvJRuaD6+m/vcREAlUBlYBXN4YHUcWAo4w7vYQptOqfLoQxfdh/Au2hFAY9Mo8O\n",
       "hrejVyBQe4zhpYjzqsYt6EoONPz4YoayjDtII1bEv+mSZZ9BqIv/Pxb4TqSWZ1OtH6e+IN5NpgrV\n",
       "bHztbIYiBMUe0SJ0/1cUmGFV/Fae7smJHIYpYYAHc6us4rj8HEb/4qPLLlHvU9vmwHSZMNzF8X80\n",
       "WyjrbdhkcdNPhSUrI+SM+ezlHfNH8fHaIcxD3oZdxMniDdDyHEUlGECwQwiKHUij/J4kwtB3wnEa\n",
       "ktPcHg5HKhPs305Mc89OPqxJk/47FZVqRSfBIo+gcTMZEzctrmW/+Yv0yBqRixV1elUbMb5F3U2p\n",
       "b8ZzxmtJ8Ig6Hcob0U9iZUpgIxkNmnhClXzdMqkyLnCzGLEBjBuxL8P/OLA129nOuxY5FHQjXX0U\n",
       "SdeJEWktojDNx/AkJyXjRSdiPkWZMWqUB2N3BNxtjvbBGErgPgTzt8XtdE2X1lji3DeMax2+qCPe\n",
       "Vock74TL6izmbAbXeio3rqdfSLti7mgSQFXk2HYD21Vi4LZvnh9P76LRaQ1NyALwJNyhgWESBtug\n",
       "OJdoli58FykyRtNxgJN66QF4tdgwNIcU5pWBsXVARb4Igilh9a10Ma1CL1TGswwHOpr+5dQ3Hy3p\n",
       "gOVQuDlQdzwK+S87OL+f0BUdv79S8S29W0vx1+rkSn0nmfwrNjA1fjFQTXPp0JISYc4xdgTYwQ/3\n",
       "Vk2Ve+k2pe8eG1DbwqC6MA4j/8nMxxR3ABF7VNtoA5odF0B00acU8EHf+n+3vW34Ogj89SsPeGzV\n",
       "BgaDWuEY6dCwAkW51hT7vR/v5G17XmQxbauY4i78SvqyAMyCFZKqjO6lEFMLmLdRd18249Sk5un2\n",
       "b+R4iWV0FT1mX0bnegPg/6oAzY5nC4KTEqAn0FM7iPgiUJ9529fMr7TVj7MCZ2dKrbpAIfWoXj76\n",
       "9poFn1bYUGjoBDbbP6ao7GnDGlB8Wm1EN1yMT5PAquLYlnDwtf6RmUqAjWvVVQ3Z+DGESUWCQKuv\n",
       "G6hPz+sOj/6bvsbm+lNxK1F3OWxXIQ+IDSBk42pLoJyYPFZ1JlbubOmePSSINdHoWnInlEUNt7k3\n",
       "hFFCqretU7/44ecw3jw3OdrWHXHi9sGf8YLOYFV8tRrxn5+GndzxtsIYFdvwPwJjznvT/QM8Zp7l\n",
       "3/GP/af/um43FrESS/UOurSOieMvQzCrrv2Eh/1b2NM3ALvUi0eHb47EbD1vI60iPbir0fchhzE1\n",
       "BwCNpOs59o3H9HNrbOWcvtbYt7jdaeyKVy2JtKRIoYGW9fwGghlAcDhcJm9NbiekRL+h4TzxCN+G\n",
       "FjyIAwaXxZhHyjHODRaqfwSIYXJa7PbNWuHMSZOWk0CIfQT7YbyPgVTbT1NIDaUvUYh/yHBCz0SZ\n",
       "jKpn/8YB41Vy0/c4mAQPVdSfKcQZn2ebYsiDBw/dcIyQ//axhHOGAZwG8ul4FLiCQ0i9+fGBR06I\n",
       "3W8KaIL00hI1GcjmASkcneK5cam3LxJmcbL0atSHXmwdE4Wy46GrWV6br8WKHE39gCwyje86FG05\n",
       "x7ES13ph2s7esXPDVyA9JWjACHMhraSV+f6DG6lDEFvc1KGRxAELCkNgQvE8zPn8IagX+daWmb2D\n",
       "If1DI0ZPb1mfeZyT/PHLbjyTzKK2om2poyt/kJLmrz84H/KeS9uFfrIz/DG6kKu47CrLwsOLesv2\n",
       "C0VnAT+lHc3AErLutCcgwwHFLehi+RzXQu8xe0lyvROtdyvrW8iij1m6virWHo7OjdpJmc/01t3W\n",
       "R87aokpVkoQoglmcyjt8D4jOuXzAOBUq/wkagCyLuPlz26Nx47XzIhl1VLofbVf7MMtt+PTmfSkk\n",
       "RK0SPjZBcgOgOxBYSj3O+HPCoBzt2d+hMe7wgZcbR9e0jPpQMCAzhLZF7irEn3CKYwJsywzpqLXq\n",
       "SDdKYef/yIOazq8v0BQA+Bs28m0+ARraXHVACkcYq7p4PzIqF/7113723wvZd4m4ENLBJJd5dHnK\n",
       "u9wcWUNrOuNg87WxxqmD1Uvxcks1zL1P/jRTkQxKW2jbqT6/Sz1AzhcQHUW3jtbkW8WfvA/+UfGH\n",
       "HRg1KINwDUb08SYD9kp+haQitDHRPhsgmhwkd8X4Vf2dDKKa/Yh0egRu9CqQnEyMv9eZ7iej5TT/\n",
       "BLAFS9ptBIxNhRfIJGQw/Pybb+sBFhvu3nmoVitI9whcIsSfFUTvevIElCRS41zkmbwQHwvdk2e0\n",
       "W89j37bGt/RgPjXNijMEMx72WspEtM41a1/Alo6tNipJNg6wkoOQ7DEO0O/6xrTkq3q0xq+NBUZx\n",
       "s2tKjTEfNNmDo0HCPz//9zxP1+8ly1kblED7iP2DuTc9NloIdrTV+T1vVDCKziQweLXfwld+D1z6\n",
       "vR5mzdQjwqWsQdgN9zzJzpgzSobWkd2uuMdaeBAe6bTVacW4OoqguWcJnmwXrKUEhFgBF+5KigVy\n",
       "LtutUrdX17WGNhIj9DLl88Lma48nxw7KknUH////0a7iiQXmnBUKTdKVri8326FNqUKPzuqGRFZp\n",
       "gOnZy5fkwmLyRac4wb/Sed0A5s4tiM7obS0LQR+3JVcVv1ZvNuKhi2lHIXNR7v/u0LCQigd369ij\n",
       "XqyoN7RwqiaCxKMw4myUi3F7vQe06C4hb4+iApjxhpINRtlgy1PEtihM7jk1YQFjb2DRv/yvCpP8\n",
       "FQU/WZSZCWzwak/TC5jwLG7Aw1LeR3ZU6pyEKxNuiI9YxE7H2ahTk2hcEWCKCKoCogU/9SRUZcxD\n",
       "/vTa+WCT+m6BxRz2G9LBqXYXHlJePfiUI292zTYt7hnIHHPZ+g2TNqlQh7XAtnUpf3C9YTIhFSAd\n",
       "U86m4Aj351hd1dpHOG/gu28FWmpbgCDmc9Xh6sJ1wS87ri6Zr6XvEybgBpg/w92I/LNxUZqPxuId\n",
       "v1duJeND+xazRtVQlJ1syH55n/bm45xXCxQE+U0EfopJh+pI2Om5ZYSaxP5ojdCjhpbdEPtSLo55\n",
       "t9jK9Flv/Kw7FrsDZjgzwKqwI7juYYI+SRYh3QSlWH9YACTbyvfqO60ZX1QJ7XHaosS9sxGGw3me\n",
       "ANUVuiS0S8OoQj7Hb47N3TP0TXzCEmBhfICVy3NtX1aXIQtiNoRsb2zBMYpY6/nwirdP2ZPzgOG5\n",
       "WJOkBG/KGShgCTGecgDGbl3RlcvGk77iig+ChlzmwtEXRTLm6cFevKav3rJgxt9USNxgk614Q/UI\n",
       "hAUGUAjs7pCB/MrATLrUGQoVqjDLAx+grnw8EcD+zNnckM9lO3cgsKVofLL9wJPpA1zaiC90088/\n",
       "O9HqSXayIOFsi58RulveglFNtJj3vcESFmbpDBk3ebr880/G7OFnrvH84KkwzJeihh9F6UFwvYdQ\n",
       "Wy5Pv4EIqJmvw9z/xAxVNmgTisCM6IZ+AdoBzqi3hLzkK5hei0TxHp9fieftp6/pdy1MavCUPuNl\n",
       "ENCJlMqoiUv4/KSuKcn8RkKBziA7fD0ILha8RFRqyczGTH+TfiguJ7DXYWp1uMKU8d8vq85SCF6f\n",
       "pG8z9fKT/5qBiJfipBhfYsi0//clGizOISCfs77L3SuBSf2aIyYG2kGA8jooUo1VMpB05yE4wSuu\n",
       "GXSc+ad9Tcv2von6Y4MVdwNZA8aFNjZMa9NnTNPTuL8+bSXHYcJSiIp9Me58/szFR97w1eC/aNT+\n",
       "xtrMMNxnPAkObz99OMlmQdz+nmfFVTrzC9LNqCBHG1m1uFN6lzI5T71MmbLEv2lMxM7S6dW2sIwZ\n",
       "4oDpZUWnra/8nXv+5lqkwDwzKlS4T2w/mW+TTyaYXpVafZKhXdPeW/v+8cVkikU28y7bVkzbrc6c\n",
       "VEkWg2JNJSjbVusVMkj0Kgyt5E7v+2TNy4bAoa0U79R3sm1piJDAJVxiX/1W4vXdhChSRMSob0cx\n",
       "AflZUgmqgdpe+fV3v/ZjfoJtQW7erOBfdmTJlP63ismjtjF/M2cVIMZQ+jVv1Gs22IsF47JdMbf/\n",
       "dWtBrQvgqTPGQNkSoZ99iRbsJ7GH9UF3bMe6kFnvLtHRk2bFo8bKh5Ob+GAUxN0Cn2RHWFWazO/S\n",
       "AHIIQC3JKTTfZ3IqeXCcJof5GQZwXs3NPAnB4O7P0hWqs2MTRaXV6cKnUbkSInVU5AN3LmXGwPxt\n",
       "zw7fXGl+7p8kNV6uwA1IQN9St0DLVj3ihoY09xi7J70qaavB17wWraJzB25MFF8z0ffpX/12ZhkG\n",
       "qTa/nfLWb0ofJazM6PMW8IsCREBBMhUUuefT0q/wfcPD/VupAN4507rRnJawMC/dKE3RGZPWSdqK\n",
       "a0h4NkYN22jDYCWMK5yA5tFwroW9JugFehYpd+kLbfJpN0u2xKeH82I+MKRF9Dy7xSrI0EwdeXBe\n",
       "/orOlO4Pcsf5pVxdZx4p2pDEPFtrIR5C1VGgUA5l+IcbxxQo7HCG2ZrN8DR9fLIyCRYNtj3D+Nc1\n",
       "NJ6pbF2Dm1uZfCrkO38AxQ4c5I9l0B9TMzLSFbSyRg8m8y173tzjgeHXAaI36Hw1c8tfKf5BfLsO\n",
       "fIXUngjz/Km1sap+uyyok2W5FvLRJbiHGnOunNG3OBsEapw+gy93K/OnaPtkzdiatUoyseifMC0d\n",
       "kH7KOTnlxCt8VleW8WtgxosMb8TIPCXYWYipyeGFXEEQk7ZVCfrZFTJee+JPIlgTeB2tCu/QUuul\n",
       "se2QPAp0o8fUEPduht1UBaLdTupIM51jvzHejE4qsfUkXgoefNSUJ1Rb7KGVTwAAAwAmoQAABSNB\n",
       "miRsQW/+1qVQAZTd6AAL86KMwQmu4Wu23dUM+B5m+WGtC1lKMA8chO2UOq4i6wQHOvD6x2pcQliP\n",
       "MMvPsufcfrrbY5T6EeBtHlGx1SGWoj3vhCTT3X6PWtcXeBgunmDEwSmChtj0OAcmfaHELCWQVObr\n",
       "iJosg5wqH1o+81S7/1g5v6mYHOktNrtlhSrveOVhebQxHz0nUGsMEOI5n6pELpOESa0OEU17GJTp\n",
       "SUuT/eHz9Cws9I++ebXytP6ujL/Y8T0AZLXFTpvJbhXXHQdiz+YR6Ad7SSuQmewOuk3WKd4LQ3bj\n",
       "K0LkEDj1F5zDJlsX6iW1yXq1+NZhh8x6K917PVMK/syQedvHUtlbNe65kOL2At3eFNgGT1Aq9bnQ\n",
       "FAc316ZwfbC5piXc0GqOzROEkl9TmHTn17VPX92Xk3zFF5LDV26TOuZqmIvXE2la4mTV8TcKclqP\n",
       "KZo96S4PmFDN1+BZTFIaeMUdIwqs82TAIQza3pX9ugSOi9XM9bZa3iEPj3m7hjnEAPaMgcTgi9Dy\n",
       "P2rxYswYYoYflTSlRpUzYHEm3EqMBznNZFbkKHB/io3XxpcCmTAGHZdLqoyd183RkARgSz+I0pHX\n",
       "jKQvFwQWwOqa8unVphX2cSE4244U7C+n/8KJCQmTx3vnH4gczA7oBGCwD6TDRi8PGrhJ8CgChLAG\n",
       "3X1FTWuLi8kX8O5XoZDXymvBJMowb2CRBd50ZJ53Q8dvafLE2ECukQDaQVKxy175d75wa/PJ5xg3\n",
       "g6ha+ZlLszlgJdmqj+SOd7dfZgcvduGLry4m9iS8GBHvcBkqKnmLmMA0XV2NyqrhT62KlXR7lLu5\n",
       "ttZd85sd8XnbWsjQX/NoBH+dqVkfLInVnAOLLgjtnVgiabvLW7ihgt3DVZ9R8gusyDTS9FJyqOZB\n",
       "iCwxLkqDCcZSx6ZPm6tRY/Q6ESGMD62koWqT1VSegL/fFfvhHUfkUPAal9ojSrt8hyb+iy77WGEK\n",
       "p2kS9pBAuLkfRNtTfXlOV9Z5lzYrjsz0haXoXBkGrmkjFCof4hQv3Q+uRxUrJ1wC4uHLTLkPFQ/T\n",
       "4m5kB0NzbpVIVo394bwFlpyA2fnkq84PZ143gA7psRbDfu0fmtxrwfs5OFU+ZPDnQ+7kQuBMntt+\n",
       "e0SlMTxdFvTn86yQN1q9wyAQoYyePyULXcyxNBuf7XHSNpKv9WxJOq/V+Ek82nSCPyRbZUcFaLwy\n",
       "2/jk5khxXR0Aqo2fBMA0U5HDTth814ZWO0yOdZKzwvhXXK/d4kcgH7VBGj7M5meSUkgWLCyObV7D\n",
       "XVzVfO/752fO+WIjv3Imy5eTcqe54PBGKRBeatixIDjQfX4W3CKuCsfPiz38aUEklu4G7uzCYDFR\n",
       "JJaa2HIsIdBoi3pgB77L2hNMUrL3JbPlh6QQmXnQ6/4XT8EsJkX8xV/IHDqhzdRMUByS74hrz2up\n",
       "LHd9KlNJk4Gky3hg29LIi6m1cevU6+l9BeFtdlFuqsrugoqZNwiTDbtrcWNEGTx5PmiAK5zQKNfa\n",
       "B+J3u0POJAH13XqSSAsxjQY2DnW1LE/fpvA9AFSX+jlhXyCj3Nqo2cFvBT4BvqE2v6PtOdPDtAwg\n",
       "jZ+ObY9iL/zx9L8jsR3hKdS8FK4bjjtsOUFkMnATcO38/VVyrM56nlxhm+Nn0k76V/cmontxYg55\n",
       "+t3uk0NeYCSuBvjS1kzg2No2TrIFKDXJHtDlZhWc4Pe+ov7l+GR6B1kQpoDTgDcZbwTyO1I8+Uey\n",
       "TN2wAAAATUGeQniCfwADeB+0oqyRzGb8VPqVe2ldZcBBNeMuATcDEB9GzAYAGVRmImEAFGwhsX5x\n",
       "455TAZIRkYn8lb4XGAkY0srszkRErPZbfIclAAAANwGeYXRBHwAHaWRSNRV9IGAwtbrTAoQFRxkY\n",
       "IdXaCCbzgO9UZdKLpblt74reaCHJ6fl63nMSXBAAAAB+AZ5jakEfAAAIqfgKfWlgANSLP79Ap88b\n",
       "q4Rpuost7LOaZJA/yVPJ06gnKb4UtVl7nLaA/G+IkkTjJ/5ALthXcvXkz2XaZz6HQ3vDQTg1m2u6\n",
       "+fPcg1A0jb7Jfz5JX2MYnUeoSaECO0VSU12Sl3rWw5jCd5zPfsMOzNO9VN2xAAAEjEGaaEmoQWiZ\n",
       "TAgt//7WpVABvOPUoAgpXq10UVEb6phXbAYPtR8rsf1euaMnsBAo+R1QtFxN6fJwzMPh7sofKB+I\n",
       "d9dE25Av4o77aWU+9L1SyAIS4QDSJi/zhnip9fwUz3NTkRXNXUUt8lAHDyhyvxQG58VDnvDgKmUb\n",
       "xAxwo+vS2oF6qF3XmA1R8vNFf1ZBcQZvd9AGz2BZbyCy+0GBSbdB4WbzW5mUlMMlvVtsEzT5g0XC\n",
       "vRpMywG592Jbyl19kQuoB2RpRWmSDYAXhA1PdefFd11EfmdRmG8++z3JoDcjjp3fwv+JPkEHv+O0\n",
       "o2VNbFmwXrQRH+q2XjZGAaTqbPvZfKQsouWoA4MSq42iiz9Nzyl0lxbMCQwZubJZZqvrUV3W85BF\n",
       "uXkMnX4P0hYQIMAPJgiBlvh3jvwvYEU6nliKvCVhtqoecKc4hf/11CDMrW32az7HYVtodf+yAfKM\n",
       "ooWTDWK/6Kc26Xx6k534QtdOTi8kpdZyPj5VKxxt7CP1NxVlcZ51jrarmcnU2VJ3TQikLMTMQ+7S\n",
       "E7UUdJrj6vVVrU6jbWouh+ZNmtwkk/APSaXIK4GAqhw3zQFNvUfOXbd9AjMrOMV4ezJ0+SZJ6Mrn\n",
       "H6ITNJsGYWWF4S3eIVGps71ZEaWSi5zT3k+84uz/7wfj/LQkeXukPKqBirp9xF95yxzHYo6WE8tV\n",
       "7Ack6e8hH8OggEUHuSuMnPgizrH5kZpbawfDQZPh60sk/jrNKDyNQ2HkCBGiGEt3TQtMawst9gFJ\n",
       "QjJNwxVg0gwhZLk1jFdVBta3h0fDR94DD302lpdL+xusuSbOsQW6PKL5mLx8u+zOgYKxD7/8tCC2\n",
       "17yqq0v0zaMlnmsjtT8mz2gyIlHFKTORD8vwGY2T/iHJFqLYLAh2Cg1/62p5HiXIMWzy7eTFzJq8\n",
       "dG4S1Fi+sTioBkRC/D9Ng1PRxjKu/2ykbUDwcaShvqo8gxGPA9zl9f+rz0P2rOY7N1d5soTlkgm6\n",
       "lSGxAYYr7bvQPJ/flUsZigCQLIPcBwHqTu0T3GzmtruZ99vDOjZlw+7gCsopknebqhW3V/63/P4T\n",
       "C7ijJQqMIXHWFycw8c1qtJbvPbhaJ+SqJ/DlKA7pl3QMLt64FRNZiUOridIclWP9YDXRmsz/37UA\n",
       "TBiw58QeCVvrxPGmOqhRY3mpYaT7dLm+eQI3rnH9v6A9Gs9OmzyZrdpUJHwpUpzbjvwGvoLxcstm\n",
       "cyeYX6R9xEb3s445aM1cUsxSm79/K4yfez8A2CGhqe7AIqkyLFsi3f6yasoq4tWhKLjqhdI28CpL\n",
       "YRfa6jQXu7ftyUYYMmgj3EUfGFnlZHc1IzmD4Nl7gru3goga3WWXSr4VjToNZo8jtNJXv4DO14rF\n",
       "5n0wkwybdLkHGozznWtHQqCt1w/uSo7U8cLEJHhefKwMsibziaLMh9v7LVvwQ36/mPrQQqWAX2xh\n",
       "q6zvkFPpl76SnvyhJPZe0y5QZ9ERign73B8DI5nM4ggOaeXaZ8eFnB2a3+9gsJWBsd9HyR6j+LL3\n",
       "sMlX+SGj6/7W8oFxYATF4QAAAIhBnoZFESwT/wAA9ARxSqvzlHkO3dxhH+HaOEq8hJGAAzTDJmlO\n",
       "93MCpirttq1KUTgLlVGAJ3KIFxM4Ak5bMeYHtShDOYVEHfVhVw/LieXPAQSztSWJsHlzX+fe4JoU\n",
       "o62KxTBd80yVPXQKfTVfkzN0nMm+sWa4vWY2y4sYhB0tF5emEVPRTSZRAAAAHgGepXRBHwAAEFJJ\n",
       "gsRetv2YhNpp6UmnYcMWPZJS8QAAADcBnqdqQR8AACGn4ClYol4skZVuTNREgAakEsA67pMVbPDN\n",
       "dhC7/Sn2SkO0sW6KVfhIbGDePDMwAAAE4UGarEmoQWyZTAgt//7WpVABnuPUoAgnojuyMtwFHo0A\n",
       "l7jqARnCNMQQm/fi/8GdSsSMVHehBAB5V+92kEiJNLx7BmlDh1PZ4iKwUgaiPH75h7u8e9riU8Z6\n",
       "st/QHSUZrIUdaj8AZDTSNWy+egwwo3UzVBeBU6vMOoPRX68mPLfpB4fb2491bqwz297LKABAMDI3\n",
       "xiEap10dTsdLhe8MLn+2W43BVru8WLf52U/5iNPruqZ1PZH4zf+vVxtoAUBC55Z9e1UV9Q/nvXeZ\n",
       "iWY7CUrB2jWEFGLiX7c/D3ZYBDH+p7NcViavz13Yyfb/b2/OI2ltdKxrhS4Eav1SQOJqLl/jsD1b\n",
       "7jGe3EZ+uGidIMX7wv9/M+pUuWHuGaJYw7ZkrFIRTkDc9y1oFzCoIA6EL+mMIdAjixt5M05nAh7E\n",
       "nbdMheG3ch3u3cD38UkMk8338WRE/V7/T9WzsCjJnSnwErxGiAe19KGc+aUdMwZNA09x3vkVhHa3\n",
       "NJOKIGNhQfKJhldIKhYaGR3sZGBK9FYhrWO7E5E/qqIF+Vqfn0ara0p47uG8l4l72L/LNvRgfgaG\n",
       "+Wmm0hjxEycDU6KEkjZ/RLoM/M2D7nqIvRv944d/ghJ3agY+ECAYBiicYP6Z2EPWOy71L8/mk7+D\n",
       "Rr6w/IOKn5QOS3utJKXNz3yWNYpw2YMO5BNBeqlTI/bP0MNn3IKQ509HjXy0t0ySaUFQAzOldwo6\n",
       "iR4soCpizeaWh5517UpaAZkeU9qLGfsuC+RRFN99Wn0ttjypn+W5iqNqDIH7yD8qRSDFPKgCfopM\n",
       "ZG1WPRX5EA1hwc8vojeB3YKGsjBPiRdEevF6WwUILap7HvG+XzcvDwrVbzJYTuq7Z0HkBW6+2bkW\n",
       "2J1IeG3OEtSvH88TOVxwyAApdJmPCRgmusqmJM5J+hEiUjJV/3tby3CKrZTN/4TZU2ntGYCGTuLp\n",
       "Bh5sxqOh4XZEX5cCyiR4qJFpxxoTgxpBW/fXVYi3W5jSmNIjRM2XLkjZqtTHgPsFwpvx3cflSXp/\n",
       "y2jFZ0xPGs2N25pGSZCEHqIrlO4ZvR+Q4OBUH0rJZnds9LYasDz1KYfoI9OkrJv/iOkVBS+w5ICA\n",
       "xj0sD4MVCDqZjzqLjosx2DgGPA6/Ddu4wJoFxkDhVffI365cyEV5+bt68PCz16JeELLv9qIoFnUd\n",
       "957O0gyFyzKwsPb4FICcp/kuPqOrPq5j4rTBDaXCBKeNvuMvdB1YAhSrtMt8b4p3Wfxqyy4zkCrS\n",
       "cL6xk/PBhiB/PaXN3ZjtyVSDTF6tgyYbH6/tTgagqaaTqGK/tHnKIAukP4Rxfne3t3+5VFpTN1y9\n",
       "fxNey+DxxQ7TKldTqYrkSfwR6dBl7hKSBk9TGMX8UeoNLIUMlaqDDfngfn6TwcqsSnoX8GBM1jFW\n",
       "4Y6XF9bBba7IKp67H9baMvepx3MdmZQHhwTtf+f/ODIcf+BkI+QjcP1resrVQpyFrTaxq7SeMnhG\n",
       "t5M+tOHVssyns34dEmlqbWx0yh0RjPNX3vPVTO0xs0YdYEzpMxVvjKeOFgss/vBwhds0IAGbiJDO\n",
       "ToSEwi4QDM+sIttXipkBLlgF/ThwTiDpDsUuZ3ouDHP+gfzmx9lO9VZ4tRjq7CroTo6By2j/lAo9\n",
       "fUXl5S8wX6BevJgDCzr2tCukMWAAAAA0QZ7KRRUsE/8AAD/4eGJ6+Ps/z2Z7WUTSGAfjeALyDRhy\n",
       "UY92wAG1bzZP6KxDhttg7sAu4QAAAGkBnul0QR8AACGklIO01x8D2QAIO7yyVAU+eNtXqJN9ORqt\n",
       "elSfykDc/xlI5xYAp3WA6GSNeT7REMHakbp3J1zMPPvUB/grQ2PPQSBbKR+yrx15h80mbPT7pgB+\n",
       "zzDjjrDdiDLc1zlKEfAAAAAnAZ7rakEfAAAhp+Anm8POpZJr9imLyzgitpCgCVWqeio2Q/YMEQg+\n",
       "AAADQEGa8EmoQWyZTAgt//7WpVABvOPUoAgqLKlPAXO5At+fcVBy8DFUVqTp9EQd9700k5fhcR79\n",
       "lohZySHDchpefnV613wesMGNmwoXSQXJDCEzqf+Tt03vHvlfa9JrUmx8WHQFL8QxecQmn8QtOdhn\n",
       "2Wd8lzuT3C7vpmfBHULEYWOiqRJ/krz5xH3md49ak3GA0oK7JMwA449hym1pZGIyGcaSuCP57LOH\n",
       "DQ++KkrcE1HME2l79IzzhLNyPEIRjjH3E+uqAWbzerMSkmx+fXaGhYcyep6OzqVcGGpEEr6NyeGD\n",
       "fGGOospCtpS5NgTi5QHiiS6fzJs3g8ZPI5QdLvdfEP1EPFHxVjQq/SXWJDbcK9Rl/HBZn0xpBJSL\n",
       "xqJcMZuUkdi767wt7/HaJpjNb/5NJb35jfM1rZNNEykkPyPQBtFffUhzpgimvrvnZBN6aEcPY36N\n",
       "SVWfV/GeYrqCAFFV8pfugL1pL2lAi+42w3UL0GOTPzV+io6svxJMMoerQJ785fmvpw0epJWxeAnc\n",
       "HL7XAd+ULZW2RTpcZPXX1/kX676J117u8WXcge7E1sGfMKRtUpo0wCakhaQIJRRtg/0U5YKgurE4\n",
       "sG2ofHFojS+uR9LBr9gxLZ4f8ERHEgheFr9mxOUWTivRvFbOEX8WQLXkiXVKmxlRmdf9nRH2B/YI\n",
       "OqoB+DSuxMmB3IosuvMPy+3rIiiqOohrlLNvwM+U2QWM+j7gC0okDdSs39GHzBf87KJ3EckqkAkb\n",
       "GVfpEmh4hWMXgeIGGq4551jGjTru21uPyJUv7Kxi18Z08j/pPt3wJTH33EpXtaIDWcRHRUDleo3q\n",
       "Aqo/cfTjow9I9A3tWDFyBJUw1ailqOxnix2aYBThiyL2jSauvCLhlJe5kohO6etOo4iBH+7EFJ/L\n",
       "kcID9Eooz760q5LIPE0TQqfuoeWW6UqrvSLrbRXJiTEeH2cXR6cOcBcAEwUXSMSRXes/QGnEgPRv\n",
       "N8YvXHZRcKZokp1YTeWpbt1MYXO9+xf/laQDGjyjZaQ7z479E6CqWNoe8pGJiyDSJhyhngyULQ1G\n",
       "C9DrABXpF7hZ025vXSBgGdixPCsYYuf0WIzWaDuWEUM20zAOOHEAAACUQZ8ORRUsE/8AA6RWGbhC\n",
       "b+yD5YBTgm9wknLtcEcA7+ABB3cTANB4NKcn8ijKjXSr1B6t5c0YYeI1SXw8/F/sVzMRKqoZutGN\n",
       "/bUtwppTAsnmtP2IjrqxTnMHANzM5Uc8TEQRN4IpCeyl78jyLQkad5FhoI3iVghnl3k8HltAkJd0\n",
       "lEEE5VI+CQglqPykuGZWONPPNwAAAC0Bny10QR8AACGklILhXMtKzNfCHKNCS6W7ZUhZy4UQT0dL\n",
       "hKrGcydpeo62HQcAAABOAZ8vakEfAAc+RH2gHgwcNaOlOW1ZABLGGt11ywB/vvlc1VIoUacBJMHw\n",
       "C7Lb8qw+oxVoMzxgThVgxfsdUrC6w8hHq1Axy7f/+DQKJyUXAAAE8kGbNEmoQWyZTAgt//7WpVAB\n",
       "suRzQAikCQzjLRylvdv0ZxTIxEApz0cDzJ45e1jQwgE6UjtWVdCE+esHxSpqks6BxFfObAItwwoE\n",
       "MFecjBKp6sbvf3P1/W+2ikutxUiLfytDCjuutD22bEhl+a3U0wSsSXeEJJU4Uxgvl/s5KTxJSMbc\n",
       "mq9tiuP/EXbwhQ/ICvOXuXLMRYbNtyUrtqeT21uaKmC4swvx/4/u/VMYeddV3Sfd+ksyjZXEyPvU\n",
       "2i8LQhInGVsJwwlCE3yAuDjDmZvSVLMRXVjZTUngQBD1REtrDkfJFQYelJAROkth+CrO9vS3nAok\n",
       "+gTkUBwIMyp/lFUjegxkw5TwHAS0nFYpn2PhScWZOKuHUgYdzm4Aikv7TQOqJTPH8tOccflow+z0\n",
       "VL5TJBCPw/1HaTRiiu4UAOzIqedze+yNShsgJd77R5JcwoQhCWbs4eK3UdBRhFCJ9DusM0wgZxYH\n",
       "wXyQtsa4qfEEVBmSojwGurgHLyAV9tR39Yh1mK247SLmcP6JLTit53PyiUVWrYmg0t5II6HkgczS\n",
       "GypxBMEYW/nnjh+uuRsppz8XTWBXLOA8kyLoWKqmRSGft1Eb9T/ydJeIdTTibZhNR/NkT7pGWw9T\n",
       "gTn/KkGaoCKSU1n4Kapok4ZSp4fD8xmeC2dYppFjTJnPG5FrQNI3vOlyIB6Kq7+ijpJwXQfevf84\n",
       "Z2EjxrD1Ooc+L0cgfiAAzbJjqsnovh2K1JZE6M+hpLCMp5bEqWDl7/7ldoEJBbARyOgK8mNDWv+J\n",
       "Pd/rvhVoR7nmr+pMAbPT3Ud69vPsUYQw6+oZyhpTQ1gNGkN1RXu8dIw+i+qiVzD4KheaEr4Yrxt6\n",
       "4lIsyR/xWju7rIE5agecC3/Q7a6OQwsquSJO8bCFPzACaqf2UaSmQ91tEG08Swl+jiXPT0xnJKyi\n",
       "1ag5kz1m5a0B/+4rI2kNMRntRAjLn/TLn8m6SedlNRvfp7V8q3aczrr/2BfQKX2RahRw5NYsbA7O\n",
       "xH7AQFHzfnH6G4VKuNHR/06sduh8RgNL9fGFjC6N0gs4/WQ2swQz5rUL2MBhK1kKJtgoFQ9IwRYF\n",
       "HCVmqSRCz6vwrjuK3V4CaWxtpuQ5XWLqFuo3xEyvbaamD0IQObaVCpc9wCJXMWWd9QSw+isWcxLs\n",
       "uqBN5ApBykZbbkjJG0TRVLZHw1yV1LbmQXQtkdtHwetmJLmQ9wzxX6TgBW8pr9a1kF58YLkYxjXN\n",
       "EIFtBCUyzUg2PyIjot2OYiZjst6g0oEEaSSoquelMADA0SQ68wKm/IGQy6QUxLkGrzni1+uhk061\n",
       "R6kllYnf99oAijvZRLXcRfb3ffNCUjNlkVrjOFPlzvqESmLXrlZ/mU8pIYCD16paJLGBjpcR6CB2\n",
       "6+s72DVBSyBs1NQFYP/8bWgpCOnt1uku1aVYDCPoWHtPu5T0wpEHjN9XbEn41O5HbgGHwqDIe0u4\n",
       "tAPJNe33A6fksUzZRM/ErSF4Pw5k1HQt/5lraFub8t4VXGgDIPJ4nrrBoYZj69mYSK6LYNLXatwV\n",
       "qtF1b8f2mU5SVxG8gjhv8pLuw78kWeDlS+9bZ3qpj/vmw2UvDSi1zHxtol3tQZkfmtpB9h7O22Tm\n",
       "XfDDe2BhQFBKIUT37rVORMZqR3BFaVIPTu3r3f/nTRCDMyKbfclFldWwROSyM81M95mYsAAAAD5B\n",
       "n1JFFSwT/wADpEQAxPCgOrRGmvt+UIB4i5/tL+s+oVzO9thegAWhazl32+bEr+pQ1td0DaOK+n/9\n",
       "t590gQAAAIABn3F0QR8ABz2osR+muuA9kACDvD5g+h1UK/3Zhm9MWH/OcKpQpzja6fdlz+v7gU3M\n",
       "gPzAf5uwvdKmKWsHQgPj3yhTOLajqv4x6p7/8jY4T2gEcUnS6m+0eNDLSBY9C4mhGTBDPoxg+b5w\n",
       "AdihFvgVmRJFMnP0byGNQOV5BsLQAwAAAC4Bn3NqQR8ABz5EfxB4NjiK1l25sSx6RwAQ20254Pvq\n",
       "S+ztPzr/tQeEFz9RSibgAAAEKEGbeEmoQWyZTAgt//7WpVABvOPUoAgaweEieob9aQiZVOcvcyja\n",
       "gpuR5MDI0zEEu4c2QW2wHoLf52VDyCVefp9elphJKPCSCICUW3FE+nGq+ZLBC6eTX/YSU5qmFYNS\n",
       "b2Q1xStBOSgXfi7WofUW5mJWAldP3ZJHTUqXWL/h8a0POrZDoxOZ4zW/TMZf6pA7id8caizjad0C\n",
       "hNmK7TCQ1T1bwrqkqIdQvAN0GmSJqvxHjOjygX5qXL3klde9Ryv6zr1G+fg5+sPC0r8ADaQ2iA4o\n",
       "5P8GFEjrL0h1q712jLRhDt5q4Lg47cD6n+GsiSIgYB6R8ZZ2A6o1bBxFeWV4PT8TJ1xucuWzJIeW\n",
       "WGf8TdnF++qp7BMOmbO2EXWYVDZi0ubj6bfZCJWYsA7udOtrtZs+CmAaifxFOlbJ3cNiHWltPJUU\n",
       "zMOBG08Z7InuB3mt49IY+UrEA48lR+EoYPezOKKVk31y0xih1j4+1ZXm5thy2d8UgbdXwqpYTlJ8\n",
       "vn0rXLV6OWgDuy0i8OGUJuijyRhJbMsK4Hv9WmQ6Y7oH+vzg2NpVMr5/Cgh/FzLCL8IHpXU9uLPu\n",
       "Q7eYO3OmUMscuuXWiPuSTzgttPuic2y45KHgfHiLwGqfOgcmMN53dWNC7w5XAR4ES+jqxTBPAkvL\n",
       "TgZ0pJSKxCXRz+BQr3udt0x1kMIAXQqD4JmYAm0QaM8sR+dqvM9rfSNXXsRyo5uFKznR8lJSbbAQ\n",
       "1bYLhu1Q1WNpIBaeKThlHMRBw3Go29AngvsZIjzREsI247c5PWelC7Oc/IhDSqjPSpkxLiv5nsTI\n",
       "GjtPrWWPQ5TRDtGy7hWjLGtYiIQLAlnCGvXOzhjOYViBuVY3dljbRKX19TizDZYzQOJBzaomC2tO\n",
       "bz++KlD7EpjBsMB/+WQ5DDjHbjmwAS3DPbsdzzkgylChIeKURo46BVysFOhRRHN3F2t21cajw5am\n",
       "7IfaKMNKMfUMVaHAJxh+tWQEgvgEkSUATOOdcktO0XsAFZ5IHiIsP5o3ZnXqyMqnZGYc69yCExMA\n",
       "9ph3mbOkkTj/noIxHkxch2XoJHnWGBoOp9K/58IjclESIQRHvoEoh/8fLc0hlhCaIjxoA+QzhF+8\n",
       "8zESntwVQyeaUOKZwg7Cm2CeWNmawp5U218hQ/99jBDQtryqouEItEIU2cGpTmhwdvbDLuTQLojx\n",
       "MxovbTVtrSl0RLdr6lUN28D95dtgAxqqElc/EGf7p3i61eCa7ym2AxDfzwFw5zxjXycnk4hGPBb1\n",
       "xF0XOiG1wZ+ItASdWQd00f+9pCv/k5RzW8QLnlZF+SLDT5LC31IgPwMhaQ+kh3y30dkbFCZKCIH2\n",
       "xIUsMnnLSh7ZbtvlLvxYBC73phki28ISDWQdOsEjVTkipf8aFDAbwNVVH7pjkTm0aBvQpKIlLhNx\n",
       "AAAAM0GflkUVLBP/AAOkRAMv+WoHfXuCCBq5a9Aq3ZE+H5HfHzE1rKRfu/vVGNOLtjGROBMvYAAA\n",
       "ADIBn7V0QR8ABz2os3tCnteACDuh3SDbF7MdWKE/dXWpcPLH7hOVCuukdBMAWNghREMqywAAAIMB\n",
       "n7dqQR8ABz5EoMokAB7ZB4iPa1/WcIECw/h9fl2GZouZJ6OoOaL5a2co3GZLKxmRLfyYoX1c53PO\n",
       "PMPZ5V2YIgBCQyGSdWUaFxbNKtcTjGFHZ68mZhqg7MACzxmmVkMJluSblxQn5hrgD0/GFOANxoXc\n",
       "nZvGSXTny0TSv4ie3qSfpwAAA4hBm7xJqEFsmUwILf/+1qVQAbzj1+IBIKMG9S4el8Iy9Oi3fz0B\n",
       "Aa8ZcmDfi25Kj1udAUBzfXpnB9pJSEH3ZbGqOzRVTIjiTBhx/ZCGm/cJsm1h4lAw+ayTvcSJ81qR\n",
       "EN2ugaQ5P62DjJZiX7hFguUDvioDHZBsqfBBv8OBkwbXf4/IeN9I0HH0IceRzUsZZHMkP2fp4Jok\n",
       "1IEt8PZOjh7EsCNkehMsotT898cyYlNPMyBSYnhDTpVN9765XzG2YXLUGpQV0dmBO4hEgHlJTtFY\n",
       "tfeTi7GLoLBS0e/zuuMZ5BcLCq/e+r+oSFqInEpXnKvBgWzl4heLp6V06sTl4di4n4hC5ZOjniNB\n",
       "xzXY5O9r5ny7e6jmiw7e5Xtn4Hop4Iv2Ub2idwoLFI8iKu4ap9lSESOoa34KoRi4pxfpy/uPusGb\n",
       "Th+U52DtEjPxjgxA5Ya9RHylRJV77hD/1YA9dkRKuipeCfTpCPP4LTBoR0MiRY3prld2LEvGJ0UD\n",
       "Y4wuNY1rltrCmwGQkB3AjM983CPVyt83apQ6kUii9p43MrcG2pUhahrZTJfSERbaEDieU1DeJSP+\n",
       "noTyb9IerhLiKQ3YzsGEIqkM+EVB9AbWWlDnVaTjiWCUOm27v/PmEEHt+VVeisLOvRWo7evrx0nm\n",
       "+CSOwZxDGve2MlH/ZvzI9xwF4meRgSrjxVApz+DGyT++UhSJFwPzfXW96VfUUTJ5t5/3rlNHakig\n",
       "JNXc9FoBqYauas1nba0i9C5FxTGdearaKBw0yw3Y4Nvtk28EM0wZYYLAlTZ0EU2CYNgmr9eAKYED\n",
       "/gI9t4Zw+QdQ8fpQkaO5qViv3t2BJNE1jK/OgLnZ6HBLyUQ9O5677FGrBXppvEjrFb8AHYZBczOz\n",
       "zCRu/HDjR/8G0k5k9HIiD4E/iAvff7CzYgKcCh9h2bkf1kLtseZsFBIrg3pXUqrQI138U1LnPwyz\n",
       "braW8WIzIjHkLpMFyHXVU6kjhvTNi+XqKwxw0p6uCvCCNL+mUtXxpvNwi5jkJXHAusYjmP07dary\n",
       "CnDxZjf9Yp2VxnoqatPVis/ZWWlDT1NKsqeoNiu1z5ik6jbPYCT2n7gextFsrqKujbURKhT1yyeV\n",
       "9vmDnHIvd1kmzvsa4dbJ7wqFxbRLX0r+jqdr1QC4KXkHsQINWEuvsu4EpcMHfIu0KmsdSKliyVlO\n",
       "4RMck5RYVy1ogrFgAAAAL0Gf2kUVLBP/AAPQVhKZXmh+F8URbpWGOu+LA9f8pMPkRyB+yWhiNsqw\n",
       "6hDTVoqTAAAAfQGf+XRBHwAHPahquwAHtkH6Xj6wI1y4YtIG8BaBWBzRem/CJCVSwsrGeBkJVYdF\n",
       "OPLvshjlxSLxKj5nBObsijzTjXh6y7FF8ecaXdNZsIi2NbdFFosVMibLHcWaMoR5vLVMheLuXXHN\n",
       "2m1Dw8bggOTw3ZFdesdbUCYkWjo+AAAAKQGf+2pBHwAHlYbfZ2exbrF1R5cAIQXFhGKos2NUzno+\n",
       "qpbAPcB8j1NxAAADFEGb4EmoQWyZTAgt//7WpVABvOPUoAgT5JagWclOhprhcpGzX9P74cC7+Lox\n",
       "jmmLrzdBXokhivuUemU5zOIlzJhZw4S0UdT7N0CaGoxNd/2uYirs82d3PZp8UnVwvwM54fAsbTKR\n",
       "WYZ2CZd0xrtM/HJ+Hx9ZjU+ilzhiK96W6KUAkj2Nu/o7n0Q+XtDJjO8KiabW+bukrmnYjR3Fddmg\n",
       "9Vu95NPoisCsGQ2WR5y38Pevit4Lr3el6jM40ALHHIJmMs/R+NEcdNwj3np7tOGWLm9DSzb8acMJ\n",
       "8uMsLwP1HG5AQQ3EjK1eQHA9csSjvugOSrHTaYJoD8IZbdvpFKs40h5sRm3k3VT8vf5eeU94GQse\n",
       "SByYHWwccwlWB9OrqxTqLsXWuZEW1D2VVyc+1aaSIEj+hdo6OxGSPWGjyoyUM43QLPpTfa/iOrKY\n",
       "BGHQQDJFFxAVe7XjwDSt20UxSqcHKPivgJr0G/ZDjLZCBuphVWtK92IMXvIprnYZdklOXNSpXH3n\n",
       "ZJD1s2SgVkt4BnkXzLQaa761n2px9v9kes9u4dzUwYs4wJnlnZPkr0U7ygYBm/r5PzkfZhQD+m4A\n",
       "IHmV0a9D+eEIry+wU5tOQYhqEgKkTktvdKadz7Xrviy5LVaoq74pwVn+0qBak5maxfb2KVWuYnQm\n",
       "AkZUcH8XGGNt+z0Z51VvhenKehU/Ut/KhfFRNGSTR0hDz1oYXXg48x9sL7PBfqFWAHFdy7pMe3p1\n",
       "tkRL+xFRZNlHlUwXq3H9bZdQm0moTw1bwfPMi5FCHAQgOJaYKBCoAALB7qJSaziTNKDlcMiYgzmi\n",
       "p7ef9dCGseKwkHqi4qeb52VU0M8iAmv9Ky+wqu+H5/l6c+CscJC+0pJpIN+ZaN1DULMu9R5YUMyu\n",
       "r6TWpAddppjjbDN6/nn3VJCJuxsn9fW/Q2SmDH/xf6fWoqfboqOLDtvJ5EWYCat/IJ8FCeNEk9tN\n",
       "dOMdeE/3cDCPdTrXndfSFjb4zNuycRpeBAflHRuDPpEay+Zoqp4djK/sMjWtDGpySdFzYLsAMKdP\n",
       "ECbhAAAAYEGeHkUVLBP/AANkR8NxXEyoMHZi/CiHzJIAHLw7OwRGEKA8GHoPJqvVX6SXOJza2rho\n",
       "vEi7SX6JObhTkQS1NsbFspasAO3J9c4v8M8vMdEV1gc8I6wgcKpmfFpZO1sZ8AAAADYBnj10QR8A\n",
       "Br3JpFi6U6Z8HDUcAEBdDukG2L1Wbo9NkF1P6pfA0gXk2jW3LNISyFHE0fLfoSMAAABBAZ4/akEf\n",
       "AAa+SS4eDBvpMQkF+/zhgAakXmDaUtUtHjBkKqqfwNPx1ohDGI4AChC53WAjR0BqfsMKKa+3eP/T\n",
       "Mh8AAAL1QZokSahBbJlMCC3//talUAGy5HNABYTsw3PNVQtL9H5+5EmjKOlpbMaiF48sMSh/rcXN\n",
       "iyOzEoUVgM7jvL4spYcSzu0e1ZsWur1k/il1LviuQNLCKN7PpQD/BWGeH59k4E4truRmNaEV+KEP\n",
       "WP8JGk9HYCudoyAFfDvmpW/OI5Xp0A1DflAO4WSuDNFqJD/fUPapej1OPqhP6stotnFkqKysGLFY\n",
       "PeZ4iB0UBImpNyur2Wb8mnT0IT3RNN4Gmjqjz2eQ9F4m1/PzThdX0QyjwBjL1jNWHVmAwfQ1VItm\n",
       "UqMI2SlxeW2cT8/pFrvqsabE0EvzTv5sDspvB8ocPMQDNJOCoZx6/WgqDY2tazIhD9jrJOyEaIXW\n",
       "H5awtwgBio0TJYb3hGYmXO/TromYDjimBFwP+/JprleOsA8vmiI0p2vXEjIpTYnwNo08Or0XYUCE\n",
       "Kup8qUmkQtvB7Vz6OmMN2wwjEmJ112dmxfY6AxZhsHNc+bWnUIiJ4UJDZX/v9YCMj2kPc3KE3bgp\n",
       "nSGugs3CAbuz5iyqjn4jlgbJgmfnjLjNPTScELHogfLBw0m/Gf/cedbJp/QKTB6j9DUa+74yaJXu\n",
       "qvdITkoSeVNFEFpe/FXi8M3u47o9/GY8oaBg+4Ez3SSU+IyQooRmAPkdGzQhGueAWGiuBsPh/F+v\n",
       "+2krOrgHXLZVexFj68EDlcXdZfLjCWphBLAgCqZdPPeZzyxeH1SlV2N11yx6CSPqbnvYlWwA0Yg2\n",
       "KjARVFI9GSYHgCCUNsQxJjIT7aw4gK/fFMRW/ZgkE4cPDQnQCXWaUb3grhV5y6dFoH+nnHiRJBtF\n",
       "lzBu0sXLAqK+wt7VM4c8HKnlvZyGrVLh3IVcTmDulKXDNCRYNZlHJZ6I3LQxBvIMncfoSDCxpV5o\n",
       "ZzSmIfvxnPWgovWvR8sZJ1LsmwN/368K2HEGHslG5dWCEuKaqz2hLZ9DUmsN5dmTdzbbFESK6hlM\n",
       "W0zIsX8UMBJ1cI+6xAt3lAZnAVhbQAAAAGZBnkJFFSwT/wADZEfDcVxGUWSDG4xv04AEINmSsbib\n",
       "K/vM/kj+2SHr0vU4pDVI9+otvoWvEUzCNZL87SzJX/eHn30N7jJhDD1JE3EQwkFd756r7AEh/GgF\n",
       "gFL/JYlN2jxn6qRAsnEAAAAkAZ5hdEEfAAa9yaRYuKJdUkZ8u2EBWjq8D6vlt73DRwTm9HHdAAAA\n",
       "MAGeY2pBHwAGvkkuHgwIek1KH/iIaWwcJ7igAmTDW665YA/6LYclTQAX+0dIr79gQQAAAfRBmmhJ\n",
       "qEFsmUwILf/+1qVQAbzj1KAIKi3/9uHcgW+J+ErM4qCNRMEkkxtIG2deH5kfAcYPsVMKly001HOT\n",
       "KDge6l5EAsBKaBKGg1Odag2CC4hxgA1yK9rr7YL43avcPyL8CWC7aniji6sPnosLzl8U+eaoFqjD\n",
       "Dyj+m13RIPdZrD+I5MPk8Q2jM6es0OiONA7fTZwjsf4L35XYecrvagmeAwh3PkPFkQVZNZhGbTNP\n",
       "rUSZR6m3Sh9OlBnW3bOzTbV58+CRHTaGwW6aKAoaXCiTP9g1xRAO2RTPOvhUMtYgmlkjPdbraeeE\n",
       "IT1/XtpirVJPNsfG69USLSxpntVBILlQHefAUGgf6XnTFQxQ2X0y9Rvur/dp9ZIrSypS10leADnn\n",
       "ynmXcHCe/wOBvkGAsl66gth720Kwqz6q3xJiMhUj9WksX1cYWz1KuY1GOEbV+j47fqsSW4caJdU+\n",
       "i4pHUpucGq8QWx/ay7/VmBEZ5eF9JDjXhVy4BG3KxfAEkxYTCQTVnyCW/E54vR0PQliTALpiZerg\n",
       "ys3bEVYBUUDAI6EsWCza8k2wzACQIG1WEmXHxq4kicQPyy6wa11U23Mk/by+RbIJMW1hLFA9ClKx\n",
       "x1fbFWGBursinB7aDsfjlS9oVQscMh8E8Q8tUdqJTD9pcmEL0daBNwAAAG1BnoZFFSwT/wADZEfD\n",
       "cVxFKpORRBiziczUF8zAAbIG8pL4fYRkjBy146ZhwPgkHtXXOfIlu6UCsmxO4y7nwgr10jVvFvBE\n",
       "GHmeYGrqrNj6jgo7HPPDHuwl6zJbzQQLAfdRV7Qg6RipfnCDl9JxAAAAPwGepXRBHwAGvcmkWLkc\n",
       "46EpJoB/ysAENR7SWzHj7/eQDTLUXCYenuH/H82uBjODu4WrT/SO+r3XivSJ19F/EwAAAFEBnqdq\n",
       "QR8ABr5JLh4MDlSYe5oADUi8wg75NPKO4okBCrxxvDAbY7GDKHCnzEkwq9yAGapdhS2cB8eD2nQK\n",
       "i9HFqXVFLaRL9bJNL/FgxJ7zKmAAAAPnQZqsSahBbJlMCC3//talUAGe49SgBf7QUF6yihb1tV3Y\n",
       "JVgiqDzLXwQLNxtjuRlyryqDiOgMj+fsqdlpkwB2b2SjIGs1ZC4LaTbVKpl2xvDsehMPyt9Y6x67\n",
       "4x3uVCl9eKTXi+EdNBCivX+wxjbk1XtsVx/4fAsbjvP7w+h1kXlaQVrlELFxHDx1rMh9n7nbojMp\n",
       "thPEuedhZ7dmckGpmWFfTVbLx/co4okYZ9LDKWdt3o0usEHWDdA4YDGqjlHKxkb9BV9j2pAaxVmV\n",
       "I8aFJg0a99LcT1FV0kHRVM4bCXUCkNd2egSWPJCGFjdb8axs4mNbTl4yzlQ+19ks+I17Arr+qAh4\n",
       "CfuGNQh2qA2CsJNO9YlXifUE7chqexT19nLzkU9iLHgpQ8ceP0TBtOarCE29sxnuvJlLlbo3Hn3W\n",
       "v6HM9e4jTJA8zMrmiR8yQ1sikB5Wt2AmtOsJTBHAge3v28nItRqp0lMLwEczrmodLcPl5fEj58yJ\n",
       "4/pDJjdlE+WqV6oQHr0Maa3Loctia5lP/dRrX0qQAQXBMZfzQUB/l3diBPaR3M1HCrzaiMoUL2l4\n",
       "RB+uZt4KZkHkgTfKl9FztUun3yM88Qqli3yxalA4agxiAVuqcqucBB4C+mOuDyBnP75cWxjfAGYg\n",
       "DCbjegyFWxGOderxLi/kVy62oon6fQCR+N5lLUIl9rkM+E1dKB61zIcA64D3Pu6e8+OBdCkpVQ3Q\n",
       "VUGJ0aFh83hKWHP9bMbiCE/YnN5rbq8D9mnUTTPNTB9HNxMMY1KjofJ2UjDuo62VUsfFp330mstf\n",
       "GNZQT84xljMJdKBnb6qmF0NlboAGSCN+Uwu7oS2+CFZiTjPdavdiZbosAKnlpQfUvnrR4LT2XzbO\n",
       "VGgUm/8EHyur4b6H63y/a9GoaFPsrnj6g8Q5nj3g91mSMJLVP7t4DEbWLgaTLNNFZWh/QrwdPPU6\n",
       "m+ggb3r3b++s1P/VxEzLo8Q4Cfc0dRc5YIQZ0VHFBboKdjBEtpW2eSb9liFIdh8zLexeQxnmsAf4\n",
       "ZweH3zpWBvUf4eIPAzToyp0zRtSxO3dV381e6HPqkkh559NmrLnrdjzBTZBMdxpYAy7cOcsMRLTV\n",
       "sh1zvGKf74xLnycObYiKPe1APUc4Mgjsgqzvq5YTkKoergTGpXkqCC/39keJFaZZV9vHliZ756TU\n",
       "i7Yv13TrQX6ABIC0pDWpgA2nFpjG3mc5qch7vSgHHzSHFAgDHlb0fZgB59hJ2F3ZOLhq8PFBeSvV\n",
       "+mNbtu3XSiTUOEtDdM48lYFeegDLh9p2rp+VuZOOa1macIKBvFLOJQpGmAnl2yuJdUN44B7QAAAA\n",
       "XEGeykUVLBP/AAOkVh+zLz0YRBlQHwobRpoAC6Kycrft/YDPiKQ9EAh+gSvQeuRxkdsgAPSRr87a\n",
       "4tG76bD8Z/rMxUlnVfdFb9ejEpfwjJrn2al9AcCtz2wSAFBBAAAAHAGe6XRBHwAGvcmkWLiRvKqk\n",
       "qAiE1CGLx9LAiW0AAAAyAZ7rakEfAAc+RKR3QnWCAQfwo5NAAgLod0g3jKNa920gQMR8FZT9lIcq\n",
       "WbtquO6OyoAAAANMQZrwSahBbJlMCC3//talUAG849SgBel2Bo5sejFqRTed/QJJjHDjJgpu6xp/\n",
       "OD5Fs0Tglqj1udF4gWXevTN/Ktq2p0h/+n1oabAO0OwyKMp6BRv7IQ035iZ3s/XBxk22Cc/84qVV\n",
       "MlaWp187NTZ3GWlhyJEJNBiHillTAat8oP90TRjUyWoNgNPEaTPyav/NeW2+Qttqt88yvd8HELRY\n",
       "qNEcxD5A+9VyCO+HjJ+dChQxjrjtlY6L9VKfQBGo0/JGzeUfMKvWwGNHG9YiS0Xd/TMVCqevcUl/\n",
       "PPf9cqV0TAOUtUFRgd76wE7yhGShm8sp7b+1iR/EbL4dbr9ijf9vYG+32ZT81a4+f+ybyop7IoOe\n",
       "YnKZ8kueiyRlHbnFNF0aOldB+QrLjdc2DeUpzgv+LpX/n8Uy4Ak5j0ruaLOahjkHUiwLwhN3iqow\n",
       "EvjZnd93aF0g7AGlLwCVjOiDIV0Fzs9gsAIooTCQrwz5RZqCp3KH5sq3O7D/F3OjQJkcQfvHzYtb\n",
       "BLrJxXeu0ZcLTWkcucF2SPlRanaqC0KemmAHiyh3lCDnDqJ+INI+jFaXAzHeiMryYZ/ruNxkPB93\n",
       "KathnX1HkTKT8d/aqkKmNzg4/7aBDCpLKaIly8nzzMKA9PN4LJIfDm1NOiGSvoErY2gmfyPBocHn\n",
       "pISZIDyGbytk4CEg6Xn/soAS4C/ZlWRsr4mWv5aAGw/MlloVHtUjXYEx3CEkgH1S8eZvXtcdam9n\n",
       "Od3OwngLURLk5pVxE3/T+F1/lBH2UyqauKgib2OT9GxR6bkjT03sOo801Hr8ZdovlKqGBABO1aAz\n",
       "rlhht8DrNLgOi50fUZBkd9gysvD9KFFY8TUOFT+UqoYaMBVaLHcllZnw0uyJsPGDeFMt8quux15Z\n",
       "yiiH62913B8KjBGeUbEu/EhJybdMYMg4oJhshUj0U/OmCH6HDqAaUDYWzzRRYEpR1AYmS3oaFXnE\n",
       "/QntTKc+QHOU22PwHVHfr+QmaOlCQpSqEMkiUfvw8ZVcMxmgppjUeNoxB1SItTKSBBEJKqYLCAIN\n",
       "JZEcxruUwGj0+DNSAZafrPTxE3vcMSlHxmEZntGWW5I6PSqvI0ADAmkOjM/bKyWhMAQylRITpfYF\n",
       "tQAAAERBnw5FFSwT/wAEH9SGDiVMYgAmSzAIfRZo2O5I2wYqLqQApXSlc8XQ1z37PJVP0m4lHCPN\n",
       "+nZjBh3BhWWTX+m2jmUOpQAAADYBny10QR8AB5dRABMlxCYDdXjyNEaVrBSG6Tw4bxXCL1yBcsoa\n",
       "jaazlKhLtwwAma2sn20l7ZkAAACNAZ8vakEfAAgo8lwAmTD3kM5YEc0JFtgEUZsKqvMXww2nlf55\n",
       "2qSOvq7qX219JeHjH1uS/77uzfLzvY2OVtGyxGZi6EoewVxjj3lXSArusol47uV8qwIPK5YvjKcv\n",
       "OeVtti4vbHBoZZcJ9TpvtfNj0vKRL9NN1BKb5JP3cDWWiIFuS4E7xtkBrstQUTO6AAADXkGbNEmo\n",
       "QWyZTAgt//7WpVABvOOxgA47stCZtwiwyhAqhkhM253k5MKwHZqvZQOP6aSP0OflW4+0vzf99vQu\n",
       "zm7gcoRP5t1TG1Se9DrD2gNGX8jbOVcmW8UbfnzixEHDGYyMwcqYzI6mYeBLm5epq78EV//xjszn\n",
       "QOZxVoM8EsmNuuTz8vQH9RFTqM7Q/KWV2oNC3glBgXe6N8+27ex332D8eAUIu7/ydW5yWUc7fVvd\n",
       "W82fk7NokbKeJmdap+3OZEJXyKI5HpvCme18tHf4Srk54iiMIIonhVjOrtAtcKPleHWfYIvrOlcT\n",
       "AHKjGDEeLxR+ZveWjqtwr/UbHNED8qPvvdMP/uJfA/sqsY8Oy8t5nDvtrAz4/9f9FUmb/xAVq0jX\n",
       "H1BxDC4Bl1HO1R89FvsfCFkEBFF9TLeBGV0+oXET0sCIZvt5R2DmqbqJaU6JfHmn4hJ5UUKf+vHX\n",
       "WCSerPAyqhRBL24E8+5oRKMJY86pK+/sB+Sq3Aw+sxj5xIR9iGB5Ku1xm2/vxPlio28IrQHuYwhT\n",
       "57a2SdVE8mp4wcG1uWIX0LSPKQ04eSiW/1/kwvBqeLDIs1o7c2tzHyNNanZk76+x308Q/vKkgZL6\n",
       "eBS8voU4qGSNDJ8BC2WWTUp5/JB6wz35Uv3Cx+42VsQzU7v5eVAedRJVK1wsfE6qfxiKncEv71Yu\n",
       "mczc2m5/x/4EmlX1Tc2H8Y0Vlut9mFeyrepCFeOk6gTOkkskzamx7Q9/vEA8RmAWvILiC32eOqZU\n",
       "w7XCYY6Jz4Z1Eh+8q0Ckb0A/m5X8c2SJxnlQtAS0yT2ARKm/2MPxSa/0vMVIUNR/9WHveTX3algU\n",
       "BWmbJ24f4Ww/yD6pdbzAneUIk1mTJ7XLF0HfsoECygZeMQ/+3NEqXiDH7pjrkzMV+qYm5jux8Tsm\n",
       "gErPVFkl+bZxS/FFTZmLWfIedet0Y0odjTRxtrUc73UODYAMnaAJ/UQC9pyyUYm8LDz2K+leb6UY\n",
       "oKnX/R5PPjPH8Ul4k/GI2jNG1siIwiJdY4dETlBuhuFfO/jsfFvHLo430GNRkFb06g+8ZPtloGhy\n",
       "rvj8yP0qcPXFfAZDLvqI1jYS7tI9MlZsOFarRE5RAtP51sT/AlkLYjPFPzO8myZrl4Qfi/K5ezYw\n",
       "S7gAAAArQZ9SRRUsE/8ABH+HaWHupUadOqDC7Y57/v6IWdSTtbVRpRFAXOqbzqBgQQAAABsBn3F0\n",
       "QR8ACOkkwWovfjlhKuuCkTdGjJqGZQcAAAAcAZ9zakEfAAfCRH+j1Q8kVZXTERKLumnEE9zjgAAA\n",
       "ApxBm3hJqEFsmUwILf/+1qVQAbLkh2QAhDpobByoff8fchTRx+z2/vUnA7bCPz/fLJLVPfIQgByr\n",
       "fLuArrs/jUDIqXd7aO6pOAmjWXICjYYS5XC+uKEZ0LeUTT2cyOcRkEb34Y5OJlp6q2071lO0fZr3\n",
       "muJSdWE9wCboxD/0ZNpB6zwcqg1cdIU/EdVM11rC9/FaNJh4hSKWbB/M/VTKvx+4yRGM/7jBPtrh\n",
       "+G2uX5Lc8OlvHH+Ha/t3dLX2J19L5TBNFuR2UeNYIqrNKfbWsdU1MnhTU/gS5rDO/bVsAUVjz2EG\n",
       "60ESxsnPmJL6aBFoUoCzigIN3ORdZnDa/ZcjVsl+BuiYNbMigzBJkEqrwDSwRdMpNIo1ywkQTvlI\n",
       "Nghj9xG6iNqXipu50jAS/ZNAEC2xD1npRO9T9eBpSBW1IDJ/T3PGoUPrgt09uHlzqiQyc+EM6dzf\n",
       "dhyjX+NPvZsEV8htL+7ZGMiSfgmovLxFcLqvCwEyf2ToKOdC4J3NJ6LOCY47zO6BGHq3+ba6ITWg\n",
       "Yf7iNBa4zwlHdRHFCFSQQc2OIIIuiO6pqxLVecath+D/wAOC0Xlf7iEAS1KH9KIQxgO9uDYN80LF\n",
       "2l0DdcZwl76PAKi5NQHA+g7p4YewbE52thjQuB6Yr3FHmbY0RQjb906uaXDxtQtJnU00+SqNuuhq\n",
       "GIYtXUq5l2ryT4yazQMjwgMjsosVn+QKLrCTNsTjkRvFdO9tmBf7tdeQaz9rrKG8EiTmXBRnb9Pg\n",
       "JPqDpsPOyR2yGC9obJMZV2QXal81dgwSGuArUGYeT1Y81bcaPBRpQ13sbmrZvGtyRj6hq3DwelSd\n",
       "AWbmRgDWYFByC5lSTCQKfyL79V/Ti2xwXl9vcy7YkDmKm3BKkDlz1dF4IQAAADpBn5ZFFSwT/wAE\n",
       "X4eZevMcGVtA5INACgcsNw/Ga2iZiZGX6YAFcPNLq/14kEWZ7vGK4eQN+onzkrZgAAAAMQGftXRB\n",
       "HwAHwai5qIcWw4VUJqAEHeGMyPwmljMBWWIv8Hx9G5ozyi/Bd9NGP+pgyL0AAAAjAZ+3akEfAAfC\n",
       "RH1krw/8cABAPOmoqGDCH5aJfTFSv2yQgqsAAAHYQZu8SahBbJlMCC3//talUADecepQAcH1NMjL\n",
       "l4JIwcusBRNrKYardBuOyKof6I9j+1x3010K3j0IofbUQPqapRrGvz5K3ZNkWuEMfm21yTy/n0UY\n",
       "eVvtmc3Z8HpD2HoBl9rgu/MePMyL1WO6InzG5Gd4MtrskxuvLceS2ZSykDhuo2zsasfhSDoj+vTU\n",
       "ypUP/vLqNAH2Njy3mIxSPYZWDeAl7jX3yDPwdTKTA9kOOjKvdqBdKW7Bs8llE46W/ufpVI56EweB\n",
       "QXXoJr7xJ4Y0970QyHNav8nbsWecPRDrbAFnt0gZAVpS+TGbfW0tSBPc5F7iiNbW7KqlJ0x3FbgE\n",
       "T1zcQfkgu2yN1nk92H7IWJwMO8wO+jlyznEbNKShLitV38Oj2PixM4VjiiIIz6njcjnBR3idYfrO\n",
       "qgEWool0NLIhIJRVyCkiFK6coIOdjRGGvWWGwMWPjCnnu077GYMDx9h74K3lisVkWxb/RjleC6q1\n",
       "3JXDISgziaQo9c+HyaHMs9zJq1RZ8O0yGoclsT+BaTgfv1ufydUTO4iFO7tB0Z7bpMd6xCeHHkTr\n",
       "QLJm/LXDQsF8Cewak0Am9XDjcIgrD16jwPmydFiQPY1JIDacp3SLSJzE5wGxeQAAAGhBn9pFFSwT\n",
       "/wAD5kQBGmOKXLeWD2Sgm0sTwAplpxVjIkIAWJbRni2+izZVmAG6WlsZeMLoREPeHnkGf7ocI0+4\n",
       "AebEImNHWLMZawG9sxPCp2dKe5tZpfAkjdUMQcOulOumQxAppfqoGQAAAC0Bn/l0QR8AB8GosMUO\n",
       "XQg4gmpz87O+8AEHeD9p4dSHvu+RXeMcHLlh3v/d3MwAAAAxAZ/7akEfAAfCRIC1FKGS6xPn4AJY\n",
       "soRg2xe7dwq2hUvtCU7zDt9cOjFYyTZW1nD2EQAAAYtBm+BJqEFsmUwILf/+1qVQAbzj1KAEb+vR\n",
       "7ILqG/Wf5wdlLyBVGCb0cIowosp6d3yJmWv7/2rql8zUO7/AIIXHc2f5E+MPB3Z6beeK8Wi79RzA\n",
       "zn30jQ696nsnK4/yKEzHJgDjd2MEGc2XGvqBE2qXm5eNuvResIX7Lvs7/er47jmgMZueguf2DzgH\n",
       "eSLt1Hg2kXl47waqc+WZdUT8MMf2aUqVzN+fPr7DacS4Digm6zNVilEh4VnUhWpVkfSTXEpu9pR9\n",
       "xS9HnzKBHyQFE0eI5pISvq34/q1s3hhm+ZijwZKZKepstgmtMvZj80k1f2G8iqhyHbyxGZaSXFdj\n",
       "t49UIq9jn1pTBRP2km0ak8EiQykgoE5Cip8IJMXX3htu10NfQcaK1VbqvH0JgJWJBEVJOSl8oYDB\n",
       "GMqmCndZu/cv4A14JzyDLghbzGDXmItfe8BvROxTHNsCbmNKKxVnLkwVGKwK1qqb11Q1ix1HITv2\n",
       "DBXIUKacggrINMHOwZvXpJvHeTaJcnxmnIkCpwAAAClBnh5FFSwT/wAD5kQA2SZAvKpDiW2ln7yh\n",
       "2Dyk6mq31xthGs6ujoTnTAAAACsBnj10QR8AB8GotZ61voTMACAvBEk46aI3vKSejQfxqk/DXwm+\n",
       "sjnPWJqgAAAAGQGeP2pBHwAHwkSAtRTLG68Xjv47dho5QRsAAACxQZokSahBbJlMCCv//talUAG8\n",
       "4NYAFK/NqY/cjtmiQrcd2o4fbi11XFbiTgDSAhnulpfqjUGdJdjq/vmTC7x84EpGQeEnk3/N5oj0\n",
       "P6sU9wJpYqbTyMbowmTkmDeuXtwSWGjrqhRV2mjUf68ToHEsvYIcPLd7gFjFQsIDH+PxZPWccZa+\n",
       "Zuzb5BoXo6BX+/db360I4Xyfr1C95nKR2W1JHNVcKVrzxFFFVtnPLbqR2D4YAAAAOEGeQkUVLBP/\n",
       "AASAToALQnhzjSvq06y15HoXCKxM8eDTLEHSZEFOJyhnJ+qOwm5mOGg0t5XRcAf5AAAANgGeYXRB\n",
       "HwAI63AALE9ywBun9iy/7QnAgcEBVAF3FkpBM1jVRkcz/V6gWdcz+W4m0W64aTEnTAAAABkBnmNq\n",
       "QR8AAxwY5xjyEOON8ivDdSdgKvxZAAAAg0GaaEmoQWyZTAgr//7WpVABsuDoAAFsUVjsySRPw8HN\n",
       "VNIq2EIb9ZbHoM8EwF/+rHIlaMfDPQOjXpKgww+XRURbI88SCck+hbeREnCHqUeQCrz7inkTdwnO\n",
       "e0BlaTfL9CxuMKzG8ra32u4uW7w1wJAoXD6+Ovupe/NPwrNzf594nnh5AAAAJ0GehkUVLBP/AAPe\n",
       "UEyq1viPsGYgVUKVADPPMopZH23YFM+qupKi/wAAABkBnqV0QR8AB8GotZ61w169IZ7/inVgeDRh\n",
       "AAAAEwGep2pBHwAHwkSAtRSgT0RCV1AAAACLQZqsSahBbJlMCCn//taMsAG83PAAA4Z5CCVBV64D\n",
       "QTEO6ozecjuM/pF1jGvTSvTM5Ma8TvwnAYGDlYiQ4Z74oyL9UGWqBHRmbwJXyBSL8XkKkSTE5oLr\n",
       "qq/eTVj0l/DNo+ujQn/G7paRANDFigDcusQfOaf/Cfw9+yqmf/jhhWFW958GKy/CHhQvmAAAACRB\n",
       "nspFFSwT/wAD5kQA2SZAOH9eWib1Z4sp3v5LlpETpQx6HVEAAAAXAZ7pdEEfAAfBqLWetbmH6oxz\n",
       "fdR3/eAAAAATAZ7rakEfAAfCRIC1FKBPREJXUAAAABRBmvBJqEFsmUwIJ//+tSqAAAAesQAAACBB\n",
       "nw5FFSwT/wAD5kQA2SZAlrLNl6otSgrHSzyCmT6HZwAAABMBny10QR8AB8GotZ61uJ6CGa6hAAAA\n",
       "EwGfL2pBHwAHwkSAtRSgT0RCV1AAAAAUQZsxSahBbJlMCCP//rUqgAAAHrAAAAcFbW9vdgAAAGxt\n",
       "dmhkAAAAAAAAAAAAAAAAAAAD6AAAdOoAAQAAAQAAAAAAAAAAAAAAAAEAAAAAAAAAAAAAAAAAAAAB\n",
       "AAAAAAAAAAAAAAAAAABAAAAAAAAAAAAAAAAAAAAAAAAAAAAAAAAAAAAAAAAAAgAABi90cmFrAAAA\n",
       "XHRraGQAAAADAAAAAAAAAAAAAAABAAAAAAAAdOoAAAAAAAAAAAAAAAAAAAAAAAEAAAAAAAAAAAAA\n",
       "AAAAAAABAAAAAAAAAAAAAAAAAABAAAAAAbAAAAEgAAAAAAAkZWR0cwAAABxlbHN0AAAAAAAAAAEA\n",
       "AHTqAAAkgAABAAAAAAWnbWRpYQAAACBtZGhkAAAAAAAAAAAAAAAAAAAyAAAF2IBVxAAAAAAALWhk\n",
       "bHIAAAAAAAAAAHZpZGUAAAAAAAAAAAAAAABWaWRlb0hhbmRsZXIAAAAFUm1pbmYAAAAUdm1oZAAA\n",
       "AAEAAAAAAAAAAAAAACRkaW5mAAAAHGRyZWYAAAAAAAAAAQAAAAx1cmwgAAAAAQAABRJzdGJsAAAA\n",
       "snN0c2QAAAAAAAAAAQAAAKJhdmMxAAAAAAAAAAEAAAAAAAAAAAAAAAAAAAAAAbABIABIAAAASAAA\n",
       "AAAAAAABAAAAAAAAAAAAAAAAAAAAAAAAAAAAAAAAAAAAAAAAAAAAGP//AAAAMGF2Y0MBZAAV/+EA\n",
       "F2dkABWs2UGwloQAAAMBJAAABkA8WLZYAQAGaOvjyyLAAAAAHHV1aWRraEDyXyRPxbo5pRvPAyPz\n",
       "AAAAAAAAABhzdHRzAAAAAAAAAAEAAABSAAASQAAAABRzdHNzAAAAAAAAAAEAAAABAAACoGN0dHMA\n",
       "AAAAAAAAUgAAAAEAACSAAAAAAQAAW0AAAAABAAAkgAAAAAEAAAAAAAAAAQAAEkAAAAABAABbQAAA\n",
       "AAEAACSAAAAAAQAAAAAAAAABAAASQAAAAAEAAFtAAAAAAQAAJIAAAAABAAAAAAAAAAEAABJAAAAA\n",
       "AQAAW0AAAAABAAAkgAAAAAEAAAAAAAAAAQAAEkAAAAABAABbQAAAAAEAACSAAAAAAQAAAAAAAAAB\n",
       "AAASQAAAAAEAAFtAAAAAAQAAJIAAAAABAAAAAAAAAAEAABJAAAAAAQAAW0AAAAABAAAkgAAAAAEA\n",
       "AAAAAAAAAQAAEkAAAAABAABbQAAAAAEAACSAAAAAAQAAAAAAAAABAAASQAAAAAEAAFtAAAAAAQAA\n",
       "JIAAAAABAAAAAAAAAAEAABJAAAAAAQAAW0AAAAABAAAkgAAAAAEAAAAAAAAAAQAAEkAAAAABAABb\n",
       "QAAAAAEAACSAAAAAAQAAAAAAAAABAAASQAAAAAEAAFtAAAAAAQAAJIAAAAABAAAAAAAAAAEAABJA\n",
       "AAAAAQAAW0AAAAABAAAkgAAAAAEAAAAAAAAAAQAAEkAAAAABAABbQAAAAAEAACSAAAAAAQAAAAAA\n",
       "AAABAAASQAAAAAEAAFtAAAAAAQAAJIAAAAABAAAAAAAAAAEAABJAAAAAAQAAW0AAAAABAAAkgAAA\n",
       "AAEAAAAAAAAAAQAAEkAAAAABAABbQAAAAAEAACSAAAAAAQAAAAAAAAABAAASQAAAAAEAAFtAAAAA\n",
       "AQAAJIAAAAABAAAAAAAAAAEAABJAAAAAAQAAW0AAAAABAAAkgAAAAAEAAAAAAAAAAQAAEkAAAAAB\n",
       "AABbQAAAAAEAACSAAAAAAQAAAAAAAAABAAASQAAAAAEAACSAAAAAHHN0c2MAAAAAAAAAAQAAAAEA\n",
       "AABSAAAAAQAAAVxzdHN6AAAAAAAAAAAAAABSAAAcwQAABScAAABRAAAAOwAAAIIAAASQAAAAjAAA\n",
       "ACIAAAA7AAAE5QAAADgAAABtAAAAKwAAA0QAAACYAAAAMQAAAFIAAAT2AAAAQgAAAIQAAAAyAAAE\n",
       "LAAAADcAAAA2AAAAhwAAA4wAAAAzAAAAgQAAAC0AAAMYAAAAZAAAADoAAABFAAAC+QAAAGoAAAAo\n",
       "AAAANAAAAfgAAABxAAAAQwAAAFUAAAPrAAAAYAAAACAAAAA2AAADUAAAAEgAAAA6AAAAkQAAA2IA\n",
       "AAAvAAAAHwAAACAAAAKgAAAAPgAAADUAAAAnAAAB3AAAAGwAAAAxAAAANQAAAY8AAAAtAAAALwAA\n",
       "AB0AAAC1AAAAPAAAADoAAAAdAAAAhwAAACsAAAAdAAAAFwAAAI8AAAAoAAAAGwAAABcAAAAYAAAA\n",
       "JAAAABcAAAAXAAAAGAAAABRzdGNvAAAAAAAAAAEAAAAsAAAAYnVkdGEAAABabWV0YQAAAAAAAAAh\n",
       "aGRscgAAAAAAAAAAbWRpcmFwcGwAAAAAAAAAAAAAAAAtaWxzdAAAACWpdG9vAAAAHWRhdGEAAAAB\n",
       "AAAAAExhdmY1Ny40Mi4xMDA=\n",
       "\">\n",
       "  Your browser does not support the video tag.\n",
       "</video>"
      ],
      "text/plain": [
       "<IPython.core.display.HTML object>"
      ]
     },
     "execution_count": 44,
     "metadata": {},
     "output_type": "execute_result"
    },
    {
     "data": {
      "image/png": "[encoded data removed]",
      "text/plain": [
       "<matplotlib.figure.Figure at 0xb50cd68>"
      ]
     },
     "metadata": {},
     "output_type": "display_data"
    }
   ],
   "source": [
    "show_animation()"
   ]
  },
  {
   "cell_type": "markdown",
   "metadata": {
    "collapsed": true
   },
   "source": [
    "## LIFO vs FIFO\n"
   ]
  },
  {
   "cell_type": "code",
   "execution_count": 45,
   "metadata": {
    "collapsed": false
   },
   "outputs": [],
   "source": [
    "def connected_FIFO(source,target,G):\n",
    "    added = [False for i in range(len(G))]\n",
    "    added[source] = True\n",
    "    to_visit = [source] # to visit: list of vertices that are definitely connected to the source\n",
    "    while to_visit:\n",
    "        i = to_visit.pop(0) # remove first element\n",
    "        if i==target:\n",
    "            return True\n",
    "        for j in G[i]:\n",
    "            if not added[j]:\n",
    "                added[j] = True\n",
    "                to_visit.append(j)\n",
    "    return False\n",
    "    "
   ]
  },
  {
   "cell_type": "code",
   "execution_count": 46,
   "metadata": {
    "collapsed": true
   },
   "outputs": [],
   "source": [
    "def connected_FIFO_viz(source,target,G, layout_method = None):\n",
    "    initialize_animation(G,my_layout_method=layout_method)\n",
    "    added = [False for i in range(len(G))]\n",
    "    added[source] = True\n",
    "    to_visit = [source] # to visit: list of vertices that are definitely connected to the source\n",
    "    while to_visit:\n",
    "        step_pc() # count how many times the while loop is executed\n",
    "        i = to_visit.pop(0) # remove first element\n",
    "        color(i,'r') # red: observed\n",
    "        if i==target:\n",
    "            return True\n",
    "        for j in G[i]:\n",
    "            if not added[j]:\n",
    "                added[j] = True\n",
    "                to_visit.append(j)\n",
    "                color(j,'g') # green: added to queue\n",
    "    return False"
   ]
  },
  {
   "cell_type": "code",
   "execution_count": 47,
   "metadata": {
    "collapsed": false
   },
   "outputs": [
    {
     "name": "stdout",
     "output_type": "stream",
     "text": [
      "saving..\n",
      "rendering..\n"
     ]
    },
    {
     "data": {
      "text/html": [
       "<video width=\"432.0\" height=\"288.0\" controls autoplay>\n",
       "  <source type=\"video/mp4\" src=\"data:video/mp4;base64,AAAAHGZ0eXBNNFYgAAACAGlzb21pc28yYXZjMQAAAAhmcmVlAABh7W1kYXQAAAKtBgX//6ncRem9\n",
       "5tlIt5Ys2CDZI+7veDI2NCAtIGNvcmUgMTQ4IHIyNzA1IDNmNWVkNTYgLSBILjI2NC9NUEVHLTQg\n",
       "QVZDIGNvZGVjIC0gQ29weWxlZnQgMjAwMy0yMDE2IC0gaHR0cDovL3d3dy52aWRlb2xhbi5vcmcv\n",
       "eDI2NC5odG1sIC0gb3B0aW9uczogY2FiYWM9MSByZWY9MyBkZWJsb2NrPTE6MDowIGFuYWx5c2U9\n",
       "MHgzOjB4MTEzIG1lPWhleCBzdWJtZT03IHBzeT0xIHBzeV9yZD0xLjAwOjAuMDAgbWl4ZWRfcmVm\n",
       "PTEgbWVfcmFuZ2U9MTYgY2hyb21hX21lPTEgdHJlbGxpcz0xIDh4OGRjdD0xIGNxbT0wIGRlYWR6\n",
       "b25lPTIxLDExIGZhc3RfcHNraXA9MSBjaHJvbWFfcXBfb2Zmc2V0PS0yIHRocmVhZHM9NiBsb29r\n",
       "YWhlYWRfdGhyZWFkcz0xIHNsaWNlZF90aHJlYWRzPTAgbnI9MCBkZWNpbWF0ZT0xIGludGVybGFj\n",
       "ZWQ9MCBibHVyYXlfY29tcGF0PTAgY29uc3RyYWluZWRfaW50cmE9MCBiZnJhbWVzPTMgYl9weXJh\n",
       "bWlkPTIgYl9hZGFwdD0xIGJfYmlhcz0wIGRpcmVjdD0xIHdlaWdodGI9MSBvcGVuX2dvcD0wIHdl\n",
       "aWdodHA9MiBrZXlpbnQ9MjUwIGtleWludF9taW49MSBzY2VuZWN1dD00MCBpbnRyYV9yZWZyZXNo\n",
       "PTAgcmNfbG9va2FoZWFkPTQwIHJjPWNyZiBtYnRyZWU9MSBjcmY9MjMuMCBxY29tcD0wLjYwIHFw\n",
       "bWluPTAgcXBtYXg9NjkgcXBzdGVwPTQgaXBfcmF0aW89MS40MCBhcT0xOjEuMDAAgAAAG1tliIQA\n",
       "F//+99S3zLLtU2+2C6j3op4mX0N1JQGblsTtOoAAAAMABnddzdfZ7UFwH2gAB4wACcFk/4SGPiAZ\n",
       "RwFZjNGYuzK9JcQfotCtmNPKmlwBgNTh0/1sEC/tNWav5XmDBjnsp8uaGSc7beh4+mVyymVDqVYY\n",
       "NhrQJfheSABUI8GjXCUorVV5hG1AUqzL7gwtwubaXcW4dGebtFJUN9gQQU9+MkErLy/0JXZ7iZrN\n",
       "ubaE1KfxReg3q4ugvHUb6kMKbpDj0t/dVDLwLb9Fd73FJlFoemMepX1XWFO3aWqSX/+B5WTU+J/x\n",
       "cu2rTHUKNDTkygSQ6lVeWhe29JbQUGNT+iez+tm1MvdXUN5dJpPLE4JfkquViBJ4pM1uSxquP++n\n",
       "Lfh20gCaT2MyJY2u65nc1AdRCoVNSgcKKmXC5iZCVNTpCCTeq49QNlHfcyBAM0Y+LUX8YVv+SWWd\n",
       "PWVXajel1mWPWRwRjIaV5/guE927pGfDQ391d3TJ1NXCM56/msVydZRLNdrBZnKWVj/L4X0IaSGa\n",
       "pzgZFC46PAX5Lb8JGVuKoM8OLgFeIFzPmdEslKk4nZjdIfHza5S5HHfQZSFs9cBepxySn4K4MdBX\n",
       "DolHztWG7aH6Msk52LdB8++mqYl9Fl0h+3FQt+tso5NbTvtA7fSSJ5YE/VrDPeejEsjCmdOQJP0B\n",
       "wsfEPvd87hNf8rjMBqAvBq0Db6+pZxUcEp0JWUAR/T3MHg3WIwndk7gumDza+CQc0llUeHo53aJm\n",
       "lkrj8HI7f+dZhS+X/3KZEoxKncmqr2O5w917l+DilkVivBY4AQ87+g/A3N8mcS5eKVBB8VW3EXt4\n",
       "pEeEFTIQOTS//Vp3R12NvCjRe7AluKgWkZ5FjtNlKy+omFE+ib09mZi0hgarAssHx90TTDHi1kZN\n",
       "ijX3WhlcLb4yRbvv5nfRD00TIpZF2z06xiHL1hQPEJNlO3/wUWUHs58JqxKVeILanjy3FuDb0JEh\n",
       "G32i2EDb/v/ao06IvhZ2XmQFN9kXldwfewM9NVqTcIDDVqp3frzzHdNjlo57PH3Wa4IZzw4pDBvV\n",
       "bZriPm1bYf0E0x/P+wKS6kQea7LIr323sxmSBwrC8XAxQxn6SsraLyGP/o8GcPol5zNYJHkAZJ3w\n",
       "085ztkHE2TGgPXctWeT/DE6yNLNa/cZgk9Kl6ox6UxHEJi4niFSkhxxZEt24xDs/yYbP9/qZ5Rxf\n",
       "2k0EYcTBI2rPUVhVBRnPWD8dDAeb+rPgbVp38m++szNSc/do9a1H46TSmG1z6P/SK1SISi42Cfxd\n",
       "sGQvIK4eL1h6Ledsvwf+tuANd5/Wk7XEnMhm/2uxjtXd0RAIPMJyQ2isZWxQtU5sc9k+HMQPQ5Yg\n",
       "r4105BfdNYkA9tWYc0POuLXDJRH7Jgnooaf9vnm99VbwIcgleYXUeAJ40AvBjv4woWWu3xQ4RJA4\n",
       "kU5l2v3zcMpXubCrl/C3ahhgrI9JgsuYw/fv7u+ep5VyA8iv612G3tr////yuKjwxLGahX2IuZZN\n",
       "AuXvkhNWXMs76QUS+2wZ2LH9Yqk5Wyios4ReeOPHDJLmsV3Shwjn1NrOO3ysqiZ6545eq29MuFyk\n",
       "GVPhnCtxgi9Pey8jjLdAx6YO85SS2YMTdopeX/rJgglPl0mLMtkGp60bpZEZxCjgeHEkIIE2ZpmY\n",
       "XY0bShi7QNmiIvMHCfs/J75DsNRNTuB//zAf4KCqvIEPF+bNy45q9EoJ2j6vHiya0HxQrbW2+E/g\n",
       "ho5UlHs1qAfO4qaLJnc2exSPyPjSB25EUyC9qF3VoB8BEaNvsLskDrq4GaS0IAqpdtj1brgTAXHT\n",
       "bSo2ZwibWHzz2I0aK59h2P7vfJgZmJpIWHY+c5/giq4b28cmYPrZXAqD8bg5rEiqOwkKtRG8x9mZ\n",
       "Q0tHRCIC0Bvkg8FUWXJGBjWDOj8ksDG80MdEiPySNQHuPcRoA6WNQofag0RqP9eP0I4Etvy+6cMF\n",
       "4mV6mbqQrJbXJIsQ37X6nwJoT9BGklIP/fvxHYqzd6HimhsDZCla88bpTJ5hCoGnOYBSS1S3g2Bc\n",
       "pM0dTPEpkcdrYs8+M7enkqMNtbzdjtFWo/EFbX862+5PXlZU7vnzbrjb3HsO1EPIj8SLJt2nceAW\n",
       "KU5HfCEN4umlrlKjm7dYRPhpI1OjlntW/uMzrkqOBS324/76L9qQuc0b742Qgg2POqcnd07DxriB\n",
       "t7i86XS0614KwyY5Q+ObJ5HhbUub8ZzzcvtSERLeoow5+q8sqnNw2lxO8yhqL81mXTPsyGxn9WCB\n",
       "lc/anyRdm6RmsACkAly9howHJXhEP3Q+A1ZTLwOEHiwlRHCVhbBihL357J57xUtrZ3qiiPbm7Cho\n",
       "WwiEjwJCg5iHai56W9aHsnwH5i3uqdJrBvKHu/JYRjYnCstsJbBVF2XBbyHS2/VH3ZmdSTQpAq3m\n",
       "5e0xpEq9/d9ISwtKGEOENGE6+fS63UF7OscBL81FhCgdCe1dKagZu39FBdv1/21eMY4E/6MdfEbn\n",
       "7vw7UeljJv01q4f5EiVAWAp2p4bemT6Jb1T8qRDX/ypkqifN//9pS4ifSNRqeeJ6Ovmqe0zxWfHA\n",
       "wRtmb2WJk/YQF0mkhKzABnh550K5kblvzD2r+VM9Ao71+we9UVMw7HZ6KEINs2hst7/psu3pKOv2\n",
       "30amox8NwSL4Ogml6nVkoAL9GW1ycJYf710b0FcX5+BQ3xzYz8aqhDS3SrJzpTNra1iVDzdIIVRB\n",
       "s+iXoJo81WGPDbfHX6QmL0lkre0tzaw19djUkdyc2JbLoIFS1XYA91b4xBfCLXsjx260ghpLetsi\n",
       "pJtGWwwPx/V/qgDMp5JIy4kCZIOykhzL9AFrrwI98/yVgUhXvIt+ax4psI7qfd238ZkKTrh6f5b6\n",
       "TWsZG05DxI7GWi0WbmzQkYQfGm8hDCwJvQFq014nqt2d/D8a5Qnf5YT6t/9J3n6OCDOtzZO7oEHl\n",
       "4w0KDTkRQVlWtLzYKwEUq/SWUx6GAzjs61gbWt7RkEft1/NTTV47NO0zUO/lQYB1q9WHGcQ6vZi3\n",
       "vwDrAK3V8NCrZ7bTp+EWkfDThh/bZp+YJpAAA2Yoqgn8N7rTu84DVGA37PHAw2KhM6ouM6gPwPR8\n",
       "GmWC1IVI6dH9vTUM7cf8tc6+ZYqKpIKhqMdzIrqSqlWt+OOdjAAdURnsbPQfg/Q0gdmJbppHh+qu\n",
       "msdU/jft623VRT+97SsAMDuGdxwXe9RV31xxmMesPjzSaxMZZiTZfoRjxa86lmtBnLpLIUlDU08W\n",
       "X9axo+FNpmSp3rr10AebbdJhnjvEeudoSoNQOZZyBSzEvmZes582169mBkiR7UXrn2Fbsg+VQa0i\n",
       "4I3POz+/1YVonWUUw5MsAyfg08nzQVlUC3YRBlUDNsXZpyaviVKpWMFPPuAas5IB9WbwyiAPhspw\n",
       "QxcgfQ3h1T7th5/hf8TyPuxztS+q4g6pKFw+CodFUURN/GcqLmo4tEvj4SKX/ecb7f0BhKs9btUC\n",
       "4XYWef7K9BZ+2xSFxq7kR2kv07j6JIcW3IyClbzMnA/xfsBP8ZJ1QNlsts5+5OAcgWZS9irwsoKU\n",
       "oqVQO5F4hK6JUKIUATsuA2uoPQDb481BQzaGR5vv26Z7Kx0measw+khmTfT+3SgBNhySaL0Y61ZG\n",
       "lJziVvVtJSZsUM4y+1Wl2L7TcV88Yz9xWMbnIfSZuhRQiXzVNXBytGnZaOCrAqFUa0lzJqlmu1dE\n",
       "XGKYETIcXdXqfVI5T4hFDxHXiFB4hqdChbLdUbrWLRbBCtZB+aotVj62+f+3IoaP7bkTVLioi/Do\n",
       "bTR7YVh1lYnC2BTee3yI03Ikc/LqpkE+dzN+3gjDK8aEe7h3TxY5XbIzji6pekzw32/l/EjuSaUi\n",
       "sQI1DZTextRH22mFsij/i7AH8uhyf9xb0bKU/dvckzS0+Pzw4JhDf89oZUxQHnWn5rCVrxHVhOMR\n",
       "Mf9AHdMzYNtbkFzb0C6SDFk+n+kIt4a+W9X4+lxgp2d1+pexE2EZYYFCowNyx1Hc+AGCaZmDv3Dj\n",
       "gSfMJmUvA0QeE7QzHVrmP0f4HIfjLNQ0fu///4zBBx7Aj4ShcjutqJ20+/Fej+tqH0jOHvFYj24c\n",
       "Ac7DoxLuLIjRt5V3lA7StzUQdCayCyfjggtozeoECOozDbEdnY42jJ+Hq7dVeRXLcnlxLN2Yz5v8\n",
       "+TNuyVbhPatfYovF0s4yeThF4VVqzgbzbztJyK4athaQ3NLHWeeiwzv6OMA5tgYXiXRbT6i8SkP/\n",
       "gdnC/c2xO3ROJBlvRMNcOvvCQjZKg1/zyeH8BMwjU52TZNEqosfEAfjS9rtR35CBJZ7KflB7Yf6/\n",
       "wsxXl3/WLVrgVb2WnPIdpFGTTDWgj71i1Je4f73ns18Km+/OQT2H/9I7jS2pXIVR7PWqlTYLneJz\n",
       "i8hPDEJiWNFiAogmzPJSA40L60StrrpFWBLFEp+rT1MjpeOQ9YxbfH7qdDQXKwFHtxuiqL4GP+Bo\n",
       "yqEwa+yrpkkIxkUiru2Oq6Ttr/7PQaO1SUzJAauMYO6M3a/zFDuScw+6eU9SZt/jKDpdGq7/5YWG\n",
       "/L4gRmqvb3qDk0Ydo1RKQIVgAEc2V8pd8dXTyFA2yafUCiF9fR/R3M9Tb3Z8+9RCgJ166qNfB26l\n",
       "8/IzK1PamsNALWQiLxPXm4blhh3GbHN5lw7cwyosGqZbWtgvSDgAV+D043Iz/jM7f7OxtzM4mfA1\n",
       "+g3ooZjm7NVVupCBqX6Yq8qXBzjy7eXKOFZSJ/9hG4zgLJhIssf84VdxtgSiAT17Us2vtd5s4YjX\n",
       "rwxlGLQPsDhQxYrqShoOiuzwh2kUZL5eL6GsIl3O2nUjGWshrTi+8boZFh8CtwmZAnbqzKlwzFMU\n",
       "8DCFPYDeVOfjD6XnK+bDFsRKdtqujwTYcB4LksGP+udaToPIKVlHVjdGejRhL8qU3o6lG+N5GPcl\n",
       "5l2muobZSxjbhvCA9nZc1FCT3Y2wntq6/x5ryzQ5TJ5eHOQyL9cTwr7quDW45HGIfO5Hb+/QapMN\n",
       "e6zzXo8FlIcV+2QvRG3u4zwQXpmML10JwBSDd+fdDOQ7J6BoaNXt3wkz5mD4CZ6n7tJmbE2lgK//\n",
       "jgHFfmMFydHS/H1mMy7QKQvrp5tleGjAYV4H31H2dYOeSXL2DudoNrOB/TqshCNEhrbnZwvjx4+s\n",
       "ZwNthnxA/jXX19wtnR64NilIUPKXhJ5wA9qdqbxLjKboCtB/z64U2U1AMKgMO0fHBd8jOvJ97y3J\n",
       "xLMtbySNuSpB1UHMEE4133JKbOpZFa2YwVPRu/6tEbaMNaM3LyfCdI8Vbbs5MD3+yN4QeKCFpSxW\n",
       "kmDI3RE89s+0ZHM4E0zTPLNVWlyTOB/i9zYrByXC/rtAhWHks8i8+rCs1gYZlC0ErEMqktu2beqD\n",
       "NmZ3I4Ow1ZAl7345ufQTrrIC4i6zqrOIthGtqS5gCXwSo3FK2hSNCXxqoXDjhmknDJRUDGxSRjyB\n",
       "ni+fCh39azWREzFjo7a99sk2nfall5xIw1vjw/wkRAZsqtDnGmdBxpw0/87jr+R3j4vd8dtOOM6t\n",
       "JbQb0U5IYiOT/bYEnY4ET2D5UySHeCRy6xway1FscIcdK8+5QNnhvs9q01IhMxSqKnG7ObQngQFE\n",
       "96aC9OORjsEt5w2DVGtO9bO2bNvmtXevUynfZ5msD76TXcSSjCU1TUCuowOmjW8CpN6WgTt7Sxy7\n",
       "UwrsvRDxOFAEUwzdkloCQVtZ9xY7llyrt4Ato5iMMTYj0GikqaKvNazbBcx/J3uXDKc0ZKsug4VX\n",
       "J4phdWIIZvM23h19t9KvLHdTsIMS0BDR4MI/izqu0brrvpsfSRwxkurLgDCeDg+3Iz/TNxl6ZdFo\n",
       "fKUJUYXGptr1VJV3WL7yKixaVloBQ0dxuY6W0ePj2AEFw2EKqEc44EkMz2PpFmcNHvMchYlf37Gl\n",
       "lbyX45Lwxes+FUBOMnIUq6BhIEM/09rrdzI1Ph1fiN88iF7CmGT4IuM31vUHcDXj7bhLhhBCSrLk\n",
       "/d+RIdaEhYSZ+j/zPRJegoWw1dBVKuoJynsKj7zYz5R4j17ZVLAJRFjL9SlbjxyafpMGvD0VlMOB\n",
       "xzHvLGs+BzAUZB+hPWqSOAqLeZ7ufvCEKfrsmnuWMs3naj1/cxLEdWSuA8RRtsAsiM1qeG7UBTd9\n",
       "hac3wHQr9JaU3Hy+EnuRNYcC0pYoTfqlnPb+1Jz+hqusbbpZiRd8ubeBYrpMIMXtaLBkC4/5+cfu\n",
       "vIhEANTZOKu/X1yAC4hQTk/xQumD73nGirXf9nqPXmdV3P4aThI43SsObsCpHOqPK0dwSnFAPkju\n",
       "38l1o5yJMybp2murTgBD9zWqtU+AXV0aN8wBMcQ0QpCQ4tRnByyKyIwPW7gpCbGt4z+hIQcdTeXa\n",
       "71Jok6JA3vt61MQLqFEsIe7Rfg7T5WmlfgvnJl6HmxATjYuHT9uNf1nkv+mMRluzFZp8QtIWftjl\n",
       "6TPBJ5WzqgGHKjt/VzZ8v8/BixRt6SZ2oSH5UfODZrBqXhMRXSWzdr0pahhgcNaauB2rbi2xLYFd\n",
       "O1iLSBle8vc9+S5pbV7yyObtri0zWRagskWAnWXROV1WWKFlVwYa6xJ+W5AcooNjNaeGTo2Qb2+T\n",
       "zxW+OHYq6YRBxB++G1zElaybdrLOXe/8evrJd/cNbI2wDAMUCgHcR7/TyIxk1O+P5RtWZeOax+Uv\n",
       "5m5sEixLvL5g1hJpflQOImBdQGnwA6GnmHivkUdjhMDnqLaKoQAN6by+G/Kwc44Oqsdiyef2YNip\n",
       "EMvFIogjvr+auz4qfguFfB4+1DLgUz0Jm2VkmUcAYM137yJOWWOumpfvmBkmNyujUF8BfcsjXQ89\n",
       "wUFlJYH8JC5qfP9BNU2zfSW9J47Lss9hmYfanObj6NaHD+RTRXvhHyleV3wiKNvmjzzx9jXndAcg\n",
       "18zQtRtQnkzcASglOTa/R1+2EHW9err1lTbZK10fh2Ls6kaCUROkoB7ZsMhtnoOgog4tBxB+999l\n",
       "fUnWuxTFEbGzjJ23oBQgB4xNZeL91DoF98xTLpRks32YFNG+kuXsWKMYjyUwALhUdBORx6m7IO40\n",
       "w0V9PisHh4OaxM6x3xy1FCqrHUCAMFEFLFjqK4vWhUr8Ztk5X0HzAIXT4PFQl2AH5q6P85stRcAg\n",
       "B6eAUuod/qL2b86y4AFc8aP+crC33fdIZFLRkKiR8AYAhOMLO0cD3jrmvyUj5RV7prVeMwNiXz30\n",
       "Or6vM1qxA/P+mzn61kjGMLiGFPbkaqr/5kqJcjLFN9OLiZWn4g50x/q6r2mUFv1a8qpOfPO4KSS5\n",
       "q03adQjYRzSJdfYsyWyCDMTNSC1HJcr/+G/U4Kuec1bgqQ4NgZ+aFeSYlylIJBLjoFizpK2u34L2\n",
       "jMS/vQWB2Qukb7maiLL6QPMfglz9brM+yGqCxV0CDjgA5U5Niv/8lBVBrl3fjQa9ZW2f+re0/TP5\n",
       "aOrhkts14z7A1I9KXRe9Jz7Fkko9q3/h0++Gia5crCsBe37HMg+yOKhJxPfLjpWU3K0X/5VNsjJD\n",
       "K4uQsfM+iig3CuYpH4t2k202RPLXnA9PF0uMoQ0fCuZWpyUzq5g3RgdpmtL0caW+yGpExrSX8yz9\n",
       "YDk8YjE39jM8rOn1Kk28X+N+RpJCt2ZX8NNtb8nTzKSzyUmo/obqEzmyelSunusyLvC0T5eli8mG\n",
       "Ii5OkP0+UF3zrW1S6ifdmb7gdWZ6Inv14Zg/3zxkHGmY0q7S1tbH7bSSl5qGUuQ5mI8w1z5ksJOK\n",
       "o/wSVXdtSNm6WqWxVkaWZnjLuygwwkUeNBaum5WEItdXdEGlVAusMrO3I8OrB9aMBbofgzyDUHi0\n",
       "F6DlneULkP+p1ADOT2LsN6IfbakQ5agSv0w+NaczdXesYI4j7ux9mwcb3FwUDeh64uqxHaXND7P8\n",
       "AzFfcklSiaE/BfvoG/LiTZjebe/g3DP0tugRU5Dm69kWHfwd4jyeqXtnTPwFbiLwWNATz9x08Be+\n",
       "PZyWtpwzqjTFxX8SkPxqdkrmMz3Nk7bfEz9C4/8vnvfPeknD+nOpJ91aeV0FeZVwqIxBnmf/7FwG\n",
       "gP/9Pg/1UYNPBBYjOz/zXmoMSoJVzJ3jt74ueH4xoo8iHPDC/uRKiwey1QuMFHMdzXia5LbWOtO3\n",
       "YDcNkJqApVL85VvbODglWS6K0YHPvpum4U04qaE0BYs4VVNs80aqWbXcvPSCBEzabM0Q+tInv076\n",
       "ELnptwWZrOK17XuSvWvu/IlKC+L1A6MHiZr1JFF8r9mMprw7WDP1nqccIKk4RCk1E83dSNT+5/9z\n",
       "Gb42tji9k75n0X6tNfNtR1E9bHLlhx9HZkcP7DMS8NEnpzblecgHnFbTnquUqcsbAQRBr6+02rHR\n",
       "3rqss9RU0BK1cCW1gWF3fzBSgQNW/c/VG+Pog2vjgyF+dUfKZ4w0i4YJQwhptSS8tU1AYSrSla+F\n",
       "CljTdJbvJTWGZIPqUC8mt6V56ANpi2YX/c6a+hMPdKLvmwzfvkU5meoJDYdkeFRg50X5x/wHA8q7\n",
       "FeZWk8Tf/7YQ0XL+O9tlXke6teqY5M3N897Y2tKAwPWTAf8rKycC19EqiCGAZibPen9Iw4yxl8Hd\n",
       "pUXB2JV5kNWsVkIOGfF/+YD93BspeiOVkLpxBE+lUbx5j2Qkc7a/CIUW4UiH3t3j21dqrlkdYoxy\n",
       "0vzo/JiDffzhzUYjeo9lHv9/FjBMTVYjCLZXdZ/fMCGp0/xcC2eGg9jLNJj6H/vMAuikSw5UzuVR\n",
       "TVMjAP1hvfhsz6BKjPycdp5sK6rFXdGvZgyOI1fXg0VIhAaLHwoksPJvM1hd1z6MIyzzVnLOg56T\n",
       "fj7v1WEWP7BPtwhlsP6ZqJTLRnS+0KPq/6hwffg0xNrP8HMmIA0z7envVaKo7DTBKYxW/g9IxL9N\n",
       "bBdui42ROIQyU+SqPcuKfVgrwouhvHssEBmgYcid7REWn/7QER6TzVr32nHMpc8GualGWFS/CS8e\n",
       "f4z6f4zn9bP6YHPj56kXl68WYrs+DScbQqX6k1POWoS6iCPs7dmgTiR5vxyjaaMU0/bewPshwp9f\n",
       "QDbMSl0qaa9ougbdo73IF6wzrQt7k4lFsBAUTI9Ii9ZtERTT8ND4Kk6SaTJ6A899ufVsp+sM/N9F\n",
       "zoiaUM+GIcbPYR2w16wQnCx+D8dbyjUPofrVwun6MAqZI8hyh00pnglcuFJTvVWM6rArj9lQOmMr\n",
       "JJ0ATKb2EvM0rE1Fgh05TJG4tiNI0a9zcQRCTtlUNHM0lMl574k8iVs4E/a0K79BS7sdyA9dqLQF\n",
       "O8PH7DtJdKNC7Pb3VJyM/tCtXZazuLLmf1k8jqF7uI2p5YLh1+I6PkAAAIaBAAAFxUGaJGxBf/7a\n",
       "plgBnuCk0AbJMlzSg9Jgbq+z6xt+9+sal/X3NXHs4hcZ+1xTxKY0Mn9RMC9j9NHrK6uwB6ykUNGU\n",
       "UJNmbfW1pDyzZ+hTDL+B43tn49EsdNcDhUboD01vetTSaXzmU9tMEzJKExrAZrA58CqXT81xp6Jn\n",
       "XMqWYgLUDzgYTIEXVsjVt0sHnSIBs03kZiDA76w+FLxWh8OwB3+2axPTDgwJeRRB/8+JWWokT++7\n",
       "qHvKqYSztaY1GzZnfO3z6Osaug2gGwYsPxJ+07GGof+lNw9ELPJarNNYmIZo5Vvmb6lfpek/cWQq\n",
       "H4t0Zz+TL2E89z3GE7A4VwpRAmC14Bm7ZsCuqvWc0EHFq/iAx6DvuHXUnpMhGf47Yb7mwSeFtxLE\n",
       "Mj9hneBHRD93MAo9AGz2A0oib2u4iMQjnjrg7ycmvNXelmYtG+tD/1xT0bFqFDNwhig23hKWB+mO\n",
       "sMszX31NoPipKF0ij1N4zhiQb6QTPXfXA/dcWi0j1I2JeXSFv6fH4RyjMJzlGdkSfNJVXXACq0lz\n",
       "7YjQlsfgiUY9AKmRFkwaKpKc++1e0MM3uEGKWp2hdDIFLm6zH49h8OhX+7TDQdECSgWstYcnc4Bd\n",
       "lSiQAR64ZIOPxQ5cRkxY3MT3D4+9nwbzbo5v0MlwNqPgWF3QKIBkUJWMOhpsYV44v3BqmvPOn6Xg\n",
       "kkrWkyAnnBksuQCU/Kifqf7bB1xwklt7r+nsoWghJdBmzqEMCaD4wlsI2UILUhqjlnGHq+Exo/i1\n",
       "c3Fe1YvYcVmpPjqJ9PPOoNZbdj9UyaulRB9O8PcfwCG4Jdr/xX+77nPPHnI8t6eeL6GV0l9QvkbC\n",
       "+2SMlSPigtyjjLS2RO1fOuHSRsfQeZ2RqsUrjS3oMyl2RQsU16OokBdUvmn/loFeaLG9tKG6JUGG\n",
       "Uj95fPNG/pI6iXtIE5Bp3AL2TlLd6z88T9NBSwPtc5WAPBXmNUJzuKrIxxHF2r7Ov8RgOjfemMy4\n",
       "hS1cjFNvA3IGDG8Axs5wULsfwxBgG+72aj4H4plJET44zMPm+nOnLIOdcT3UsDiH5GuNZIDuBT8W\n",
       "/ZbpegXfy40TxZaHuv/QUrpD1tXMwStfe8wOYwBiQr0FY35c9jLXfEnUOHnrKaAi5TFhK/2AhKBz\n",
       "2nQwxnDl2zpoTFq0ZOzzdoO1nGhGXfbu9e6OxHbWNLjp4DIVD4+jFWIyWBJX49Yz7O63STzmoED3\n",
       "xXDOQRpfFM/0CrFmecZ3eF1AOxYGIeAW6r3Bol4cj3m+0/mVJbY4GWkeftYEcyEG7xw2cgygqyP+\n",
       "fzKgE8YZD8LRvVKW9GBAmtS49OgnBlukln3SYcsEraDXYDDEhHrimud3cEONXfdmdHl6zM3NTSHd\n",
       "PVu1/onJkzHnPyS/lFCc2lnt9rEF7awpHprhHXe9fobLBn6+A8iq+CTScgNPZwRs4UkDXwyPdUBh\n",
       "YevS5JwQ7zCHi3k/uLDLFYi/cZF/xlMp/EbQiQkK11QTpQcDAIghhtnt6DAF3RNHch+uwp/tAXvZ\n",
       "xcJtfdUIRSD59V796/jBg1KCw4j046GKtwNDReOc4xv60qr7dIViUiRV9dHXIp5NpHwjIhmePDIh\n",
       "vd4TeoPjF9GLdjOpS3g0HBdjxMIy7Zj9y8Zw7V2sZ3jnEhn9h1vhY/vfVfybhxEJEprmvTt+PYhW\n",
       "iOvcWoZhMPJJbLZTWjkqG+tuDKC4DgGGZwMiJhxL5e7Kmu3UPhGbSvRe69/8eBUq+WhKmDL0OwLm\n",
       "9RvMO8Kg53ttnR2x3ZGGcJTnr5IU1xzI6x6rXvvW/cg0TrggEf/juuNxMb5Vgna9WxaxQfZrdtrL\n",
       "0emmDFdsqgC7StopEazXAMJfxmmm79cEHoFuSyH1Hy3x4qxq0YYl2+gyko6e2+sEapvzDPn5o202\n",
       "NkRXknoD+99PmfWHmjz2DlDo4X/hJyHqjXD1R798tXFj9/yagXoUtgDo67gAAACdQZ5CeIKfAABF\n",
       "K1ucZVFtdmtqvR+stogASzVo1EKdqAIaHtXSlVNO41NepwzRgvdUyIAF1YTlfmkE5S+9igCbk3RQ\n",
       "LBP1TvKXoGFWiMlujLcUN2vF4WlveeAaI9Qu4K/ifT6n1rnDQyzhsdkiQKfqdEq4D0EN62Za/Ki1\n",
       "qactFKmMsaURUsEFXiFoP4zXSg1x2KJKfhK/5dwu6oT2gQAAADEBnmF0QT8AAH/yoGMJOpM2Oi3e\n",
       "dRwRKyTi+r+tgAQivOQ59veNSLgTcpeQ0k8MdT7oAAAANQGeY2pBPwAACQCdABMluCQ0r6Ty+JL3\n",
       "q8NN1t1C1/YkwoxycXpefCjg+H3Yjen6daS1/BFBAAAGv0GaaEmoQWiZTAgv//7aplgBvOVKaANk\n",
       "rQiYHw49TP9XkXp/eavoDC5+ctv7cP2yNlLA//Se1f+nb+ghkveUdI5Psn4Pu6U9OzdJJc7dTPfJ\n",
       "Z6oZQCtFhvyGf3NmoMaaBDWIoSBKRZCopjFupUM47e6M/9YhG1vKgKVr7DhFFBSEg8Pjeho2/dZu\n",
       "orpcZ0jsLo66T3N/a//Dmsg/RKB+4bya2C7m5n0a7acIUeka256C58RI7YouTpa6TBXUnTika71t\n",
       "6l+u3JcTFguyvbhdznzDq+t1Pnp82HDcnFRvd1+GSsTt/uTrZv3XQJQagi5HwX39565XunkNuEUh\n",
       "pg7tAvM8XnPryj9RVgG8pckjEL2Klooqy9a/qYBJUplTuLTiLYa86WAFFmeEg2e9FGc1brS/C+3i\n",
       "HDiBqKK5o1eplSJFUexmqk1LT6n2kd8UtlY8Q+/jN4Sf0Kx7l9LF0xwgeNWoSNKAgQwNhLT83sjZ\n",
       "a6LIivSDke0nfZSb6Xjqx4pIqtk7SHpB+l9FIQQ67KhMNz83sY3WF9YtXnfwj0dM1r1Bs2JHGybq\n",
       "pftFE4b4C9IUkLiOxZHPdwQbh8W4zNTcxa+zE4Omryh9vS55bkQwVSy3SDQL6LPB3UgfD/nIn6oq\n",
       "KECJ7ccmoFz/2I64Fj8dxCZnl/kCZAIram9W0/pH1WZjo5tsn6h/XnzwM4MyI/CQLFK3IVVkOWGI\n",
       "QMVr/qHZ2JsSuBmzBKEdzgjmwEXcGwzy40TmH+RMzxndmvtEhgMCgncaCmEiR63Q7CpUqJBEdaJO\n",
       "fLzO99v34rQId542XYlEGPBPLg46hLVJvVPuNQQjFAxOK/El/enuClzoBc5S0hKYKhw/jWWKKj9X\n",
       "33Gv/NIjhhLTZy+y5SLQvXO9oKUemwar9VZjKAAEDVLvDHbpNGQKuGf1g2kZ1UNnJYPxg44oZ7wr\n",
       "O/4Jmd62ckQ/tWseOP8jnIkRFi0+SXEJf/LguGIKnp/4nO08EsCaNYqKauYJDeeJXVFDO64cmgjL\n",
       "BtRx9V4UlXfQeVJfBFzzc4bdfbflqAL3n3xhflmrSCUzlcgEwTHoBzPWsH/kilD/coodrJkSr8qF\n",
       "/rifSxobOt6J5vzVq/RZKAQi4hEZ70N/7uW4GX6uld+r6FWbilafQP7XFTPzcw2jA0ISpZPq1PFs\n",
       "pq0MXuRQ0XNWCJSVXg8PTy9LN8rHXpbBOPuR6MUHm4943/UHnP55anoFYBuaGoBz1AUg/0G5bhiU\n",
       "X1MV8xSRfrO0lpZrYNNsp7+E9I+Bed7Yqcr1hM9NODR7cjws+PmNCGWwtNfAtVZTOpDyAiaQgYmi\n",
       "SWfMB2j9TzScn2Jk18AxeyQEvYxRC9Xva+s0m7hzKcBNB+iOZUUE5iJZlZHH/Tnm2Go+UavPR6Wp\n",
       "W7lFhPkCKGLCoSOWW1buQanX9JwC4e/JoNyx4hCQeyoV14dIwpDalR5BuBJJZ+GWMq97otLtRPHH\n",
       "cM1ACRAilIH2goC4XMKPN0BuenmJp9sE7nm8fke6sDOD4vMMPZmKXKApgaHMk58fC3+F5Eb22H1F\n",
       "v6K+/CrvSyh6C+0X92LkmcLcjL4KDUJJQHZ7fqkE+PgJIciYUOIG9C3sdRiDcHBpdGr3te7TKq9q\n",
       "ezGBCMRs3PurPxU9pQA6Z8tesOHWJERaXToOiXirc6JIizCLvN0hxdknxvO03GtOSwGqegWLUzDH\n",
       "8hkhbQZhvR1DlHnxAFoEzGZgvrOf1cs+P5IHw6WLvd8UFrocdJhiJe4n4FaGBVYfm4i5P7du9jr9\n",
       "IWlJbY3hg+RxndfbTAydYHQ4LP5CiSCO3XzAS9snAiMSpjTTLPevy9i8+VUYr7jehIuUX7X2B1oq\n",
       "AQqX41mvX1ZiG2yimxmDXI36sdYD1W+JydhTt0MRPAys3OOwqIbANTyfrIZNIIW0MW/X+SD4xgmi\n",
       "qD+OtNMvC7Hq95oLsspXr4Lx4VZTbs5801SCUkC26KF6oRvo9hrGKHAGD4bkRqzr6Msx7L0FuZwv\n",
       "G5IvXQwQO9DMDdIE6gjWix17B2/AC75aJEkgFAmszcaadJUhzdO4/1Hg78axmr/Yrjz8/L0rwHc6\n",
       "JipXNW7NqXVSU0Qj3zjmmLA7YY5ARpWmUR/iWos1t1bZdtGtV4KHgSLN0ByihluuY+6Z2a3b5Q9U\n",
       "EycEt9Z01tnv/QxN8eldgY2TH16VV+prkd1Rr2s9NSnEZIw2BB1YCbwQqsMConYU7yPKD0vt38cf\n",
       "i2GosI4kNaveLy+7e7Ngp8s4TsGcbuOc3YaOY6vrnqHNOHBoLSwseylREzjCS8iT0AHdAAAAdUGe\n",
       "hkURLBT/AAEcrXCvAV5+3V1YsAYSVppLqrrTSQAGhSKa9mzaMUP1clKZ0p5FjZVisZhOOEXBoogZ\n",
       "RUVgLQS9gO8XB8yKuR+y+kMtLVZ80Y+C5rn8zRa+r5XCBo8VsYIimig1/obnrwaJdgsreiA4QyUD\n",
       "JwAAACIBnqV0QT8AACP8p6neMC0DtH+0McFIxJ05OkFLjQfG8EfBAAAAQAGep2pBPwAAAwP/1I1Y\n",
       "zgRqO3IAC6MP92D1/vcEpwNxXQGuc8TfpDipjNKtg2vgmKAkdmZuUnnAWH7+kxqFuPwAAAVgQZqs\n",
       "SahBbJlMCC///tqmWAGy5RDAAjExjAGzC2DI4Z37sP6CWXk4J5MWK01gsh5G4jHQJovIeVhlSLIL\n",
       "8m7eXZpOUZZcx+gaN7YzrJuHp2jH7G+YMHpM5PL/m3l3dozG6nyI/TJ+i70pchR22kXIKXde45cr\n",
       "JusiRv+Y3PysAgwddc5GeS98TXPjwXPrM9x5duosEePaWXftRrFa2EauydP0kJfwT1AxL26AUfID\n",
       "uqIGYt+D+G3RZOgZctTsU6mjJ9f1as/1ZeRRTLqbhNFGc6wjdX0+0WDtbn9hAXjZXEaWip86o3ap\n",
       "Uvt8pPe7Nd4GIvrXjRgI210JYs0wcGYWSGBTZoCsb/DNsxf+bOqMjl/A9QAaRySw6ZeOsi3lD6wA\n",
       "2pEu73ErisLwmYHjX7iQ+WfmhIsZIw7Yg1ZG0wmVo7XELQEzgkXnNjq+4gQXVdaCVAjUoFgjpMlL\n",
       "XptmRpjbmLxUiLr57zAVpvMn4oZTrRmkEC3elJSYPOne6id7hCmzn9pxRPLr0iAASYZ6SqgSUhQP\n",
       "kP97cnPQuLMr9triwzzVrEvf+R/d+WyHPQrAN7+dTA6GM4IclbjYaqhw53HeBsxNPUjLvsjd5qtn\n",
       "J+OZIh4v9oej1kBfLWf3ieL5XvjtgajCOrrQFwLGmgzSwzP5aaqA2TwvhKY5L2Admm+f7OhclSlM\n",
       "pjyrza7HMA52//QdcHQGiukzEdHLqTGwaRLBEeSL/evx2Bi69BZXNAO3t1NbvuhDM8TGZb5MkNJu\n",
       "P2STQ6y69FRP/jf5bwUC5CtSXy5mXRuVy6B96CAFiLrudi3GoDxIipXKLu8esRTEzargtgIK5azc\n",
       "IjQwkgpQQIkCzDiUlKpNj34VV7FdftGWDl7xh/v1/OnckQijzGqj7u2xsFFenNI4eZhdOFhzpQKJ\n",
       "3F4VCuyQ1pvcAabf7MkzO++mZ+lATTocqg2LtG0HA3k7QeCBXc/x6o63eRxc+WYImTjeFscEm7C6\n",
       "/HpEqxSDxXkFVQtZdVBx7s2mHvFXGuQmxhrpRBIPK2BDPbqScpWG+VaDzweITBxI2s5Y5M9gcNR1\n",
       "O7f+aeWyF86ztYpPlZCDSo1pZOhPmcS30ekCQLCa+7iDPqhAbMj2OItm/6grikCOtaDWtefgE+5P\n",
       "9v8jugsqUJ6vG7HK+QRzH3qcv9Ixc6jRIt14Dty1DjaNu01sPdYzHaEcuQG5wZCLEJCjb6/ohGA4\n",
       "FE1UN9UGC3769WmA5kQzMFvCDanWdVU9q/Gey8DszlLdFv8nDtyIFkTbpWolQw2GAeqU+bDuycwq\n",
       "Rhb2Yds/gZML30q9SKwWR9n3zuVZ8a1wzDO3wjrqH3FjjMWuczWgVa6mT7UmGFeq0RQo7JBVyEZC\n",
       "cpEiRHzmmJx8GpOosrMa1IdU59kY4PgtsI36a/YAfZOgmvQEBKezSGf33o8enAVSc9/jh13HnAif\n",
       "IlnPohEnifzdvrNK0W1AwCoU3KjygfoES0wamLYQCzBa7vnCi6xCUgURJj9cTsRXqoAKBrX0OO7B\n",
       "/fDEp2Ah0D1vLrJmLBhH1rS/z7rX5nQgXHVAAhxuU0lQe39SXSQX2QdpYcPYX62mkCe38GjoJ5Vp\n",
       "CpLy8NnlQJxQnZ1jceB0/PbwTVOdPoSS7ybZxgXNEvatOrNvao0q6QUuU1zmeUE15X7gYqEcya89\n",
       "DVhYJiYEYM4dY1GsBuIwYxbekflC8EpKOhWAi5dwY1H0QuAH+sw9pSLmmd63z+bRMPVevCbPMgMT\n",
       "x6IGddEpiQQfEnMeyr//Jh8qZR7BoQRGuV73PQasTO2KAT8qNyYnUu0jstgKCrMfekx/7UP0gTcG\n",
       "mT4MMCAAAACnQZ7KRRUsFP8AAJZWt0qmGGFywZ/OEAD3Pm1KKAZKzd9H4Fw1/gEWif965895Ef61\n",
       "EFokEdV0KKFhOw9DeD3WqD2QCwavP2+GxjVDYbFaZZDnlAUR2httbkeGAn/6t3xr50/DCCQqorm9\n",
       "gUdvRSM2D9yKIYYEQTZzEah9VXYH7/OWsl5wyqezwfBJuLF4PNa4Z55E/YzcuQ1JwRQRy1CH1BUo\n",
       "iCMoBd0AAAA7AZ7pdEE/AAEX8kdcO39WjU/wAgLt8S/5aGRtohIWeRRALYlLSaUgsLj/gRWmFO2h\n",
       "eIQXBatSMQZp1XwAAABUAZ7rakE/AAAg/DtMLcAG1bzsDMbovzqsPXiWBMMfRZspjRvTldL6Qs7V\n",
       "mFGOVGmcudax6XDBJa3VF0ZOiscJ+5192Tjbg7jZWOJHVFG8/Ol23ddgAAAFUkGa8EmoQWyZTAgv\n",
       "//7aplgBvOVKaAJ7kFAdgr310lvYKS9CAaaNOltr3IatO3m5PfmK4igrr6qMRTdLyQCMUpRu48zj\n",
       "d/h2uPPX6gzZDU3s4meLLhj8VcI9efjcOSF6e+RbY0vRcvV7a6CEMePb1v71aMWy2e/fPNlJL/Mn\n",
       "nJ3tRo48Rsz0m0XUdZRWJakFYanEG5+PBUq6Ex5CN1+c/8guhWff4DcArN8aA0zIoiEXetv+bDsy\n",
       "a9fvkGDHuwvg8XiUY5ikKc55Mp/vNuBfp6ruPmjGohINhHsN4DohniaTW2CpzUMzvIanmV7Q06VY\n",
       "UpYdLlU620t2luOlzKL6syzRhJc3QBU7Dg6k3D3vz7caiXtYe8eUQcHUgJP6nIbQ9bk6fEI1/fGk\n",
       "/yilboAnbRPFJAei32T0aVTd3xTeXxp4UWrOeH/sk/GPGUGVcvzENM3jfbvMISSV5IQ85Rvh8lH1\n",
       "pc1hynIwV8JhsLqA1r07AQEsUc5HTKnf3zKBRsGc3XIMqS0sP8bWIJALJz+0b7+A1nlT+AE/oDBf\n",
       "OnmalXIdA35Rsfx9nhH2iqJomufU9NI4/3i51Haig+BqGpXu96WgNkoykWui3X8/ElwZZhqSV/2N\n",
       "Ra9V2zNdEilQt1TNzuJJWkZHXAU1tXqSIDO0pZx/m/gYz46AJqgp417/fwM2F1HbEJiq/Qx+SA90\n",
       "hYgIlKs237OAfuSJCnum8lWHTBY4eZT3BNPqaIzstUUT3v6n7nPi7kNgxUcFt2GsiV3LF7i13pnF\n",
       "hPPaQua8NOZeAnapW9NHgl0TrZV97kAIjxG3UDmlpW/2giMb6fsKHaDqPMhN0bJe+VEHvrLOG601\n",
       "iEycNArWvWj/VAzgNveElTNP1Patb4EEac1nLRqszUkO7X0McTMGuOoNnSaL/Nz71fW2+4nIF8Bx\n",
       "PC5ZTpX5YZglTFkY2zqLDB7T4iKkmQk4rotoK1FqCN7yCy2Pycyki499Md5N/U+xTEm+ha2OPlNY\n",
       "oV9f5/XqdHG5RUexGz5syp4ouim2fdal6oAwl5YtVym7rcTj6cbYWaVWX+3r5o5gTg8XSy++OA/o\n",
       "yMlBo9pzpXKGWtWwOjNwSxORrrB10yQ4FjNTpIY+RSd+8AG3wBYQ3oclT+ENm+FOE1oF1iV5j0uV\n",
       "ZfbSab7jmswvadr0R7W/F0jTTsaCanMVOXGam0/pEIJ2RyQv2EltqxhOKaSN6HQdSpks2/cHeXG2\n",
       "AQnwJuURO5aZIelkeOGnY0C+Z8St4c/Hn5jGE2RP0yqE+H8rSAXC3KsJZo3Z0He7jnUtRj0M8p9A\n",
       "lVgCV4tYYXPqhzqud1ZylbcobDd6Eb4Nv1GTxLudwWwPSIAeu5FbnzVKoBum2oku4APwfX0GQkZz\n",
       "b7W0hdYeK9IuVyGxyXUzM7Q2GD5tYYkFDdtr0a35o5Ywh9qApJwZXUfr2yeXZ7VJg2py20ixg8RB\n",
       "svODpil0uvax0XLeUwFr+6qbZ8HBbDX0MQU8TmXXpcA4DoIKn8P6Y0zJs52DiEzRrIVmETNf6JCG\n",
       "IUhfWrfQ/Sup66KVvcY4ORYs6EDDiFkRITolKSOqqIo32sfYb2p7lxVD/VJBray/YzdasdaUe7dd\n",
       "svd1MJdxwu+2RNJkfbqJ9HMGqmQMKd+eYe0flFtQHhobSltNrzP3rhdUuIYsvSPdVrTmlfRiNJIi\n",
       "MTBch5bQeryJZfnsoZ8yBHqgQUXZ6mcF0zToJKhl7Qn4qqCXT1XjG7MLa8PLRiLLtFFd0CqEfMxO\n",
       "tyYPk7TknYamti/+ElJNBAhci2mnU+ebUJFOt3adhITcuJAS+4z+bwAAAG1Bnw5FFSwU/wAAll6/\n",
       "B0MAATLNRBxcvCJqP5GDZ/Pkq9OeC2mObdCjQxhR05GQ4MreW/nCatsY83Ayn9NeJYzeFh7XNcer\n",
       "6aEYfMi1X/IjRC+pJhjJmTO99xC52W+3o10uiIB/nwlFmlrDRSf5AAAAXAGfLXRBPwAAH/veDAnB\n",
       "zYw3IObF9eyACAt5rWr3cwKbZihCEskvEIzbGo/Mu+/31s/4eROHcx8skKftMiEx6K76FXgSeeCL\n",
       "334c/Qw69gXDXgV490hJrWId96WBAAAAIwGfL2pBPwABF/Ujrhl4WrIai9EOP4RvbVAAQivOQ5rl\n",
       "txztAAAF1EGbNEmoQWyZTAgv//7aplgBvOU4oAnvmHE055aJJTk8gSmJyurrWt5goQE3KAqKMeIA\n",
       "hFGpPSZCVa5pLRIGt9NJW+1RH1mUFBP7BOjIEjGJQVV9mw1D0T08KgGQPzs/+w17MQM++/htJPKc\n",
       "yaZToGrZf2jKIQZpnUdzSLGqP2yjdF0QOSM8r6vMpo4fAV3EXNdi5QIOWyAIcVUwgQ5oEmkPVzP+\n",
       "EZeTfblvL9vVWZHPCfgjeqPQge9b8bvCUz87QB8JOsqBegxpVoauH8dsuWRrs6q8q0AIQriqGubd\n",
       "lwjvvIHW/RTm3SjTlcp+SYHVl84lZqOoWXWwT/OYdW+qwrRDybEoiCBpjIuvAIH7v3CEKrvxSJ98\n",
       "K/cEUF0IESitEgx6Ul2bqHyk1RCWmJIA7Yzl8XUIUvluNd2cStIjljRL7L94Yar26BjEEl+NzSz4\n",
       "jmh7uRSDAE437T4ciuSB1BImYtvBpPTK0sqjtpGyQ2HtMeAVG5T4LeOkOtaQ+cHzjxwLTMmaKbcn\n",
       "z+VRxTk8QNg3Hny3M1VBgXEGm4130jh6OPSEXpKlrH+tsq67toeM51v1zlS7muk/a3JLVcGBvWDg\n",
       "j0BvQ7xhhvYY5V+6BDmyNJBNJxqW7a3w0VI+2NDdPbhsGP3OAAEVP1ZV3iFtakQlK/Hd/p3ny2mA\n",
       "OWn4exrKKa5zlp4j8reE1FZqz3OCzeBhDk2q+mFnLLutbmzv+ViUBu2BmRY9H3ReY+JvEE4FTNlQ\n",
       "1on+o9x7Wf7Tm6y+gecWoCBgervsj+GM7gQGIbi9vVUa5d/wI2Zlph9XL162+xLIxR4EwhuUMVb5\n",
       "LhjuRXIonJh+Mw6mep7dzL8+8xUlHq6U9fnLrKzLnwu9OL6NeimqMr4tWL09H75bqRl1Jzn+s5r/\n",
       "cb/dhhYEQWfhx6kHezjddpAlsGLDu/dL2y6AfonoRjLWvMKpwyFa2Ww/Ds+HO3/+GRqc7wGJOIRR\n",
       "Kkqu0IR7ApkbtnCitOk1UK+KB1KvEOBaMuiIRknjCynihgGSjf1fsHkgrGMg8F0qPB1p0K9+K9MN\n",
       "1MUSMOR6dJi+TsdogbwWRuSXQh9T7kAqvlgLIuYzufBW3ThP7zjgjoa49B1UWfx2tqbqGa0LUNyn\n",
       "h6hV1LViX357MwguR4mHx/VcpFnT+IJ5nJSMFfFqEbInStcI8H+LoMDUx/Rx6YC2qu2lUcoY+BxM\n",
       "qd7pVstYWZOMZyU9V9rN23OUJOR1KA2iVXPgcJkGmKmpMQVRSbL6YLBhRErWg/ZMrOAoc2IKRnux\n",
       "xyRBKB4Zl37THhMsSQfFEGIs7N8p8bgX3K3aaaepXp3pjrfHqitfNdAdFA4JHymuV9s4l8r0R6cZ\n",
       "J325z8oV41tuBZDuc+hpdzKRumkb+9Zw+JaHeexGwhkh+E1qhVg3Lnz9EbIqHpXdK2n+9EdPWuBV\n",
       "xKKNjSmsNqwKCHQ34KGRMC1cysCKG3V3EUfjKgbv8O11vIdxDzZYxA1xXjCCeYh7BE8g94RC1i6T\n",
       "E0PeF2wxVCsVAPL4FZe4mCS7hcJd9FHorPFexcCv3ydsEO8RK+mZlFLbh34NYLDLy/XzESAZ9BBz\n",
       "mm7jSXCgPx/ShMqbSaj4GgLYTjDKtD3RM1znXWRlMlJVE/d/erNpiK1r6g1DJcauW46RC9L4SljW\n",
       "MZAE8G1xmz0ZxZGJnzSCjcmRLCZvFmbEzReYGCWTLR9cEpKW+0Wc5KhOz8aSHNo8Eigl6wZR/wEg\n",
       "MgYvCRcld3KY0m1kdLLFuccF8kEXUtr/AITyaqCFLvYmfXh7izl72bolHtba8Bn5rdP6BFImx49U\n",
       "i3K55VbYPrd6XOpNMrvokqQlpYhXwUeepvKDZSMAAnpeeIt3vJ9mdIF+tP+9mbqGtZ28bFFMdidw\n",
       "CAazLlx8XCFnmNi9dUOKjifNDjnRMcDAPT4Fkru1EXoBXbI2HiH5HU2cDHGyOAHa2tvUjDftq3uz\n",
       "A33AljUCy3sTvEYCc+kDlTQAAABtQZ9SRRUsFP8AAmla1MI8r3aGX/QAP0K/ifgjoh/EDP72nzrm\n",
       "CwNL9F4kWfDZecpk/VQ+LJls9+oPBzUNSj1nwlORcrTH2DSC2YLfp3W4g/iSwcFMOJNeggw+wpo0\n",
       "Qy/OiElwk+RD8fMoD84wIQAAACUBn3F0QT8ABH+U9TvGBaB1+AvWmY6bGcsYFQe2tCfdxA1a9eNw\n",
       "AAAARwGfc2pBPwACL+pHUFN0JhNmdJABB3b3rPvqnh7kU4i+HJr4xmgxYbYnhtde8Lm8CgQY2aQn\n",
       "PYwNduHzV/VuB07TCpbm7AHdAAAE+0GbeEmoQWyZTAgv//7aplgBvOVL8QCQ5BsFJgac13Vvrc8B\n",
       "661jVUKFQgRNy/d2/5IzRxnNixqYrSIk69l71E57LPo8nVe5EsVtoUHgZ2HS9xGGrE6SUB3YnPAn\n",
       "hbjVvZlQmSNR9nHt8HS6G2MfGAAphUEYICc6f3c9RPLh5N7y7wXWxrai4zzGtWPt8qOa0grY4b6h\n",
       "2VCo0WmSDXSFuv9GC/M/4G/RIi5eXwty+jkMvedk3pyMMtwHYneh+v5c9hs1dmYO2XfKbw7LtoP0\n",
       "kRd7my8Aey6NKR6lvaBvU02HH/LkF2FqOJSqZ67nkTJkIc79ZfEOcyRYkwjrdCz8Va22hypC7//m\n",
       "+f7S/hWT//P55QYyyMpWkYEJu1PiGJ5s97PAlb/Lw7RJ0KTXQm5UWvCkRBkaEErfL8Sny3uM3hPR\n",
       "4nxyhr0xiX3Bnel1vlKdnT7DpRak7yAAYAo65gkZvljV0eZA65oqeR/R6ANoseCc7WEcZLBILJyv\n",
       "36z4Ej7zfdMdHsuf6LFnp+Q5cgDFemvHc5jVUXXWxiArhoUzcrn47HR5/DvatzkjpQTroFIQY0JA\n",
       "1G9sYbagNLWFLR9WevsW0l1U3n7+umzS616KTRQC6AoXEj3KZS4Etta862Kq0RFNS5uT9NO2ZOCs\n",
       "4mClDbRlOoL/teYjxUelR96C2gcS6s4qEqmk5oyBGmGhVYy/85ElaHnY++DUdWNBNqPNRevEhQzm\n",
       "UhUbVaPH++um3M0jTtG1eTCwdSI3tpD/j7yjcZuy0pr5f/F2jTJNP8+uDxnZ3+ZEqH4vOwKMmg7q\n",
       "6FXMsdRCOomTWxNUMWpag8WAn3Z/5Zuul+z38l2g+Wff7dx+zo6yqD7kkN8qif6vshmP46PTBwJy\n",
       "Wdmn0ZEHv4sy+q9THXtMGBpBADAxeIhTNmNL8VLlTCId7DFpKLPVQSeIBgvu5l5bMdH8ekLMcERh\n",
       "jq7Q8Iof3hNuTlZybkOflJm5Jb0Fx4iymw4d4vmW1teWbqsDmVo57P5Ips7wr63IzO+/IEwfNgPh\n",
       "DHflyf9T329SfdspEvMn+IZWTDLp6Km5vo0N26t9qXw5qHC+pdDjPJDDSV5rVYDw66fzsRGYmCmk\n",
       "zjhUedPZmZxhKpFe6YiswI8yjtyxXr/lmNLIs4zilP02gR0orNCO2gED3zOZC0Fa3rWQQktFZYNF\n",
       "XMDHPPYLqv1Q0PQ8dO472EL3F2AeyzO4IIj08mxSJpXtzswMgH5oViZxTIO3y9D9F39b6SSM2F+J\n",
       "G4ETgKpMFJ6wAvkqIXRsLkIb/9/juj6a3eeSQrFdCRLKyfCHMyiPE7w8JgVKoeh+5VHkGvPKACKm\n",
       "9Lb7ie9Q5iihc7VcndarZpqfjnOLuf820b6wftzi11dCiuKwVoXrQ6BPFNe+jSFY/Wtp4/WJWh+b\n",
       "sO3NCk3o8ilIvC3lLdOxAwSauPX6mKi3McjsvZE10ljsCPH5GH/lHeSWoPr9MHVhuj+vNeIdESQI\n",
       "aQsLTQpWqCh/frvlH34YXOBMaFIQyjcpSVAO9+IXfPSoK+S2F2anuXbmC3A+SoOyXJxWIQdtiZOT\n",
       "/DYVFW3zMNUji6ZFRIUf9jvgYzDcVjXlxJYcu+Ef+U547zUES04Oh1XExYeXnV9vp8FwWaGX59K0\n",
       "G7p122cCJB6Ft9mQlJqlyffEfstyaOI/pOo4BFzJuEOYUFLphS7R3+ecSQAAAGpBn5ZFFSwU/wAC\n",
       "SXH77dbQq1WNg6JGv3zBr32rYqLa94sSn5GoQDKYE0AC0eDh9TO8IjeDE2M/GdIh3Z2dFStozZML\n",
       "qZyfxJNcSsDo9IYcHxziPc+YcVHSey7vMrksrQsx5+a+mDwRI6poAAAAMgGftXRBPwACL8qBze/H\n",
       "uzNKjraAEsYan2UNKV/METBmOIrKyRwJhNqPbctcPCB/VbAhAAAAJgGft2pBPwABB/UjnXfm6ZW0\n",
       "p6rgorngaK5caDWbAhv9R1ssHh0DAAAEaEGbvEmoQWyZTAgv//7aplgBvOU4oAco9CJgzp5DtbtD\n",
       "c3DzUpUHqNR9ejUDDf5UiK0uxEx5NLbYxX7tj+pl4KrZYhZrs6rYoppdyze2aGF+WX08jv/jAT+i\n",
       "mZ3GDxXM1wOJRpK72ngnp9/xTsHWHqb+WJckl2uMh+F9MyUWX7t0njuGkob0EeDxYE+jYmizZ39/\n",
       "NuqYmWVVAB77Ii9drGRs8Fxu02LksLMkMddeGB33TGIsygzBblMps9br4evQKQnwiPwMaIIO/oZJ\n",
       "GMprHjSMtV75Lt47dIHWh54vk04AfobqijS0zCB7pQCfctl6FBCw55+ceTROvnCf2T8cDbc6VPf0\n",
       "+4ZIjHnu2eM+fulrzuVVvrQGeGGW2Tlqg4poZolVs7zATs9Fnm4rBeAbie65lbS8J1ArdKiuHk7R\n",
       "vkE4ar7RyxxyDa807Gay/LR0OBhn4Wdp+WYpyUXgUG8ztqQQo6vJ+HnA+C5+IJhJkxYgd4D/Mf1q\n",
       "Nztfn/orAQYg7E1si9zo3ZYs7vJUN0AoumzikDwpffOo/UBTBYc/7crbJC1EunkDJ63Z6wJPJJne\n",
       "GdQNiR75tMhawEDEkPUB+SEBcc5/EHVGbc+JRnagtqcvMIzVzx/Z+ZRKMo8SiVMu4jA4vFRnx+Hi\n",
       "2rm2cj5ccPmU0hcPmaOzJcokGFCnOkjnfpfbm0mpLuniiK0o4IzK0R0KgM6fmRYJKGx4n0LYItuR\n",
       "B9i/ZW+JAnA1aZnwa04NG5sngVlqSh+HD3Hh/QWD87vEijsb4A1zIEwyfTuAeEaILehhzaQ1EemQ\n",
       "vqH7KKiCkOn1hg2dM6OaQFqkLYE42esRFrDNrVJZ1PxSODJLmSa7uPsmyMzXeZuiHlYDsUQmivak\n",
       "2rKFJvP9OEdVWwnoHXfSHr5nnPGneLohQfXzPIQSW1zuvNdzyfLuOVbhmVx6K/rLUjQspuDBwuzB\n",
       "ds/iFaH1ea/1k/uK3RgOztJ8rQS1nkokvvCKEPptkhpbSSiv+7wtjJFNQS4PdCImj/SdUSnK3FUr\n",
       "+Ke3LiUYTE47Zlu8AsQXsO2Sy74FLXXmAB6OpHncWdD/yTmfA8FPjb8+EKx7ae9Q1WfXnuXsP+rH\n",
       "cwctWkZCyNWyOY4rcSbDLm/tIlbXLUHv8saEjbmuU1yFYnN6kQwWfj4jisQGRvxklBQVV7zYPwEi\n",
       "Up3n2zI/hgZjUCd7R3+6KLZhRqTjCpoAAL7QAmjsredLmCpO09egSIAaNmT693idDy+FFiGoUVqQ\n",
       "q5Z/PhkUKTviAPEVeR4i7n771ECHDcCJJmtNVM7prsfT/rUBp4QaJ+dqQ6FtTkZs+Xc9oORUwEjs\n",
       "mF+1xKlqnE+Do4L8E7NKcCZz8UWNqk6K7D1rosXu/nlICHchveoQOSguZbwyHQdHPrOZs+s6CdjO\n",
       "boQrElW6mM+Ddg8JDppmtlmJCE9BxMmFv7ZdI8rv6nDy3EUU0/XBzguEiMWtGWZQhC6tdRPo0XxO\n",
       "S9x3l8kZAHiWrlgiygAAAFJBn9pFFSwU/wACaVrUwLq8m4XAAZVIpraWRttuuStmA/1FWoiGop7Z\n",
       "lzeaVsqnjLumAgJ8S/3qR03/jjyx8VzYG/6OemQad/UnMeDbf/kKrM6RAAAAQgGf+XRBPwAEgE6A\n",
       "CZLGchpX1aAJqqOSGVPHvPNwq0VavGq/JjmIgr1XcBkspyvFa+31/6nSgKOlazBlj9gxpCId0AAA\n",
       "ACIBn/tqQT8AA//Ujnin4Jbb4ppftI61FjNXG5TSRpH9AEXBAAAEvkGb4EmoQWyZTAgv//7aplgB\n",
       "lnqzmgBFQcdnd1wlIAAw/8uXosjzhkTyDT7yEgj9z2XZs/EsSMtffT3yZauSK1WjVH4FK8ViwwSF\n",
       "F/PgX2b1LBxiSdtkq8qXqRAyI0X3o4JPelcLyqHHkYLI1xn08o3jet2q+g5CKz+DRZHtfoa2qhxT\n",
       "Q0ExDQydNq4moHdKhdReVXhe1+/e2wjz6RSjHL/nk/MoNS6ntL9rpKVB6jUO3iqbWGb+2BF5Cv7v\n",
       "jj9nC9YgTE1m1RHOg4tKpcCcRMnl2/c5uOYWLNJWyfnQG+ODigfUnmJ8yxKvVyMpwJoRAM9MQ0LB\n",
       "d2J+8BX3MRkysMMHNk0QxpvSFcFMzJAdTaNQPy+cNykUPZb8bAIjQxEitwN70OxJNPLLIKRBi2wo\n",
       "tLeI7FvX4+nfO4O6s5rMzVhB6HfJ20Difn9IzrmjDKIYM6NkuJq2oKj0Vo34oyMNR2F8LoH8obS+\n",
       "rjXLkeI/ZLxaxmUo1KB7JQTzeueqd3duHp9ekxaGlO+eLClS1Pgk1Lm/071Tl5qeYcPJQOjZXgzV\n",
       "kWHVWeBhAgTtfEE1X3nPjdhTlG446ggMhiNFkfqP8vThG7Q4ZMaIC1yp2nh17XXedaGWYJolZt1V\n",
       "WrnSUXh5BbnJSRhma34yt06zF9AOY/4IKQj6mmgjo7MJVoNvr0JfK04QRY9UaCK3WzckJhdsNM++\n",
       "V56KdIJQYav87LdCxVjL50duHbOsMYsC19Ffaxx8rwUFWE25bs9OzVbD053D6FvdXtFgVeie3nEA\n",
       "EqTbrSumNSfcb7R/VgWrpr6RNphEvx+i+XUHoPWq8pC73yOxgWDuYNB9HkczPlsiaKGM2z1bvRi9\n",
       "e8JUsIPSfOUG2VesWIbufpGBx3rGPFGUX8qN9rHxYwlbNGCLT7gZpLwXUxvMjhDL7n9+VMmkZ0Ss\n",
       "Y9ajge90E/nmle9qDGxbZm2Ifvff/snvlZZ861A167l5moNkns0XA/G/fhG22fLbxMAn0k1mjIZu\n",
       "X74/awlCEXvxnVzG3zwnNlA8J6lHN/6oIZJitDgtfIdKHMH1D9z45n0kn2xBsLbOEi5JLvp3M5NM\n",
       "ltH05HAkHClvPZ1qVuo1W2+VB3NzfEnR4jjw3d5113sVykbv7RAtScXHltnGVgFC5rpMcnIigDek\n",
       "PbzCPWR9UFvZgoi+LcNUr8e23eMD5tbT7CafFfKZUMTKYEXJ3ZPIoqViPHgrz1Xd2nGxiLAdPO6S\n",
       "on3z0971eOx+txC/yjQIR7xzW8kYT3qTpvRntEClE7X/ZIhB4Bz0D13nc17pkDT/SQlGoTpGi3eK\n",
       "tRpV1nRj8WQcz6BsnFaRHApEArxx4HbjP4y1UINXBC/UOj59YvddkuEnfXWqF1+IUXVqVlHTNQ2Y\n",
       "N50TOo8RpBD5nYLO5Nf8mtdVHpPAcppPSWqJgrdKSYIaFCaN3TWLnus/coqJvObFAmh1wZplqIRe\n",
       "GEmDOxkarPvyMIqrkiozbRhINvax1FOuVn/I+jpdeszUMB3OETI6l/q9PklSHjUOVRz4+kQYxsdx\n",
       "CGITuwX1iQe4+e0IA0Z41zE2aHpIkEktkLdpEDPLWko5SX+ZNE9yWYUoAi2VbwG9GCDqSIzMzrKT\n",
       "AAAAiUGeHkUVLBT/AAJJcfxEqY1U/azEx9CDa9XOXeFKdBoe06ogAznERVRm5OrOUWd+7h3CT7xG\n",
       "61am4O0ZeG9fsEf58p2MnoPhbFENdLdrH0bKn1QWcghwY5nJil2wIuDvERYOzHpS7BOL8fQIdCk1\n",
       "7//d4EdK6+ocgw88IzGlm3VSZGuCLTJp+qiAAAAAMgGePXRBPwAD/5UDD0nJIM1w54071JIS1K5o\n",
       "ABIwxgRpdZExh0CtTD/Een7sFfRUULN7AAAAMQGeP2pBPwABB/UjnXfnCVbSo62gBLGGp5vt9DhL\n",
       "PYs/tPFZJLrZ7E8Ky96JytxgekEAAAMfQZokSahBbJlMCC///tqmWAG85UpoAV5+JqFf0k5G2PIV\n",
       "sX6ESy/XbRgEaPdCtkoZqwK/IbTCBcyMGK6axZPN8SeSxCzXjCo16HOpIKO+U1MirnVlQ/dCK+AF\n",
       "wIiHUswwlAUsCg5oecFSfc3pIxOlA0EHTdWr6Zkosv3brLbEdpPXrbhlt72Wko751Y/88QEwAA4C\n",
       "yW/uwqqVp1lW2VCsoJ/IQP239A7a31/XV1LJvqWuCk79sLr/u2fcQvZ/uSq6Iv3ypoqE6eHQFSMh\n",
       "wH2aqsrxNoIpMCvXqv7uwAfQy2w2pA+WP2KyRZIhkWZXdtTXkPA5HeWa7yItp0fINQRp3W8YMDTL\n",
       "Z++D4IvpRJMEZNnJcsyBjiF2pX0aylOWwoCGmBEe3qRZROVtW7u+LOKj7BzcO1jPT4E0keHJS42e\n",
       "lMWDYL9lomZD3gHcIwCbX4MOPHzG9APywA4Rk1wufOqR5iLmfo/7M3zLUtQUGpm/k1jQurdInD+D\n",
       "T0l8qSomtmW1d30yT5J4rx5R6G4OPAPxpugQ8lDn5hS9UgVarnwR6oMsVL5SQPy8fsQomFPtSEN5\n",
       "+cfQcmDdz9cmJD7/S3R6Zz4NFRMjLjgspfydFyT93m/TuDNa35u37wfTsa9mrZOSK2/dAcpOyAHx\n",
       "CMMRxLPp4BCqVn8MV6NrFihowK0ZxKYHOtPzyLL8hk2jFfBUItt4Z6F+Yupmu8QcJHgQecr/zc8Z\n",
       "kkOu7xaJm1zqaNqUZ4vsz86L9t13DrXSNeIyurn8zeeIqbN95kG9aUI58XgyZoIACZ+H9tHkUO9U\n",
       "dIyV9qAQmohUbQ/rCGgn8iZchdaZej/epXS0klN4iI9UevWVBhH4gJTLP3bnIlmU5E9yZjYWjLEC\n",
       "VRrn7GzjvrCqgOpZibfQLCWhe8fO2x362hfkwDfO60Vyv9i21IeEMR+/rKJUr1EFUOqMHepl7O4U\n",
       "H9YW2CWFB1eefK4Gcr4miqkT6qYmYoqgoDUM7tg7XmbxdAXWIPbQs4IgUThTLdX8auo9Lpgu5aKc\n",
       "nUf3KICcHs7ykPunmc4DNJ95laLDqRW8EgAAAFFBnkJFFSwU/wACSXH6RgAB7m9AlFJcTUMzbkjb\n",
       "QOPrwYvTAmVxxOLo1+fYFOc69SLNcuTj/rEo1xmGxIpWSJET3NERYhisTHlSzGQ7kq0C96cAAABH\n",
       "AZ5hdEE/AAQgToAJkt/DH0Wjfcv3Bv2+mEdDOzWocbZyOGPHq8U2QkAQTYXMG7uiQOtKeSXmGRAJ\n",
       "UCAfBcJXsL+PwzBXtFgAAAA3AZ5jakE/AAPmEalbL7wAOijZNBmGG91O+w3543Ph5P2PLZ11m+2M\n",
       "Xa8j3zz2xBCfuPV35JjPmQAABB1BmmhJqEFsmUwIL//+2qZYAXc1EMACTD3ZeOCUvdBC5/mbPMNc\n",
       "Uhe5mt0TuFFPnN/4610SVvv8FJnxj5I938ISq2EXYTRizxJE4Qk2Ln7xfq0Y0iUD8opPntSICNkd\n",
       "zZ3Hb0Ue6O3WmOs+4y3kvrHOveHIYLrgEi/wby1vfz53JBpw2iiPse2FUoKPY4i/z3HFsLroV12v\n",
       "aPbHLUs99AaepZbNnXjgGOZ7nwDkbmzlTIclN97UpomZLm96NbFjqy11pZKMO6lPTBQTjzFet3Xi\n",
       "4VsWi5Wb0ITZOMn5jKr7t0uK2ZKsymbpgkqC6+LpCJ+MB5cSvUcRjUQRP0ahq0RpFVYxgC34FJSI\n",
       "OVVu4XgkNe6Dgr/eCujmnmEA6YHECGEpglwggbzSK99z/6yTib1bfpEoiYqT0sbEPSgalDqp4xjL\n",
       "agsCcSpoVTRk87fTMlwjdSVzfobvepgilSgmF4/TD/+ziNtupXpPTeVQrvHLEEe3ICPwglEQHbcH\n",
       "u7/MwcyyJJPAdccjOZWOa+f/hxDEhrCRF8VdOx+LvFUbtM/2LM7BPGqMmzoZcFhEYn4+DbIVLNTW\n",
       "Xqgi3UZaWmLyp95q6I0u1PAbtxzf1AFTmVqLhuHkABfnE7pM1A6cUcfkT5z/o2v7FFJx+mSGnLGQ\n",
       "agloESoGAgFx2/COK6VdQpDqVXm3TIyg9d+tIOFnrnPlA/ZKC2PGylxBie/sH/jgque7dWbat6Kh\n",
       "ogwW0DQfuRgqafwzgMUdhFeyjnOv/6XYn6bLq77+Z0pTV69NUXIjLf9WPXKXQKXY4eLV2m48FSfx\n",
       "MnjrD2/6KG/164AzwPooGKQMzlbfTvP01pIAPgG+d70boKHj0SyFJw1SNRpTQFOIP0PU67B8a9ep\n",
       "sRARjCeX8+DQRLiLsbX8BZsErznetz54voWobGYcOUAUHyt1/sZ5RvSpugj1kQjj4OPmKG62+S4e\n",
       "e9QNUSzQk/dEtmMHHX0XUPs5enkOUIiMcdU6RgLhUQXhd8QXYTuZEcf5qg3ST6y/62gy+6H6i1b8\n",
       "4gWUzQQZzCgJIhJv1mMxYKsaBw6Ln/tUnzqOyerr5LkYedcU1wfZjTHbgiyX+ZqiPZiMAEfaDh3V\n",
       "zdKynVZnCmb5xyqlI3XsyyV0dnXL1z5IFCR8ov2hstC7sWgKY5ayiCj2TfgvwZekAVulk7Fa7hHL\n",
       "rLEH8bZEqEhZ5vHiu15y1itsxIHilz8T1dbPoIbxc4j/KLBmKNsCW/NZZUr+3Em28hMIQR+xnTrq\n",
       "DenfvFyhbYp4gLIWeWLkKlla7hzG1C2S0NlRpM5I6w9iZL3m//KgAkdzUDWIsKsU08TtrMAqSaz9\n",
       "X7qcNv5lB0kPVH6oO6KDd+nETaEsUhlS16guL5aECXyJIdGNZvR30Ipp4tvqR8EAAABkQZ6GRRUs\n",
       "FP8AAklx/ABzHWaIIlL8k9pQMTP/MgwQsdk0kbqgBM7BqJqFkjE2nNdFltPNPin/j95a5XUhV5BV\n",
       "OVgwH4PcGa3iR9ZfoQn0VAXYN/UezYwQw25PCvcEsWXE7dtRPwAAADsBnqV0QT8AA7ofRDnSFbg1\n",
       "3xrN+wqQ3w+GqYKint24f4swACxJoLZSzk1hB4n+T3fgbptMGg95lXPYsQAAAEoBnqdqQT8AA6RW\n",
       "GXbTdIAfZSzefrapaDVgVAAOXe/FDNN/+P64GnKQWJBziGsLswpHiR/nBzlKWX38zpwhOakLnc9b\n",
       "99fzTt8XBAAAA2dBmqxJqEFsmUwILf/+1qVQAYDjZcAG163wpB0R/XpqZVVv/Bw/ZTWIFUkOMBHa\n",
       "ueEaSZw5lJgZFqm/nOA7BCEEXw+pZqQliAstJsBd7JfpvAJRc//JsudnWGr5U0HCGA0yedMCky4p\n",
       "F8t97l6cgmlj+mzf1/PEBL+mWQmj7wfbtiigv4Sq9kVBFY7mjXRmoHrCvvEmn8m8pCtMJqGDahFU\n",
       "IODvDP05DVwQE3Fguicj7CsiVJqZC0rA5HUOw+mbsQWf7pB9V+mpuamlwJG4zA+VNwCyOrv88RRf\n",
       "Lgf16eWheI91kPi+hFc8BC1vqyj7PErl5ngyUWThmunkG5xVm1CIg52rU0s3IO95nuaDCI4QHZnD\n",
       "M3LxIMACffxxk5NTX9cBpNpnqGfa7/2LQRiXpTKL0h7KqiRaxoV28UjAu5+KJ8UGnJf6+WpQEdDO\n",
       "ih+wyffjVxIVq41ged81+c84Dffr5cqRNGQVxxyYcKn++DHbUIkRClUq9rgauqpBCE53etU4BBoy\n",
       "yph/0b1u4BzUD/FINp+tVGL57mtegqL4ZOGIBmWopdLRBZgxJnG7T9KKxlhkkrC0SyCkIiIJeVeR\n",
       "hADmkpRR1M8BDfPlI57u8S0bE7sl+xmggYzbUR44OQMccweDIgomFnIiERCu8+NnOem7zsK0WsUF\n",
       "PAmoH5eBbXLfjRmG5F1oN9BXTx4/vpgXpuTogpP9KRBzFt/8bdOWk+pnqLpQWf9/OCAU19d2aoLa\n",
       "RZKP8Yp7Tz7+6JcrgENZacJHiyhllantK4eCnIoF+f7S+FOjHXGxDCVn4+v1czWgRi1sHzpDioVy\n",
       "bFPwIjREyotojQPkfZqp+hK39U+TMA9v/A881xv4GVQYthnmrqFt42qrsoQju/8C1Nx8Cg5qeWjl\n",
       "XhYyxx/BLwprPvdO2nhW7AMOrJM5pM2/tNdYwoOl3Z5jezSKNP0EXNl4S60shcKc6nflChxFDi96\n",
       "CHlHwpQlA04CFE1Ic2uMN1dj7EdcAQnPvcHqlB+m/xbssA3vz/BzF1n3D91MBN0Aqnfo7KbiLP3j\n",
       "5eAG/LHtbSXE74szErGfNuyNgwaPgLuyEQV6fCbGIseN3+ABqyX6qT9qiW+MFIIHsaZMDf3MpxAf\n",
       "HPCIC910tQt+Mm/PoS8Tdc/oTv+rfsr4TZMvAAAAVEGeykUVLBT/AAJJcfwUVjBvO1R0xQAXbrsh\n",
       "W6bkPjwovtS3nUPEpfsr0la/sDhjE7vJfv4T1eURA3PODGOos/lam2Au3fotov7XRw9HisjOY9V/\n",
       "gQAAAEEBnul0QT8AA9C0gAli1bPGGle/f/ckbYL9CQFXus5wet8Ft4Su2XSXBS9zqLPdZvDOVkCH\n",
       "KpnniWDaMI3PBdZCPgAAAC8BnutqQT8AA6RWIHFlb13NeJDRXJ4/psiFADdzBj4Y5rTbfTKVwxc1\n",
       "aDibnBiriAAAAiBBmvBJqEFsmUwIKf/+1oywAspYdQAWjx4T2lNSXEceGtZE5N/RAvM+5wgFY5hQ\n",
       "YHnDkBAWilLeCLncQHlGqW1lrNoBGkO5KCEUyNilWuA9X2Q2LUWOZXqXEvTt+0ibThSRT0oyGv65\n",
       "/sJKc1FnYPYFQvHtYyRy/vQGnuv9SgUFxcsizR0+Ys32ZzHBfLEIcbfHNF7NZn1c7oYGW+kwXaD3\n",
       "bICIGyMWfge3BlmygpkNMX8imG5Ddq38VZn3mHHaH7933XfrQumsRYh7n5PpjBLOi4A6vcj6DvDN\n",
       "ipnLa9JVrXa6J8QJ00WmAIoZRa3LaNHdUBIVLaOmbCpxWWddfmD2k5xmyM1DcToFmJoS9oQwRJzd\n",
       "i4aGzFpdP/EjcZXpSEvtd6wWPL7XPFXQGrtio+zWTAA0XKe/K40oqXuse/FCnSRX1/VF2YHsi8vg\n",
       "CtOR2ddZEEb/xe3O7us3ptxuCwb76rQBgG+W5WRKAD8k/ABPPUPDWYm0LWSjx4CZcdAv27uDxSxR\n",
       "UOpg46eG7jtaJ4bLsA+T0h/Ytcyzq67D19weGY4oYSbc3dgDWHqScSvU1ZamJFXkBKfg5X1WffUz\n",
       "bNvB1oOwOuEcppvE0xDVcbSsnyPYglg/lLmyF+kRtv0iBrmp96JBgJkP01MbdHR17ikK2mgu0pdK\n",
       "g2JCyk6o4LndOOsSLLkWUoaQKtvBVljqhALz5gEFh362aOGYSBhNkRFBAAAASEGfDkUVLBT/AAJJ\n",
       "cfvt1rHDjBGmSeZ4vtKO3t/lsBNHapM15x/bRcxvkXE3Eu84qTK1Iq7AE7u6JqeddhQJo62fJESU\n",
       "L/P+OQAAAGgBny10QT8AA6QfOKYAEsYe/UW30WbKYvEw2cWGFsResi8k3WixFdZJssGEJQFwAt/G\n",
       "L/qKHbjjLZ+KRLMXmWvj0ezXD5ismdmLuqPeh/LkckwWbKqpSrqZHnoGQlEaTvf2w2tlq2aNSQAA\n",
       "ADMBny9qQT8AA6RWH7SZhYTjgAvs1UVDTbLNkakfxl8XlEDEE2T0QZp78w4WoD6J77oICPgAAACL\n",
       "QZsxSahBbJlMCCf//rUqgAoJUNAAljEsS+HwaV8LmwqLgef042IN3bkUbL/1a9SEXREVagOyUPAE\n",
       "nWeJ9LotOgnlHQVvtnHHOlqXDh/f8zCvJOO5Gzh45VKJErA2zaAHPgxRSzA9Q/+dodzSoFiZ/5h7\n",
       "GF3fFLH7GK/NTtZAXozjhMSqhbomTO4l4AAABYZtb292AAAAbG12aGQAAAAAAAAAAAAAAAAAAAPo\n",
       "AAB1MAABAAABAAAAAAAAAAAAAAAAAQAAAAAAAAAAAAAAAAAAAAEAAAAAAAAAAAAAAAAAAEAAAAAA\n",
       "AAAAAAAAAAAAAAAAAAAAAAAAAAAAAAAAAAACAAAEsHRyYWsAAABcdGtoZAAAAAMAAAAAAAAAAAAA\n",
       "AAEAAAAAAAB1MAAAAAAAAAAAAAAAAAAAAAAAAQAAAAAAAAAAAAAAAAAAAAEAAAAAAAAAAAAAAAAA\n",
       "AEAAAAABsAAAASAAAAAAACRlZHRzAAAAHGVsc3QAAAAAAAAAAQAAdTAAADAAAAEAAAAABChtZGlh\n",
       "AAAAIG1kaGQAAAAAAAAAAAAAAAAAACgAAASwAFXEAAAAAAAtaGRscgAAAAAAAAAAdmlkZQAAAAAA\n",
       "AAAAAAAAAFZpZGVvSGFuZGxlcgAAAAPTbWluZgAAABR2bWhkAAAAAQAAAAAAAAAAAAAAJGRpbmYA\n",
       "AAAcZHJlZgAAAAAAAAABAAAADHVybCAAAAABAAADk3N0YmwAAACzc3RzZAAAAAAAAAABAAAAo2F2\n",
       "YzEAAAAAAAAAAQAAAAAAAAAAAAAAAAAAAAABsAEgAEgAAABIAAAAAAAAAAEAAAAAAAAAAAAAAAAA\n",
       "AAAAAAAAAAAAAAAAAAAAAAAAAAAY//8AAAAxYXZjQwFkABX/4QAYZ2QAFazZQbCWhAAAAwAMAAAD\n",
       "ACg8WLZYAQAGaOvjyyLAAAAAHHV1aWRraEDyXyRPxbo5pRvPAyPzAAAAAAAAABhzdHRzAAAAAAAA\n",
       "AAEAAAAyAAAYAAAAABRzdHNzAAAAAAAAAAEAAAABAAABoGN0dHMAAAAAAAAAMgAAAAEAADAAAAAA\n",
       "AQAAeAAAAAABAAAwAAAAAAEAAAAAAAAAAQAAGAAAAAABAAB4AAAAAAEAADAAAAAAAQAAAAAAAAAB\n",
       "AAAYAAAAAAEAAHgAAAAAAQAAMAAAAAABAAAAAAAAAAEAABgAAAAAAQAAeAAAAAABAAAwAAAAAAEA\n",
       "AAAAAAAAAQAAGAAAAAABAAB4AAAAAAEAADAAAAAAAQAAAAAAAAABAAAYAAAAAAEAAHgAAAAAAQAA\n",
       "MAAAAAABAAAAAAAAAAEAABgAAAAAAQAAeAAAAAABAAAwAAAAAAEAAAAAAAAAAQAAGAAAAAABAAB4\n",
       "AAAAAAEAADAAAAAAAQAAAAAAAAABAAAYAAAAAAEAAHgAAAAAAQAAMAAAAAABAAAAAAAAAAEAABgA\n",
       "AAAAAQAAeAAAAAABAAAwAAAAAAEAAAAAAAAAAQAAGAAAAAABAAB4AAAAAAEAADAAAAAAAQAAAAAA\n",
       "AAABAAAYAAAAAAEAAHgAAAAAAQAAMAAAAAABAAAAAAAAAAEAABgAAAAAAQAAMAAAAAAcc3RzYwAA\n",
       "AAAAAAABAAAAAQAAADIAAAABAAAA3HN0c3oAAAAAAAAAAAAAADIAAB4QAAAFyQAAAKEAAAA1AAAA\n",
       "OQAABsMAAAB5AAAAJgAAAEQAAAVkAAAAqwAAAD8AAABYAAAFVgAAAHEAAABgAAAAJwAABdgAAABx\n",
       "AAAAKQAAAEsAAAT/AAAAbgAAADYAAAAqAAAEbAAAAFYAAABGAAAAJgAABMIAAACNAAAANgAAADUA\n",
       "AAMjAAAAVQAAAEsAAAA7AAAEIQAAAGgAAAA/AAAATgAAA2sAAABYAAAARQAAADMAAAIkAAAATAAA\n",
       "AGwAAAA3AAAAjwAAABRzdGNvAAAAAAAAAAEAAAAsAAAAYnVkdGEAAABabWV0YQAAAAAAAAAhaGRs\n",
       "cgAAAAAAAAAAbWRpcmFwcGwAAAAAAAAAAAAAAAAtaWxzdAAAACWpdG9vAAAAHWRhdGEAAAABAAAA\n",
       "AExhdmY1Ny40Mi4xMDA=\n",
       "\">\n",
       "  Your browser does not support the video tag.\n",
       "</video>"
      ],
      "text/plain": [
       "<IPython.core.display.HTML object>"
      ]
     },
     "execution_count": 47,
     "metadata": {},
     "output_type": "execute_result"
    },
    {
     "data": {
      "image/png": "[encoded data removed]",
      "text/plain": [
       "<matplotlib.figure.Figure at 0xb60a6d8>"
      ]
     },
     "metadata": {},
     "output_type": "display_data"
    }
   ],
   "source": [
    "(s,t,G) = grid_input(5)\n",
    "connected_FIFO_viz(s,t,G,'grid_layout')\n",
    "show_animation()"
   ]
  },
  {
   "cell_type": "markdown",
   "metadata": {},
   "source": [
    "The function ```connected``` is known as __depth first search__ and ```connected_FIFO``` is known as __breadth first search__"
   ]
  },
  {
   "cell_type": "markdown",
   "metadata": {},
   "source": [
    "# Wrapping up"
   ]
  },
  {
   "cell_type": "markdown",
   "metadata": {},
   "source": [
    "This week you actually managed to do some pretty impressive work - __congratulations__ "
   ]
  },
  {
   "cell_type": "markdown",
   "metadata": {},
   "source": [
    "What I hope you learned:\n",
    "\n",
    "* Coding is about __understanding what problem you need to solve__ then  __breaking it into smaller problems__\n",
    "\n",
    "* This is not about typing or computers but about __thinking__, just like math.\n",
    "\n",
    "My main hope:\n",
    "\n",
    "* This got you excited about learning more about computer science."
   ]
  },
  {
   "cell_type": "markdown",
   "metadata": {},
   "source": [
    "## Ask me anything.\n",
    "\n",
    "* About computer science\n",
    "* About Harvard\n",
    "* About studying in the u.s.\n",
    "* Anything else"
   ]
  },
  {
   "cell_type": "markdown",
   "metadata": {},
   "source": [
    "# Thank you for a great week!!\n",
    "\n",
    "You are always welcome to contact me:\n",
    "\n",
    "Email: ```b@boazbarak.org```\n",
    "\n",
    "Web page: ```http://www.boazbarak.org```"
   ]
  },
  {
   "cell_type": "markdown",
   "metadata": {
    "collapsed": true
   },
   "source": [
    "# Lab work"
   ]
  },
  {
   "cell_type": "markdown",
   "metadata": {},
   "source": [
    "### Exercise 1\n",
    "\n",
    "Implement a function ```hasElementSum(n, L)``` where ```n``` is an ```int``` and ```L``` is a list of ```int```s. The function should return\n",
    "```False``` if no two distinct elements in ```L``` sum to ```n```, and otherwise it should return a list of size two, where the\n",
    "elements of the returned list are two elements in ```L``` which sum to ```n```. There can be multiple valid return values."
   ]
  },
  {
   "cell_type": "code",
   "execution_count": null,
   "metadata": {
    "collapsed": true
   },
   "outputs": [],
   "source": [
    "def hasElementSum(n, L):\n",
    "    # write your code here\n",
    "    pass\n",
    "\n",
    "print hasElementSum(5, [1,2,3,4])\n",
    "# can return either [1,4], [4,1], [2,3], or [3,2]\n",
    "\n",
    "print hasElementSum(8, [1,2,3,4])\n",
    "# should return False\n",
    "\n",
    "print hasElementSum(4, [2,2])\n",
    "# should return [2,2]"
   ]
  },
  {
   "cell_type": "markdown",
   "metadata": {},
   "source": [
    "### Exercise 2\n",
    "\n",
    "Implement a function ```hasElementSumSorted(n, L)``` where ```n``` is an ```int``` and ```L``` is a <b>sorted</b> list of ```int```s. The function should return\n",
    "```False``` if no two distinct elements in ```L``` sum to ```n```, and otherwise it should return a list of size two, where the\n",
    "elements of the returned list are two elements in ```L``` which sum to ```n```. There can be multiple valid return values. Your code should be able to handle lists of very large size (for example, of size one million). <b>Hint</b>:\n",
    "use binary search."
   ]
  },
  {
   "cell_type": "code",
   "execution_count": 7,
   "metadata": {
    "collapsed": false
   },
   "outputs": [
    {
     "name": "stdout",
     "output_type": "stream",
     "text": [
      "None\n"
     ]
    }
   ],
   "source": [
    "# now L is sorted, from smallest to biggest\n",
    "def hasElementSumSorted(n, L):\n",
    "    # write your code here\n",
    "    pass\n",
    "\n",
    "print hasElementSumSorted(750000, range(1,1000000))\n",
    "# there are many correct return values [a,b], but a+b should sum to 750,000, be different, and be in the range\n",
    "# from 1 to 999,999"
   ]
  },
  {
   "cell_type": "markdown",
   "metadata": {},
   "source": [
    "### Exercise 3\n",
    "\n",
    "Define a function ```flooredSquareRoot(n)``` which takes a positive ```int``` or ```long``` ```n``` and computes its square root, rounded down to the nearest integer. Python has a buit-in ```sqrt``` function which could be helpful here, but don’t use it. You also should not use the exponentiation operator ```**```. Your code should run\n",
    "quickly as long as ```n``` is not bigger than ```1,000,000```."
   ]
  },
  {
   "cell_type": "code",
   "execution_count": null,
   "metadata": {
    "collapsed": true
   },
   "outputs": [],
   "source": [
    "def flooredSquareRoot(n):\n",
    "    # write your code here\n",
    "    pass\n",
    "\n",
    "print flooredSquareRoot(10)\n",
    "# should print 3\n",
    "\n",
    "print flooredSquareRoot(25)\n",
    "# should print 5\n",
    "\n",
    "print flooredSquareRoot(1000001)\n",
    "# should print 1000"
   ]
  },
  {
   "cell_type": "markdown",
   "metadata": {},
   "source": [
    "### Exercise 4\n",
    "\n",
    "Write a function ```flooredSquareRootFast(n)``` which works just as above, but is fast even for very large numbers (see below). Use binary search."
   ]
  },
  {
   "cell_type": "code",
   "execution_count": null,
   "metadata": {
    "collapsed": true
   },
   "outputs": [],
   "source": [
    "def flooredSquareRootFast(n):\n",
    "    # write your code here\n",
    "    pass\n",
    "\n",
    "t = 10**50 + 1\n",
    "print flooredSquareRootFast(t)\n",
    "# should print 10000000000000000000000000 (that's 25 zeroes)\n",
    "# note: if you didn't use the Fast version, this would take a really long time!"
   ]
  },
  {
   "cell_type": "markdown",
   "metadata": {},
   "source": [
    "### Exercise 5\n",
    "\n",
    "Implement a function ```calcNthSmallest(n, intervals)``` which takes as input a nonnegative int ```n```, and a list of intervals [[a<sub>1</sub> , b<sub>1</sub> ], . . . , [a<sub>m</sub> , b<sub>m</sub> ]] and calculates the nth smallest number\n",
    "(0-indexed) when taking the union of all the intervals with repetition. For example, if the intervals\n",
    "were [1, 5], [2, 4], [7, 9], their union with repetition would be {1, 2, 2, 3, 3, 4, 4, 5, 7, 8, 9} (note 2, 3, 4\n",
    "each appear twice since they’re in both the intervals [1, 5] and [2, 4]). For this list of intervals, the\n",
    "0th smallest number would be 1, and the 3rd and 4th smallest would both be 3.\n",
    "Your implementation should run quickly even when the a<sub>i</sub>, b<sub>i</sub> can be very large (like, one trillion),\n",
    "and there are several intervals (use binary search). First try a version without binary search that works fast when the a<sub>i</sub> and b<sub>i</sub> are small.\n",
    "\n",
    "You may find it useful to implement the helper functions below."
   ]
  },
  {
   "cell_type": "code",
   "execution_count": null,
   "metadata": {
    "collapsed": true
   },
   "outputs": [],
   "source": [
    "# compute the index of the first time x appears in the union of intervals\n",
    "def firstTime(x, intervals):\n",
    "    pass\n",
    "\n",
    "# compute the index of the last time x appears in the union of intervals\n",
    "def lastTime(x, intervals):\n",
    "    pass\n",
    "\n",
    "def calcNthSmallest(n, intervals):\n",
    "    # write your code here\n",
    "    pass"
   ]
  }
 ],
 "metadata": {
  "anaconda-cloud": {},
  "kernelspec": {
   "display_name": "Python [Root]",
   "language": "python",
   "name": "Python [Root]"
  },
  "language_info": {
   "codemirror_mode": {
    "name": "ipython",
    "version": 2
   },
   "file_extension": ".py",
   "mimetype": "text/x-python",
   "name": "python",
   "nbconvert_exporter": "python",
   "pygments_lexer": "ipython2",
   "version": "2.7.12"
  }
 },
 "nbformat": 4,
 "nbformat_minor": 0
}
