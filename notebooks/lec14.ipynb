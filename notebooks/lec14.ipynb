{
 "cells": [
  {
   "cell_type": "markdown",
   "metadata": {},
   "source": [
    "# Memoization\n",
    "\n",
    "Memoization is a general technique for speeding up recursive algorithms. Specifically, in this technique if there is some function ```f``` taking in some inputs ```p```, we maintain a lookup table on the side indexed by possible such inputs. If ```f(p)``` has already been calculated in the past, we return ```f(p)``` from the lookup table. Otherwise, we compute it from scratch, insert it into the lookup table, then return it. We illustrate this technique below using an example."
   ]
  },
  {
   "cell_type": "markdown",
   "metadata": {
    "slideshow": {
     "slide_type": "slide"
    }
   },
   "source": [
    "We will show how we can use memoization to make significant savings in running time.\n",
    "\n",
    "# Example1: Fun at Parties\n",
    "\n",
    "You have a budget of $D$ dollars. You are given a list $L$ of parties $[ [c_0,f_0],\\ldots, [c_{n-1},f_{n-1}]]$ where the $i^{th}$ party costs $c_i$ to attend and will give you $f_i$ units of fun.\n",
    "What is the maximum amount of fun you can have with your budget?"
   ]
  },
  {
   "cell_type": "markdown",
   "metadata": {
    "slideshow": {
     "slide_type": "slide"
    }
   },
   "source": [
    "We start by solving this with a simple recursive procedure. \n",
    "One way to think about this question is as follows:\n",
    "\n",
    "* If there was only one party that has cost $c$ and yields fun $f$, then our decision is simple: if $D \\geq c$ then we can attend the party and get $f$ units of fun, and otherwise we get zero units of fun.\n",
    "\n",
    "* If there are two parties with costs/fun $(c_0,f_0)$ and $(c_1,f_1)$ then we might have a choice to make. It's often good in such cases to split a complicated choice to a sequence of simple choices. So let's start with the choice of whether or not to attend the first party. If we do attend it, then we'll get $f_0$ units of fun, and be left with a budget of $D-c_0$. If we don't then we get zero units of fun, and are left with $D$ dollars.\n",
    "\n",
    "* Therefore if $\\mathtt{maximum\\_fun}(D,((c_0,f_0),\\ldots,(c_n,f_n)))$ is the maximum amount of fun that we can have given a budget of $D$ and a the cost/funs $((c_0,f_0),\\ldots, (c_n,f_n))$ then we have the following equation:\n",
    "\n",
    "$\\mathtt{maximum\\_fun}(D,((c_0,d_0),\\ldots,(c_n,f_n))) = \\max \\{ 0 + \\mathtt{maximum\\_fun}(D,((c_1,d_1),\\ldots,(c_n,f_n))) , f_0 + \\mathtt{maximum\\_fun}(D-c_0,((c_1,d_1),\\ldots,(c_n,f_n))) \\}$.\n",
    "\n",
    "Can you see why?\n",
    "\n",
    "This now suggests a simple recursive algorithm for the '''maximum_fun''' function:"
   ]
  },
  {
   "cell_type": "code",
   "execution_count": 80,
   "metadata": {
    "collapsed": false,
    "slideshow": {
     "slide_type": "slide"
    }
   },
   "outputs": [],
   "source": [
    "def maximum_fun(D,L):\n",
    "    \"\"\"returns the maximum amount of fun we can have with D dollars attending the parties listed in L, \n",
    "    where L is a tuple/list containing pairs (c,f) of cost/fun for every party.\"\"\"\n",
    "    \n",
    "    step_pc() # ignore for now\n",
    "    if not L:\n",
    "        # if L is empty then we can't have any fun\n",
    "        return 0\n",
    "    fun_if_skip_first_party = maximum_fun(D,L[1:]) # the amount of fun we can have if we skip first party \n",
    "    if D<L[0][0]: # if we can't afford to attend the first party then we have no choices to make\n",
    "        return fun_if_skip_first_party\n",
    "    # otherwise we will check both options and see what's the maximum fun we can have\n",
    "    return max(fun_if_skip_first_party, L[0][1]+maximum_fun(D-L[0][0],L[1:]))"
   ]
  },
  {
   "cell_type": "markdown",
   "metadata": {
    "collapsed": false,
    "slideshow": {
     "slide_type": "slide"
    }
   },
   "source": [
    "Here are some examples:\n",
    "\n",
    "* $\\mathtt{maximum\\_fun}(1,((2,10),))=0$: We can't afford to go to the party so get no fun (:\n",
    "* $\\mathtt{maximum\\_fun}(2,((2,10),))=10$\n",
    "* $\\mathtt{maximum\\_fun}(2,((2,5),(2,10)))=10$: We can afford both parties but the second one gives us more fun\n",
    "* $\\mathtt{maximum\\_fun}(4,((1,6),(2,5),(3,6),(2,10)))=16$: The best combination is to go to the first  and fourth parties"
   ]
  },
  {
   "cell_type": "code",
   "execution_count": 81,
   "metadata": {
    "collapsed": false,
    "slideshow": {
     "slide_type": "fragment"
    }
   },
   "outputs": [
    {
     "data": {
      "text/plain": [
       "0"
      ]
     },
     "execution_count": 81,
     "metadata": {},
     "output_type": "execute_result"
    }
   ],
   "source": [
    "maximum_fun(1,((2,10),))"
   ]
  },
  {
   "cell_type": "code",
   "execution_count": 82,
   "metadata": {
    "collapsed": false,
    "slideshow": {
     "slide_type": "fragment"
    }
   },
   "outputs": [
    {
     "data": {
      "text/plain": [
       "10"
      ]
     },
     "execution_count": 82,
     "metadata": {},
     "output_type": "execute_result"
    }
   ],
   "source": [
    "maximum_fun(2,((2,10),))"
   ]
  },
  {
   "cell_type": "code",
   "execution_count": 83,
   "metadata": {
    "collapsed": false,
    "slideshow": {
     "slide_type": "fragment"
    }
   },
   "outputs": [
    {
     "data": {
      "text/plain": [
       "10"
      ]
     },
     "execution_count": 83,
     "metadata": {},
     "output_type": "execute_result"
    }
   ],
   "source": [
    "maximum_fun(2,((2,5),(2,10)))"
   ]
  },
  {
   "cell_type": "code",
   "execution_count": 84,
   "metadata": {
    "collapsed": false,
    "slideshow": {
     "slide_type": "fragment"
    }
   },
   "outputs": [
    {
     "data": {
      "text/plain": [
       "16"
      ]
     },
     "execution_count": 84,
     "metadata": {},
     "output_type": "execute_result"
    }
   ],
   "source": [
    "maximum_fun(4,((1,6),(2,5),(3,6),(2,10)))"
   ]
  },
  {
   "cell_type": "markdown",
   "metadata": {
    "slideshow": {
     "slide_type": "slide"
    }
   },
   "source": [
    "So far so good, but what happens if we try a larger example?"
   ]
  },
  {
   "cell_type": "code",
   "execution_count": 85,
   "metadata": {
    "collapsed": false,
    "slideshow": {
     "slide_type": "fragment"
    }
   },
   "outputs": [
    {
     "name": "stdout",
     "output_type": "stream",
     "text": [
      "maximum_fun is .. 253\n",
      "1 loop, best of 1: 7.97 s per loop\n"
     ]
    }
   ],
   "source": [
    "n = 23\n",
    "%timeit -n1 -r1 print \"maximum_fun is ..\",maximum_fun(n*n,[(i,i) for i in range(n)])"
   ]
  },
  {
   "cell_type": "markdown",
   "metadata": {
    "slideshow": {
     "slide_type": "slide"
    }
   },
   "source": [
    "This starts to be a little slow. More generally, lets see how the time grows as a function of n"
   ]
  },
  {
   "cell_type": "code",
   "execution_count": 86,
   "metadata": {
    "collapsed": true,
    "slideshow": {
     "slide_type": "fragment"
    }
   },
   "outputs": [],
   "source": [
    "inputs = [((n*n),[(i,i) for i in range(n)]) for n in range(1,24)];"
   ]
  },
  {
   "cell_type": "code",
   "execution_count": 87,
   "metadata": {
    "collapsed": false,
    "slideshow": {
     "slide_type": "fragment"
    }
   },
   "outputs": [
    {
     "name": "stdout",
     "output_type": "stream",
     "text": [
      "-----------------------\n",
      ".......................0.489 micro-seconds per step\n",
      "lengths, observations: 23 23 [[1]\n",
      " [2]\n",
      " [3]\n",
      " [4]\n",
      " [5]] [[ 1.5849625 ]\n",
      " [ 2.80735492]\n",
      " [ 3.9068906 ]\n",
      " [ 4.95419631]\n",
      " [ 5.97727992]]\n",
      "Curve: $2\\exp(1.010000n)$\n"
     ]
    },
    {
     "data": {
      "image/png": "[encoded data removed]",
      "text/plain": [
       "<matplotlib.figure.Figure at 0x7c802e8>"
      ]
     },
     "metadata": {},
     "output_type": "display_data"
    },
    {
     "data": {
      "image/png": "[encoded data removed]",
      "text/plain": [
       "<matplotlib.figure.Figure at 0xb139048>"
      ]
     },
     "metadata": {},
     "output_type": "display_data"
    }
   ],
   "source": [
    "(outputs,curve,lengths,times,steps) = timer(maximum_fun,inputs,inlen = lambda i: len(i[1]) , doplot_logscale=False);"
   ]
  },
  {
   "cell_type": "markdown",
   "metadata": {
    "slideshow": {
     "slide_type": "slide"
    }
   },
   "source": [
    "We can see that when we increase the input length by one we take about twice as much time. \n",
    "If we extrapolate from these data, we get that if we tried this for 40 parties (which might not be too much for some people), then the total amount of time it would take us to compute the sum would be about"
   ]
  },
  {
   "cell_type": "code",
   "execution_count": 120,
   "metadata": {
    "collapsed": false,
    "slideshow": {
     "slide_type": "fragment"
    }
   },
   "outputs": [
    {
     "data": {
      "text/plain": [
       "'25,600 seconds'"
      ]
     },
     "execution_count": 120,
     "metadata": {},
     "output_type": "execute_result"
    }
   ],
   "source": [
    "t = curve(40)\n",
    "\"{0:,g} seconds\".format(t)"
   ]
  },
  {
   "cell_type": "markdown",
   "metadata": {
    "slideshow": {
     "slide_type": "fragment"
    }
   },
   "source": [
    "Which equals "
   ]
  },
  {
   "cell_type": "code",
   "execution_count": 89,
   "metadata": {
    "collapsed": false,
    "slideshow": {
     "slide_type": "fragment"
    }
   },
   "outputs": [
    {
     "data": {
      "text/plain": [
       "'92,010 years'"
      ]
     },
     "execution_count": 89,
     "metadata": {},
     "output_type": "execute_result"
    }
   ],
   "source": [
    "\"{:,} years\".format(int(t/(365*24*60*60)))"
   ]
  },
  {
   "cell_type": "markdown",
   "metadata": {
    "slideshow": {
     "slide_type": "slide"
    }
   },
   "source": [
    "_ouch!_"
   ]
  },
  {
   "cell_type": "markdown",
   "metadata": {
    "slideshow": {
     "slide_type": "slide"
    }
   },
   "source": [
    "But do we really need to spend so much time? For example, when the input length was "
   ]
  },
  {
   "cell_type": "code",
   "execution_count": 90,
   "metadata": {
    "collapsed": false,
    "slideshow": {
     "slide_type": "fragment"
    }
   },
   "outputs": [
    {
     "data": {
      "text/plain": [
       "23"
      ]
     },
     "execution_count": 90,
     "metadata": {},
     "output_type": "execute_result"
    }
   ],
   "source": [
    "lengths[-1]"
   ]
  },
  {
   "cell_type": "markdown",
   "metadata": {
    "slideshow": {
     "slide_type": "fragment"
    }
   },
   "source": [
    "we made "
   ]
  },
  {
   "cell_type": "code",
   "execution_count": 91,
   "metadata": {
    "collapsed": false,
    "slideshow": {
     "slide_type": "fragment"
    }
   },
   "outputs": [
    {
     "name": "stdout",
     "output_type": "stream",
     "text": [
      "16,777,215 calls to the function\n"
     ]
    }
   ],
   "source": [
    "print \"{:,} calls to the function\".format(steps[-1])"
   ]
  },
  {
   "cell_type": "markdown",
   "metadata": {
    "slideshow": {
     "slide_type": "slide"
    }
   },
   "source": [
    "But if we think about it, if our original input was a list $L$ of $n$ parties, and a budget $D$, every recursive call to the function '''maximize_fun''' was made with a pair $(D',L')$ such that $0 \\leq D' \\leq D$ and $L'$ is a postfix of $L$ (i.e., the last $i$ elements of $L$ for some $i\\leq n$).\n",
    "\n",
    "Since there are $D+1$ numbers between $0$ to $D$ and there are at most $n+1$ postfixes for an $n$ length list, we see that the total number of possible inputs we could have used is $(D+1)\\times (n+1)$. \n",
    "But note that in our case this was"
   ]
  },
  {
   "cell_type": "code",
   "execution_count": 92,
   "metadata": {
    "collapsed": false,
    "slideshow": {
     "slide_type": "fragment"
    }
   },
   "outputs": [
    {
     "data": {
      "text/plain": [
       "'12,720 possible inputs'"
      ]
     },
     "execution_count": 92,
     "metadata": {},
     "output_type": "execute_result"
    }
   ],
   "source": [
    "\"{:,} possible inputs\".format((inputs[-1][0]+1)*(len(inputs[-1][1])+1))"
   ]
  },
  {
   "cell_type": "markdown",
   "metadata": {
    "slideshow": {
     "slide_type": "slide"
    }
   },
   "source": [
    "So we made a huge number of _unnecessary_ calls to the function. \n",
    "If we could simply remember the result of these calls, rather than executing them again, then we could potentially save a lot of time. \n",
    "This is what we do next. \n",
    "For starters, we use a global array '''Mem''' that will record for every $D'$ and $i$, the result of the function on the input which is $D'$ and the last $i$ elements of $L$. \n",
    "Later, we will have a solution which does not involve global variables. \n"
   ]
  },
  {
   "cell_type": "code",
   "execution_count": 93,
   "metadata": {
    "collapsed": true,
    "slideshow": {
     "slide_type": "slide"
    }
   },
   "outputs": [],
   "source": [
    "mem = []\n",
    "\n",
    "def init_mem(D,L):\n",
    "    global mem\n",
    "    mem = [[-1]*(len(L)+1) for i in range(D+1)]\n"
   ]
  },
  {
   "cell_type": "code",
   "execution_count": 94,
   "metadata": {
    "collapsed": true,
    "slideshow": {
     "slide_type": "fragment"
    }
   },
   "outputs": [],
   "source": [
    "def maximum_fun_recur(D,L):\n",
    "    \"\"\"returns the maximum amount of fun we can have with D dollars attending the parties listed in L, \n",
    "    where L is a tuple/list containing pairs (c,f) of cost/fun for every party.\"\"\"\n",
    "    global mem\n",
    "    step_pc() \n",
    "    if not mem[D][len(L)]==-1:\n",
    "        return mem[D][len(L)]\n",
    "    if not L:\n",
    "        # if L is empty then we can't have any fun\n",
    "        mem[D][0]=0\n",
    "        return 0\n",
    "    fun_if_skip_first_party = maximum_fun_recur(D,L[1:]) # the amount of fun we can have if we skip first party \n",
    "    if D<L[0][0]: # if we can't afford to attend the first party then we have no choices to make\n",
    "        mem[D][len(L)] = fun_if_skip_first_party\n",
    "        return fun_if_skip_first_party\n",
    "    # otherwise we will check both options and see what's the maximum fun we can have\n",
    "    mem[D][len(L)] =  max(fun_if_skip_first_party, L[0][1]+maximum_fun_recur(D-L[0][0],L[1:]))\n",
    "    return mem[D][len(L)]\n",
    "\n",
    "def memoized_maximum_fun(D,L):\n",
    "    init_mem(D,L)\n",
    "    return maximum_fun_recur(D,L)"
   ]
  },
  {
   "cell_type": "markdown",
   "metadata": {
    "slideshow": {
     "slide_type": "slide"
    }
   },
   "source": [
    "Lets see that we get the same answers:"
   ]
  },
  {
   "cell_type": "code",
   "execution_count": 95,
   "metadata": {
    "collapsed": false,
    "slideshow": {
     "slide_type": "fragment"
    }
   },
   "outputs": [
    {
     "data": {
      "text/plain": [
       "0"
      ]
     },
     "execution_count": 95,
     "metadata": {},
     "output_type": "execute_result"
    }
   ],
   "source": [
    "memoized_maximum_fun(1,((2,10),))"
   ]
  },
  {
   "cell_type": "code",
   "execution_count": 96,
   "metadata": {
    "collapsed": false,
    "slideshow": {
     "slide_type": "fragment"
    }
   },
   "outputs": [
    {
     "data": {
      "text/plain": [
       "10"
      ]
     },
     "execution_count": 96,
     "metadata": {},
     "output_type": "execute_result"
    }
   ],
   "source": [
    "memoized_maximum_fun(2,((2,10),))"
   ]
  },
  {
   "cell_type": "code",
   "execution_count": 97,
   "metadata": {
    "collapsed": false,
    "slideshow": {
     "slide_type": "fragment"
    }
   },
   "outputs": [
    {
     "data": {
      "text/plain": [
       "10"
      ]
     },
     "execution_count": 97,
     "metadata": {},
     "output_type": "execute_result"
    }
   ],
   "source": [
    "memoized_maximum_fun(2,((2,5),(2,10)))"
   ]
  },
  {
   "cell_type": "code",
   "execution_count": 98,
   "metadata": {
    "collapsed": false,
    "slideshow": {
     "slide_type": "fragment"
    }
   },
   "outputs": [
    {
     "data": {
      "text/plain": [
       "16"
      ]
     },
     "execution_count": 98,
     "metadata": {},
     "output_type": "execute_result"
    }
   ],
   "source": [
    "memoized_maximum_fun(4,((1,6),(2,5),(3,6),(2,10)))"
   ]
  },
  {
   "cell_type": "markdown",
   "metadata": {
    "collapsed": true,
    "slideshow": {
     "slide_type": "slide"
    }
   },
   "source": [
    "Now let's see if we indeed get a speed saving:"
   ]
  },
  {
   "cell_type": "code",
   "execution_count": 99,
   "metadata": {
    "collapsed": true,
    "slideshow": {
     "slide_type": "fragment"
    }
   },
   "outputs": [],
   "source": [
    "inputs = [((n*n),[(i,i) for i in range(n)]) for n in range(1,100)];"
   ]
  },
  {
   "cell_type": "code",
   "execution_count": 100,
   "metadata": {
    "collapsed": false,
    "slideshow": {
     "slide_type": "fragment"
    }
   },
   "outputs": [
    {
     "name": "stdout",
     "output_type": "stream",
     "text": [
      "---------------------------------------------------------------------------------------------------\n",
      "...................................................................................................0.971 micro-seconds per step\n",
      "lengths, observations: 99 99 [[1]\n",
      " [2]\n",
      " [3]\n",
      " [4]\n",
      " [5]] [[ 1.5849625 ]\n",
      " [ 2.32192809]\n",
      " [ 3.169925  ]\n",
      " [ 4.08746284]\n",
      " [ 4.95419631]]\n",
      "fitting lengths, steps: 99 99 [1, 2, 3, 4, 5] [3, 5, 9, 17, 31]\n",
      "Found coefficients: [ 0.32198634  0.          0.          0.          0.          0.        ]\n",
      "Rounded coefs: [0.4, 0.0, 0.0, 0.0, 0.0, 0.0]\n",
      "(array([0], dtype=int64),)\n",
      "Curve: $0.4n^3$\n"
     ]
    },
    {
     "data": {
      "image/png": "[encoded data removed]",
      "text/plain": [
       "<matplotlib.figure.Figure at 0xa9b4438>"
      ]
     },
     "metadata": {},
     "output_type": "display_data"
    },
    {
     "data": {
      "image/png": "[encoded data removed]",
      "text/plain": [
       "<matplotlib.figure.Figure at 0x9c61748>"
      ]
     },
     "metadata": {},
     "output_type": "display_data"
    }
   ],
   "source": [
    "(outputs_mem,_1,_2,_3,_4) = timer(memoized_maximum_fun,inputs,inlen = lambda i: len(i[1]) ,doplot_logscale = False);"
   ]
  },
  {
   "cell_type": "code",
   "execution_count": 101,
   "metadata": {
    "collapsed": false,
    "slideshow": {
     "slide_type": "fragment"
    }
   },
   "outputs": [
    {
     "data": {
      "text/plain": [
       "True"
      ]
     },
     "execution_count": 101,
     "metadata": {},
     "output_type": "execute_result"
    }
   ],
   "source": [
    "outputs == outputs_mem[:len(outputs)] # sanity check"
   ]
  },
  {
   "cell_type": "markdown",
   "metadata": {
    "slideshow": {
     "slide_type": "slide"
    }
   },
   "source": [
    "In particular for $n=40$ this took us about $35$ milliseconds instead of $40,000$ years, not bad..."
   ]
  },
  {
   "cell_type": "markdown",
   "metadata": {
    "slideshow": {
     "slide_type": "slide"
    }
   },
   "source": [
    "We typically try to avoid global variables, and so let's rewrite the program without them by adding an extra parameter to the recursion:"
   ]
  },
  {
   "cell_type": "code",
   "execution_count": 102,
   "metadata": {
    "collapsed": true,
    "slideshow": {
     "slide_type": "fragment"
    }
   },
   "outputs": [],
   "source": [
    "def maximum_fun_recur2(D,L,mem):\n",
    "    \"\"\"returns the maximum amount of fun we can have with D dollars attending the parties listed in L, \n",
    "    where L is a tuple/list containing pairs (c,f) of cost/fun for every party.\"\"\"\n",
    "    step_pc() \n",
    "    if not mem[D][len(L)]==-1:\n",
    "        return mem[D][len(L)]\n",
    "    if not L:\n",
    "        # if L is empty then we can't have any fun\n",
    "        mem[D][0]=0\n",
    "        return 0\n",
    "    fun_if_skip_first_party = maximum_fun_recur2(D,L[1:],mem) # the amount of fun we can have if we skip first party \n",
    "    if D<L[0][0]: # if we can't afford to attend the first party then we have no choices to make\n",
    "        mem[D][len(L)] = fun_if_skip_first_party\n",
    "        return fun_if_skip_first_party\n",
    "    # otherwise we will check both options and see what's the maximum fun we can have\n",
    "    mem[D][len(L)] =  max(fun_if_skip_first_party, L[0][1]+maximum_fun_recur2(D-L[0][0],L[1:],mem))\n",
    "    return mem[D][len(L)]\n",
    "\n",
    "def memoized_maximum_fun2(D,L):\n",
    "    mem = [[-1]*(len(L)+1) for i in range(D+1)]\n",
    "    return maximum_fun_recur2(D,L,mem)"
   ]
  },
  {
   "cell_type": "markdown",
   "metadata": {
    "slideshow": {
     "slide_type": "slide"
    }
   },
   "source": [
    "Let's do some sanity check, and then see if it makes a performance difference"
   ]
  },
  {
   "cell_type": "code",
   "execution_count": 103,
   "metadata": {
    "collapsed": false,
    "slideshow": {
     "slide_type": "fragment"
    }
   },
   "outputs": [
    {
     "data": {
      "text/plain": [
       "16"
      ]
     },
     "execution_count": 103,
     "metadata": {},
     "output_type": "execute_result"
    }
   ],
   "source": [
    "memoized_maximum_fun2(4,((1,6),(2,5),(3,6),(2,10)))"
   ]
  },
  {
   "cell_type": "code",
   "execution_count": 104,
   "metadata": {
    "collapsed": false,
    "slideshow": {
     "slide_type": "fragment"
    }
   },
   "outputs": [
    {
     "name": "stdout",
     "output_type": "stream",
     "text": [
      "---------------------------------------------------------------------------------------------------\n",
      "...................................................................................................0.926 micro-seconds per step\n",
      "lengths, observations: 99 99 [[1]\n",
      " [2]\n",
      " [3]\n",
      " [4]\n",
      " [5]] [[ 1.5849625 ]\n",
      " [ 2.32192809]\n",
      " [ 3.169925  ]\n",
      " [ 4.08746284]\n",
      " [ 4.95419631]]\n",
      "fitting lengths, steps: 99 99 [1, 2, 3, 4, 5] [3, 5, 9, 17, 31]\n",
      "Found coefficients: [ 0.32198634  0.          0.          0.          0.          0.        ]\n",
      "Rounded coefs: [0.4, 0.0, 0.0, 0.0, 0.0, 0.0]\n",
      "(array([0], dtype=int64),)\n",
      "Curve: $0.4n^3$\n"
     ]
    },
    {
     "data": {
      "image/png": "[encoded data removed]",
      "text/plain": [
       "<matplotlib.figure.Figure at 0xa8e2908>"
      ]
     },
     "metadata": {},
     "output_type": "display_data"
    },
    {
     "data": {
      "image/png": "[encoded data removed]",
      "text/plain": [
       "<matplotlib.figure.Figure at 0xb389d68>"
      ]
     },
     "metadata": {},
     "output_type": "display_data"
    }
   ],
   "source": [
    "timer(memoized_maximum_fun2,inputs,inlen = lambda i: len(i[1]) , doplot_logscale= False);"
   ]
  },
  {
   "cell_type": "markdown",
   "metadata": {
    "slideshow": {
     "slide_type": "slide"
    }
   },
   "source": [
    "### Exercise 1: Best parenthesis placement.\n",
    "\n",
    "You are given an arithmetic expression with digits separated by `*` and `+`.  How can you parenthesize the expression so as to maximize its value?  For example, with the expression $1+2*3+4*5$ the best way of parenthesizing it is $(1+2)*((3+4)*5)$, giving $105$. For example, parenthesizing it as $1+((2*3)+(4*5))$ would only give $27$.\n",
    "\n",
    "Suppose the length of the expression is $n$.  We will show how to\n",
    "solve the task in time $\\approx n^3$ using recursion and memoization.\n",
    "\n",
    "First, a recursive solution:\n",
    "\n",
    "If the expression is $s$ of length $n$, then we can split it in $(n-1)/2$ different ways to the form  $s_1\\ op\\ s_2$. If $\\mathtt{max\\_paren}(s_i)$ is the maximum value that we can obtain from parenthesizing the expression $s_i$, then $\\mathtt{max\\_paren}(s)$ would equal the maximum of $\\mathtt{max\\_paren}(s_1)\\ op\\ \\mathtt{max\\_paren}(s_2)$ over all these splits. This suggests the following code: \n"
   ]
  },
  {
   "cell_type": "code",
   "execution_count": 1,
   "metadata": {
    "collapsed": false,
    "slideshow": {
     "slide_type": "slide"
    }
   },
   "outputs": [],
   "source": [
    "def applyOp(op,x,y):\n",
    "    if op=='+':\n",
    "        return x+y\n",
    "    elif op=='*':\n",
    "        return x*y\n",
    "    else:\n",
    "        raise BaseException(\"Operators can be either * or +: you used \"+str(op))\n",
    "\n",
    "def max_paren(s):\n",
    "    vals = []\n",
    "    if len(s)==1:\n",
    "        return int(s)\n",
    "    for i in range(1,len(s),2): # go over positions 1,3,..,len(s)-1, which should be the operators:\n",
    "        vals.append(applyOp(s[i],max_paren(s[:i]),max_paren(s[i+1:])))\n",
    "    return max(vals)"
   ]
  },
  {
   "cell_type": "code",
   "execution_count": 2,
   "metadata": {
    "collapsed": false,
    "slideshow": {
     "slide_type": "slide"
    }
   },
   "outputs": [
    {
     "data": {
      "text/plain": [
       "105"
      ]
     },
     "execution_count": 2,
     "metadata": {},
     "output_type": "execute_result"
    }
   ],
   "source": [
    "max_paren(\"1+2*3+4*5\")"
   ]
  },
  {
   "cell_type": "markdown",
   "metadata": {
    "slideshow": {
     "slide_type": "slide"
    }
   },
   "source": [
    "Unfortunately this code can be quite slow even for expressions that are not too long."
   ]
  },
  {
   "cell_type": "code",
   "execution_count": 13,
   "metadata": {
    "collapsed": false,
    "slideshow": {
     "slide_type": "fragment"
    }
   },
   "outputs": [
    {
     "data": {
      "text/plain": [
       "1456560"
      ]
     },
     "execution_count": 13,
     "metadata": {},
     "output_type": "execute_result"
    }
   ],
   "source": [
    "max_paren(\"1+2*3+4*5*0+4*8+9*3*4+2+3+8*4\")"
   ]
  },
  {
   "cell_type": "markdown",
   "metadata": {
    "slideshow": {
     "slide_type": "slide"
    }
   },
   "source": [
    "Implement ```max_paren_fast``` below to use <b>memoization</b> in order to speed up ```max_paren```."
   ]
  },
  {
   "cell_type": "code",
   "execution_count": 14,
   "metadata": {
    "collapsed": false,
    "slideshow": {
     "slide_type": "fragment"
    }
   },
   "outputs": [
    {
     "data": {
      "text/plain": [
       "[[[False], [False]], [[False], [False]], [[False], [False]]]"
      ]
     },
     "execution_count": 14,
     "metadata": {},
     "output_type": "execute_result"
    }
   ],
   "source": [
    "# returns the maximum value that can be obtained by parenthesizing s[a:b]\n",
    "def max_paren_memoized(a, b, s, seen, mem):\n",
    "    #write your code here\n",
    "    pass\n",
    "\n",
    "def max_paren_fast(s):\n",
    "    seen = [[[False] for x in range(len(s)+1)] for y in range(len(s)+1)]\n",
    "    mem = [[[0] for x in range(len(s)+1)] for y in range(len(s)+1)]\n",
    "    return max_paren_memoized(0, len(s), s, seen, mem)"
   ]
  },
  {
   "cell_type": "markdown",
   "metadata": {
    "slideshow": {
     "slide_type": "slide"
    }
   },
   "source": [
    "### Exercise 2\n",
    "\n",
    "Suppose you live in a country whose coin denominations are in the list ```L```. For example, in Ethiopia we would have ```L = [1,5,10,25,50,100]```, but other countries have different coin systems. Implement a function ```makeChange(n, L)``` which returns the minimum number of coins needed to make change for ```n``` cents using the coins in ```L```. For example, ```makeChange(14, [1,5,10,25,50,100])``` should return ```5```, since you can make change for ```14``` cents by giving one ```10```-cent piece and four ```1```-cent pieces, for a total of ```5``` coins (you could also give two ```5```-cent pieces and four ```1```-cent pieces, or ```14``` ```1```-cent pieces, but those options would each require more coins). If it is impossible to make change for ```n``` cents using ```L```, you should return ```-1```. For example, ```makeChange(3, [2, 5])``` should return ```-1``` since there is no way to make change for ```3``` cents using ```2```-cent and ```5```-cent pieces.\n",
    "\n",
    "First implement ```makeChange``` using plain recursion. Then implement a faster version using memoization."
   ]
  },
  {
   "cell_type": "code",
   "execution_count": 15,
   "metadata": {
    "collapsed": false,
    "slideshow": {
     "slide_type": "fragment"
    }
   },
   "outputs": [],
   "source": [
    "def makeChange(n, L):\n",
    "    # write your code here\n",
    "    pass"
   ]
  },
  {
   "cell_type": "code",
   "execution_count": null,
   "metadata": {
    "collapsed": true,
    "slideshow": {
     "slide_type": "slide"
    }
   },
   "outputs": [],
   "source": [
    "print makeChange(14, [1,5,10,25,50,100])\n",
    "# should print 5\n",
    "\n",
    "print makeChange(3, [2,5])\n",
    "# should print -1\n",
    "\n",
    "print makeChange(8, [1,4,5])\n",
    "# should print 2 since it is better to use two 4-cent pieces than one 5-cent pieces and three 1-cent pieces"
   ]
  },
  {
   "cell_type": "markdown",
   "metadata": {},
   "source": [
    "### Exercise 3\n",
    "\n",
    "Write a function ```lis(L)``` which takes as input a list of integers ```L``` and outputs the length of the longest increasing subsequence (lis) of ```L```. A subsequence of ```L``` is a sublist of ```L``` that does not have to be contiguous. For example, ```[1,5,9]``` is a subsequence of the list ```L = [1,2,3,4,5,6,7,8,9]``` since ```1,5,9``` appear in the list ```L``` in the same order (though just not in a row). ```9,5,1``` is not a subsequence of ```L``` since it does not appear in ```L``` in that order.\n",
    "\n",
    "First implement ```lis``` using plain recursion, then implement a faster version using memoization."
   ]
  },
  {
   "cell_type": "code",
   "execution_count": null,
   "metadata": {
    "collapsed": true
   },
   "outputs": [],
   "source": [
    "def lis(L):\n",
    "    # write your code here\n",
    "    pass"
   ]
  },
  {
   "cell_type": "code",
   "execution_count": null,
   "metadata": {
    "collapsed": true
   },
   "outputs": [],
   "source": [
    "print lis([1,2,3,4,5,6,7,9])\n",
    "# should print 9, since the entire list is an increasing sequence\n",
    "\n",
    "print lis([5,6,7,1,2,3,4])\n",
    "# should print 4, since the LIS is 1,2,3,4\n",
    "\n",
    "print lis([5,1,6,2,7,3,4])\n",
    "# should print 4, since the LIS is still 1,2,3,4"
   ]
  }
 ],
 "metadata": {
  "anaconda-cloud": {},
  "celltoolbar": "Slideshow",
  "kernelspec": {
   "display_name": "Python [Root]",
   "language": "python",
   "name": "Python [Root]"
  },
  "language_info": {
   "codemirror_mode": {
    "name": "ipython",
    "version": 2
   },
   "file_extension": ".py",
   "mimetype": "text/x-python",
   "name": "python",
   "nbconvert_exporter": "python",
   "pygments_lexer": "ipython2",
   "version": "2.7.12"
  }
 },
 "nbformat": 4,
 "nbformat_minor": 0
}
